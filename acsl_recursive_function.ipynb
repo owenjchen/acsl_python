{
 "cells": [
  {
   "cell_type": "markdown",
   "id": "688aa599-e72e-4c98-a519-1bc8737f4db2",
   "metadata": {},
   "source": [
    "# Recursive function"
   ]
  },
  {
   "cell_type": "code",
   "execution_count": 6,
   "id": "71491a13-0c1b-4361-b1b3-413743b7b9ea",
   "metadata": {},
   "outputs": [],
   "source": [
    "def f(x):\n",
    "    if x < 7:\n",
    "        return 2*x\n",
    "    elif x < 12:\n",
    "        return f(x-2) - 3\n",
    "    else:\n",
    "        return f(x-3) + 4"
   ]
  },
  {
   "cell_type": "code",
   "execution_count": 7,
   "id": "5a339cf8-d1a9-4faf-b73a-08766acf4c87",
   "metadata": {},
   "outputs": [
    {
     "data": {
      "text/plain": [
       "16"
      ]
     },
     "execution_count": 7,
     "metadata": {},
     "output_type": "execute_result"
    }
   ],
   "source": [
    "f(18)"
   ]
  },
  {
   "cell_type": "code",
   "execution_count": 1,
   "id": "551d1a25-5187-48d0-8a5b-fdc316930899",
   "metadata": {},
   "outputs": [],
   "source": [
    "def p(n):\n",
    "    if n in (1, 2):\n",
    "        return n - 1\n",
    "    else:\n",
    "        return (p(n-1) + p(n-2)) % 3"
   ]
  },
  {
   "cell_type": "code",
   "execution_count": 5,
   "id": "a4c61a7c-c958-4f5e-8106-1c3f5448b34c",
   "metadata": {},
   "outputs": [
    {
     "data": {
      "text/plain": [
       "[0, 1, 1, 2, 0, 2, 2, 1, 0, 1, 1, 2, 0, 2, 2, 1, 0, 1, 1]"
      ]
     },
     "execution_count": 5,
     "metadata": {},
     "output_type": "execute_result"
    }
   ],
   "source": [
    "pisano = [p(i) for i in range(1, 20)]\n",
    "pisano"
   ]
  },
  {
   "cell_type": "code",
   "execution_count": null,
   "id": "63fd8118-e55f-49d3-81d9-bfa37d68f4ee",
   "metadata": {},
   "outputs": [],
   "source": [
    "for i in range(100):\n",
    "    print(p(i))"
   ]
  },
  {
   "cell_type": "code",
   "execution_count": null,
   "id": "a4cb0b75-baf4-44b7-bad3-c95f441f0844",
   "metadata": {},
   "outputs": [],
   "source": []
  }
 ],
 "metadata": {
  "kernelspec": {
   "display_name": "Python 3 (ipykernel)",
   "language": "python",
   "name": "python3"
  },
  "language_info": {
   "codemirror_mode": {
    "name": "ipython",
    "version": 3
   },
   "file_extension": ".py",
   "mimetype": "text/x-python",
   "name": "python",
   "nbconvert_exporter": "python",
   "pygments_lexer": "ipython3",
   "version": "3.9.13"
  }
 },
 "nbformat": 4,
 "nbformat_minor": 5
}

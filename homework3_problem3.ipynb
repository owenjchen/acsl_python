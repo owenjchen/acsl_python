{
 "cells": [
  {
   "cell_type": "markdown",
   "id": "f70c1516-be0c-4570-92e3-b3927cc53431",
   "metadata": {},
   "source": [
    "# Home 3 - Problem 3)\n",
    "\n",
    "Write the following Python programs and put them in a Jupyter Notebook:   \n",
    "a) Print out odd numbers that are less than 100.   \n",
    "b) Print out odd numbers in binary, octal and hex that are less than 100.   \n",
    "c) Print out the following patterns:   \n",
    "\n",
    "1   \n",
    "2 2   \n",
    "3 3 3   \n",
    "4 4 4 4   \n",
    "5 5 5 5 5   \n",
    "6 6 6 6 6 6   \n",
    "7 7 7 7 7 7 7   \n",
    "8 8 8 8 8 8 8 8   \n",
    "9 9 9 9 9 9 9 9 9   \n",
    "\n"
   ]
  },
  {
   "cell_type": "markdown",
   "id": "f4da8684-42fe-41a9-99f4-92658b404199",
   "metadata": {},
   "source": [
    "## a) Print out odd numbers that are less than 100.   "
   ]
  },
  {
   "cell_type": "code",
   "execution_count": 1,
   "id": "910e1a62-7d79-4dcc-b0fa-01ec8e1b9adf",
   "metadata": {},
   "outputs": [
    {
     "name": "stdout",
     "output_type": "stream",
     "text": [
      "1\n",
      "3\n",
      "5\n",
      "7\n",
      "9\n",
      "11\n",
      "13\n",
      "15\n",
      "17\n",
      "19\n",
      "21\n",
      "23\n",
      "25\n",
      "27\n",
      "29\n",
      "31\n",
      "33\n",
      "35\n",
      "37\n",
      "39\n",
      "41\n",
      "43\n",
      "45\n",
      "47\n",
      "49\n",
      "51\n",
      "53\n",
      "55\n",
      "57\n",
      "59\n",
      "61\n",
      "63\n",
      "65\n",
      "67\n",
      "69\n",
      "71\n",
      "73\n",
      "75\n",
      "77\n",
      "79\n",
      "81\n",
      "83\n",
      "85\n",
      "87\n",
      "89\n",
      "91\n",
      "93\n",
      "95\n",
      "97\n",
      "99\n"
     ]
    }
   ],
   "source": [
    "for i in range(1, 100, 2):\n",
    "    print(i)"
   ]
  },
  {
   "cell_type": "markdown",
   "id": "5873f189-9823-47d6-8b5d-2d8a12f0bee7",
   "metadata": {},
   "source": [
    "## b) Print out odd numbers in binary, octal and hex that are less than 100.   "
   ]
  },
  {
   "cell_type": "code",
   "execution_count": 6,
   "id": "6f105783-c657-423c-99b7-4c25a7d36234",
   "metadata": {},
   "outputs": [
    {
     "name": "stdout",
     "output_type": "stream",
     "text": [
      "1 0b1 0o1 0x1\n",
      "3 0b11 0o3 0x3\n",
      "5 0b101 0o5 0x5\n",
      "7 0b111 0o7 0x7\n",
      "9 0b1001 0o11 0x9\n",
      "11 0b1011 0o13 0xb\n",
      "13 0b1101 0o15 0xd\n",
      "15 0b1111 0o17 0xf\n",
      "17 0b10001 0o21 0x11\n",
      "19 0b10011 0o23 0x13\n",
      "21 0b10101 0o25 0x15\n",
      "23 0b10111 0o27 0x17\n",
      "25 0b11001 0o31 0x19\n",
      "27 0b11011 0o33 0x1b\n",
      "29 0b11101 0o35 0x1d\n",
      "31 0b11111 0o37 0x1f\n",
      "33 0b100001 0o41 0x21\n",
      "35 0b100011 0o43 0x23\n",
      "37 0b100101 0o45 0x25\n",
      "39 0b100111 0o47 0x27\n",
      "41 0b101001 0o51 0x29\n",
      "43 0b101011 0o53 0x2b\n",
      "45 0b101101 0o55 0x2d\n",
      "47 0b101111 0o57 0x2f\n",
      "49 0b110001 0o61 0x31\n",
      "51 0b110011 0o63 0x33\n",
      "53 0b110101 0o65 0x35\n",
      "55 0b110111 0o67 0x37\n",
      "57 0b111001 0o71 0x39\n",
      "59 0b111011 0o73 0x3b\n",
      "61 0b111101 0o75 0x3d\n",
      "63 0b111111 0o77 0x3f\n",
      "65 0b1000001 0o101 0x41\n",
      "67 0b1000011 0o103 0x43\n",
      "69 0b1000101 0o105 0x45\n",
      "71 0b1000111 0o107 0x47\n",
      "73 0b1001001 0o111 0x49\n",
      "75 0b1001011 0o113 0x4b\n",
      "77 0b1001101 0o115 0x4d\n",
      "79 0b1001111 0o117 0x4f\n",
      "81 0b1010001 0o121 0x51\n",
      "83 0b1010011 0o123 0x53\n",
      "85 0b1010101 0o125 0x55\n",
      "87 0b1010111 0o127 0x57\n",
      "89 0b1011001 0o131 0x59\n",
      "91 0b1011011 0o133 0x5b\n",
      "93 0b1011101 0o135 0x5d\n",
      "95 0b1011111 0o137 0x5f\n",
      "97 0b1100001 0o141 0x61\n",
      "99 0b1100011 0o143 0x63\n"
     ]
    }
   ],
   "source": [
    "for i in range(1, 100, 2):\n",
    "    print(i, bin(i), oct(i), hex(i))"
   ]
  },
  {
   "cell_type": "code",
   "execution_count": 2,
   "id": "4252d83f-ee74-49ce-9b0f-4c125e30e985",
   "metadata": {},
   "outputs": [
    {
     "name": "stdout",
     "output_type": "stream",
     "text": [
      "1 1 1 1\n",
      "3 11 3 3\n",
      "5 101 5 5\n",
      "7 111 7 7\n",
      "9 1001 11 9\n",
      "11 1011 13 b\n",
      "13 1101 15 d\n",
      "15 1111 17 f\n",
      "17 10001 21 11\n",
      "19 10011 23 13\n",
      "21 10101 25 15\n",
      "23 10111 27 17\n",
      "25 11001 31 19\n",
      "27 11011 33 1b\n",
      "29 11101 35 1d\n",
      "31 11111 37 1f\n",
      "33 100001 41 21\n",
      "35 100011 43 23\n",
      "37 100101 45 25\n",
      "39 100111 47 27\n",
      "41 101001 51 29\n",
      "43 101011 53 2b\n",
      "45 101101 55 2d\n",
      "47 101111 57 2f\n",
      "49 110001 61 31\n",
      "51 110011 63 33\n",
      "53 110101 65 35\n",
      "55 110111 67 37\n",
      "57 111001 71 39\n",
      "59 111011 73 3b\n",
      "61 111101 75 3d\n",
      "63 111111 77 3f\n",
      "65 1000001 101 41\n",
      "67 1000011 103 43\n",
      "69 1000101 105 45\n",
      "71 1000111 107 47\n",
      "73 1001001 111 49\n",
      "75 1001011 113 4b\n",
      "77 1001101 115 4d\n",
      "79 1001111 117 4f\n",
      "81 1010001 121 51\n",
      "83 1010011 123 53\n",
      "85 1010101 125 55\n",
      "87 1010111 127 57\n",
      "89 1011001 131 59\n",
      "91 1011011 133 5b\n",
      "93 1011101 135 5d\n",
      "95 1011111 137 5f\n",
      "97 1100001 141 61\n",
      "99 1100011 143 63\n"
     ]
    }
   ],
   "source": [
    "for i in range(1, 100, 2):\n",
    "    print(i, bin(i)[2:], oct(i)[2:], hex(i)[2:])"
   ]
  },
  {
   "cell_type": "markdown",
   "id": "6505ae0b-b46b-443d-b295-2397f30a81bf",
   "metadata": {},
   "source": [
    "## c) Print out the following patterns:   \n",
    "\n",
    "1   \n",
    "2 2   \n",
    "3 3 3   \n",
    "4 4 4 4   \n",
    "5 5 5 5 5   \n",
    "6 6 6 6 6 6   \n",
    "7 7 7 7 7 7 7   \n",
    "8 8 8 8 8 8 8 8   \n",
    "9 9 9 9 9 9 9 9 9   "
   ]
  },
  {
   "cell_type": "code",
   "execution_count": 12,
   "id": "96b4ff2d-3afb-4915-9b08-aa3690f175bf",
   "metadata": {},
   "outputs": [
    {
     "name": "stdout",
     "output_type": "stream",
     "text": [
      "1 \n",
      "2 2 \n",
      "3 3 3 \n",
      "4 4 4 4 \n",
      "5 5 5 5 5 \n",
      "6 6 6 6 6 6 \n",
      "7 7 7 7 7 7 7 \n",
      "8 8 8 8 8 8 8 8 \n",
      "9 9 9 9 9 9 9 9 9 \n"
     ]
    }
   ],
   "source": [
    "for i in range(1, 10):\n",
    "    for j in range(i):\n",
    "        print(i, end=\" \")\n",
    "    print(\"\")"
   ]
  },
  {
   "cell_type": "code",
   "execution_count": 7,
   "id": "49f6fd49-ca1e-40c5-81d3-9dc7ef18073a",
   "metadata": {},
   "outputs": [
    {
     "name": "stdout",
     "output_type": "stream",
     "text": [
      "1 \n",
      "2 2 \n",
      "3 3 3 \n",
      "4 4 4 4 \n",
      "5 5 5 5 5 \n",
      "6 6 6 6 6 6 \n",
      "7 7 7 7 7 7 7 \n",
      "8 8 8 8 8 8 8 8 \n",
      "9 9 9 9 9 9 9 9 9 \n"
     ]
    }
   ],
   "source": [
    "for i in range(1, 10):\n",
    "    print((str(i) + \" \")*i)"
   ]
  },
  {
   "cell_type": "code",
   "execution_count": null,
   "id": "65b01be0-4ede-4ae3-bf0d-85b12fa2a03a",
   "metadata": {},
   "outputs": [],
   "source": []
  }
 ],
 "metadata": {
  "kernelspec": {
   "display_name": "Python 3 (ipykernel)",
   "language": "python",
   "name": "python3"
  },
  "language_info": {
   "codemirror_mode": {
    "name": "ipython",
    "version": 3
   },
   "file_extension": ".py",
   "mimetype": "text/x-python",
   "name": "python",
   "nbconvert_exporter": "python",
   "pygments_lexer": "ipython3",
   "version": "3.9.12"
  }
 },
 "nbformat": 4,
 "nbformat_minor": 5
}

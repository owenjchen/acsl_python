{
 "cells": [
  {
   "cell_type": "markdown",
   "id": "f4095883-771e-4b27-8041-a5d082235154",
   "metadata": {},
   "source": [
    "# Python Tutorials \n",
    "## 1.1 - Basics - Variables\n",
    "\n",
    "\n",
    "### Author: Dr. Owen Chen\n",
    "### Date: 2023 Fall\n",
    "\n",
    "## Topics:\n",
    "\n",
    "    - Hello, World\n",
    "    - Variables\n",
    "    - Data Types\n",
    "    - Type Conversion\n"
   ]
  },
  {
   "cell_type": "markdown",
   "id": "ca849c71-ee3e-488a-a5e8-54b1cd13acaa",
   "metadata": {},
   "source": [
    "## Hello, World!\n",
    "\n",
    "Write our first Python Program to print \"Hello, World!\""
   ]
  },
  {
   "cell_type": "code",
   "execution_count": 1,
   "id": "89b2d1be-466e-40d9-aa55-d2b1a388550d",
   "metadata": {},
   "outputs": [
    {
     "name": "stdout",
     "output_type": "stream",
     "text": [
      "Hello, World!\n"
     ]
    }
   ],
   "source": [
    "print(\"Hello, World!\")"
   ]
  },
  {
   "cell_type": "code",
   "execution_count": 2,
   "id": "edb023e7-8ef2-438d-9367-b6b9b25c5a6a",
   "metadata": {},
   "outputs": [
    {
     "name": "stdout",
     "output_type": "stream",
     "text": [
      "Hey 10 2.2\n"
     ]
    }
   ],
   "source": [
    "print(\"Hey\", 10, 2.2)"
   ]
  },
  {
   "cell_type": "code",
   "execution_count": 3,
   "id": "984c023f-5de2-498f-855a-18f55585bb79",
   "metadata": {},
   "outputs": [
    {
     "name": "stdout",
     "output_type": "stream",
     "text": [
      "Hello, my name is Owen\n"
     ]
    }
   ],
   "source": [
    "# print a message saying: Hello, my name is xxx\n",
    "print(\"Hello, my name is Owen\")"
   ]
  },
  {
   "cell_type": "code",
   "execution_count": 11,
   "id": "d156b1fb-2fad-4c2e-9a8c-0fc122684812",
   "metadata": {},
   "outputs": [
    {
     "name": "stdout",
     "output_type": "stream",
     "text": [
      "Hello, my name is Owen\n",
      "Hello , my name is Owen\n"
     ]
    }
   ],
   "source": [
    "name = \"Owen\"\n",
    "hi = \"Hello\"\n",
    "print(f\"{hi}, my name is {name}\")\n",
    "print(hi,\", my name is\", name)"
   ]
  },
  {
   "cell_type": "code",
   "execution_count": 12,
   "id": "5e2ad69c-fd51-4d5b-91d5-a7d6b6adba7c",
   "metadata": {},
   "outputs": [
    {
     "data": {
      "text/plain": [
       "'this is a long message this is a long message this is a long message this is a long message this is a long message this is a long message this is a long message '"
      ]
     },
     "execution_count": 12,
     "metadata": {},
     "output_type": "execute_result"
    }
   ],
   "source": [
    "s = \"this is a long message this is a long message this is a long message this \\\n",
    "is a long message this is a long message this \\\n",
    "is a long message this is a long message \"\n",
    "s"
   ]
  },
  {
   "cell_type": "markdown",
   "id": "d7d9b369-ff1c-4e87-b1c3-db198ae2e8c8",
   "metadata": {
    "tags": []
   },
   "source": [
    "# Variables\n",
    "- A variable is a reserved memory location.\n",
    "- A variable in a python program gives data to the computer for processing."
   ]
  },
  {
   "cell_type": "markdown",
   "id": "2c8eca15-643f-422c-8830-e635cc8b1c4d",
   "metadata": {},
   "source": [
    "### Python Variable Name Convention\n",
    "A variable name in Python should fulfil the following\n",
    "- Use lowercase\n",
    "- Separate words with underscore.\n",
    "\n",
    "A variable name in Python can be\n",
    "- A single lowercase letter\n",
    "- A lowercase word\n",
    "- Or lowercase words separated by underscore.\n",
    "\n",
    "Examples of variable names\n",
    "- x\n",
    "- i\n",
    "- cars\n",
    "- my_cars\n",
    "\n",
    "Note that other programming languages can have other naming conventions."
   ]
  },
  {
   "cell_type": "markdown",
   "id": "66d6e063-6321-4307-8e93-30a7cdbc1849",
   "metadata": {},
   "source": [
    "### Declaration of variables"
   ]
  },
  {
   "cell_type": "code",
   "execution_count": 1,
   "id": "06ecfcfe-7495-4756-ae3e-66cd23671285",
   "metadata": {
    "collapsed": true,
    "jupyter": {
     "outputs_hidden": true
    }
   },
   "outputs": [],
   "source": [
    "s = \"This is a string\"\n",
    "a = 2\n",
    "b = 2.4"
   ]
  },
  {
   "cell_type": "markdown",
   "id": "0e000614-83a3-4fe5-974b-217830e66369",
   "metadata": {},
   "source": [
    "### Reserved Words\n",
    "\n",
    "You cannot use reserved words as variable names or your custom function names:\n",
    "\n",
    "<strong>\n",
    "  False None True and as assert async await break </br>   \n",
    "  class continue def del elif else except   </br>   \n",
    "  finally for from global if import in is lambda  </br>   \n",
    "  nonlocal not or pass raise return try while with yield  </br>   \n",
    "</strong>"
   ]
  },
  {
   "cell_type": "markdown",
   "id": "be40660d-d104-41d6-94d2-354686f77ed6",
   "metadata": {},
   "source": [
    "The following code allows you to view the complete list of Python’s keywords."
   ]
  },
  {
   "cell_type": "code",
   "execution_count": 4,
   "id": "2748edf5-3b70-489b-a373-739d38fbdeeb",
   "metadata": {},
   "outputs": [
    {
     "name": "stdout",
     "output_type": "stream",
     "text": [
      "['False', 'None', 'True', '__peg_parser__', 'and', 'as', 'assert', 'async', 'await', 'break', 'class', 'continue', 'def', 'del', 'elif', 'else', 'except', 'finally', 'for', 'from', 'global', 'if', 'import', 'in', 'is', 'lambda', 'nonlocal', 'not', 'or', 'pass', 'raise', 'return', 'try', 'while', 'with', 'yield']\n"
     ]
    }
   ],
   "source": [
    "# code\n",
    "import keyword\n",
    "print(sorted(keyword.kwlist))\n"
   ]
  },
  {
   "cell_type": "markdown",
   "id": "81251138-9270-411c-a73a-6a048763dc7b",
   "metadata": {},
   "source": [
    "### Basic data types\n",
    "- Integers\n",
    "- Floats\n",
    "- Strings\n",
    "- Boolean"
   ]
  },
  {
   "cell_type": "markdown",
   "id": "8bc17a85-65ba-4441-887b-cebe0e9b6510",
   "metadata": {},
   "source": [
    "### Integers\n",
    "An integer is a number which is not a fraction; a whole number.\n",
    "\n",
    "Examples of integers: \n",
    "- -23\n",
    "- -5\n",
    "- 0\n",
    "- 1\n",
    "- 78\n",
    "- 1,980,350\n",
    "\n",
    "Examples of non-integers: \n",
    "- 3.14\n",
    "- 0.001\n",
    "- 9,999.999"
   ]
  },
  {
   "cell_type": "code",
   "execution_count": 1,
   "id": "1278df1e-62e9-429b-baee-6b8ee32b4fea",
   "metadata": {
    "tags": []
   },
   "outputs": [],
   "source": [
    "a = 2\n",
    "b = 3"
   ]
  },
  {
   "cell_type": "code",
   "execution_count": 14,
   "id": "4bb60322-44e7-4b19-86a7-e6f8ee1494f0",
   "metadata": {
    "tags": []
   },
   "outputs": [
    {
     "data": {
      "text/plain": [
       "(int, int)"
      ]
     },
     "execution_count": 14,
     "metadata": {},
     "output_type": "execute_result"
    }
   ],
   "source": [
    "type(a), type(b)"
   ]
  },
  {
   "cell_type": "code",
   "execution_count": 2,
   "id": "a7a98566-6bc2-4ab4-9fe2-c9fb4c03b5f2",
   "metadata": {
    "tags": []
   },
   "outputs": [
    {
     "data": {
      "text/plain": [
       "int"
      ]
     },
     "execution_count": 2,
     "metadata": {},
     "output_type": "execute_result"
    }
   ],
   "source": [
    "type(a + b)"
   ]
  },
  {
   "cell_type": "code",
   "execution_count": 3,
   "id": "eed89f89-a6c3-40f1-a8c8-6b71445ff885",
   "metadata": {
    "tags": []
   },
   "outputs": [
    {
     "data": {
      "text/plain": [
       "int"
      ]
     },
     "execution_count": 3,
     "metadata": {},
     "output_type": "execute_result"
    }
   ],
   "source": [
    "c = a + b\n",
    "type(c)"
   ]
  },
  {
   "cell_type": "markdown",
   "id": "525f37bb-1eb0-4d02-81e4-906cea053063",
   "metadata": {},
   "source": [
    "### Float\n",
    "A float is a numbers with digits on both sides of a decimal point. This is in contrast to the integer data type, which houses an integer or whole number.\n",
    "\n",
    "Examples of floats:\n",
    "- 3.13\n",
    "- 9.99\n",
    "- 0.0001\n",
    "\n",
    "Note that a float data type in Python can represent a whole number.\n",
    "- 1.0\n",
    "- 3.0"
   ]
  },
  {
   "cell_type": "code",
   "execution_count": 5,
   "id": "b7b454b7-e1c7-4909-97e2-1c15e42685e2",
   "metadata": {
    "tags": []
   },
   "outputs": [],
   "source": [
    "a = 1.1\n",
    "b = 2.3"
   ]
  },
  {
   "cell_type": "code",
   "execution_count": 6,
   "id": "79efd4a4-659b-400b-8ad1-21a9e6a3a050",
   "metadata": {
    "tags": []
   },
   "outputs": [
    {
     "data": {
      "text/plain": [
       "(float, float)"
      ]
     },
     "execution_count": 6,
     "metadata": {},
     "output_type": "execute_result"
    }
   ],
   "source": [
    "type(a), type(b)"
   ]
  },
  {
   "cell_type": "code",
   "execution_count": 7,
   "id": "d2f9400b-7609-46bd-a0ef-8872eb8cc13c",
   "metadata": {
    "tags": []
   },
   "outputs": [
    {
     "data": {
      "text/plain": [
       "float"
      ]
     },
     "execution_count": 7,
     "metadata": {},
     "output_type": "execute_result"
    }
   ],
   "source": [
    "type(a + b)"
   ]
  },
  {
   "cell_type": "code",
   "execution_count": 8,
   "id": "76eccb84-e3a4-4fed-ab43-05945933e47a",
   "metadata": {
    "tags": []
   },
   "outputs": [
    {
     "data": {
      "text/plain": [
       "3.4"
      ]
     },
     "execution_count": 8,
     "metadata": {},
     "output_type": "execute_result"
    }
   ],
   "source": [
    "a + b"
   ]
  },
  {
   "cell_type": "code",
   "execution_count": 11,
   "id": "72fffd95-8333-4727-b82d-1227b2e897b5",
   "metadata": {
    "collapsed": true,
    "jupyter": {
     "outputs_hidden": true
    }
   },
   "outputs": [],
   "source": [
    "i = 1"
   ]
  },
  {
   "cell_type": "code",
   "execution_count": 12,
   "id": "fd4de12c-8213-44bf-a6c4-56010efc7c7b",
   "metadata": {
    "collapsed": true,
    "jupyter": {
     "outputs_hidden": true
    }
   },
   "outputs": [
    {
     "data": {
      "text/plain": [
       "int"
      ]
     },
     "execution_count": 12,
     "metadata": {},
     "output_type": "execute_result"
    }
   ],
   "source": [
    "type(i)"
   ]
  },
  {
   "cell_type": "code",
   "execution_count": 13,
   "id": "70653a12-8316-4195-83d1-b093a6381f46",
   "metadata": {
    "collapsed": true,
    "jupyter": {
     "outputs_hidden": true
    }
   },
   "outputs": [
    {
     "data": {
      "text/plain": [
       "float"
      ]
     },
     "execution_count": 13,
     "metadata": {},
     "output_type": "execute_result"
    }
   ],
   "source": [
    "type(i + a)"
   ]
  },
  {
   "cell_type": "code",
   "execution_count": 14,
   "id": "c393aa41-6443-4f7d-a467-4e8ec81856ac",
   "metadata": {
    "tags": []
   },
   "outputs": [
    {
     "data": {
      "text/plain": [
       "2.1"
      ]
     },
     "execution_count": 14,
     "metadata": {},
     "output_type": "execute_result"
    }
   ],
   "source": [
    "i + a"
   ]
  },
  {
   "cell_type": "markdown",
   "id": "d621110e-ff61-4bea-a2b6-e2c08266e229",
   "metadata": {},
   "source": [
    "### Strings\n",
    "A string in Python is a sequence of characters.\n",
    "\n",
    "Examples\n",
    "- \"I am a string!\"\n",
    "- 'I am another string'"
   ]
  },
  {
   "cell_type": "code",
   "execution_count": 9,
   "id": "14d8d10f-8d6c-4edb-88a0-e97b90b78ec7",
   "metadata": {
    "tags": []
   },
   "outputs": [],
   "source": [
    "s1 = 'I am a string'\n",
    "s2 = \"I am another string\""
   ]
  },
  {
   "cell_type": "code",
   "execution_count": 11,
   "id": "d4a1ff4e-39a8-42f3-b8d8-39bc3c0fe03b",
   "metadata": {
    "tags": []
   },
   "outputs": [
    {
     "data": {
      "text/plain": [
       "'I am a string I am another string'"
      ]
     },
     "execution_count": 11,
     "metadata": {},
     "output_type": "execute_result"
    }
   ],
   "source": [
    "s1 + \" \" + s2"
   ]
  },
  {
   "cell_type": "code",
   "execution_count": 12,
   "id": "9beabac7-f005-488d-a6ca-4533dfce5e2c",
   "metadata": {
    "tags": []
   },
   "outputs": [],
   "source": [
    "a = 1"
   ]
  },
  {
   "cell_type": "code",
   "execution_count": 14,
   "id": "8288d058-a3f0-4c6b-bb94-0229624a58f1",
   "metadata": {
    "tags": []
   },
   "outputs": [
    {
     "data": {
      "text/plain": [
       "'I am a string1'"
      ]
     },
     "execution_count": 14,
     "metadata": {},
     "output_type": "execute_result"
    }
   ],
   "source": [
    "s1 + str(a)"
   ]
  },
  {
   "cell_type": "code",
   "execution_count": 15,
   "id": "904042fb-505c-4b75-b45b-66539dc4a39e",
   "metadata": {},
   "outputs": [],
   "source": [
    "s3 = f\"variable a={a}, I am a string with an int here {a + 2} - and more text\""
   ]
  },
  {
   "cell_type": "code",
   "execution_count": 16,
   "id": "125c31de-2728-48cc-b454-00eba25f5083",
   "metadata": {},
   "outputs": [
    {
     "data": {
      "text/plain": [
       "'variable a=1, I am a string with an int here 3 - and more text'"
      ]
     },
     "execution_count": 16,
     "metadata": {},
     "output_type": "execute_result"
    }
   ],
   "source": [
    "s3"
   ]
  },
  {
   "cell_type": "code",
   "execution_count": 17,
   "id": "d275b6a8-dd55-43dd-8789-c6c4a145c2d9",
   "metadata": {
    "tags": []
   },
   "outputs": [
    {
     "name": "stdout",
     "output_type": "stream",
     "text": [
      "I am a string with an int here 3 - and more text\n"
     ]
    }
   ],
   "source": [
    "print(f\"I am a string with an int here {a + 2} - and more text\")"
   ]
  },
  {
   "cell_type": "markdown",
   "id": "f22b2a94-dc58-4f55-bcc4-c89502a35550",
   "metadata": {},
   "source": [
    "### Boolean\n",
    "- True or False (case sensitive)\n",
    "- Either it rains or not -> Either you take your umbrella or not"
   ]
  },
  {
   "cell_type": "code",
   "execution_count": 25,
   "id": "0b42ac72-8c63-4552-8c48-f1d1281762cb",
   "metadata": {
    "collapsed": true,
    "jupyter": {
     "outputs_hidden": true
    }
   },
   "outputs": [
    {
     "data": {
      "text/plain": [
       "True"
      ]
     },
     "execution_count": 25,
     "metadata": {},
     "output_type": "execute_result"
    }
   ],
   "source": [
    "True"
   ]
  },
  {
   "cell_type": "code",
   "execution_count": 26,
   "id": "ce076528-0c95-42cc-ab85-a22e685eee5c",
   "metadata": {
    "collapsed": true,
    "jupyter": {
     "outputs_hidden": true
    }
   },
   "outputs": [
    {
     "data": {
      "text/plain": [
       "False"
      ]
     },
     "execution_count": 26,
     "metadata": {},
     "output_type": "execute_result"
    }
   ],
   "source": [
    "False"
   ]
  },
  {
   "cell_type": "code",
   "execution_count": 27,
   "id": "1ab2156d-7c84-41a9-a2d5-2965ffaad15b",
   "metadata": {
    "collapsed": true,
    "jupyter": {
     "outputs_hidden": true
    }
   },
   "outputs": [],
   "source": [
    "b = True"
   ]
  },
  {
   "cell_type": "code",
   "execution_count": 28,
   "id": "73702ed8-2bec-495a-82ee-4f5604a070db",
   "metadata": {
    "collapsed": true,
    "jupyter": {
     "outputs_hidden": true
    }
   },
   "outputs": [
    {
     "data": {
      "text/plain": [
       "True"
      ]
     },
     "execution_count": 28,
     "metadata": {},
     "output_type": "execute_result"
    }
   ],
   "source": [
    "b"
   ]
  },
  {
   "cell_type": "code",
   "execution_count": 29,
   "id": "b9071236-f805-4a7a-b08c-5e669b1d519c",
   "metadata": {
    "collapsed": true,
    "jupyter": {
     "outputs_hidden": true
    }
   },
   "outputs": [],
   "source": [
    "b = 10 > 5"
   ]
  },
  {
   "cell_type": "code",
   "execution_count": 30,
   "id": "a388f7e8-b346-4bcb-a852-d26fa4c7f9d6",
   "metadata": {
    "collapsed": true,
    "jupyter": {
     "outputs_hidden": true
    }
   },
   "outputs": [
    {
     "data": {
      "text/plain": [
       "True"
      ]
     },
     "execution_count": 30,
     "metadata": {},
     "output_type": "execute_result"
    }
   ],
   "source": [
    "b"
   ]
  },
  {
   "cell_type": "code",
   "execution_count": 31,
   "id": "00683ab9-4d15-40fa-8f15-11d2e7de54df",
   "metadata": {
    "collapsed": true,
    "jupyter": {
     "outputs_hidden": true
    }
   },
   "outputs": [
    {
     "data": {
      "text/plain": [
       "False"
      ]
     },
     "execution_count": 31,
     "metadata": {},
     "output_type": "execute_result"
    }
   ],
   "source": [
    "bool(2 > 4)"
   ]
  },
  {
   "cell_type": "code",
   "execution_count": null,
   "id": "7f2967b2-c270-4abc-aab6-1418bbaad1ba",
   "metadata": {},
   "outputs": [],
   "source": []
  },
  {
   "cell_type": "code",
   "execution_count": 3,
   "id": "24431488-7596-42c7-a2ba-807c0a60f1c5",
   "metadata": {},
   "outputs": [],
   "source": [
    "a = 9 "
   ]
  },
  {
   "cell_type": "code",
   "execution_count": 4,
   "id": "3933d27b-de1a-4a5a-9cf8-5ab4ebbaac7f",
   "metadata": {},
   "outputs": [
    {
     "data": {
      "text/plain": [
       "9"
      ]
     },
     "execution_count": 4,
     "metadata": {},
     "output_type": "execute_result"
    }
   ],
   "source": [
    "a"
   ]
  },
  {
   "cell_type": "code",
   "execution_count": 5,
   "id": "fad7a5f2-e974-4517-b87a-f237cb52f287",
   "metadata": {},
   "outputs": [
    {
     "name": "stdout",
     "output_type": "stream",
     "text": [
      "9\n"
     ]
    }
   ],
   "source": [
    "print(a)"
   ]
  },
  {
   "cell_type": "markdown",
   "id": "fc811f2d-1fde-407d-a68b-e24a415ddbd5",
   "metadata": {},
   "source": [
    "## Getting the Data Type\n",
    "\n",
    "You can get the data type of any object by using the type() function:"
   ]
  },
  {
   "cell_type": "code",
   "execution_count": 6,
   "id": "9ce346fe-cafe-4520-9e95-29c821a00edc",
   "metadata": {},
   "outputs": [
    {
     "data": {
      "text/plain": [
       "int"
      ]
     },
     "execution_count": 6,
     "metadata": {},
     "output_type": "execute_result"
    }
   ],
   "source": [
    "type(a)"
   ]
  },
  {
   "cell_type": "code",
   "execution_count": 7,
   "id": "eec4de16-b7d4-4bf2-a20c-1973d72d3e19",
   "metadata": {},
   "outputs": [],
   "source": [
    "a = 9.0"
   ]
  },
  {
   "cell_type": "code",
   "execution_count": 8,
   "id": "f0bd8971-6c9b-4be3-980e-ac9d33d0002f",
   "metadata": {},
   "outputs": [
    {
     "data": {
      "text/plain": [
       "9.0"
      ]
     },
     "execution_count": 8,
     "metadata": {},
     "output_type": "execute_result"
    }
   ],
   "source": [
    "a"
   ]
  },
  {
   "cell_type": "code",
   "execution_count": 9,
   "id": "841c0056-c3a9-4e30-9322-1598df2ff07e",
   "metadata": {},
   "outputs": [
    {
     "data": {
      "text/plain": [
       "float"
      ]
     },
     "execution_count": 9,
     "metadata": {},
     "output_type": "execute_result"
    }
   ],
   "source": [
    "type(a)"
   ]
  },
  {
   "cell_type": "code",
   "execution_count": 10,
   "id": "ce887e0e-da1e-4227-b89d-dc994e3d8f15",
   "metadata": {},
   "outputs": [
    {
     "data": {
      "text/plain": [
       "'hello'"
      ]
     },
     "execution_count": 10,
     "metadata": {},
     "output_type": "execute_result"
    }
   ],
   "source": [
    "a = \"hello\"\n",
    "a"
   ]
  },
  {
   "cell_type": "code",
   "execution_count": 11,
   "id": "8476ff5c-6f45-4fdd-acba-be9a066e21a4",
   "metadata": {},
   "outputs": [
    {
     "data": {
      "text/plain": [
       "str"
      ]
     },
     "execution_count": 11,
     "metadata": {},
     "output_type": "execute_result"
    }
   ],
   "source": [
    "type(a)"
   ]
  },
  {
   "cell_type": "code",
   "execution_count": 12,
   "id": "d08bb39d-ab5f-4b07-abe5-ab68d73a73d7",
   "metadata": {},
   "outputs": [
    {
     "data": {
      "text/plain": [
       "'h'"
      ]
     },
     "execution_count": 12,
     "metadata": {},
     "output_type": "execute_result"
    }
   ],
   "source": [
    "a[0]"
   ]
  },
  {
   "cell_type": "code",
   "execution_count": 13,
   "id": "4efb54b4-1fbf-48a7-80db-484589e5cf45",
   "metadata": {},
   "outputs": [
    {
     "data": {
      "text/plain": [
       "'e'"
      ]
     },
     "execution_count": 13,
     "metadata": {},
     "output_type": "execute_result"
    }
   ],
   "source": [
    "a[1]"
   ]
  },
  {
   "cell_type": "code",
   "execution_count": 14,
   "id": "5e5744c2-df61-4724-a7c6-39e289ea2b5d",
   "metadata": {},
   "outputs": [
    {
     "data": {
      "text/plain": [
       "'o'"
      ]
     },
     "execution_count": 14,
     "metadata": {},
     "output_type": "execute_result"
    }
   ],
   "source": [
    "a[-1]"
   ]
  },
  {
   "cell_type": "code",
   "execution_count": 15,
   "id": "f1da613a-8899-4c3b-ad06-5cf1c9bb33bf",
   "metadata": {},
   "outputs": [
    {
     "data": {
      "text/plain": [
       "'o'"
      ]
     },
     "execution_count": 15,
     "metadata": {},
     "output_type": "execute_result"
    }
   ],
   "source": [
    "a[4]"
   ]
  },
  {
   "cell_type": "code",
   "execution_count": 16,
   "id": "38bdf4d4-c1bf-492f-9bbd-1b6ac1909500",
   "metadata": {},
   "outputs": [
    {
     "data": {
      "text/plain": [
       "5"
      ]
     },
     "execution_count": 16,
     "metadata": {},
     "output_type": "execute_result"
    }
   ],
   "source": [
    "l = len(a)\n",
    "l"
   ]
  },
  {
   "cell_type": "code",
   "execution_count": 17,
   "id": "7c5de0ce-8e09-4519-a4b9-c117d5876046",
   "metadata": {},
   "outputs": [
    {
     "data": {
      "text/plain": [
       "'o'"
      ]
     },
     "execution_count": 17,
     "metadata": {},
     "output_type": "execute_result"
    }
   ],
   "source": [
    "a[len(a)-1]"
   ]
  },
  {
   "cell_type": "markdown",
   "id": "455c0151-5b32-44b9-a3ee-2e12ee1cba92",
   "metadata": {},
   "source": [
    "# Type Conversion\n",
    "- More about formatted strings\n",
    "- Types are not the same\n",
    "- Convert them with **int(), float(), str()**"
   ]
  },
  {
   "cell_type": "code",
   "execution_count": 1,
   "id": "19ed6645",
   "metadata": {},
   "outputs": [
    {
     "name": "stdout",
     "output_type": "stream",
     "text": [
      "Hello Rune!\n",
      "You were born in 1990.\n"
     ]
    }
   ],
   "source": [
    "name = input(\"What is your name? \")\n",
    "print(f\"Hello {name}!\")\n",
    "birth_year = input(\"What is your birht year? \")\n",
    "print(f\"You were born in {birth_year}.\")"
   ]
  },
  {
   "cell_type": "code",
   "execution_count": null,
   "id": "525c3b16",
   "metadata": {},
   "outputs": [],
   "source": [
    "name = input(\"What is your name? \")\n",
    "print(f\"Hello {name}!\")\n",
    "birth_year = input(\"What is your birht year? \")\n",
    "print(f\"You are {2021 - birth_year} old!\")"
   ]
  },
  {
   "cell_type": "code",
   "execution_count": 3,
   "id": "153a35a1",
   "metadata": {},
   "outputs": [
    {
     "data": {
      "text/plain": [
       "str"
      ]
     },
     "execution_count": 3,
     "metadata": {},
     "output_type": "execute_result"
    }
   ],
   "source": [
    "type(birth_year)"
   ]
  },
  {
   "cell_type": "code",
   "execution_count": 4,
   "id": "905b923f",
   "metadata": {},
   "outputs": [
    {
     "data": {
      "text/plain": [
       "1990"
      ]
     },
     "execution_count": 4,
     "metadata": {},
     "output_type": "execute_result"
    }
   ],
   "source": [
    "int(birth_year)"
   ]
  },
  {
   "cell_type": "code",
   "execution_count": 5,
   "id": "795d917d",
   "metadata": {},
   "outputs": [
    {
     "name": "stdout",
     "output_type": "stream",
     "text": [
      "Hello Rune!\n",
      "You are 31 old!\n"
     ]
    }
   ],
   "source": [
    "name = input(\"What is your name? \")\n",
    "print(f\"Hello {name}!\")\n",
    "birth_year = input(\"What is your birht year? \")\n",
    "birth_year = int(birth_year)\n",
    "print(f\"You are {2021 - birth_year} old!\")"
   ]
  },
  {
   "cell_type": "code",
   "execution_count": 6,
   "id": "d9b93473",
   "metadata": {},
   "outputs": [
    {
     "data": {
      "text/plain": [
       "30"
      ]
     },
     "execution_count": 6,
     "metadata": {},
     "output_type": "execute_result"
    }
   ],
   "source": [
    "int(\"30\")"
   ]
  },
  {
   "cell_type": "code",
   "execution_count": 7,
   "id": "bcf91033",
   "metadata": {},
   "outputs": [
    {
     "data": {
      "text/plain": [
       "-4"
      ]
     },
     "execution_count": 7,
     "metadata": {},
     "output_type": "execute_result"
    }
   ],
   "source": [
    "int(\" -4\")"
   ]
  },
  {
   "cell_type": "code",
   "execution_count": 8,
   "id": "8c055632",
   "metadata": {},
   "outputs": [
    {
     "data": {
      "text/plain": [
       "2.0"
      ]
     },
     "execution_count": 8,
     "metadata": {},
     "output_type": "execute_result"
    }
   ],
   "source": [
    "float(\"2\")"
   ]
  },
  {
   "cell_type": "code",
   "execution_count": 9,
   "id": "3f637e27",
   "metadata": {},
   "outputs": [
    {
     "data": {
      "text/plain": [
       "3.14"
      ]
     },
     "execution_count": 9,
     "metadata": {},
     "output_type": "execute_result"
    }
   ],
   "source": [
    "float(\"3.14\")"
   ]
  },
  {
   "cell_type": "code",
   "execution_count": 10,
   "id": "a1ce844a",
   "metadata": {},
   "outputs": [
    {
     "data": {
      "text/plain": [
       "3.0"
      ]
     },
     "execution_count": 10,
     "metadata": {},
     "output_type": "execute_result"
    }
   ],
   "source": [
    "float(3)"
   ]
  },
  {
   "cell_type": "code",
   "execution_count": 11,
   "id": "3913c653",
   "metadata": {},
   "outputs": [],
   "source": [
    "s = \"This is a string\"\n",
    "i = 7"
   ]
  },
  {
   "cell_type": "code",
   "execution_count": null,
   "id": "fd476d0f",
   "metadata": {},
   "outputs": [],
   "source": [
    "s + i"
   ]
  },
  {
   "cell_type": "code",
   "execution_count": 13,
   "id": "d7ab400f",
   "metadata": {},
   "outputs": [
    {
     "data": {
      "text/plain": [
       "'This is a string7'"
      ]
     },
     "execution_count": 13,
     "metadata": {},
     "output_type": "execute_result"
    }
   ],
   "source": [
    "s + str(i)"
   ]
  },
  {
   "cell_type": "markdown",
   "id": "2ae882e0-4917-4565-8d4c-9e2e85af5203",
   "metadata": {},
   "source": [
    "## Complete Python Data Types\n",
    "\n",
    "Python has the following data types built-in by default, in these categories:\n",
    "\n",
    "Text Type:\tstr\n",
    "\n",
    "Numeric Types:\tint, float, complex\n",
    "\n",
    "Sequence Types:\tlist, tuple, range\n",
    "\n",
    "Mapping Type:\tdict\n",
    "\n",
    "Set Types:\tset, frozenset\n",
    "\n",
    "Boolean Type:\tbool\n",
    "\n",
    "Binary Types:\tbytes, bytearray, memoryview\n",
    "\n",
    "None Type:\tNoneType"
   ]
  },
  {
   "cell_type": "code",
   "execution_count": null,
   "id": "4f221cb0-4efc-4c91-bd25-70f736778cd7",
   "metadata": {},
   "outputs": [],
   "source": []
  }
 ],
 "metadata": {
  "kernelspec": {
   "display_name": "Python 3 (ipykernel)",
   "language": "python",
   "name": "python3"
  },
  "language_info": {
   "codemirror_mode": {
    "name": "ipython",
    "version": 3
   },
   "file_extension": ".py",
   "mimetype": "text/x-python",
   "name": "python",
   "nbconvert_exporter": "python",
   "pygments_lexer": "ipython3",
   "version": "3.9.12"
  }
 },
 "nbformat": 4,
 "nbformat_minor": 5
}

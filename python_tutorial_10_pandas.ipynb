{
 "cells": [
  {
   "cell_type": "markdown",
   "metadata": {
    "id": "s39SnnxrZxsx"
   },
   "source": [
    "# Python Tutorials: Pandas DataFrame\n",
    "\n",
    "### Author: Dr. Owen Chen\n",
    "\n",
    "### Date: 2023 Fall\n",
    "\n"
   ]
  },
  {
   "cell_type": "markdown",
   "metadata": {
    "id": "z-hjI2NsaK4w"
   },
   "source": [
    "<a id = \"pandas\"></a>\n",
    "# Pandas DataFrame\n",
    "[Go back to Table of Content](#toc)\n",
    "\n",
    "*   One of the most highly leveraged data structures for data science\n",
    "*   A table-like two dimensional data structure. \n"
   ]
  },
  {
   "cell_type": "markdown",
   "metadata": {
    "id": "e8Dxdc4V6wlV"
   },
   "source": [
    "### Create a DataFrame"
   ]
  },
  {
   "cell_type": "code",
   "execution_count": null,
   "metadata": {
    "colab": {
     "base_uri": "https://localhost:8080/",
     "height": 297
    },
    "id": "73JaHcb261eb",
    "outputId": "95ec9725-3f0e-472d-c9e1-6439bfeac6ff"
   },
   "outputs": [
    {
     "data": {
      "text/html": [
       "<div>\n",
       "<style scoped>\n",
       "    .dataframe tbody tr th:only-of-type {\n",
       "        vertical-align: middle;\n",
       "    }\n",
       "\n",
       "    .dataframe tbody tr th {\n",
       "        vertical-align: top;\n",
       "    }\n",
       "\n",
       "    .dataframe thead th {\n",
       "        text-align: right;\n",
       "    }\n",
       "</style>\n",
       "<table border=\"1\" class=\"dataframe\">\n",
       "  <thead>\n",
       "    <tr style=\"text-align: right;\">\n",
       "      <th></th>\n",
       "      <th>age</th>\n",
       "      <th>first</th>\n",
       "      <th>last</th>\n",
       "    </tr>\n",
       "  </thead>\n",
       "  <tbody>\n",
       "    <tr>\n",
       "      <th>0</th>\n",
       "      <td>43</td>\n",
       "      <td>henry</td>\n",
       "      <td>smith</td>\n",
       "    </tr>\n",
       "    <tr>\n",
       "      <th>1</th>\n",
       "      <td>23</td>\n",
       "      <td>rolly</td>\n",
       "      <td>brocker</td>\n",
       "    </tr>\n",
       "    <tr>\n",
       "      <th>2</th>\n",
       "      <td>78</td>\n",
       "      <td>molly</td>\n",
       "      <td>stein</td>\n",
       "    </tr>\n",
       "    <tr>\n",
       "      <th>3</th>\n",
       "      <td>56</td>\n",
       "      <td>frank</td>\n",
       "      <td>bach</td>\n",
       "    </tr>\n",
       "    <tr>\n",
       "      <th>4</th>\n",
       "      <td>26</td>\n",
       "      <td>david</td>\n",
       "      <td>spencer</td>\n",
       "    </tr>\n",
       "    <tr>\n",
       "      <th>5</th>\n",
       "      <td>14</td>\n",
       "      <td>steven</td>\n",
       "      <td>de wilde</td>\n",
       "    </tr>\n",
       "    <tr>\n",
       "      <th>6</th>\n",
       "      <td>46</td>\n",
       "      <td>gwen</td>\n",
       "      <td>mason</td>\n",
       "    </tr>\n",
       "    <tr>\n",
       "      <th>7</th>\n",
       "      <td>92</td>\n",
       "      <td>arthur</td>\n",
       "      <td>davis</td>\n",
       "    </tr>\n",
       "  </tbody>\n",
       "</table>\n",
       "</div>"
      ],
      "text/plain": [
       "   age   first      last\n",
       "0   43   henry     smith\n",
       "1   23   rolly   brocker\n",
       "2   78   molly     stein\n",
       "3   56   frank      bach\n",
       "4   26   david   spencer\n",
       "5   14  steven  de wilde\n",
       "6   46    gwen     mason\n",
       "7   92  arthur     davis"
      ]
     },
     "execution_count": 103,
     "metadata": {
      "tags": []
     },
     "output_type": "execute_result"
    }
   ],
   "source": [
    "import pandas as pd\n",
    "first_names = ['henry', 'rolly', 'molly', 'frank', 'david', 'steven', 'gwen', 'arthur']\n",
    "last_names = ['smith', 'brocker', 'stein', 'bach', 'spencer', 'de wilde', 'mason', 'davis']\n",
    "ages = [43, 23, 78, 56, 26, 14, 46, 92]\n",
    "\n",
    "df = pd.DataFrame({ 'first': first_names, 'last': last_names, 'age': ages})\n",
    "df"
   ]
  },
  {
   "cell_type": "markdown",
   "metadata": {
    "id": "ut_QqgQi7CvX"
   },
   "source": [
    "### Head - looking at the top"
   ]
  },
  {
   "cell_type": "code",
   "execution_count": null,
   "metadata": {
    "colab": {
     "base_uri": "https://localhost:8080/",
     "height": 297
    },
    "id": "FN7tXlFV7FiE",
    "outputId": "f48221e8-bcee-4d3c-e2e0-e3bd130b202d"
   },
   "outputs": [
    {
     "data": {
      "text/html": [
       "<div>\n",
       "<style scoped>\n",
       "    .dataframe tbody tr th:only-of-type {\n",
       "        vertical-align: middle;\n",
       "    }\n",
       "\n",
       "    .dataframe tbody tr th {\n",
       "        vertical-align: top;\n",
       "    }\n",
       "\n",
       "    .dataframe thead th {\n",
       "        text-align: right;\n",
       "    }\n",
       "</style>\n",
       "<table border=\"1\" class=\"dataframe\">\n",
       "  <thead>\n",
       "    <tr style=\"text-align: right;\">\n",
       "      <th></th>\n",
       "      <th>age</th>\n",
       "      <th>first</th>\n",
       "      <th>last</th>\n",
       "    </tr>\n",
       "  </thead>\n",
       "  <tbody>\n",
       "    <tr>\n",
       "      <th>0</th>\n",
       "      <td>43</td>\n",
       "      <td>henry</td>\n",
       "      <td>smith</td>\n",
       "    </tr>\n",
       "    <tr>\n",
       "      <th>1</th>\n",
       "      <td>23</td>\n",
       "      <td>rolly</td>\n",
       "      <td>brocker</td>\n",
       "    </tr>\n",
       "    <tr>\n",
       "      <th>2</th>\n",
       "      <td>78</td>\n",
       "      <td>molly</td>\n",
       "      <td>stein</td>\n",
       "    </tr>\n",
       "    <tr>\n",
       "      <th>3</th>\n",
       "      <td>56</td>\n",
       "      <td>frank</td>\n",
       "      <td>bach</td>\n",
       "    </tr>\n",
       "    <tr>\n",
       "      <th>4</th>\n",
       "      <td>26</td>\n",
       "      <td>david</td>\n",
       "      <td>spencer</td>\n",
       "    </tr>\n",
       "    <tr>\n",
       "      <th>5</th>\n",
       "      <td>14</td>\n",
       "      <td>steven</td>\n",
       "      <td>de wilde</td>\n",
       "    </tr>\n",
       "    <tr>\n",
       "      <th>6</th>\n",
       "      <td>46</td>\n",
       "      <td>gwen</td>\n",
       "      <td>mason</td>\n",
       "    </tr>\n",
       "    <tr>\n",
       "      <th>7</th>\n",
       "      <td>92</td>\n",
       "      <td>arthur</td>\n",
       "      <td>davis</td>\n",
       "    </tr>\n",
       "  </tbody>\n",
       "</table>\n",
       "</div>"
      ],
      "text/plain": [
       "   age   first      last\n",
       "0   43   henry     smith\n",
       "1   23   rolly   brocker\n",
       "2   78   molly     stein\n",
       "3   56   frank      bach\n",
       "4   26   david   spencer\n",
       "5   14  steven  de wilde\n",
       "6   46    gwen     mason\n",
       "7   92  arthur     davis"
      ]
     },
     "execution_count": 106,
     "metadata": {
      "tags": []
     },
     "output_type": "execute_result"
    }
   ],
   "source": [
    "df.head(10)"
   ]
  },
  {
   "cell_type": "markdown",
   "metadata": {
    "id": "2lZEPhBd7PGN"
   },
   "source": [
    "### Setting number of rows returned with head"
   ]
  },
  {
   "cell_type": "code",
   "execution_count": null,
   "metadata": {
    "id": "mO583bRm7J9y"
   },
   "outputs": [],
   "source": [
    "df.head(3)"
   ]
  },
  {
   "cell_type": "markdown",
   "metadata": {
    "id": "fP0Szs_k7ZwM"
   },
   "source": [
    "### Tail - looking at the bottom"
   ]
  },
  {
   "cell_type": "code",
   "execution_count": null,
   "metadata": {
    "colab": {
     "base_uri": "https://localhost:8080/",
     "height": 111
    },
    "id": "lWpCA6lh7dIZ",
    "outputId": "6ad75973-5eba-4e1f-e70f-709f20036be7"
   },
   "outputs": [
    {
     "data": {
      "text/html": [
       "<div>\n",
       "<style scoped>\n",
       "    .dataframe tbody tr th:only-of-type {\n",
       "        vertical-align: middle;\n",
       "    }\n",
       "\n",
       "    .dataframe tbody tr th {\n",
       "        vertical-align: top;\n",
       "    }\n",
       "\n",
       "    .dataframe thead th {\n",
       "        text-align: right;\n",
       "    }\n",
       "</style>\n",
       "<table border=\"1\" class=\"dataframe\">\n",
       "  <thead>\n",
       "    <tr style=\"text-align: right;\">\n",
       "      <th></th>\n",
       "      <th>age</th>\n",
       "      <th>first</th>\n",
       "      <th>last</th>\n",
       "    </tr>\n",
       "  </thead>\n",
       "  <tbody>\n",
       "    <tr>\n",
       "      <th>6</th>\n",
       "      <td>46</td>\n",
       "      <td>gwen</td>\n",
       "      <td>mason</td>\n",
       "    </tr>\n",
       "    <tr>\n",
       "      <th>7</th>\n",
       "      <td>92</td>\n",
       "      <td>arthur</td>\n",
       "      <td>davis</td>\n",
       "    </tr>\n",
       "  </tbody>\n",
       "</table>\n",
       "</div>"
      ],
      "text/plain": [
       "   age   first   last\n",
       "6   46    gwen  mason\n",
       "7   92  arthur  davis"
      ]
     },
     "execution_count": 108,
     "metadata": {
      "tags": []
     },
     "output_type": "execute_result"
    }
   ],
   "source": [
    "df.tail(2)"
   ]
  },
  {
   "cell_type": "markdown",
   "metadata": {
    "id": "aMcpAbpW7sKB"
   },
   "source": [
    "### Describe - descriptive statistics"
   ]
  },
  {
   "cell_type": "code",
   "execution_count": null,
   "metadata": {
    "colab": {
     "base_uri": "https://localhost:8080/",
     "height": 297
    },
    "id": "c1SCEPeB7xIi",
    "outputId": "ad35757e-f072-4208-e853-1f25dc24614e"
   },
   "outputs": [
    {
     "data": {
      "text/html": [
       "<div>\n",
       "<style scoped>\n",
       "    .dataframe tbody tr th:only-of-type {\n",
       "        vertical-align: middle;\n",
       "    }\n",
       "\n",
       "    .dataframe tbody tr th {\n",
       "        vertical-align: top;\n",
       "    }\n",
       "\n",
       "    .dataframe thead th {\n",
       "        text-align: right;\n",
       "    }\n",
       "</style>\n",
       "<table border=\"1\" class=\"dataframe\">\n",
       "  <thead>\n",
       "    <tr style=\"text-align: right;\">\n",
       "      <th></th>\n",
       "      <th>age</th>\n",
       "    </tr>\n",
       "  </thead>\n",
       "  <tbody>\n",
       "    <tr>\n",
       "      <th>count</th>\n",
       "      <td>8.000000</td>\n",
       "    </tr>\n",
       "    <tr>\n",
       "      <th>mean</th>\n",
       "      <td>47.250000</td>\n",
       "    </tr>\n",
       "    <tr>\n",
       "      <th>std</th>\n",
       "      <td>27.227874</td>\n",
       "    </tr>\n",
       "    <tr>\n",
       "      <th>min</th>\n",
       "      <td>14.000000</td>\n",
       "    </tr>\n",
       "    <tr>\n",
       "      <th>25%</th>\n",
       "      <td>25.250000</td>\n",
       "    </tr>\n",
       "    <tr>\n",
       "      <th>50%</th>\n",
       "      <td>44.500000</td>\n",
       "    </tr>\n",
       "    <tr>\n",
       "      <th>75%</th>\n",
       "      <td>61.500000</td>\n",
       "    </tr>\n",
       "    <tr>\n",
       "      <th>max</th>\n",
       "      <td>92.000000</td>\n",
       "    </tr>\n",
       "  </tbody>\n",
       "</table>\n",
       "</div>"
      ],
      "text/plain": [
       "             age\n",
       "count   8.000000\n",
       "mean   47.250000\n",
       "std    27.227874\n",
       "min    14.000000\n",
       "25%    25.250000\n",
       "50%    44.500000\n",
       "75%    61.500000\n",
       "max    92.000000"
      ]
     },
     "execution_count": 109,
     "metadata": {
      "tags": []
     },
     "output_type": "execute_result"
    }
   ],
   "source": [
    "df.describe()"
   ]
  },
  {
   "cell_type": "markdown",
   "metadata": {
    "id": "Of3owwjI71cr"
   },
   "source": [
    "### Access one column"
   ]
  },
  {
   "cell_type": "code",
   "execution_count": null,
   "metadata": {
    "colab": {
     "base_uri": "https://localhost:8080/",
     "height": 170
    },
    "id": "siMCagaq74bO",
    "outputId": "99907925-afaf-459c-bb9f-63a7b9bf25e2"
   },
   "outputs": [
    {
     "data": {
      "text/plain": [
       "0     henry\n",
       "1     rolly\n",
       "2     molly\n",
       "3     frank\n",
       "4     david\n",
       "5    steven\n",
       "6      gwen\n",
       "7    arthur\n",
       "Name: first, dtype: object"
      ]
     },
     "execution_count": 110,
     "metadata": {
      "tags": []
     },
     "output_type": "execute_result"
    }
   ],
   "source": [
    "df['first']"
   ]
  },
  {
   "cell_type": "markdown",
   "metadata": {
    "id": "KdOsmAk67-FA"
   },
   "source": [
    "### Slice a column"
   ]
  },
  {
   "cell_type": "code",
   "execution_count": null,
   "metadata": {
    "colab": {
     "base_uri": "https://localhost:8080/",
     "height": 102
    },
    "id": "dNl_CTuk8Bip",
    "outputId": "df4f7aa6-4457-4c77-f2cb-5c77c227d072"
   },
   "outputs": [
    {
     "data": {
      "text/plain": [
       "4     david\n",
       "5    steven\n",
       "6      gwen\n",
       "7    arthur\n",
       "Name: first, dtype: object"
      ]
     },
     "execution_count": 111,
     "metadata": {
      "tags": []
     },
     "output_type": "execute_result"
    }
   ],
   "source": [
    "df['first'][4:]"
   ]
  },
  {
   "cell_type": "markdown",
   "metadata": {
    "id": "H3iUwAI-8TFp"
   },
   "source": [
    "### Use conditions to filter"
   ]
  },
  {
   "cell_type": "code",
   "execution_count": null,
   "metadata": {
    "colab": {
     "base_uri": "https://localhost:8080/",
     "height": 142
    },
    "id": "pjYmR1d0fbUh",
    "outputId": "0add25f2-e4c6-4a21-98d8-6c77cdacea4e"
   },
   "outputs": [
    {
     "data": {
      "text/html": [
       "<div>\n",
       "<style scoped>\n",
       "    .dataframe tbody tr th:only-of-type {\n",
       "        vertical-align: middle;\n",
       "    }\n",
       "\n",
       "    .dataframe tbody tr th {\n",
       "        vertical-align: top;\n",
       "    }\n",
       "\n",
       "    .dataframe thead th {\n",
       "        text-align: right;\n",
       "    }\n",
       "</style>\n",
       "<table border=\"1\" class=\"dataframe\">\n",
       "  <thead>\n",
       "    <tr style=\"text-align: right;\">\n",
       "      <th></th>\n",
       "      <th>age</th>\n",
       "      <th>first</th>\n",
       "      <th>last</th>\n",
       "    </tr>\n",
       "  </thead>\n",
       "  <tbody>\n",
       "    <tr>\n",
       "      <th>2</th>\n",
       "      <td>78</td>\n",
       "      <td>molly</td>\n",
       "      <td>stein</td>\n",
       "    </tr>\n",
       "    <tr>\n",
       "      <th>3</th>\n",
       "      <td>56</td>\n",
       "      <td>frank</td>\n",
       "      <td>bach</td>\n",
       "    </tr>\n",
       "    <tr>\n",
       "      <th>7</th>\n",
       "      <td>92</td>\n",
       "      <td>arthur</td>\n",
       "      <td>davis</td>\n",
       "    </tr>\n",
       "  </tbody>\n",
       "</table>\n",
       "</div>"
      ],
      "text/plain": [
       "   age   first   last\n",
       "2   78   molly  stein\n",
       "3   56   frank   bach\n",
       "7   92  arthur  davis"
      ]
     },
     "execution_count": 112,
     "metadata": {
      "tags": []
     },
     "output_type": "execute_result"
    }
   ],
   "source": [
    "df[df['age'] > 50]"
   ]
  },
  {
   "cell_type": "markdown",
   "metadata": {
    "id": "mU_PWc0zaO0X"
   },
   "source": [
    "<a id = \"series\"></a>\n",
    "# 9. Pandas Series\n",
    "\n",
    "[Go back to Table of Content](#toc)\n",
    "\n",
    "*   A one dimensional labeled array\n",
    "*   Contains data of only one type\n",
    "*   Similar to a column in a spreedsheet\n",
    "\n",
    "\n"
   ]
  },
  {
   "cell_type": "markdown",
   "metadata": {
    "id": "8IJJSLsN8kAq"
   },
   "source": [
    "### Create a series"
   ]
  },
  {
   "cell_type": "code",
   "execution_count": null,
   "metadata": {
    "colab": {
     "base_uri": "https://localhost:8080/",
     "height": 85
    },
    "id": "cdGYE9LdnSwU",
    "outputId": "c4a7433b-e15c-4f27-d727-72cf26e9de70"
   },
   "outputs": [
    {
     "data": {
      "text/plain": [
       "0    1\n",
       "1    2\n",
       "2    3\n",
       "dtype: int64"
      ]
     },
     "execution_count": 114,
     "metadata": {
      "tags": []
     },
     "output_type": "execute_result"
    }
   ],
   "source": [
    "pd_series = pd.Series( [1, 2, 3 ] )\n",
    "pd_series"
   ]
  },
  {
   "cell_type": "markdown",
   "metadata": {
    "id": "GzZyCmanpu2p"
   },
   "source": [
    "### Series introspection methods"
   ]
  },
  {
   "cell_type": "code",
   "execution_count": null,
   "metadata": {
    "colab": {
     "base_uri": "https://localhost:8080/",
     "height": 34
    },
    "id": "RlsP8h-KpxxE",
    "outputId": "5eb734b2-d44e-422c-c53b-fb0fdca4b1ba"
   },
   "outputs": [
    {
     "data": {
      "text/plain": [
       "'This series is made up of 3 items whose data type is int64'"
      ]
     },
     "execution_count": 115,
     "metadata": {
      "tags": []
     },
     "output_type": "execute_result"
    }
   ],
   "source": [
    "f\"This series is made up of {pd_series.size} items whose data type is {pd_series.dtype}\""
   ]
  },
  {
   "cell_type": "markdown",
   "metadata": {
    "id": "OgKF9C9an8iB"
   },
   "source": [
    "### A Pandas DataFrame is composed of Pandas Series. "
   ]
  },
  {
   "cell_type": "code",
   "execution_count": null,
   "metadata": {
    "colab": {
     "base_uri": "https://localhost:8080/",
     "height": 34
    },
    "id": "wAmSud2ToHuh",
    "outputId": "9afc9fb8-bef8-4f3f-95ac-8d26f9375233"
   },
   "outputs": [
    {
     "data": {
      "text/plain": [
       "pandas.core.series.Series"
      ]
     },
     "execution_count": 116,
     "metadata": {
      "tags": []
     },
     "output_type": "execute_result"
    }
   ],
   "source": [
    "age = df.age\n",
    "type( age )"
   ]
  },
  {
   "cell_type": "markdown",
   "metadata": {
    "id": "DooLFZH1ovCV"
   },
   "source": [
    "### Some useful helper methods of a Series"
   ]
  },
  {
   "cell_type": "markdown",
   "metadata": {
    "id": "iyDtUDT3JRuY"
   },
   "source": [
    "#### mean"
   ]
  },
  {
   "cell_type": "code",
   "execution_count": null,
   "metadata": {
    "colab": {
     "base_uri": "https://localhost:8080/",
     "height": 34
    },
    "id": "9gi2tOSTJTrI",
    "outputId": "1fbee477-4a35-422d-949b-1fe0b180af04"
   },
   "outputs": [
    {
     "data": {
      "text/plain": [
       "4.888888888888889"
      ]
     },
     "execution_count": 117,
     "metadata": {
      "tags": []
     },
     "output_type": "execute_result"
    }
   ],
   "source": [
    "pd_series = pd.Series([ 1, 2, 3, 5, 6, 6, 6, 7, 8])\n",
    "pd_series.mean()"
   ]
  },
  {
   "cell_type": "markdown",
   "metadata": {
    "id": "bILvFviLJbok"
   },
   "source": [
    "#### Unique"
   ]
  },
  {
   "cell_type": "code",
   "execution_count": null,
   "metadata": {
    "colab": {
     "base_uri": "https://localhost:8080/",
     "height": 34
    },
    "id": "azsZ0xzcJdN2",
    "outputId": "f8371eb1-959f-4726-acd1-e00729f9f2d6"
   },
   "outputs": [
    {
     "data": {
      "text/plain": [
       "array([1, 2, 3, 5, 6, 7, 8])"
      ]
     },
     "execution_count": 118,
     "metadata": {
      "tags": []
     },
     "output_type": "execute_result"
    }
   ],
   "source": [
    "pd_series.unique()"
   ]
  },
  {
   "cell_type": "markdown",
   "metadata": {
    "id": "GT2CGOucJgjz"
   },
   "source": [
    "#### Max"
   ]
  },
  {
   "cell_type": "code",
   "execution_count": null,
   "metadata": {
    "colab": {
     "base_uri": "https://localhost:8080/",
     "height": 34
    },
    "id": "s-PPBB7Co385",
    "outputId": "27c23504-0120-489f-b52b-0c6fbd49b8d9"
   },
   "outputs": [
    {
     "data": {
      "text/plain": [
       "1"
      ]
     },
     "execution_count": 120,
     "metadata": {
      "tags": []
     },
     "output_type": "execute_result"
    }
   ],
   "source": [
    "pd_series.min()"
   ]
  },
  {
   "cell_type": "markdown",
   "metadata": {
    "id": "g2UU5cr6rna6"
   },
   "source": [
    "# References:\n",
    "[Numpy arrays](https://docs.scipy.org/doc/numpy/reference/generated/numpy.array.html)\n",
    "\n",
    "[Pandas DataFrame](https://pandas.pydata.org/pandas-docs/version/0.21/generated/pandas.DataFrame.html)\n",
    "\n",
    "[Pandas Series](https://pandas.pydata.org/pandas-docs/version/0.23.4/generated/pandas.Series.html)\n",
    "\n"
   ]
  },
  {
   "cell_type": "code",
   "execution_count": null,
   "metadata": {},
   "outputs": [],
   "source": []
  }
 ],
 "metadata": {
  "colab": {
   "collapsed_sections": [
    "_rehYX145nEk",
    "g4-XjayC8KO7"
   ],
   "name": "Lesson5-Python For Data Science-Python-Data-structure.ipynb",
   "provenance": [
    {
     "file_id": "https://github.com/paiml/python_for_datascience/blob/master/Lesson5_Python_For_Data_Science_Python_Data_structure.ipynb",
     "timestamp": 1679247223272
    }
   ]
  },
  "kernelspec": {
   "display_name": "Python 3 (ipykernel)",
   "language": "python",
   "name": "python3"
  },
  "language_info": {
   "codemirror_mode": {
    "name": "ipython",
    "version": 3
   },
   "file_extension": ".py",
   "mimetype": "text/x-python",
   "name": "python",
   "nbconvert_exporter": "python",
   "pygments_lexer": "ipython3",
   "version": "3.9.12"
  }
 },
 "nbformat": 4,
 "nbformat_minor": 4
}

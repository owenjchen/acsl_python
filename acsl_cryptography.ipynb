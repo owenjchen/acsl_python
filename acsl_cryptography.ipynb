{
 "cells": [
  {
   "cell_type": "markdown",
   "id": "57e0497c-074a-4f90-a809-56c322880482",
   "metadata": {},
   "source": [
    "# ACSL Cryptography\n",
    "\n",
    "## ACSL Contest #2 Programming Problem"
   ]
  },
  {
   "cell_type": "markdown",
   "id": "f6db40b4-39eb-43c3-b570-a95719ede45b",
   "metadata": {},
   "source": [
    "## 1) Reverse Cipher\n",
    "\n",
    "\n",
    "<b>Algorithm of Reverse Cipher</b>  \n",
    "The algorithm of reverse cipher holds the following features −\n",
    "\n",
    "- Reverse Cipher uses a pattern of reversing the string of plain text to convert as cipher text.\n",
    "\n",
    "- The process of encryption and decryption is same.\n",
    "\n",
    "- To decrypt cipher text, the user simply needs to reverse the cipher text to get the plain text.\n",
    "\n",
    "<b>Drawback</b>\n",
    "- The major drawback of reverse cipher is that it is very weak. "
   ]
  },
  {
   "cell_type": "code",
   "execution_count": 185,
   "id": "60e55ab2-1322-4aee-8de1-14395a89fe48",
   "metadata": {},
   "outputs": [],
   "source": [
    "# Reverse Cipher and decipher\n",
    "\n",
    "def reverse_cipher(msg):\n",
    "    return msg[::-1]\n",
    "\n",
    "def reverse_decipher(code):\n",
    "    return code[::-1]\n"
   ]
  },
  {
   "cell_type": "code",
   "execution_count": 186,
   "id": "86fe3cfb-a125-4a64-a9a0-512b7391b09f",
   "metadata": {},
   "outputs": [
    {
     "name": "stdout",
     "output_type": "stream",
     "text": [
      "Plain message: Hello, ACSL students!\n",
      "Encoded message: !stneduts LSCA ,olleH\n",
      "Decoded message: Hello, ACSL students!\n"
     ]
    }
   ],
   "source": [
    "plain_msg = \"Hello, ACSL students!\"\n",
    "print(\"Plain message:\", plain_msg)\n",
    "coded_msg=reverse_cipher(plain_msg)\n",
    "print(\"Encoded message:\",coded_msg )\n",
    "print(\"Decoded message:\", reverse_decipher(coded_msg))"
   ]
  },
  {
   "cell_type": "markdown",
   "id": "ce0b74d1-d964-40fa-a691-a87e0f989a04",
   "metadata": {},
   "source": [
    "## 2) Caesar Cipher\n",
    "\n",
    "<b>Algorithm of Caesar Cipher</b>  \n",
    "\n",
    "- Caesar Cipher Technique is the simple and easy method of encryption technique.\n",
    "\n",
    "- It is simple type of substitution cipher.\n",
    "\n",
    "- Each letter of plain text is replaced by a letter with some fixed number of positions down with alphabet.\n"
   ]
  },
  {
   "cell_type": "code",
   "execution_count": 187,
   "id": "1c2fecad-6a00-4259-9ae6-a45b16fa56a1",
   "metadata": {},
   "outputs": [],
   "source": [
    "# A ASCII Table is 128 characters:\n",
    "# https://www.asciitable.com/\n",
    "\n",
    "# Printable ASCII code is between 32 ~ 127 - a total of 96 characters\n",
    "\n",
    "def caesar_cipher0(text,key=3):\n",
    "    if key > 128:\n",
    "        key %= 128\n",
    "    elif key < 0:\n",
    "        key += 128   \n",
    "    result = \"\"\n",
    "    # transverse the plain text\n",
    "    for char in text:\n",
    "        result += chr((ord(char) + key) % 128)\n",
    "    return result\n",
    "\n",
    "def caesar_decipher0(code,key=3):\n",
    "    if key > 128:\n",
    "        key %= 128\n",
    "    elif key < 0:\n",
    "        key += 128     \n",
    "    result = \"\"\n",
    "    # decoding message\n",
    "    for char in code:\n",
    "        result += chr((ord(char) + 128 - key) % 128)\n",
    "    return result"
   ]
  },
  {
   "cell_type": "code",
   "execution_count": 190,
   "id": "ccf24cba-3dea-4527-a8be-e2923af6d295",
   "metadata": {},
   "outputs": [],
   "source": [
    "# A ASCII Table is 128 characters:\n",
    "# https://www.asciitable.com/\n",
    "\n",
    "# Printable ASCII code is between 32 ~ 127 - a total of 96 characters\n",
    "\n",
    "def caesar_cipher(text,key=3):\n",
    "    if key > 96:\n",
    "        key %= 96\n",
    "    elif key < 0:\n",
    "        key += 96     \n",
    "    result = \"\"\n",
    "    # transverse the plain text\n",
    "    for char in text:\n",
    "        result += chr((ord(char) - 32 + key) % 96 + 32)\n",
    "    return result\n",
    "\n",
    "def caesar_decipher(code,key=3):\n",
    "    if key > 96:\n",
    "        key %= 96\n",
    "    elif key < 0:\n",
    "        key += 96     \n",
    "    result = \"\"\n",
    "    # decoding message\n",
    "    for char in code:\n",
    "        result += chr((ord(char) - 32 + 96 - key) % 96 + 32)\n",
    "    return result"
   ]
  },
  {
   "cell_type": "code",
   "execution_count": 191,
   "id": "78458af0-9776-4411-882d-52794d2a267c",
   "metadata": {},
   "outputs": [],
   "source": [
    "# Version 2 of Caesar Cipher - original Caesar Cipher without encoding punctations\n",
    "\n",
    "def caesar_cipher2(text,key=3):\n",
    "    if key > 26:\n",
    "        key %= 26\n",
    "    elif key < 0:\n",
    "        key += 26     \n",
    "    \n",
    "    result = \"\"\n",
    "    # transverse the plain text\n",
    "    a_num = ord('a')\n",
    "    A_num = ord('A')\n",
    "    lower_case = range(a_num, a_num+26)\n",
    "    upper_case = range(A_num,A_num+26)\n",
    "    for char in text:\n",
    "        num = ord(char)\n",
    "        if num in lower_case:\n",
    "            result += chr((num - a_num + key) % 26 + a_num)\n",
    "        elif num in upper_case:\n",
    "            result += chr((num - A_num + key) % 26 + A_num)\n",
    "        else:\n",
    "            result +=char\n",
    "    return result\n",
    "\n",
    "def caesar_decipher2(code,key=3):\n",
    "    if key > 26:\n",
    "        key %= 26\n",
    "    elif key < 0:\n",
    "        key += 26         \n",
    "    result = \"\"\n",
    "    # decoding message\n",
    "    a_num = ord('a')\n",
    "    A_num = ord('A')\n",
    "    lower_case = range(a_num, a_num+26)\n",
    "    upper_case = range(A_num,A_num+26)\n",
    "    for char in code:\n",
    "        num = ord(char)\n",
    "        if num in lower_case:\n",
    "            result += chr((num - a_num + 26 - key) % 26 + a_num)\n",
    "        elif num in upper_case:\n",
    "            result += chr((num - A_num + 26 - key) % 26 + A_num)\n",
    "        else:\n",
    "            result +=char\n",
    "    return result"
   ]
  },
  {
   "cell_type": "code",
   "execution_count": 188,
   "id": "efd27d4c-f9c8-4b9c-8ef5-c57ae3c69f61",
   "metadata": {},
   "outputs": [
    {
     "name": "stdout",
     "output_type": "stream",
     "text": [
      "Plain message: Hello ACSL Students!\n",
      "Encoded message: Khoor#DFVO#Vwxghqwv$\n",
      "Decoded message: Hello ACSL Students!\n"
     ]
    }
   ],
   "source": [
    "plain_msg = \"Hello ACSL Students!\"\n",
    "key = 3\n",
    "print(\"Plain message:\", plain_msg)\n",
    "coded_msg=caesar_cipher0(plain_msg, key=key)\n",
    "print(\"Encoded message:\",coded_msg)\n",
    "print(\"Decoded message:\", caesar_decipher0(coded_msg, key=key))"
   ]
  },
  {
   "cell_type": "code",
   "execution_count": 189,
   "id": "2979aa9a-f066-4550-9e34-deb114bcf237",
   "metadata": {},
   "outputs": [
    {
     "name": "stdout",
     "output_type": "stream",
     "text": [
      "Plain message: Hello ACSL Students!\n",
      "Encoded message: f\u0003\n",
      "\n",
      ">_aqj>q\u0012\u0013\u0002\u0003\f",
      "\u0012\u0011?\n",
      "Decoded message: Hello ACSL Students!\n"
     ]
    }
   ],
   "source": [
    "plain_msg = \"Hello ACSL Students!\"\n",
    "key = 30\n",
    "print(\"Plain message:\", plain_msg)\n",
    "coded_msg=caesar_cipher0(plain_msg, key=key)\n",
    "print(\"Encoded message:\",coded_msg)\n",
    "print(\"Decoded message:\", caesar_decipher0(coded_msg, key=key))"
   ]
  },
  {
   "cell_type": "code",
   "execution_count": 192,
   "id": "63153806-d2cb-4e28-a1eb-220e5210ee7d",
   "metadata": {},
   "outputs": [
    {
     "name": "stdout",
     "output_type": "stream",
     "text": [
      "Plain message: Hello ACSL Students!\n",
      "Encoded message: Khoor#DFVO#Vwxghqwv$\n",
      "Decoded message: Hello ACSL Students!\n"
     ]
    }
   ],
   "source": [
    "plain_msg = \"Hello ACSL Students!\"\n",
    "key = 3\n",
    "print(\"Plain message:\", plain_msg)\n",
    "coded_msg=caesar_cipher(plain_msg, key=key)\n",
    "print(\"Encoded message:\",coded_msg)\n",
    "print(\"Decoded message:\", caesar_decipher(coded_msg, key=key))"
   ]
  },
  {
   "cell_type": "code",
   "execution_count": 194,
   "id": "93026afd-e7df-41c8-b491-da5b801c6041",
   "metadata": {},
   "outputs": [
    {
     "name": "stdout",
     "output_type": "stream",
     "text": [
      "Plain message: Hello ACSL Students!\n",
      "Encoded message: Khoor DFVO Vwxghqwv!\n",
      "Decoded message: Hello ACSL Students!\n"
     ]
    }
   ],
   "source": [
    "key = 3\n",
    "print(\"Plain message:\", plain_msg)\n",
    "coded_msg=caesar_cipher2(plain_msg, key=key)\n",
    "print(\"Encoded message:\",coded_msg)\n",
    "print(\"Decoded message:\", caesar_decipher2(coded_msg, key=key))"
   ]
  },
  {
   "cell_type": "code",
   "execution_count": 195,
   "id": "8b13044c-0aa5-4275-b420-a61c9aa63cf7",
   "metadata": {},
   "outputs": [
    {
     "name": "stdout",
     "output_type": "stream",
     "text": [
      "Plain message: Hello ACSL Students!\n",
      "Encoded message: Mjqqt%FHXQ%Xyzijsyx&\n",
      "Decoded message: Hello ACSL Students!\n"
     ]
    }
   ],
   "source": [
    "key = 5\n",
    "print(\"Plain message:\", plain_msg)\n",
    "coded_msg=caesar_cipher(plain_msg, key=key)\n",
    "print(\"Encoded message:\",coded_msg)\n",
    "print(\"Decoded message:\", caesar_decipher(coded_msg, key=key))"
   ]
  },
  {
   "cell_type": "code",
   "execution_count": 196,
   "id": "c8c1aac9-f2ed-4bc0-a854-4b60c1ff0a2e",
   "metadata": {},
   "outputs": [
    {
     "name": "stdout",
     "output_type": "stream",
     "text": [
      "Plain message: Hello ACSL Students!\n",
      "Encoded message: Mjqqt FHXQ Xyzijsyx!\n",
      "Decoded message: Hello ACSL Students!\n"
     ]
    }
   ],
   "source": [
    "key = 5\n",
    "print(\"Plain message:\", plain_msg)\n",
    "coded_msg=caesar_cipher2(plain_msg, key=key)\n",
    "print(\"Encoded message:\",coded_msg)\n",
    "print(\"Decoded message:\", caesar_decipher2(coded_msg, key=key))"
   ]
  },
  {
   "cell_type": "code",
   "execution_count": 197,
   "id": "fc85e6e7-7cde-499f-9eb6-50dfb4b7eff8",
   "metadata": {},
   "outputs": [
    {
     "name": "stdout",
     "output_type": "stream",
     "text": [
      "Plain message: Hello ACSL Students!\n",
      "Encoded message: c ''*;\\^ng;n/0 )/.<\n",
      "Decoded message: Hello ACSL Students!\n"
     ]
    }
   ],
   "source": [
    "key = 27\n",
    "print(\"Plain message:\", plain_msg)\n",
    "coded_msg=caesar_cipher(plain_msg, key=key)\n",
    "print(\"Encoded message:\",coded_msg)\n",
    "print(\"Decoded message:\", caesar_decipher(coded_msg, key=key))"
   ]
  },
  {
   "cell_type": "code",
   "execution_count": 198,
   "id": "7b48ad1b-c2a3-4541-bbb1-45e5c1c0d040",
   "metadata": {},
   "outputs": [
    {
     "name": "stdout",
     "output_type": "stream",
     "text": [
      "Plain message: Hello ACSL Students!\n",
      "Encoded message: Ifmmp BDTM Tuvefout!\n",
      "Decoded message: Hello ACSL Students!\n"
     ]
    }
   ],
   "source": [
    "key = 27\n",
    "print(\"Plain message:\", plain_msg)\n",
    "coded_msg=caesar_cipher2(plain_msg, key=key)\n",
    "print(\"Encoded message:\",coded_msg)\n",
    "print(\"Decoded message:\", caesar_decipher2(coded_msg, key=key))"
   ]
  },
  {
   "cell_type": "code",
   "execution_count": 199,
   "id": "7ef74f96-8e8b-419f-aff0-6e70f4cd81ff",
   "metadata": {},
   "outputs": [
    {
     "name": "stdout",
     "output_type": "stream",
     "text": [
      "Plain message: Hello ACSL Students!\n",
      "Encoded message: f#**->_aqj>q23\"#,21?\n",
      "Decoded message: Hello ACSL Students!\n"
     ]
    }
   ],
   "source": [
    "plain_msg = \"Hello ACSL Students!\"\n",
    "key = 30\n",
    "print(\"Plain message:\", plain_msg)\n",
    "coded_msg=caesar_cipher(plain_msg, key=key)\n",
    "print(\"Encoded message:\",coded_msg)\n",
    "print(\"Decoded message:\", caesar_decipher(coded_msg, key=key))"
   ]
  },
  {
   "cell_type": "code",
   "execution_count": 200,
   "id": "1c949b04-73af-4651-b520-5383943d2110",
   "metadata": {},
   "outputs": [
    {
     "name": "stdout",
     "output_type": "stream",
     "text": [
      "Plain message: Hello ACSL Students!\n",
      "Encoded message: Fcjjm~?AQJ~Qrsbclrq\n",
      "Decoded message: Hello ACSL Students!\n"
     ]
    }
   ],
   "source": [
    "key = -2\n",
    "print(\"Plain message:\", plain_msg)\n",
    "coded_msg=caesar_cipher(plain_msg, key=key)\n",
    "print(\"Encoded message:\",coded_msg)\n",
    "print(\"Decoded message:\", caesar_decipher(coded_msg, key=key))"
   ]
  },
  {
   "cell_type": "code",
   "execution_count": 201,
   "id": "ad0e887b-bbd5-4bd8-86be-ed8e0900460f",
   "metadata": {},
   "outputs": [
    {
     "name": "stdout",
     "output_type": "stream",
     "text": [
      "Plain message: Hello ACSL Students!\n",
      "Encoded message: Fcjjm YAQJ Qrsbclrq!\n",
      "Decoded message: Hello ACSL Students!\n"
     ]
    }
   ],
   "source": [
    "key = -2\n",
    "print(\"Plain message:\", plain_msg)\n",
    "coded_msg=caesar_cipher2(plain_msg, key=key)\n",
    "print(\"Encoded message:\",coded_msg)\n",
    "print(\"Decoded message:\", caesar_decipher2(coded_msg, key=key))"
   ]
  },
  {
   "cell_type": "markdown",
   "id": "01ff480e-a3ee-4655-ada0-aba3cb94ad46",
   "metadata": {},
   "source": [
    "## 3) Transposition Cipher\n",
    "\n",
    "<b>Transposition Cipher</b>  \n",
    "\n",
    "Transposition Cipher is a cryptographic algorithm where the order of alphabets in the plaintext is rearranged to form a cipher text. In this process, the actual plain text alphabets are not included.\n",
    "\n",
    "Example\n",
    "\n",
    "A simple example for a transposition cipher is columnar transposition cipher where each character in the plain text is written horizontally with specified alphabet width. The cipher is written vertically, which creates an entirely different cipher text.\n",
    "\n",
    "Consider the plain text \"hello world\", and let us apply the simple columnar transposition technique:\n",
    "\n",
    "    hell\n",
    "    owor\n",
    "    ld\n",
    "\n",
    "Columnar Transposition\n",
    "The plain text characters are placed horizontally and the cipher text is created with vertical format as: \n",
    "    holewdlo lr. \n",
    "Now, the receiver has to use the same table to decrypt the cipher text to plain text."
   ]
  },
  {
   "cell_type": "code",
   "execution_count": 119,
   "id": "92356158-b224-481e-86a4-51db450d5da6",
   "metadata": {},
   "outputs": [],
   "source": [
    "def split_len(seq, length):\n",
    "   return [seq[i:i+length] for i in range(0, len(seq), length)]\n",
    "\n",
    "def transp_cipher(plaintext,key):\n",
    "    key = str(key)\n",
    "    order = {int(val): num for num, val in enumerate(key)}\n",
    "    ciphertext = ''\n",
    "\n",
    "    for index in sorted(order.keys()):\n",
    "        for part in split_len(plaintext, len(key)):\n",
    "            try:\n",
    "                ciphertext += part[order[index]]\n",
    "            except IndexError:\n",
    "                continue\n",
    "    return ciphertext"
   ]
  },
  {
   "cell_type": "code",
   "execution_count": 120,
   "id": "efb3f514-2ac7-4b28-ade1-89c4a3eef2da",
   "metadata": {},
   "outputs": [
    {
     "name": "stdout",
     "output_type": "stream",
     "text": [
      "Plain message: Hello ACSL Students!\n",
      "Encoded message: eoC un!HlALtesl SSdt\n"
     ]
    }
   ],
   "source": [
    "plain_msg = \"Hello ACSL Students!\"\n",
    "key = 214\n",
    "print(\"Plain message:\", plain_msg)\n",
    "coded_msg=transp_cipher(plain_msg, key)\n",
    "print(\"Encoded message:\",coded_msg)"
   ]
  },
  {
   "cell_type": "markdown",
   "id": "23e1f1be-0eae-4fcb-9e6b-8b66eca01804",
   "metadata": {},
   "source": [
    "## Fibonacci Cipher - ACSL 2022 Contest #2"
   ]
  },
  {
   "cell_type": "code",
   "execution_count": 202,
   "id": "01e0edbf-8eb1-490b-9d7a-9ea4f4d81454",
   "metadata": {},
   "outputs": [],
   "source": [
    "# Fibonacci Sequence Array\n",
    " \n",
    "def fibonacci_sequence(n):\n",
    "    fib = [0]* n\n",
    "    fib[0], fib[1] = 1, 2\n",
    "    for i in range(2,n):\n",
    "        fib[i] = fib[i-1] + fib[i-2]\n",
    "    return fib"
   ]
  },
  {
   "cell_type": "code",
   "execution_count": 204,
   "id": "8cb75ed6-257d-4693-ad48-dfd0c3f1aa96",
   "metadata": {},
   "outputs": [
    {
     "name": "stdout",
     "output_type": "stream",
     "text": [
      "[1, 2, 3, 5, 8, 13, 21, 34, 55, 89, 144, 233, 377, 610, 987, 1597, 2584, 4181, 6765, 10946, 17711, 28657, 46368, 75025, 121393, 196418, 317811, 514229, 832040, 1346269]\n"
     ]
    }
   ],
   "source": [
    "fib_array = fibonacci_sequence(30)\n",
    "print(fib_array)"
   ]
  },
  {
   "cell_type": "code",
   "execution_count": 205,
   "id": "9804fb98-a718-4d76-a580-c64163413224",
   "metadata": {},
   "outputs": [
    {
     "data": {
      "text/plain": [
       "8"
      ]
     },
     "execution_count": 205,
     "metadata": {},
     "output_type": "execute_result"
    }
   ],
   "source": [
    "fib_array[4]"
   ]
  },
  {
   "cell_type": "code",
   "execution_count": 171,
   "id": "e4ce2b59-db86-422c-9b11-9e1a8f43ff28",
   "metadata": {},
   "outputs": [],
   "source": [
    "def fibonacci_cipher(msg, key):\n",
    "    result = \"\"\n",
    "    l = len(msg)\n",
    "    fib = fibonacci_sequence(l)\n",
    "    \n",
    "    for i in range(l):\n",
    "        result  +=\" \" + str((ord(key) - 97 + fib[i]) % 26 + 97 + ord(msg[i]))\n",
    "    return result.strip()\n"
   ]
  },
  {
   "cell_type": "code",
   "execution_count": 172,
   "id": "dbd63be5-f2df-4e14-87dd-aaeb26a22cfc",
   "metadata": {},
   "outputs": [
    {
     "name": "stdout",
     "output_type": "stream",
     "text": [
      "170 173 190 185 144 216 149\n"
     ]
    }
   ],
   "source": [
    "msg = \"ACSL c2\"\n",
    "key = \"h\"\n",
    "print(fibonacci_cipher(msg,key))"
   ]
  },
  {
   "cell_type": "code",
   "execution_count": 173,
   "id": "ad6073aa-4c03-4d8c-af2a-bd2b81b1a8b2",
   "metadata": {},
   "outputs": [
    {
     "name": "stdout",
     "output_type": "stream",
     "text": [
      "196 238 234 224 208 212 142 177 232 211 206 228 199 210 223 205 209 213\n"
     ]
    }
   ],
   "source": [
    "msg = \"Python Programming\"\n",
    "key = \"s\"\n",
    "print(fibonacci_cipher(msg,key))"
   ]
  },
  {
   "cell_type": "code",
   "execution_count": 174,
   "id": "82ddac78-fcf3-4b87-86e1-5389b6842583",
   "metadata": {},
   "outputs": [
    {
     "name": "stdout",
     "output_type": "stream",
     "text": [
      "168 204 198 213 215 207 217 204 205 140 189 239 219 207 223 222 222\n"
     ]
    }
   ],
   "source": [
    "msg = \"Fibonacci Numbers\"\n",
    "key = \"a\"\n",
    "print(fibonacci_cipher(msg,key))"
   ]
  },
  {
   "cell_type": "code",
   "execution_count": 206,
   "id": "8a4c9066-42ba-4ce0-9139-5aa9d45c78e9",
   "metadata": {},
   "outputs": [
    {
     "name": "stdout",
     "output_type": "stream",
     "text": [
      "1. 170 173 190 185 144 216 149\n",
      "2. 196 238 234 224 208 212 142 177 232 211 206 228 199 210 223 205 209 213\n",
      "3. 168 204 198 213 215 207 217 204 205 140 189 239 219 207 223 222 222\n",
      "4. 179 209 217 223 146 196 170 147\n",
      "5. 170 214 131 206 219 141 174 162 150 155 142 226 219 140 237 211 207 149 210 233 215 211 211 221 224 156\n"
     ]
    }
   ],
   "source": [
    "inputs = [\"h ACSL c2\", \"s Python Programming\",\"a Fibonacci Numbers\",\"j Help ME!\", \"z It is 9:30 in the morning.\"]\n",
    "i = 0\n",
    "for input in inputs:\n",
    "    i +=1\n",
    "    key = input[0]\n",
    "    msg = input[2:]\n",
    "    print(f\"{i}. {fibonacci_cipher(msg,key)}\")"
   ]
  },
  {
   "cell_type": "code",
   "execution_count": 180,
   "id": "d238491f-4c4a-41a4-bb3c-eb440d63ddde",
   "metadata": {},
   "outputs": [
    {
     "name": "stdout",
     "output_type": "stream",
     "text": [
      "1. 170 173 190 185 144 184 210 222 223 216 233 219 149 166\n",
      "2. 176 197 201 200 215 155 151 179 140 218 144 162 211 207 206 142\n",
      "3. 172 196 218 199 137 222 232 216 203 222 208 231 225 141 219 222 208 150 218 201 203 134 205 213 237 227 156\n",
      "4. 188 206 200 221 140 210 235 209 135 230 215 131 227 213 196 219 218 242 137 200 216 210 220 218 162\n",
      "5. 188 209 211 223 143 221 213 143 222 218 218 134 186 220 200 225 223 195 207 202 213 140 180 239 214 221 217 218 150\n"
     ]
    }
   ],
   "source": [
    "inputs =  [\"h ACSL Contest 2\", \"b Madam, I'm Adam!\", \"a Java programs are the best.\", \"d What are we really doing?\", \"g This is the Fibonacci Cypher!\"]\n",
    "i = 0\n",
    "for input in inputs:\n",
    "    i +=1\n",
    "    key = input[0]\n",
    "    msg = input[2:]\n",
    "    print(f\"{i}. {fibonacci_cipher(msg,key)}\")           "
   ]
  },
  {
   "cell_type": "markdown",
   "id": "280e537f-f061-4401-89d8-8f4b7da5109d",
   "metadata": {},
   "source": [
    "# Binary Cipher\n",
    "\n",
    "Encoded a message in binary only"
   ]
  },
  {
   "cell_type": "code",
   "execution_count": 211,
   "id": "0f100523-4a3e-4a50-b171-548e5f8883e7",
   "metadata": {},
   "outputs": [
    {
     "name": "stdout",
     "output_type": "stream",
     "text": [
      "104\n",
      "0b1101000\n"
     ]
    }
   ],
   "source": [
    "num = ord('h')\n",
    "print(num)\n",
    "bi_num = bin(num)\n",
    "print(bi_num)\n"
   ]
  },
  {
   "cell_type": "code",
   "execution_count": 212,
   "id": "1627cd8e-1cbd-4980-b7a1-1056821d2a7b",
   "metadata": {},
   "outputs": [
    {
     "data": {
      "text/plain": [
       "'01101000'"
      ]
     },
     "execution_count": 212,
     "metadata": {},
     "output_type": "execute_result"
    }
   ],
   "source": [
    "bi_num[2:].zfill(8)"
   ]
  },
  {
   "cell_type": "code",
   "execution_count": 213,
   "id": "b48b4a17-fb4e-49c0-98be-efe768f053d2",
   "metadata": {},
   "outputs": [],
   "source": [
    "def bin_cipher(text,key=3):\n",
    "    if key > 96:\n",
    "        key %= 96\n",
    "    elif key < 0:\n",
    "        key += 96     \n",
    "    result = \"\"\n",
    "    # transverse the plain text\n",
    "    for char in text:\n",
    "            result += bin((ord(char) - 32 + key) % 96 + 32)[2:].zfill(8)\n",
    "    return result"
   ]
  },
  {
   "cell_type": "code",
   "execution_count": 214,
   "id": "38038256-7c4c-4248-a0f1-ea5122c14230",
   "metadata": {},
   "outputs": [
    {
     "name": "stdout",
     "output_type": "stream",
     "text": [
      "01000001010000110101001101001100\n"
     ]
    }
   ],
   "source": [
    "msg = \"ACSL\"\n",
    "key = 0\n",
    "print(bin_cipher(msg, key=key))"
   ]
  },
  {
   "cell_type": "markdown",
   "id": "29d146e1-0ec1-4e39-a2cc-1afbef80cb6b",
   "metadata": {},
   "source": [
    "# Multiplicative Cipher"
   ]
  },
  {
   "cell_type": "markdown",
   "id": "5fc7eadc-69e8-490e-9121-4a6a9dfe6137",
   "metadata": {},
   "source": [
    "While using Caesar cipher technique, encrypting and decrypting symbols involves converting the values into numbers with a simple basic procedure of addition or subtraction.\n",
    "\n",
    "The numbers will be used for multiplication procedure and the associated key is 7. The basic formula to be used in such a scenario to generate a multiplicative cipher is as follows −\n",
    "\n",
    "- (alphabet Number * key) mod (total number of alphabets)\n"
   ]
  },
  {
   "cell_type": "code",
   "execution_count": 215,
   "id": "98f37a92-f368-4890-aa1a-101763617e88",
   "metadata": {},
   "outputs": [],
   "source": [
    "def multiplicative_cipher(text, key):\n",
    "    if len(key) > 1:\n",
    "        key1, key2 = key.split()\n",
    "        key1 = int(key1)\n",
    "        key2 = int(key2)\n",
    "    else:\n",
    "        key1, key2 = key, 0\n",
    "    res = \"\"\n",
    "    for c in text:\n",
    "        value = key1*(ord(c) - 32 + key2) % 96 + 32\n",
    "        res +=chr(value)\n",
    "    return res"
   ]
  },
  {
   "cell_type": "code",
   "execution_count": 216,
   "id": "a1b6c539-2d1e-490d-9a34-c5c5820872ea",
   "metadata": {},
   "outputs": [
    {
     "name": "stdout",
     "output_type": "stream",
     "text": [
      "t~nK/nSXch5SN4\n"
     ]
    }
   ],
   "source": [
    "msg = \"ACSL Students!\"\n",
    "key = \"5 3\"\n",
    "coded_msg = multiplicative_cipher(msg, key)\n",
    "print(coded_msg)"
   ]
  },
  {
   "cell_type": "code",
   "execution_count": 149,
   "id": "2aa03785-9867-4f81-92de-ae4a0bde1c29",
   "metadata": {},
   "outputs": [],
   "source": [
    "# Extended Euclidean Algorithm for finding modular inverse\n",
    "# eg: mod_inverse(7, 26) = 15\n",
    "def euclidean_sub(a, b):\n",
    "    x,y, u,v = 0,1, 1,0\n",
    "    while a != 0:\n",
    "        q, r = b//a, b%a\n",
    "        m, n = x-u*q, y-v*q\n",
    "        b,a, x,y, u,v = a,r, u,v, m,n\n",
    "    gcd = b\n",
    "    return gcd, x, y\n",
    " \n",
    "def mod_inverse(a, m):\n",
    "    gcd, x, y = euclidean_sub(a, m)\n",
    "    if gcd != 1:\n",
    "        return None  # modular inverse does not exist\n",
    "    else:\n",
    "        return x % m\n"
   ]
  },
  {
   "cell_type": "code",
   "execution_count": 194,
   "id": "683de527-e22b-4d5f-a421-bf831c0ed0a6",
   "metadata": {},
   "outputs": [],
   "source": [
    "\n",
    "def affine_mod(n, key):\n",
    "    m = (( key[0]*(n - ord('A')) + key[1] ) % 26) + ord('A')\n",
    "    return m\n",
    "def affine_mod_inverse(m, key):\n",
    "    inverse = mod_inverse(key[0], 26)\n",
    "    if inverse:  \n",
    "        n = (( mod_inverse(key[0], 26)*(m- ord('A') - key[1])) % 26) + ord('A')\n",
    "    return n"
   ]
  },
  {
   "cell_type": "code",
   "execution_count": 195,
   "id": "2b0ab26b-495a-42af-99d8-49886f193ce6",
   "metadata": {},
   "outputs": [
    {
     "name": "stdout",
     "output_type": "stream",
     "text": [
      "B\n",
      "66\n",
      "73\n",
      "66\n",
      "B\n"
     ]
    }
   ],
   "source": [
    "key = [3, 5]\n",
    "c = 'B'\n",
    "print(c)\n",
    "n = ord(c)\n",
    "print(n)\n",
    "m = affine_mod(n, key)\n",
    "print(m)\n",
    "m_inverse = affine_mod_inverse(m, key)\n",
    "print(m_inverse)\n",
    "print(chr(m_inverse))"
   ]
  },
  {
   "cell_type": "code",
   "execution_count": 205,
   "id": "a9de9994-cb1d-4c86-81f6-c87133e7dd94",
   "metadata": {},
   "outputs": [],
   "source": [
    "\n",
    "# affine cipher encryption function\n",
    "# returns the cipher text\n",
    "def affine_encrypt(text, key):\n",
    "    '''\n",
    "    C = (a*P + b) % 26\n",
    "    '''\n",
    "    res = \"\"\n",
    "    for c in text:\n",
    "        res +=chr(affine_mod(ord(c), key))\n",
    "    return res\n",
    " \n",
    " \n",
    "# affine cipher decryption function\n",
    "# returns original text\n",
    "def affine_decrypt(cipher, key):\n",
    "    '''\n",
    "    P = (a^-1 * (C - b)) % 26\n",
    "    '''\n",
    "    res = \"\"\n",
    "    for c in cipher:\n",
    "        res += chr(affine_mod_inverse(ord(c), key))\n",
    "    return res\n",
    "\n",
    " \n",
    "def affine_cipher(text, key):\n",
    "  \n",
    "    text = text.upper()\n",
    "    encrypted_list = []\n",
    "    for word in text.split(' '):\n",
    "        encrypted_text=affine_encrypt(word, key)\n",
    "        encrypted_list.append(encrypted_text)\n",
    "    return ' '.join(encrypted_list)\n",
    "\n",
    "\n",
    "def affine_decipher(text, key):\n",
    "    decrypted_list = []\n",
    "    for word in text.split(' '):\n",
    "        decrypted_text=affine_decrypt(word, key)\n",
    "        decrypted_list.append(decrypted_text)\n",
    "    return ' '.join(decrypted_list)\n",
    "    "
   ]
  },
  {
   "cell_type": "code",
   "execution_count": 209,
   "id": "e3df230c-22ee-47d7-8921-dcd1c7a05723",
   "metadata": {},
   "outputs": [
    {
     "name": "stdout",
     "output_type": "stream",
     "text": [
      "Plain Text: Hello ACSL Students\n",
      "Encrypted Text: JKZZY UCOZ OFWTKHFO\n",
      "Decrypted Text: HELLO ACSL STUDENTS\n"
     ]
    }
   ],
   "source": [
    "text = 'Hello ACSL Students'\n",
    "key = [17, 20]\n",
    "\n",
    "# calling encryption function\n",
    "encrypted_text = affine_cipher(text, key)\n",
    "\n",
    "print(f'Plain Text: {text}')\n",
    "print(f'Encrypted Text: {encrypted_text}')\n",
    "\n",
    "# calling decryption function\n",
    "decrypted_text = affine_decipher(encrypted_text, key)\n",
    "print(f'Decrypted Text: {decrypted_text}')"
   ]
  },
  {
   "cell_type": "code",
   "execution_count": null,
   "id": "e5813fd9-62a2-4dcb-9500-7b8ef80b7b49",
   "metadata": {},
   "outputs": [],
   "source": []
  }
 ],
 "metadata": {
  "kernelspec": {
   "display_name": "Python 3 (ipykernel)",
   "language": "python",
   "name": "python3"
  },
  "language_info": {
   "codemirror_mode": {
    "name": "ipython",
    "version": 3
   },
   "file_extension": ".py",
   "mimetype": "text/x-python",
   "name": "python",
   "nbconvert_exporter": "python",
   "pygments_lexer": "ipython3",
   "version": "3.9.12"
  }
 },
 "nbformat": 4,
 "nbformat_minor": 5
}

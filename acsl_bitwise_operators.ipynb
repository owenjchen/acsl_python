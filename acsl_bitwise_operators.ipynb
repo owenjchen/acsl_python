{
 "cells": [
  {
   "cell_type": "markdown",
   "id": "3d6fa540-33e8-49b6-992c-2b08912be3ce",
   "metadata": {},
   "source": [
    "# Bitwise Operations in Python"
   ]
  },
  {
   "cell_type": "markdown",
   "id": "6035c71c-cae6-4332-a035-f5a1bc1504e9",
   "metadata": {},
   "source": [
    "\n",
    "| OPERATOR | DESCRIPTION | SYNTAX | \n",
    "| ----------- | ----------- |  ----------- |  \n",
    "| \\&      | Bitwise AND | x \\& y | \n",
    "| \\|      | Bitwise OR | x \\| y | \n",
    "| ~ | Bitwise NOT | ~x  |\n",
    "| ^ | Bitwise XOR | x ^ y |  \n",
    "|  \\>> | Bitwise right shift | x>>  |\n",
    "|  \\<< | Bitwise left shift | x<<  |"
   ]
  },
  {
   "cell_type": "markdown",
   "id": "c6810a42-0fde-44f3-a23d-081afc86959c",
   "metadata": {},
   "source": [
    "## \\&\tBitwise AND\tx & y\n",
    "\n",
    "### Bitwise AND operator Returns 1 if both the bits are 1 else 0."
   ]
  },
  {
   "cell_type": "code",
   "execution_count": 16,
   "id": "53084ec3-4185-4a78-b18a-8965fabf1f39",
   "metadata": {},
   "outputs": [
    {
     "name": "stdout",
     "output_type": "stream",
     "text": [
      "8 & 7 = 0\n",
      "In binary: 0b1000 & 0b111 = 0b0\n"
     ]
    }
   ],
   "source": [
    "x = 8\n",
    "y = 7\n",
    "z = x & y \n",
    "print (f\"{x} & {y} = {z}\")\n",
    "print(f\"In binary: {bin(x)} & {bin(y)} = {bin(z)}\")"
   ]
  },
  {
   "cell_type": "markdown",
   "id": "0612b2dd-3f0a-42a5-92f4-e2aaec97a9d8",
   "metadata": {},
   "source": [
    "## \\|\tBitwise OR \tx | y\n",
    "\n",
    "### Bitwise or operator Returns 1 if either of the bit is 1 else 0."
   ]
  },
  {
   "cell_type": "code",
   "execution_count": 17,
   "id": "f583398e-e654-4f5d-a8c3-86f858fe1821",
   "metadata": {},
   "outputs": [
    {
     "name": "stdout",
     "output_type": "stream",
     "text": [
      "8 | 7 = 15\n",
      "In binary: 0b1000 | 0b111 = 0b1111\n"
     ]
    }
   ],
   "source": [
    "x = 8\n",
    "y = 7\n",
    "z = x | y \n",
    "print (f\"{x} | {y} = {z}\")\n",
    "print(f\"In binary: {bin(x)} | {bin(y)} = {bin(z)}\")"
   ]
  },
  {
   "cell_type": "markdown",
   "id": "0f425d8d-830e-49fe-9e77-777caa600a8c",
   "metadata": {},
   "source": [
    "## \\~\tBitwise NOT \t ~x\n",
    "\n",
    "### Bitwise NOT operator: Returns one’s complement of the number."
   ]
  },
  {
   "cell_type": "markdown",
   "id": "ecf67d95-5e04-4171-8e18-03a7e0c1526e",
   "metadata": {},
   "source": [
    "a = 10 = 1010 (Binary)\n",
    "\n",
    "In computers we ususally represent numbers using 32 bits,\n",
    "so binary representation of 10 is (....0000 1010)[32 bits]\n",
    "\n",
    "~a is basically 1's complement of a \n",
    "i.e ~a should be ~10 = ~(....0000 1010) = (....1111 0101) = intermediate-result\n",
    "\n",
    "Since bitwise negation inverts the sign bit,\n",
    "we now have a negative number. And we represent a negative number\n",
    "using 2's complement.\n",
    "\n",
    "2's complement of intermediate-result is:\n",
    "intermediate-res =  0101      //....1111 0101\n",
    "      \n",
    "                     1010      //....0000 1010 -(1's complement)\n",
    "                         +1    \n",
    "                 -----------\n",
    "                   =  1011      //....0000 1011\n",
    "                  -----------\n",
    "                   =   -11 (Decimal)\n",
    "                   \n",
    "thus ~a = -11"
   ]
  },
  {
   "cell_type": "code",
   "execution_count": 19,
   "id": "705fedb0-f5a6-4dcd-bb7f-a6353e908bd8",
   "metadata": {},
   "outputs": [
    {
     "name": "stdout",
     "output_type": "stream",
     "text": [
      "~10 = -11\n",
      "In binary: ~0b1010 = -0b1011\n"
     ]
    }
   ],
   "source": [
    "x = 10\n",
    "z = ~x \n",
    "print (f\"~{x} = {z}\")\n",
    "print(f\"In binary: ~{bin(x)} = {bin(z)}\")"
   ]
  },
  {
   "cell_type": "markdown",
   "id": "b5ce3ed1-55d6-4ecf-b829-0445cdcdcd2b",
   "metadata": {},
   "source": [
    "## ^\tBitwise XOR\tx ^ y\n",
    "\n",
    "### Bitwise XOR operator: Returns 1 if one of the bits is 1 and the other is 0 else returns false."
   ]
  },
  {
   "cell_type": "markdown",
   "id": "4b2b5f20-c165-409b-8ecd-3db3da935ec0",
   "metadata": {},
   "source": [
    "Example: \n",
    "\n",
    "x = 10 = 1010 (Binary)\n",
    "y = 4 =  0100 (Binary)\n",
    "\n",
    "x ^ y = 1010\n",
    "         ^\n",
    "        0100\n",
    "      = 1110\n",
    "      = 14 (Decimal)"
   ]
  },
  {
   "cell_type": "code",
   "execution_count": 23,
   "id": "a0448ae9-b298-4c23-95a6-d735e8a144c6",
   "metadata": {},
   "outputs": [
    {
     "name": "stdout",
     "output_type": "stream",
     "text": [
      "10 ^ 4 = 14\n",
      "In binary: 0b1010 ^ 0b100 = 0b1110\n"
     ]
    }
   ],
   "source": [
    "x = 10\n",
    "y = 4\n",
    "z = x ^ y \n",
    "print (f\"{x} ^ {y} = {z}\")\n",
    "print(f\"In binary: {bin(x)} ^ {bin(y)} = {bin(z)}\")"
   ]
  },
  {
   "cell_type": "code",
   "execution_count": 31,
   "id": "f8a64225-74ee-40da-91ff-5a8c1fb67213",
   "metadata": {},
   "outputs": [
    {
     "name": "stdout",
     "output_type": "stream",
     "text": [
      "x & y = 2\n",
      "x | y = 7\n",
      "~x = -7\n",
      "x ^ y = 5\n"
     ]
    }
   ],
   "source": [
    "# Another example\n",
    "x = 6\n",
    "y = 3\n",
    " \n",
    "# Print bitwise AND operation\n",
    "print(\"x & y =\", x & y)\n",
    " \n",
    "# Print bitwise OR operation\n",
    "print(\"x | y =\", x | y)\n",
    " \n",
    "# Print bitwise NOT operation\n",
    "print(\"~x =\", ~x)\n",
    " \n",
    "# print bitwise XOR operation\n",
    "print(\"x ^ y =\", x ^ y)"
   ]
  },
  {
   "cell_type": "markdown",
   "id": "01ea1a82-3818-4596-bbb5-7a9e4add319b",
   "metadata": {},
   "source": [
    "# Shift Operators\n",
    "These operators are used to shift the bits of a number left or right thereby multiplying or dividing the number by two respectively. \n",
    "They can be used when we have to multiply or divide a number by two. \n",
    "\n",
    "## Bitwise right shift: \n",
    "Shifts the bits of the number to the right and fills 0 on voids left( fills 1 in the case of a negative number) as a result. Similar effect as of dividing the number with some power of two.\n",
    "\n",
    "## Bitwise left shift: \n",
    "Shifts the bits of the number to the left and fills 0 on voids right as a result. Similar effect as of multiplying the number with some power of two.\n"
   ]
  },
  {
   "cell_type": "markdown",
   "id": "b5935bb9-ff6d-472b-9064-6e0ca5e65203",
   "metadata": {},
   "source": [
    "--Example 1:\n",
    "\n",
    "a = 10 = 0000 1010 (Binary)\n",
    "\n",
    "a >> 1 = 0000 0101 = 5\n",
    "\n",
    "*Example 2:\n",
    "\n",
    "a = -10 = 1111 0110 (Binary)\n",
    "\n",
    "a >> 1 = 1111 1011 = -5 \n",
    "\n",
    "\n",
    "-Example 3:\n",
    "\n",
    "a = 5 = 0000 0101 (Binary)\n",
    "\n",
    "a << 1 = 0000 1010 = 10\n",
    "\n",
    "a << 2 = 0001 0100 = 20 \n",
    "\n",
    "-Example 4:\n",
    "\n",
    "b = -10 = 1111 0110 (Binary)\n",
    "\n",
    "b << 1 = 1110 1100 = -20\n",
    "\n",
    "b << 2 = 1101 1000 = -40 \n"
   ]
  },
  {
   "cell_type": "code",
   "execution_count": null,
   "id": "47ade407-e146-4d7a-b8a9-d47d1f286ba1",
   "metadata": {},
   "outputs": [],
   "source": []
  }
 ],
 "metadata": {
  "kernelspec": {
   "display_name": "Python 3 (ipykernel)",
   "language": "python",
   "name": "python3"
  },
  "language_info": {
   "codemirror_mode": {
    "name": "ipython",
    "version": 3
   },
   "file_extension": ".py",
   "mimetype": "text/x-python",
   "name": "python",
   "nbconvert_exporter": "python",
   "pygments_lexer": "ipython3",
   "version": "3.9.13"
  }
 },
 "nbformat": 4,
 "nbformat_minor": 5
}

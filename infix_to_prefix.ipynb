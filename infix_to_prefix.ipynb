{
 "cells": [
  {
   "cell_type": "markdown",
   "id": "bc882892-97f0-4266-80b3-8a3b68d0bb89",
   "metadata": {},
   "source": [
    "## Python Program to convert Infix to Prefix"
   ]
  },
  {
   "cell_type": "code",
   "execution_count": 16,
   "id": "9bceb425-50e3-45a3-8e2c-71f7ebff402d",
   "metadata": {},
   "outputs": [],
   "source": [
    "# Python3 program to convert infix to prefix.\n",
    "\n",
    "# Function to check if\n",
    "# given character is\n",
    "# an operator or not.\n",
    "Operators = set(['+', '-', '*', '/', '(', ')', '^'])  # collection of Operators\n",
    "Priority = {'+':1, '-':1, '*':2, '/':2, '^':3} # dictionary having priorities of Operators\n",
    "\n",
    "def is_operator(c):\n",
    "    return (c in Operators)\n",
    "\n",
    "# Function to find priority\n",
    "# of given operator.\n",
    "def get_priority(C):\n",
    "    if (C == '-' or C == '+'):\n",
    "        return 1\n",
    "    elif (C == '*' or C == '/'):\n",
    "        return 2\n",
    "    elif (C == '^'):\n",
    "        return 3\n",
    "    return 0\n",
    "\n",
    "\n",
    "\n",
    "# Function that converts infix\n",
    "# expression to prefix expression.\n",
    "def infix_to_prefix(infix):\n",
    "    # stack for operators.\n",
    "    operators = []\n",
    "\n",
    "    # stack for operands.\n",
    "    operands = []\n",
    "\n",
    "    for i in range(len(infix)):\n",
    "        # If current character is an\n",
    "        # opening bracket, then\n",
    "        # push into the operators stack.\n",
    "        if (infix[i] == '('):\n",
    "            operators.append(infix[i])\n",
    "\n",
    "        # If current character is a\n",
    "        # closing bracket, then pop from\n",
    "        # both stacks and push result\n",
    "        # in operands stack until\n",
    "        # matching opening bracket is\n",
    "        # not found.\n",
    "        elif (infix[i] == ')'):\n",
    "            while (len(operators)!=0 and operators[-1] != '('):\n",
    "                # operand 1\n",
    "                op1 = operands[-1]\n",
    "                operands.pop()\n",
    "\n",
    "                # operand 2\n",
    "                op2 = operands[-1]\n",
    "                operands.pop()\n",
    "\n",
    "                # operator\n",
    "                op = operators[-1]\n",
    "                operators.pop()\n",
    "\n",
    "                # Add operands and operator\n",
    "                # in form operator +\n",
    "                # operand1 + operand2.\n",
    "                tmp = op + op2 + op1\n",
    "                operands.append(tmp)\n",
    "\n",
    "            # Pop opening bracket\n",
    "            # from stack.\n",
    "            operators.pop()\n",
    "\n",
    "        # If current character is an\n",
    "        # operand then push it into\n",
    "        # operands stack.\n",
    "        elif (not is_operator(infix[i])):\n",
    "            operands.append(infix[i] + \"\")\n",
    "\n",
    "        # If current character is an\n",
    "        # operator, then push it into\n",
    "        # operators stack after popping\n",
    "        # high priority operators from\n",
    "        # operators stack and pushing\n",
    "        # result in operands stack.\n",
    "        else:\n",
    "            while (len(operators)!=0 and get_priority(infix[i]) <= get_priority(operators[-1])):\n",
    "                op1 = operands[-1]\n",
    "                operands.pop()\n",
    "\n",
    "                op2 = operands[-1]\n",
    "                operands.pop()\n",
    "\n",
    "                op = operators[-1]\n",
    "                operators.pop()\n",
    "\n",
    "                tmp = op + op2 + op1\n",
    "                operands.append(tmp)\n",
    "            operators.append(infix[i])\n",
    "\n",
    "    # Pop operators from operators\n",
    "    # stack until it is empty and\n",
    "    # operation in add result of\n",
    "    # each pop operands stack.\n",
    "    while (len(operators)!=0):\n",
    "        op1 = operands[-1]\n",
    "        operands.pop()\n",
    "\n",
    "        op2 = operands[-1]\n",
    "        operands.pop()\n",
    "\n",
    "        op = operators[-1]\n",
    "        operators.pop()\n",
    "\n",
    "        tmp = op + op2 + op1\n",
    "        operands.append(tmp)\n",
    "\n",
    "    # Final prefix expression is\n",
    "    # present in operands stack.\n",
    "    return operands[-1]"
   ]
  },
  {
   "cell_type": "code",
   "execution_count": 17,
   "id": "d85f2cfc-fe94-4a6d-a0d9-07c4a79c3da5",
   "metadata": {},
   "outputs": [
    {
     "name": "stdout",
     "output_type": "stream",
     "text": [
      "infix notation:  (A-B/C)*(A/K-L)\n",
      "Prefix notation:  *-A/BC-/AKL\n"
     ]
    }
   ],
   "source": [
    "expression = \"(A-B/C)*(A/K-L)\"\n",
    "print('infix notation: ',expression)\n",
    "print('Prefix notation: ',infix_to_prefix(expression))"
   ]
  },
  {
   "cell_type": "code",
   "execution_count": 18,
   "id": "9b1a9f42-b8cc-4a87-90e6-2843dda74076",
   "metadata": {},
   "outputs": [
    {
     "name": "stdout",
     "output_type": "stream",
     "text": [
      "infix notation:  (A^2+B)*(B^2-C)/(B+D^2)\n",
      "Prefix notation:  /*+^A2B-^B2C+B^D2\n"
     ]
    }
   ],
   "source": [
    "expression = \"(A^2+B)*(B^2-C)/(B+D^2)\"\n",
    "print('infix notation: ',expression)\n",
    "print('Prefix notation: ',infix_to_prefix(expression))"
   ]
  },
  {
   "cell_type": "code",
   "execution_count": 20,
   "id": "312a7ef0-505c-46df-a3b4-865f12bb1953",
   "metadata": {},
   "outputs": [
    {
     "name": "stdout",
     "output_type": "stream",
     "text": [
      "infix notation:  5*((6^2-6)/5-8/(6+2))\n",
      "Prefix notation:  *5-/-^6265/8+62\n"
     ]
    }
   ],
   "source": [
    "expression = \"5*((6^2-6)/5-8/(6+2))\"\n",
    "print('infix notation: ',expression)\n",
    "print('Prefix notation: ',infix_to_prefix(expression))"
   ]
  },
  {
   "cell_type": "code",
   "execution_count": 21,
   "id": "ddb57179-7199-4a4f-b6e6-1427acd87b86",
   "metadata": {},
   "outputs": [
    {
     "name": "stdout",
     "output_type": "stream",
     "text": [
      "infix notation:  (5*((((6^2)-6)/5)-(8/(6+2))))\n",
      "Prefix notation:  *5-/-^6265/8+62\n"
     ]
    }
   ],
   "source": [
    "expression = \"(5*((((6^2)-6)/5)-(8/(6+2))))\"\n",
    "print('infix notation: ',expression)\n",
    "print('Prefix notation: ',infix_to_prefix(expression))"
   ]
  },
  {
   "cell_type": "code",
   "execution_count": 15,
   "id": "eea5d8cd-68d9-43be-a190-496cc62ed948",
   "metadata": {},
   "outputs": [
    {
     "name": "stdin",
     "output_type": "stream",
     "text": [
      "Enter infix expression   (a*c+d)/b\n"
     ]
    },
    {
     "name": "stdout",
     "output_type": "stream",
     "text": [
      "infix notation:   (a*c+d)/b\n",
      "Prefix notation:  /+*acdb\n"
     ]
    }
   ],
   "source": [
    "expression = input('Enter infix expression ')\n",
    "print('infix notation: ',expression)\n",
    "print('Prefix notation: ',infix_to_prefix(expression))"
   ]
  },
  {
   "cell_type": "code",
   "execution_count": null,
   "id": "c0f600eb-1d5c-459f-95be-6ad40eb705e1",
   "metadata": {},
   "outputs": [],
   "source": []
  }
 ],
 "metadata": {
  "kernelspec": {
   "display_name": "Python 3 (ipykernel)",
   "language": "python",
   "name": "python3"
  },
  "language_info": {
   "codemirror_mode": {
    "name": "ipython",
    "version": 3
   },
   "file_extension": ".py",
   "mimetype": "text/x-python",
   "name": "python",
   "nbconvert_exporter": "python",
   "pygments_lexer": "ipython3",
   "version": "3.9.12"
  }
 },
 "nbformat": 4,
 "nbformat_minor": 5
}

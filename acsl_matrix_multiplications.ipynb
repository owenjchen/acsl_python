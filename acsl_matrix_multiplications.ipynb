{
 "cells": [
  {
   "cell_type": "markdown",
   "id": "321c7c1c-7640-4675-90df-375d11f8f8ce",
   "metadata": {},
   "source": [
    "# Grah Theory - Adjacency Matrix\n",
    "\n",
    "Calculate number of different paths"
   ]
  },
  {
   "cell_type": "code",
   "execution_count": 1,
   "id": "dcfd4e06-91d4-445c-b325-72b5cf5e46f7",
   "metadata": {},
   "outputs": [],
   "source": [
    "import numpy as np"
   ]
  },
  {
   "cell_type": "markdown",
   "id": "303e4416-ba90-418d-a4a8-96cdb6dafd27",
   "metadata": {},
   "source": [
    "## Example 1: Matrix^2 = Matrix * Matrix "
   ]
  },
  {
   "cell_type": "code",
   "execution_count": 8,
   "id": "9441cbe0-6a9b-4b17-85d2-690f9b154dea",
   "metadata": {},
   "outputs": [
    {
     "data": {
      "text/plain": [
       "matrix([[1, 0, 1],\n",
       "        [0, 1, 1],\n",
       "        [1, 0, 0]])"
      ]
     },
     "execution_count": 8,
     "metadata": {},
     "output_type": "execute_result"
    }
   ],
   "source": [
    "m1 = np.matrix([[1,0,1],\n",
    "                [0,1,1],\n",
    "                [1,0,0]])\n",
    "m1"
   ]
  },
  {
   "cell_type": "code",
   "execution_count": 9,
   "id": "dfce3204-1f60-4785-94cb-f712b0031de2",
   "metadata": {},
   "outputs": [
    {
     "data": {
      "text/plain": [
       "matrix([[2, 0, 1],\n",
       "        [1, 1, 1],\n",
       "        [1, 0, 1]])"
      ]
     },
     "execution_count": 9,
     "metadata": {},
     "output_type": "execute_result"
    }
   ],
   "source": [
    "m2 = m1*m1\n",
    "m2"
   ]
  },
  {
   "cell_type": "code",
   "execution_count": null,
   "id": "b501d591-ee68-4cef-bb85-0388954bb7b0",
   "metadata": {},
   "outputs": [],
   "source": []
  },
  {
   "cell_type": "code",
   "execution_count": 97,
   "id": "20091162-d570-47dc-9322-3ac496888dfa",
   "metadata": {},
   "outputs": [
    {
     "data": {
      "text/plain": [
       "matrix([[5, 0, 3],\n",
       "        [4, 1, 3],\n",
       "        [3, 0, 2]])"
      ]
     },
     "execution_count": 97,
     "metadata": {},
     "output_type": "execute_result"
    }
   ],
   "source": [
    "m4 = m2*m2\n",
    "m4"
   ]
  },
  {
   "cell_type": "markdown",
   "id": "79cd6a23-dc59-4f46-b458-b0ee06bda1ce",
   "metadata": {},
   "source": [
    "## Example 2: Matrix^2 = matrix * matrix, and Matrix^4 = Matrix^2 * Matrix^2"
   ]
  },
  {
   "cell_type": "code",
   "execution_count": 2,
   "id": "d1d72939-cd90-4d40-b7dc-5b34cfe2b134",
   "metadata": {},
   "outputs": [
    {
     "data": {
      "text/plain": [
       "matrix([[0, 1, 0, 1, 1],\n",
       "        [0, 0, 1, 0, 1],\n",
       "        [1, 1, 0, 1, 0],\n",
       "        [0, 0, 0, 0, 1],\n",
       "        [0, 0, 0, 1, 0]])"
      ]
     },
     "execution_count": 2,
     "metadata": {},
     "output_type": "execute_result"
    }
   ],
   "source": [
    "m = np.matrix([[0, 1, 0, 1, 1],\n",
    "               [0, 0, 1, 0, 1],\n",
    "               [1, 1, 0, 1, 0],\n",
    "               [0, 0, 0, 0, 1],\n",
    "               [0, 0, 0, 1, 0]])\n",
    "m"
   ]
  },
  {
   "cell_type": "code",
   "execution_count": 10,
   "id": "093195ed-e8c8-42a8-97cc-df926ded5823",
   "metadata": {},
   "outputs": [
    {
     "data": {
      "text/plain": [
       "16"
      ]
     },
     "execution_count": 10,
     "metadata": {},
     "output_type": "execute_result"
    }
   ],
   "source": [
    "m2 = m*m\n",
    "np.sum(m2)\n"
   ]
  },
  {
   "cell_type": "code",
   "execution_count": 5,
   "id": "31447beb-ec92-4391-b31b-fdf7fa7d5f29",
   "metadata": {},
   "outputs": [
    {
     "data": {
      "text/plain": [
       "16"
      ]
     },
     "execution_count": 5,
     "metadata": {},
     "output_type": "execute_result"
    }
   ],
   "source": [
    "## Counter number of paths with length of 2\n",
    "np.sum(m2)"
   ]
  },
  {
   "cell_type": "code",
   "execution_count": 6,
   "id": "e2f3a049-26d0-4c7d-a345-dad78bddcbcf",
   "metadata": {},
   "outputs": [
    {
     "name": "stdout",
     "output_type": "stream",
     "text": [
      "[[0 1 1 2 5]\n",
      " [1 1 1 5 2]\n",
      " [1 2 1 4 6]\n",
      " [0 0 0 1 0]\n",
      " [0 0 0 0 1]]\n"
     ]
    },
    {
     "data": {
      "text/plain": [
       "35"
      ]
     },
     "execution_count": 6,
     "metadata": {},
     "output_type": "execute_result"
    }
   ],
   "source": [
    "## Counter number of paths with length of 4\n",
    "m4 = m2*m2\n",
    "print(m4)\n",
    "np.sum(m4)"
   ]
  },
  {
   "cell_type": "markdown",
   "id": "7f88c164-80d0-4337-83e5-014f101d542e",
   "metadata": {},
   "source": [
    "## Example 3 - 2018-2019 Contest 4 - Intermeidate\n",
    "Problem 1"
   ]
  },
  {
   "cell_type": "code",
   "execution_count": 15,
   "id": "ba50b679-1fee-4408-b9e1-7e8fa87b6993",
   "metadata": {},
   "outputs": [
    {
     "data": {
      "text/plain": [
       "matrix([[1, 1, 1],\n",
       "        [1, 0, 0],\n",
       "        [1, 1, 1]])"
      ]
     },
     "execution_count": 15,
     "metadata": {},
     "output_type": "execute_result"
    }
   ],
   "source": [
    "m1 = np.matrix([[1,1,1],\n",
    "                [1,0,0],\n",
    "                [1,1,1]])\n",
    "m1"
   ]
  },
  {
   "cell_type": "code",
   "execution_count": 16,
   "id": "b4a4ea60-dbb6-475c-9376-56eba1918be2",
   "metadata": {},
   "outputs": [
    {
     "data": {
      "text/plain": [
       "matrix([[7, 5, 5],\n",
       "        [3, 2, 2],\n",
       "        [7, 5, 5]])"
      ]
     },
     "execution_count": 16,
     "metadata": {},
     "output_type": "execute_result"
    }
   ],
   "source": [
    "m3 = m1*m1*m1\n",
    "m3"
   ]
  },
  {
   "cell_type": "code",
   "execution_count": 17,
   "id": "20047897-88ef-4f54-9095-e067ff88e6f9",
   "metadata": {},
   "outputs": [
    {
     "data": {
      "text/plain": [
       "41"
      ]
     },
     "execution_count": 17,
     "metadata": {},
     "output_type": "execute_result"
    }
   ],
   "source": [
    "np.sum(m3)"
   ]
  },
  {
   "cell_type": "code",
   "execution_count": 2,
   "id": "141976c0-8235-4a11-a97a-953895ec2aed",
   "metadata": {},
   "outputs": [],
   "source": [
    "a = np.matrix([[1, 0, 0,1], \n",
    "              [0,1,1,0],\n",
    "              [1,0,1,0],\n",
    "              [0,0,1,1]])"
   ]
  },
  {
   "cell_type": "code",
   "execution_count": 3,
   "id": "4359fc5f-0f70-49cc-a30f-2966ca96e791",
   "metadata": {},
   "outputs": [
    {
     "data": {
      "text/plain": [
       "matrix([[1, 0, 0, 1],\n",
       "        [0, 1, 1, 0],\n",
       "        [1, 0, 1, 0],\n",
       "        [0, 0, 1, 1]])"
      ]
     },
     "execution_count": 3,
     "metadata": {},
     "output_type": "execute_result"
    }
   ],
   "source": [
    "a"
   ]
  },
  {
   "cell_type": "code",
   "execution_count": 4,
   "id": "e74a1e0b-dcbe-4885-8623-129df718296d",
   "metadata": {},
   "outputs": [
    {
     "data": {
      "text/plain": [
       "matrix([[1, 0, 1, 2],\n",
       "        [1, 1, 2, 0],\n",
       "        [2, 0, 1, 1],\n",
       "        [1, 0, 2, 1]])"
      ]
     },
     "execution_count": 4,
     "metadata": {},
     "output_type": "execute_result"
    }
   ],
   "source": [
    "a2 = a*a\n",
    "a2"
   ]
  },
  {
   "cell_type": "code",
   "execution_count": 5,
   "id": "4c40acdc-e70f-4f07-81f1-76d96eb16fa9",
   "metadata": {},
   "outputs": [
    {
     "data": {
      "text/plain": [
       "matrix([[2, 0, 3, 3],\n",
       "        [3, 1, 3, 1],\n",
       "        [3, 0, 2, 3],\n",
       "        [3, 0, 3, 2]])"
      ]
     },
     "execution_count": 5,
     "metadata": {},
     "output_type": "execute_result"
    }
   ],
   "source": [
    "a3 = a2*a\n",
    "a3\n"
   ]
  },
  {
   "cell_type": "code",
   "execution_count": 6,
   "id": "3a7b987e-f76f-4b2a-b713-d9c533f54bd6",
   "metadata": {},
   "outputs": [
    {
     "data": {
      "text/plain": [
       "matrix([[3, 2, 2, 3],\n",
       "        [2, 3, 3, 2],\n",
       "        [3, 2, 3, 2],\n",
       "        [2, 2, 3, 3]], dtype=int32)"
      ]
     },
     "execution_count": 6,
     "metadata": {},
     "output_type": "execute_result"
    }
   ],
   "source": [
    "aa = a^2\n",
    "aa"
   ]
  },
  {
   "cell_type": "code",
   "execution_count": 7,
   "id": "cb3bfb18-eb65-4c50-b8f1-409c5e2d2657",
   "metadata": {},
   "outputs": [
    {
     "data": {
      "text/plain": [
       "matrix([[2, 0, 1, 1],\n",
       "        [0, 2, 1, 1],\n",
       "        [1, 1, 2, 1],\n",
       "        [1, 1, 1, 2]])"
      ]
     },
     "execution_count": 7,
     "metadata": {},
     "output_type": "execute_result"
    }
   ],
   "source": [
    "aa2 = a*a.T\n",
    "aa2"
   ]
  },
  {
   "cell_type": "code",
   "execution_count": null,
   "id": "fe1d54d7-9772-4222-b57a-9a3b8108d99e",
   "metadata": {},
   "outputs": [],
   "source": []
  },
  {
   "cell_type": "code",
   "execution_count": null,
   "id": "36c158c5-9e4c-416e-810a-5bab3630465a",
   "metadata": {},
   "outputs": [],
   "source": []
  }
 ],
 "metadata": {
  "kernelspec": {
   "display_name": "Python 3 (ipykernel)",
   "language": "python",
   "name": "python3"
  },
  "language_info": {
   "codemirror_mode": {
    "name": "ipython",
    "version": 3
   },
   "file_extension": ".py",
   "mimetype": "text/x-python",
   "name": "python",
   "nbconvert_exporter": "python",
   "pygments_lexer": "ipython3",
   "version": "3.9.13"
  }
 },
 "nbformat": 4,
 "nbformat_minor": 5
}

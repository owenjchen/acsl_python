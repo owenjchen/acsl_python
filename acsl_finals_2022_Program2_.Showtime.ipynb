{
 "cells": [
  {
   "cell_type": "markdown",
   "id": "979ee358-c0a0-472b-891d-9fcd1be27f67",
   "metadata": {},
   "source": [
    "# ACSL Finals\n",
    "## 2021-2022 ● Finals Program #2: Showtime! ● Junior/Intermediate Divisions"
   ]
  },
  {
   "cell_type": "code",
   "execution_count": 1,
   "id": "4aa1e0b1-6ec4-400b-a46c-01388b7140ba",
   "metadata": {},
   "outputs": [],
   "source": [
    "import itertools\n",
    "\n",
    "color_map = {\"k\": (0,0,0), \n",
    "              \"r\": (1,0,0), \n",
    "              \"g\": (0,1,0), \n",
    "              \"b\": (0,0,1),\n",
    "              \"y\": (1,1,0), \n",
    "              \"m\": (1,0,1), \n",
    "              \"c\": (0,1,1), \n",
    "              \"w\":(1,1,1)}\n",
    "fib_values = [1,1,2,3,5]\n",
    "colors = \"bcgkmrwy\"\n",
    "  \n",
    "  \n",
    "def color_to_time(fib_color):\n",
    "    \"\"\"\n",
    "        Calculate the time clock for a given list of 5 colors of 5 Fibonacci blocks\n",
    "    \"\"\"\n",
    "    h = 0\n",
    "    m = 0\n",
    "    s = 0\n",
    "    for i,l in enumerate(fib_color):\n",
    "        change = color_map[l]\n",
    "        fib_value = fib_values[i]\n",
    "        h += change[0] * fib_value\n",
    "        m += change[1] * fib_value * 5\n",
    "        s += change[2] * fib_value * 5\n",
    "        time = [str(v).zfill(2) for v in [h,m,s]]\n",
    "    return \":\".join(time)\n",
    "\n",
    "def showTime(time):\n",
    "\n",
    "    # Get A cartesian product of 5 sets of colors (for 5 Fibonacci sequences)\n",
    "    # Use itertools.product()  or 5 nestest for-loops\n",
    "    # This gives a list of all possible colors of a Fibonacci clock\n",
    "    all_fib_colors = itertools.product(colors, colors, colors, colors, colors)\n",
    "    output = []\n",
    "    # Loop through each color map of a Fibonacci clock\n",
    "    for fib_color in all_fib_colors:\n",
    "        t = color_to_time(fib_color)\n",
    "        if t == time:\n",
    "            output.append(''.join(fib_color))\n",
    "            \n",
    "    return \" \".join(output)"
   ]
  },
  {
   "cell_type": "code",
   "execution_count": 2,
   "id": "31066f22-2292-48d9-8927-69e613c1f73d",
   "metadata": {},
   "outputs": [
    {
     "name": "stdout",
     "output_type": "stream",
     "text": [
      "bwrrr cmrrr grmrr kymrr mcrrr rgmrr wbrrr ykmrr\n"
     ]
    }
   ],
   "source": [
    "# Example usage:\n",
    "time = \"11:05:10\"\n",
    "print(showTime(time))"
   ]
  },
  {
   "cell_type": "code",
   "execution_count": 3,
   "id": "a2b4ff20-c7af-4656-96b7-f3293f826794",
   "metadata": {},
   "outputs": [
    {
     "name": "stdout",
     "output_type": "stream",
     "text": [
      "bwwyw byyww cmwyw cryww gmyww kwyww mcwyw mgyww rcyww wbwyw wkyww ybyww\n"
     ]
    }
   ],
   "source": [
    "# Example usage:\n",
    "time =\"11:55:45\"\n",
    "print(showTime(time))"
   ]
  },
  {
   "cell_type": "code",
   "execution_count": null,
   "id": "4d0d9f2d-5955-40cb-b399-e52551dacd47",
   "metadata": {},
   "outputs": [],
   "source": []
  }
 ],
 "metadata": {
  "kernelspec": {
   "display_name": "Python 3 (ipykernel)",
   "language": "python",
   "name": "python3"
  },
  "language_info": {
   "codemirror_mode": {
    "name": "ipython",
    "version": 3
   },
   "file_extension": ".py",
   "mimetype": "text/x-python",
   "name": "python",
   "nbconvert_exporter": "python",
   "pygments_lexer": "ipython3",
   "version": "3.9.12"
  }
 },
 "nbformat": 4,
 "nbformat_minor": 5
}

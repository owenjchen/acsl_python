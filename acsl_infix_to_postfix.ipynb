{
 "cells": [
  {
   "cell_type": "markdown",
   "id": "4894d87f-8b75-4353-b503-3c3d967112c1",
   "metadata": {},
   "source": [
    "## Python Program to convert Infix to Postfix"
   ]
  },
  {
   "cell_type": "code",
   "execution_count": 11,
   "id": "6f67c1ef-bb11-4364-83f9-a28e6d14f81f",
   "metadata": {},
   "outputs": [],
   "source": [
    "Operators = set(['+', '-', '*', '/', '(', ')', '^'])  # collection of Operators\n",
    "Priority = {'+':1, '-':1, '*':2, '/':2, '^':3} # dictionary having priorities of Operators\n",
    " \n",
    "def infix_to_postfix(expression): \n",
    "\n",
    "    stack = [] # initialization of empty stack\n",
    "    output = '' \n",
    "    for character in expression:\n",
    "        if character not in Operators:  # if an operand append in postfix expression\n",
    "            output+= character\n",
    "        elif character=='(':  # else Operators push onto stack\n",
    "            stack.append('(')\n",
    "        elif character==')':\n",
    "            while stack and stack[-1]!= '(':\n",
    "                output+=stack.pop()\n",
    "            stack.pop()\n",
    "        else: \n",
    "            while stack and stack[-1]!='(' and Priority[character]<=Priority[stack[-1]]:\n",
    "                output+=stack.pop()\n",
    "            stack.append(character)\n",
    "    while stack:\n",
    "        output+=stack.pop()\n",
    "    return output"
   ]
  },
  {
   "cell_type": "code",
   "execution_count": 12,
   "id": "78dc57e0-fa10-4064-af40-b8dd451932ad",
   "metadata": {},
   "outputs": [
    {
     "name": "stdout",
     "output_type": "stream",
     "text": [
      "infix notation:  (A^2+B)*(B^2-C)/(B+D^2)\n",
      "postfix notation:  A2^B+B2^C-*BD2^+/\n"
     ]
    }
   ],
   "source": [
    "expression = \"(A^2+B)*(B^2-C)/(B+D^2)\"\n",
    "print('infix notation: ',expression)\n",
    "print('postfix notation: ',infix_to_postfix(expression))"
   ]
  },
  {
   "cell_type": "code",
   "execution_count": 13,
   "id": "3f2475d1-eaa4-4f51-b032-e1dda2b59d0e",
   "metadata": {},
   "outputs": [
    {
     "name": "stdout",
     "output_type": "stream",
     "text": [
      "infix notation:  (4^2+6)*(5^2-5)/(5+3^2)\n",
      "postfix notation:  42^6+52^5-*532^+/\n"
     ]
    }
   ],
   "source": [
    "expression = \"(4^2+6)*(5^2-5)/(5+3^2)\"\n",
    "print('infix notation: ',expression)\n",
    "print('postfix notation: ',infix_to_postfix(expression))"
   ]
  },
  {
   "cell_type": "code",
   "execution_count": 16,
   "id": "e77fd260-3de5-4a16-8432-a9606e1a5ef7",
   "metadata": {},
   "outputs": [
    {
     "name": "stdout",
     "output_type": "stream",
     "text": [
      "infix notation:  5*((6^2-6)/5-8/(6+2))\n",
      "postfix notation:  562^6-5/862+/-*\n"
     ]
    }
   ],
   "source": [
    "expression = \"5*((6^2-6)/5-8/(6+2))\"\n",
    "print('infix notation: ',expression)\n",
    "print('postfix notation: ',infix_to_postfix(expression))"
   ]
  },
  {
   "cell_type": "code",
   "execution_count": 10,
   "id": "3d9a5d22-d24c-403f-9a32-8d414f051333",
   "metadata": {},
   "outputs": [
    {
     "name": "stdin",
     "output_type": "stream",
     "text": [
      "Enter infix expression  (a*c+d)/b\n"
     ]
    },
    {
     "name": "stdout",
     "output_type": "stream",
     "text": [
      "infix notation:  (a*c+d)/b\n",
      "postfix notation:  ac*d+b/\n"
     ]
    }
   ],
   "source": [
    "expression = input('Enter infix expression ')\n",
    "print('infix notation: ',expression)\n",
    "print('postfix notation: ',infix_to_postfix(expression))"
   ]
  },
  {
   "cell_type": "code",
   "execution_count": null,
   "id": "f739a89f-b86b-45ec-9096-04be37bd2bb1",
   "metadata": {},
   "outputs": [],
   "source": []
  }
 ],
 "metadata": {
  "kernelspec": {
   "display_name": "Python 3 (ipykernel)",
   "language": "python",
   "name": "python3"
  },
  "language_info": {
   "codemirror_mode": {
    "name": "ipython",
    "version": 3
   },
   "file_extension": ".py",
   "mimetype": "text/x-python",
   "name": "python",
   "nbconvert_exporter": "python",
   "pygments_lexer": "ipython3",
   "version": "3.9.12"
  }
 },
 "nbformat": 4,
 "nbformat_minor": 5
}

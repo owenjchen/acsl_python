{
 "cells": [
  {
   "cell_type": "markdown",
   "id": "5cccc539-cae4-4745-8f0b-f9d28e83d939",
   "metadata": {},
   "source": [
    "# Write a funcion to convert an integer in decimal to a given base b\n",
    "\n",
    "### Author: Dr. Owen Chen\n",
    "### Date: 2023 Fall\n",
    "\n",
    "**input**:\n",
    "    - intger: n\n",
    "    - base: b\n",
    "    \n",
    "**output**:\n",
    "    - a string of numerical digits in base b for integer n"
   ]
  },
  {
   "cell_type": "code",
   "execution_count": 1,
   "id": "7eaa4ac5-6952-4dfc-829e-4bdeb2b3802b",
   "metadata": {},
   "outputs": [],
   "source": [
    "## Base 2, Base 8, 10, or Base 16\n",
    "\n",
    "def convert_base_v1(n,b):\n",
    "    if b <= 1:\n",
    "        return f\"base b ={b} must be 2 or greater\"\n",
    "    elif b == 2:\n",
    "        return bin(n)[2:]\n",
    "    elif b == 8:\n",
    "        return oct(n)[2:]\n",
    "    elif b == 10:\n",
    "        return n\n",
    "    elif b == 16:\n",
    "        return hex(n)[2:]\n",
    "    else:\n",
    "        return f\"unknown base b = {b}\""
   ]
  },
  {
   "cell_type": "code",
   "execution_count": 2,
   "id": "749745e0-3b47-4f2c-b21d-7643f6d6baad",
   "metadata": {},
   "outputs": [
    {
     "name": "stdout",
     "output_type": "stream",
     "text": [
      "11111100111\n"
     ]
    }
   ],
   "source": [
    "print(convert_base_v1(2023, 2))"
   ]
  },
  {
   "cell_type": "code",
   "execution_count": 3,
   "id": "3fbf5b1f-e0af-4e4e-8677-580a6483fcc9",
   "metadata": {},
   "outputs": [
    {
     "name": "stdout",
     "output_type": "stream",
     "text": [
      "3747\n"
     ]
    }
   ],
   "source": [
    "print(convert_base_v1(2023, 8))"
   ]
  },
  {
   "cell_type": "code",
   "execution_count": 4,
   "id": "1d0db982-7ed2-43f6-9f49-80e140f106e5",
   "metadata": {},
   "outputs": [
    {
     "name": "stdout",
     "output_type": "stream",
     "text": [
      "7e7\n"
     ]
    }
   ],
   "source": [
    "print(convert_base_v1(2023, 16))"
   ]
  },
  {
   "cell_type": "code",
   "execution_count": 5,
   "id": "9f92a30c-a68d-4ee7-b8b1-7b4030bb4849",
   "metadata": {},
   "outputs": [
    {
     "name": "stdout",
     "output_type": "stream",
     "text": [
      "2023\n"
     ]
    }
   ],
   "source": [
    "print(convert_base_v1(2023, 10))"
   ]
  },
  {
   "cell_type": "code",
   "execution_count": 6,
   "id": "d35c1d02-4645-4978-a2cd-8d310b81616e",
   "metadata": {},
   "outputs": [
    {
     "name": "stdout",
     "output_type": "stream",
     "text": [
      "base b =1 must be 2 or greater\n"
     ]
    }
   ],
   "source": [
    "print(convert_base_v1(2023, 1))"
   ]
  },
  {
   "cell_type": "code",
   "execution_count": 7,
   "id": "5badddd4-9191-4b9b-b9cb-ce2c1eeb20f7",
   "metadata": {},
   "outputs": [
    {
     "name": "stdout",
     "output_type": "stream",
     "text": [
      "unknown base b = 12\n"
     ]
    }
   ],
   "source": [
    "print(convert_base_v1(2023, 12))"
   ]
  },
  {
   "cell_type": "markdown",
   "id": "10a400da-e527-4704-ae51-4988a1a762d3",
   "metadata": {},
   "source": [
    "## Convert any base number"
   ]
  },
  {
   "cell_type": "code",
   "execution_count": 8,
   "id": "58aa95fa-e7f4-41b5-aa93-974fd498baee",
   "metadata": {},
   "outputs": [],
   "source": [
    "def convert_base(n, b):\n",
    "    if b <2:\n",
    "        return f\"Error: input base b={b} must be 2 or greater\"\n",
    "    else:\n",
    "        # Divide input n by b repeatly with quotient and remainder\n",
    "        # use divmode() function\n",
    "        res = \"\"\n",
    "        while n > 0:\n",
    "            n, remainder = divmod(n, b)\n",
    "            res += str(remainder)\n",
    "        # reversed order of remainders is the final answer\n",
    "        return res[::-1]"
   ]
  },
  {
   "cell_type": "code",
   "execution_count": 9,
   "id": "e49c1d7a-a402-432e-aaae-77394199a7fb",
   "metadata": {},
   "outputs": [
    {
     "name": "stdout",
     "output_type": "stream",
     "text": [
      "11111100111\n"
     ]
    }
   ],
   "source": [
    "print(convert_base(2023, 2))"
   ]
  },
  {
   "cell_type": "code",
   "execution_count": 10,
   "id": "b50dbbe5-5831-4598-ba4e-7e773dd83de4",
   "metadata": {},
   "outputs": [
    {
     "name": "stdout",
     "output_type": "stream",
     "text": [
      "3747\n"
     ]
    }
   ],
   "source": [
    "print(convert_base(2023, 8))"
   ]
  },
  {
   "cell_type": "code",
   "execution_count": 11,
   "id": "fe9b064b-3712-4320-a8b1-7907662469cb",
   "metadata": {},
   "outputs": [
    {
     "name": "stdout",
     "output_type": "stream",
     "text": [
      "7417\n"
     ]
    }
   ],
   "source": [
    "print(convert_base(2023, 16))"
   ]
  },
  {
   "cell_type": "code",
   "execution_count": 12,
   "id": "f4de02ac-5111-4248-b116-be642d1d8f9d",
   "metadata": {},
   "outputs": [],
   "source": [
    "# Create mapping between a number and a string symbol\n",
    "def base_map():\n",
    "    basemap={i: str(i) for i in range(10)}\n",
    "    alphabet_start = ord('a')\n",
    "    for i in range(26):\n",
    "        basemap[i+10]=chr(alphabet_start+i)\n",
    "    return basemap"
   ]
  },
  {
   "cell_type": "code",
   "execution_count": 13,
   "id": "8afff858-30d7-4bbe-8464-b1a2abf68d21",
   "metadata": {},
   "outputs": [
    {
     "data": {
      "text/plain": [
       "{0: '0',\n",
       " 1: '1',\n",
       " 2: '2',\n",
       " 3: '3',\n",
       " 4: '4',\n",
       " 5: '5',\n",
       " 6: '6',\n",
       " 7: '7',\n",
       " 8: '8',\n",
       " 9: '9',\n",
       " 10: 'a',\n",
       " 11: 'b',\n",
       " 12: 'c',\n",
       " 13: 'd',\n",
       " 14: 'e',\n",
       " 15: 'f',\n",
       " 16: 'g',\n",
       " 17: 'h',\n",
       " 18: 'i',\n",
       " 19: 'j',\n",
       " 20: 'k',\n",
       " 21: 'l',\n",
       " 22: 'm',\n",
       " 23: 'n',\n",
       " 24: 'o',\n",
       " 25: 'p',\n",
       " 26: 'q',\n",
       " 27: 'r',\n",
       " 28: 's',\n",
       " 29: 't',\n",
       " 30: 'u',\n",
       " 31: 'v',\n",
       " 32: 'w',\n",
       " 33: 'x',\n",
       " 34: 'y',\n",
       " 35: 'z'}"
      ]
     },
     "execution_count": 13,
     "metadata": {},
     "output_type": "execute_result"
    }
   ],
   "source": [
    "basemap=base_map()\n",
    "basemap"
   ]
  },
  {
   "cell_type": "code",
   "execution_count": 14,
   "id": "41b5833b-3517-41ff-87a4-d27dc7962da8",
   "metadata": {},
   "outputs": [],
   "source": [
    "# This function can handle any base up to base 36\n",
    "def convert_any_base(n, b):\n",
    "    if b <2:\n",
    "        return f\"Error: input base b={b} must be 2 or greater\"\n",
    "    else:\n",
    "        # Divide input n by b repeatly with quotient and remainder\n",
    "        # use divmode() function\n",
    "        res = \"\"\n",
    "        while n > 0:\n",
    "            n, remainder = divmod(n, b)\n",
    "            res += basemap[remainder]\n",
    "        # reversed order of remainders is the final answer\n",
    "        return res[::-1]"
   ]
  },
  {
   "cell_type": "code",
   "execution_count": 15,
   "id": "ae50bdbe-fa16-4f2f-afb3-ea030f5fc15b",
   "metadata": {},
   "outputs": [
    {
     "name": "stdout",
     "output_type": "stream",
     "text": [
      "11111100111\n",
      "3747\n",
      "1207\n",
      "7e7\n"
     ]
    }
   ],
   "source": [
    "print(convert_any_base(2023, 2))\n",
    "print(convert_any_base(2023, 8))\n",
    "print(convert_any_base(2023, 12))\n",
    "print(convert_any_base(2023, 16))"
   ]
  },
  {
   "cell_type": "code",
   "execution_count": 16,
   "id": "5c10bdcc-fe34-4e18-adc0-d712d157d1c4",
   "metadata": {},
   "outputs": [],
   "source": [
    "# This function can handle any base up to base 36 without using divmod()\n",
    "def convert_any_base_v2(n, b):\n",
    "    if b <2:\n",
    "        return f\"Error: input base b={b} must be 2 or greater\"\n",
    "    else:\n",
    "        # Divide input n by b repeatly with quotient and remainder\n",
    "        res = \"\"\n",
    "        while n > 0:\n",
    "            remainder = n % b\n",
    "            n  = n // b\n",
    "            res += basemap[remainder]\n",
    "        # reversed order of remainders is the final answer\n",
    "        return res[::-1]"
   ]
  },
  {
   "cell_type": "code",
   "execution_count": 17,
   "id": "a62cea4d-76a8-4b02-b94c-1049ede36f19",
   "metadata": {},
   "outputs": [
    {
     "name": "stdout",
     "output_type": "stream",
     "text": [
      "11111100111\n",
      "3747\n",
      "1207\n",
      "7e7\n"
     ]
    }
   ],
   "source": [
    "print(convert_any_base_v2(2023, 2))\n",
    "print(convert_any_base_v2(2023, 8))\n",
    "print(convert_any_base_v2(2023, 12))\n",
    "print(convert_any_base_v2(2023, 16))"
   ]
  },
  {
   "cell_type": "code",
   "execution_count": 18,
   "id": "c711c79d-978f-4162-9ad8-e6336fb8f87c",
   "metadata": {},
   "outputs": [],
   "source": [
    "def convert_any_base(n, b, debug=False):\n",
    "    if debug:\n",
    "        print(f\"convert {n} to base {b}\")\n",
    "    if b <2:\n",
    "        return f\"Error: input base b={b} must be 2 or greater\"\n",
    "    else:\n",
    "        # Divide input n by b repeatly with quotient and remainder\n",
    "        # use divmode() function\n",
    "        res = \"\"\n",
    "        if debug:\n",
    "            step = 0\n",
    "        while n > 0:\n",
    "            if debug:\n",
    "                step +=1\n",
    "                print(f\"Step {step}: {n}/{b}:\", end=\" \")\n",
    "                n, remainder = divmod(n, b)\n",
    "                print(f\"quotient: {n}, remainder: {remainder}\") \n",
    "            else:\n",
    "                n, remainder = divmod(n, b)  \n",
    "                # remainder = n % b\n",
    "                # n = n // b\n",
    "            res += str(remainder)\n",
    "        # reversed order of remainders is the final answer\n",
    "        if debug:\n",
    "            print(f\"final result:{res[::-1]}\")\n",
    "        return res[::-1]"
   ]
  },
  {
   "cell_type": "code",
   "execution_count": 19,
   "id": "46c9a0bf-b1b5-4a40-90c5-a7f79321b2fd",
   "metadata": {},
   "outputs": [
    {
     "data": {
      "text/plain": [
       "'3747'"
      ]
     },
     "execution_count": 19,
     "metadata": {},
     "output_type": "execute_result"
    }
   ],
   "source": [
    "convert_any_base(2023, 8)"
   ]
  },
  {
   "cell_type": "code",
   "execution_count": 20,
   "id": "f2067232-116e-45a5-84c8-d0bf77842ad2",
   "metadata": {},
   "outputs": [
    {
     "name": "stdout",
     "output_type": "stream",
     "text": [
      "convert 2023 to base 8\n",
      "Step 1: 2023/8: quotient: 252, remainder: 7\n",
      "Step 2: 252/8: quotient: 31, remainder: 4\n",
      "Step 3: 31/8: quotient: 3, remainder: 7\n",
      "Step 4: 3/8: quotient: 0, remainder: 3\n",
      "final result:3747\n"
     ]
    },
    {
     "data": {
      "text/plain": [
       "'3747'"
      ]
     },
     "execution_count": 20,
     "metadata": {},
     "output_type": "execute_result"
    }
   ],
   "source": [
    "convert_any_base(2023, 8, debug=True)"
   ]
  },
  {
   "cell_type": "code",
   "execution_count": 21,
   "id": "6ec0cdd8-7ca5-4fca-8576-cda727df68c2",
   "metadata": {},
   "outputs": [
    {
     "name": "stdout",
     "output_type": "stream",
     "text": [
      "convert 2023 to base 2\n",
      "Step 1: 2023/2: quotient: 1011, remainder: 1\n",
      "Step 2: 1011/2: quotient: 505, remainder: 1\n",
      "Step 3: 505/2: quotient: 252, remainder: 1\n",
      "Step 4: 252/2: quotient: 126, remainder: 0\n",
      "Step 5: 126/2: quotient: 63, remainder: 0\n",
      "Step 6: 63/2: quotient: 31, remainder: 1\n",
      "Step 7: 31/2: quotient: 15, remainder: 1\n",
      "Step 8: 15/2: quotient: 7, remainder: 1\n",
      "Step 9: 7/2: quotient: 3, remainder: 1\n",
      "Step 10: 3/2: quotient: 1, remainder: 1\n",
      "Step 11: 1/2: quotient: 0, remainder: 1\n",
      "final result:11111100111\n"
     ]
    },
    {
     "data": {
      "text/plain": [
       "'11111100111'"
      ]
     },
     "execution_count": 21,
     "metadata": {},
     "output_type": "execute_result"
    }
   ],
   "source": [
    "convert_any_base(2023, 2, debug=True)"
   ]
  },
  {
   "cell_type": "code",
   "execution_count": null,
   "id": "77430581-f543-4d87-906d-4ce30d9d3557",
   "metadata": {},
   "outputs": [],
   "source": []
  },
  {
   "cell_type": "code",
   "execution_count": 22,
   "id": "284099f7-d4a0-4be8-980f-1b9efe76b832",
   "metadata": {},
   "outputs": [
    {
     "name": "stdout",
     "output_type": "stream",
     "text": [
      "convert 2023 to base 8\n",
      "Step 1: 2023/8: quotient: 252, remainder: 7\n",
      "Step 2: 252/8: quotient: 31, remainder: 4\n",
      "Step 3: 31/8: quotient: 3, remainder: 7\n",
      "Step 4: 3/8: quotient: 0, remainder: 3\n",
      "final result:3747\n"
     ]
    },
    {
     "data": {
      "text/plain": [
       "'3747'"
      ]
     },
     "execution_count": 22,
     "metadata": {},
     "output_type": "execute_result"
    }
   ],
   "source": [
    "convert_any_base(2023, 8, debug=True)"
   ]
  },
  {
   "cell_type": "code",
   "execution_count": null,
   "id": "ca190e80-0442-44f0-9e24-00e91fd8f6f6",
   "metadata": {},
   "outputs": [],
   "source": []
  }
 ],
 "metadata": {
  "kernelspec": {
   "display_name": "Python 3 (ipykernel)",
   "language": "python",
   "name": "python3"
  },
  "language_info": {
   "codemirror_mode": {
    "name": "ipython",
    "version": 3
   },
   "file_extension": ".py",
   "mimetype": "text/x-python",
   "name": "python",
   "nbconvert_exporter": "python",
   "pygments_lexer": "ipython3",
   "version": "3.9.12"
  }
 },
 "nbformat": 4,
 "nbformat_minor": 5
}

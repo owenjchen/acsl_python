{
 "cells": [
  {
   "cell_type": "markdown",
   "id": "90a6a120-4ec3-4436-b313-f35b7df7ccac",
   "metadata": {},
   "source": [
    "# ACSL 2021-2022 Contest #1 - Fibonacci Clock\n",
    "\n",
    "## Junior Division"
   ]
  },
  {
   "cell_type": "markdown",
   "id": "81688508-a92c-4275-9b79-6183eaa06a6a",
   "metadata": {},
   "source": [
    "## PROBLEM: \n",
    "\n",
    "ACSL’s version of Philippe Chretien’s\n",
    "“Fibonacci Clock” displays time by changing the\n",
    "colors displayed in 5 squares, whose side lengths\n",
    "correspond to the first 5 Fibonacci numbers (1, 1, 2,\n",
    "3, and 5). Given the colors of the squares on the clock\n",
    "face, you must output the time that is represented in\n",
    "hh:mm format. The colors will be given to you as 5\n",
    "individual characters representing the lower 1x1\n",
    "square, the upper 1x1 square, the 2x2 square, the 3x3\n",
    "square, and the 5x5 square in that order. (See\n",
    "https://basbrun.com/2015/05/04/fibonacci-clock/.)\n",
    "\n",
    "Red squares are used to represent only hours and green squares are used to represent only\n",
    "minutes. Blue squares are used to represent both hours and minutes. White squares are ignored.\n",
    "To find the current hour, add the values of the red and blue squares. To find the current minutes,\n",
    "add the values of the green and blue squares and multiply by 5. The minutes are displayed in\n",
    "five-minute increments.\n",
    "\n",
    "The clock in the picture above is displaying 08:50. The hours are represented by the red 1x1,\n",
    "blue 2x2, and blue 5x5 squares (1+2+5=8). The minutes are represented by the blue 2x2, the\n",
    "green 3x3, and the blue 5x5 squares (2+3+5=10 and 10*5=50).\n",
    "\n",
    "The example at the left which uses the inputted characters R, W, G, B, G displays the time 04:50.\n",
    "The hours are represented by the 1x1 red square and the 3x3 blue square: 1+3=4. The minutes\n",
    "are represented by the 2x2 green, the 3x3 blue, and the 5x5 green squares: (2+3+5)*5 = 50. The\n",
    "example at the right which uses the inputted characters W, B, B, G, R displays the time 08:30.\n",
    "The hours are 1+2+5=8 and the minutes are (1+2+3)*5=30.\n"
   ]
  },
  {
   "cell_type": "code",
   "execution_count": 2,
   "id": "37a5d181-a906-4657-a5c3-00258df76b4b",
   "metadata": {},
   "outputs": [],
   "source": [
    "def findTime(c1, c2, c3, c4, c5):\n",
    "    # Write your code here\n",
    "    vals = {\n",
    "        \"W\": 0,\n",
    "        \"B\": 0,\n",
    "        \"G\": 0,\n",
    "        \"R\": 0,\n",
    "        }\n",
    "    vals[c1] += 1\n",
    "    vals[c2] += 1\n",
    "    vals[c3] += 2\n",
    "    vals[c4] += 3\n",
    "    vals[c5] += 5\n",
    "    h = str(vals[\"B\"] + vals[\"R\"])\n",
    "    m = str(5 * (vals[\"G\"] + vals[\"B\"]))\n",
    "    if len(h) == 1:\n",
    "        h = '0' + h\n",
    "    if len(m) == 1:\n",
    "        m = '0' + m\n",
    "    return h + \":\" + m"
   ]
  },
  {
   "cell_type": "code",
   "execution_count": 3,
   "id": "396a735b-4011-468b-bbf3-32d12b795e36",
   "metadata": {},
   "outputs": [],
   "source": [
    "tests = ['R W G B G',\n",
    "        'W B B G R',\n",
    "        'B G B B R',\n",
    "        'W W W B B',\n",
    "        'W R G G G']\n",
    "results = ['04:50',\n",
    "        '08:30',\n",
    "        '11:35',\n",
    "        '08:40',\n",
    "        '01:50']"
   ]
  },
  {
   "cell_type": "code",
   "execution_count": 4,
   "id": "7974353e-2bbc-4045-89cd-470949510c2b",
   "metadata": {},
   "outputs": [
    {
     "name": "stdout",
     "output_type": "stream",
     "text": [
      "input:R W G B G, output:04:50, passed.\n",
      "input:W B B G R, output:08:30, passed.\n",
      "input:B G B B R, output:11:35, passed.\n",
      "input:W W W B B, output:08:40, passed.\n",
      "input:W R G G G, output:01:50, passed.\n"
     ]
    }
   ],
   "source": [
    "for test, result in zip(tests, results):\n",
    "    colors = tuple(test.split())\n",
    "    out = findTime(colors[0], colors[1], colors[2], colors[3], colors[4])\n",
    "    if out == result:\n",
    "        print(f\"input:{test}, output:{out}, passed.\")\n",
    "    else:\n",
    "        print(f\"input:{test}, output:{out}, expected: {result},  failed.\")"
   ]
  },
  {
   "cell_type": "code",
   "execution_count": null,
   "id": "da9b48e5-c214-4979-be6b-c9bb8ef13bf6",
   "metadata": {},
   "outputs": [],
   "source": []
  }
 ],
 "metadata": {
  "kernelspec": {
   "display_name": "Python 3 (ipykernel)",
   "language": "python",
   "name": "python3"
  },
  "language_info": {
   "codemirror_mode": {
    "name": "ipython",
    "version": 3
   },
   "file_extension": ".py",
   "mimetype": "text/x-python",
   "name": "python",
   "nbconvert_exporter": "python",
   "pygments_lexer": "ipython3",
   "version": "3.9.12"
  }
 },
 "nbformat": 4,
 "nbformat_minor": 5
}

{
 "cells": [
  {
   "cell_type": "markdown",
   "id": "16e8c064-2046-4345-9d3c-d472b35bf9c5",
   "metadata": {
    "tags": []
   },
   "source": [
    "# ACSL 2020-2021 Contest #1 Programming Problem\n",
    "\n",
    "## Junior Division\n",
    "\n"
   ]
  },
  {
   "cell_type": "markdown",
   "id": "f4a0eb58-3e3f-4ded-8e3c-61e4211ded00",
   "metadata": {
    "tags": []
   },
   "source": [
    "## PROBLEM: \n",
    "Construct a Numeral Triangle according to the following rules. You will be given\n",
    "three positive integers: s , a starting number; d, a delta (the amount by which to increase each\n",
    "number in the triangle); and r the number of rows.\n",
    "1. The first row contains the number s .\n",
    "2. Each of the next rows has one more number than the previous row.\n",
    "3. Each number in the triangle is d more than the previous number in the triangle.\n",
    "4. Before putting a number in the triangle, it is transformed to a single digit. That is, if the\n",
    "number is more than one digit, replace it by the sum of the digits, repeating until the sum\n",
    "is one digit (for example, 1938 ⇒ 21 ⇒ 3).\n",
    "\n",
    "Here are two examples of Numeral Triangles:\n",
    "\n",
    "![alt text](acsl_2020_2021_numeral_triangle.png \"Numeral Triangles Examples\")"
   ]
  },
  {
   "cell_type": "markdown",
   "id": "e554d9e0-009b-4b61-b09a-4a6c46305022",
   "metadata": {},
   "source": [
    "## Hint:\n",
    "Break down the problem into multiple sub-problems.  Create a function for each sub-problems.\n",
    "\n",
    "- How to create a Numberal Triangle?\n",
    "- How to check and convert a number if it is more than a single digit?\n",
    "- How to get the last row of a Numberal Triangle?\n",
    "- How to sum all numbers on the rth line of Numeral Triangle"
   ]
  },
  {
   "cell_type": "code",
   "execution_count": null,
   "id": "bf1425ac-421a-40d8-bf6e-6a6661929202",
   "metadata": {},
   "outputs": [],
   "source": []
  },
  {
   "cell_type": "code",
   "execution_count": 39,
   "id": "6766ad13-4001-4e5b-89d7-332a9b56b7a6",
   "metadata": {},
   "outputs": [],
   "source": [
    "# Sum of digits\n",
    "def sum_digits(n):\n",
    "    if n <= 9:\n",
    "        return n\n",
    "    else:\n",
    "        sum = 0\n",
    "        for digit in str(n):\n",
    "            sum += int(digit)\n",
    "        if sum > 9:\n",
    "            return sum_digits(sum)\n",
    "        else:\n",
    "            return sum"
   ]
  },
  {
   "cell_type": "code",
   "execution_count": 40,
   "id": "433631c8-c30c-47d1-95e4-bb891c079dfd",
   "metadata": {},
   "outputs": [
    {
     "name": "stdout",
     "output_type": "stream",
     "text": [
      "6\n"
     ]
    }
   ],
   "source": [
    "print(sum_digits(123))"
   ]
  },
  {
   "cell_type": "code",
   "execution_count": 41,
   "id": "4585826f-cbe5-44f5-ae00-791e03f44f40",
   "metadata": {},
   "outputs": [
    {
     "name": "stdout",
     "output_type": "stream",
     "text": [
      "1\n"
     ]
    }
   ],
   "source": [
    "print(sum_digits(2368))"
   ]
  },
  {
   "cell_type": "code",
   "execution_count": 60,
   "id": "cc7f03ac-e289-4617-a982-7ad635656f27",
   "metadata": {},
   "outputs": [],
   "source": [
    "# Numeral Triangle\n",
    "def numeral_triangle(start, delta, rows):\n",
    "    if rows <=0:\n",
    "        return None\n",
    "    else:\n",
    "        if start > 9:\n",
    "            start = sum_digits(start)        \n",
    "        number=start   \n",
    "        triangle=[[start]]        \n",
    "        for r in range(1, rows):\n",
    "            row = []\n",
    "            for i in range(r+1):\n",
    "                number +=delta\n",
    "                if number > 9:\n",
    "                     number = sum_digits(number) \n",
    "                row.append(number)\n",
    "            triangle.append(row)\n",
    "        return triangle\n"
   ]
  },
  {
   "cell_type": "code",
   "execution_count": 65,
   "id": "adb532be-006e-4d64-beaa-30db21d3efa3",
   "metadata": {},
   "outputs": [
    {
     "data": {
      "text/plain": [
       "[[2], [5, 8], [2, 5, 8], [2, 5, 8, 2], [5, 8, 2, 5, 8]]"
      ]
     },
     "execution_count": 65,
     "metadata": {},
     "output_type": "execute_result"
    }
   ],
   "source": [
    "triangle=numeral_triangle(2, 3, 5)\n",
    "triangle"
   ]
  },
  {
   "cell_type": "code",
   "execution_count": 63,
   "id": "8bb5bc41-d642-424e-8f53-1ca59d1240c7",
   "metadata": {},
   "outputs": [
    {
     "data": {
      "text/plain": [
       "[[5], [7, 9], [2, 4, 6], [8, 1, 3, 5]]"
      ]
     },
     "execution_count": 63,
     "metadata": {},
     "output_type": "execute_result"
    }
   ],
   "source": [
    "triangle=numeral_triangle(221, 2, 4)\n",
    "triangle"
   ]
  },
  {
   "cell_type": "code",
   "execution_count": 50,
   "id": "d1b281c4-8a4f-465f-8180-d8a182ae4f7e",
   "metadata": {},
   "outputs": [],
   "source": [
    "# Sum of numbers in a row\n",
    "def sum_row(row):\n",
    "    sum = 0\n",
    "    for n in row:\n",
    "        sum +=n\n",
    "    return sum"
   ]
  },
  {
   "cell_type": "code",
   "execution_count": 66,
   "id": "7bf04108-550a-426c-ae14-ce542443de97",
   "metadata": {},
   "outputs": [
    {
     "name": "stdout",
     "output_type": "stream",
     "text": [
      "28\n"
     ]
    }
   ],
   "source": [
    "print(sum_row(triangle[-1]))"
   ]
  },
  {
   "cell_type": "code",
   "execution_count": 52,
   "id": "84096725-d384-405d-b703-d22f8ddbb5f7",
   "metadata": {},
   "outputs": [],
   "source": [
    "# Main Program\n",
    "def sum_last_row(inlist):\n",
    "    nrow = len(inlist)\n",
    "    for i in range(nrow):\n",
    "        triangle=numeral_triangle(inlist[i][0], inlist[i][1], inlist[i][2])\n",
    "        sum = sum_row(triangle[-1])\n",
    "        print(f\"{i+1}. {sum}\")        "
   ]
  },
  {
   "cell_type": "code",
   "execution_count": 48,
   "id": "2c7c5131-0044-4107-9a5f-5c96efbaf75b",
   "metadata": {},
   "outputs": [
    {
     "name": "stdout",
     "output_type": "stream",
     "text": [
      "1. 28\n",
      "2. 17\n",
      "3. 140\n",
      "4. 135\n",
      "5. 397\n"
     ]
    }
   ],
   "source": [
    "in1 = [[2,3,5], [221,2,4],[184,231,35], [71,5,27], [1,24,100]]\n",
    "sum_last_row(in1)"
   ]
  },
  {
   "cell_type": "code",
   "execution_count": 49,
   "id": "a3ec32ca-9aa6-44f0-98f4-401b3f24e5c4",
   "metadata": {},
   "outputs": [
    {
     "name": "stdout",
     "output_type": "stream",
     "text": [
      "1. 218\n",
      "2. 399\n",
      "3. 1003\n",
      "4. 154\n",
      "5. 126\n"
     ]
    }
   ],
   "source": [
    "in1 = [[599,23,43], [4326,1234,80],[704,1776,200], [6283,185,31], [3141,59,26]]\n",
    "sum_last_row(in1)"
   ]
  },
  {
   "cell_type": "code",
   "execution_count": 56,
   "id": "ce015199-af2c-41bd-aebe-de14f470750b",
   "metadata": {},
   "outputs": [],
   "source": [
    "# Numeral Triangle - return last row only\n",
    "def numeral_triangle(start, delta, rows):\n",
    "    if rows <=0:\n",
    "        return None\n",
    "    else:\n",
    "        if start > 9:\n",
    "            start = sum_digits(start)        \n",
    "        count = 0\n",
    "        number=start   \n",
    "        row=[]        \n",
    "        for r in range(1, rows):\n",
    "            for i in range(r+1):\n",
    "                number += delta\n",
    "                if number > 9:\n",
    "                     number = sum_digits(number) \n",
    "                if r == rows - 1:\n",
    "                    row.append(number)\n",
    "        return row\n"
   ]
  },
  {
   "cell_type": "code",
   "execution_count": 67,
   "id": "7fd76f22-e90b-4697-9e3f-64f2ce58cedd",
   "metadata": {},
   "outputs": [],
   "source": [
    "# Main Program\n",
    "def sum_last_row(start, delta, rows):\n",
    "    triangle=numeral_triangle(start, delta, rows)\n",
    "    sum = sum_row(triangle[-1])\n",
    "    print(sum)"
   ]
  },
  {
   "cell_type": "code",
   "execution_count": 68,
   "id": "d1295587-26b2-49d5-aef1-ceeb8a70a73b",
   "metadata": {},
   "outputs": [
    {
     "name": "stdout",
     "output_type": "stream",
     "text": [
      "28\n",
      "17\n",
      "140\n",
      "135\n",
      "397\n"
     ]
    }
   ],
   "source": [
    "in1 = [[2,3,5], [221,2,4],[184,231,35], [71,5,27], [1,24,100]]\n",
    "for inp in in1:\n",
    "    sum_last_row(inp[0], inp[1], inp[2])"
   ]
  },
  {
   "cell_type": "code",
   "execution_count": null,
   "id": "b96b94e5-cf58-4a07-9324-da043f4f7bdb",
   "metadata": {},
   "outputs": [],
   "source": []
  }
 ],
 "metadata": {
  "kernelspec": {
   "display_name": "Python 3 (ipykernel)",
   "language": "python",
   "name": "python3"
  },
  "language_info": {
   "codemirror_mode": {
    "name": "ipython",
    "version": 3
   },
   "file_extension": ".py",
   "mimetype": "text/x-python",
   "name": "python",
   "nbconvert_exporter": "python",
   "pygments_lexer": "ipython3",
   "version": "3.9.12"
  }
 },
 "nbformat": 4,
 "nbformat_minor": 5
}

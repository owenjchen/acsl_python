{
 "cells": [
  {
   "cell_type": "markdown",
   "id": "9267daa5-2c65-4373-abb5-5db448751e73",
   "metadata": {},
   "source": [
    "## Postfix to Prefix"
   ]
  },
  {
   "cell_type": "code",
   "execution_count": 5,
   "id": "1606e37b-ab92-4b9d-b3ff-39413737a075",
   "metadata": {},
   "outputs": [],
   "source": [
    "# Python3 Program to convert postfix to prefix\n",
    "\n",
    "# function to check if\n",
    "# character is operator or not\n",
    "\n",
    "Operators = set(['+', '-', '*', '/', '(', ')', '^'])  # collection of Operators\n",
    "def is_operator(c):\n",
    "    return (c in Operators)\n",
    "\n",
    "# Convert postfix to Prefix expression\n",
    "def postfix_to_prefix(postfix):\n",
    "\n",
    "    s = []\n",
    "\n",
    "    # length of expression\n",
    "    length = len(postfix)\n",
    "\n",
    "    # reading from right to left\n",
    "    for i in range(length):\n",
    "\n",
    "        # check if symbol is operator\n",
    "        if (is_operator(postfix[i])):\n",
    "            # pop two operands from stack\n",
    "            op1 = s[-1]\n",
    "            s.pop()\n",
    "            op2 = s[-1]\n",
    "            s.pop()\n",
    "\n",
    "            # concat the operands and operator\n",
    "            temp = postfix[i] + op2 + op1\n",
    "\n",
    "            # Push string temp back to stack\n",
    "            s.append(temp)\n",
    "\n",
    "        # if symbol is an operand\n",
    "        else:\n",
    "            # push the operand to the stack\n",
    "            s.append(postfix[i])\n",
    "\n",
    "    prefix = \"\"\n",
    "    for i in s:\n",
    "        prefix += i\n",
    "    return prefix"
   ]
  },
  {
   "cell_type": "code",
   "execution_count": 7,
   "id": "c17b2a9f-23c8-4854-af0a-6f8dd6b6f933",
   "metadata": {},
   "outputs": [
    {
     "name": "stdout",
     "output_type": "stream",
     "text": [
      "Postfix notation:  AB+CD-\n",
      "Prefix notation:  +AB-CD\n"
     ]
    }
   ],
   "source": [
    "expression = \"AB+CD-\"\n",
    "print('Postfix notation: ',expression)\n",
    "print('Prefix notation: ', postfix_to_prefix(expression))"
   ]
  },
  {
   "cell_type": "code",
   "execution_count": 8,
   "id": "ad5f4837-b564-42a7-8886-8e7e9329bc68",
   "metadata": {},
   "outputs": [
    {
     "name": "stdin",
     "output_type": "stream",
     "text": [
      "Enter postfix expression  ac*d+b/\n"
     ]
    },
    {
     "name": "stdout",
     "output_type": "stream",
     "text": [
      "postfix notation:  ac*d+b/\n",
      "prefix notation:  /+*acdb\n"
     ]
    }
   ],
   "source": [
    "expression = input('Enter postfix expression ')\n",
    "print('postfix notation: ',expression)\n",
    "print('prefix notation: ',postfix_to_prefix(expression))"
   ]
  },
  {
   "cell_type": "code",
   "execution_count": null,
   "id": "081493c1-959e-4b89-9543-aeb9623ae6e4",
   "metadata": {},
   "outputs": [],
   "source": []
  }
 ],
 "metadata": {
  "kernelspec": {
   "display_name": "Python 3 (ipykernel)",
   "language": "python",
   "name": "python3"
  },
  "language_info": {
   "codemirror_mode": {
    "name": "ipython",
    "version": 3
   },
   "file_extension": ".py",
   "mimetype": "text/x-python",
   "name": "python",
   "nbconvert_exporter": "python",
   "pygments_lexer": "ipython3",
   "version": "3.9.12"
  }
 },
 "nbformat": 4,
 "nbformat_minor": 5
}

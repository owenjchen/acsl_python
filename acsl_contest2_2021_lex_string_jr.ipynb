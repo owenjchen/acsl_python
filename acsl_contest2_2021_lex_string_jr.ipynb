{
 "cells": [
  {
   "cell_type": "markdown",
   "id": "8d4d7e75-8ab8-4607-abe4-12f375614a06",
   "metadata": {},
   "source": [
    "# ACSL 2020-2021 Contest #2 - Lex String\n",
    "\n",
    "## Junior Division"
   ]
  },
  {
   "cell_type": "markdown",
   "id": "a116a123-606a-406c-9fcd-6b805957b4a7",
   "metadata": {
    "tags": []
   },
   "source": [
    "### PROBLEM :\n",
    "Given an inputted string, create a new string as follows:\n",
    "\n",
    "1. Change uppercase letters to lowercase and eliminate all non-letters.\n",
    "2. Find all first occurrences of each distinct letter and arrange them in sorted order.\n",
    "3. Append these sorted letters to the end of a new string and remove those distinct letters from the original string.\n",
    "4. Repeat steps 2 and 3 until the original string is empty.\n",
    "5. Before outputting the new string, remove adjacent duplicate letters (e.g. \"bboooo\" becomes \"bo\").\n",
    "\n",
    "For example, the string “A good sorting algorithm.” would arrange as follows:\n",
    "1st pass: New string: adghilmnorst Rest of string: oogagorit  \n",
    "2nd pass: New string: adghilmnorstagiort Rest of string: ogo  \n",
    "3rd pass: New string: adghilmnorstagiortgo Rest of string: o  \n",
    "4th pass: New string: adghilmnorstagiortgoo Rest of string:  \n",
    "Output: adghilmnorstagiortgo  \n"
   ]
  },
  {
   "cell_type": "code",
   "execution_count": 4,
   "id": "9f597fa2-edbf-4ea0-ad32-0d92c9fef84c",
   "metadata": {},
   "outputs": [],
   "source": [
    "def lowerletters_v0(text):\n",
    "    \"\"\" convert an input text string to lower case letters and eliminiate all non-letters\n",
    "    \"\"\"\n",
    "    res = \"\"\n",
    "    for c in text:\n",
    "        if c.isalpha():\n",
    "            res += c.lower()\n",
    "            \n",
    "    return res"
   ]
  },
  {
   "cell_type": "code",
   "execution_count": 24,
   "id": "c87a0ce6-6617-4a76-b6f6-0c31cbbb7469",
   "metadata": {},
   "outputs": [],
   "source": [
    "def lowerletters_v1(text):\n",
    "    \"\"\" convert an input text string to lower case letters and eliminiate all non-letters\n",
    "    \"\"\"\n",
    "    return ''.join([c.lower() for c in text if c.isalpha()])"
   ]
  },
  {
   "cell_type": "code",
   "execution_count": 25,
   "id": "972d7cc5-fe5d-4dbd-bcad-d3e11f0a5233",
   "metadata": {},
   "outputs": [
    {
     "name": "stdout",
     "output_type": "stream",
     "text": [
      "thisisatestwithcharacters\n"
     ]
    }
   ],
   "source": [
    "input = \"This is a test with 100 Characters!\"\n",
    "output = lowerletters_v0(input)\n",
    "print(output)"
   ]
  },
  {
   "cell_type": "code",
   "execution_count": 26,
   "id": "4ebe0cfc-7798-49fa-a446-b17bcd607eb7",
   "metadata": {},
   "outputs": [
    {
     "name": "stdout",
     "output_type": "stream",
     "text": [
      "thisisatestwithcharacters\n"
     ]
    }
   ],
   "source": [
    "output = lowerletters_v1(input)\n",
    "print(output)"
   ]
  },
  {
   "cell_type": "code",
   "execution_count": 6,
   "id": "885df0e1-cb6d-4eda-b404-a89bccc7ffd3",
   "metadata": {},
   "outputs": [],
   "source": [
    "import re\n",
    "def lowerletters(text):\n",
    "    \"\"\" convert an input text string to lower case letters and eliminiate all non-letters\n",
    "    \"\"\"\n",
    "    return re.sub('[^a-zA-Z]', '', text).lower()"
   ]
  },
  {
   "cell_type": "code",
   "execution_count": 7,
   "id": "a39a0aae-4bdc-46c1-adad-e7b585b9447a",
   "metadata": {},
   "outputs": [
    {
     "name": "stdout",
     "output_type": "stream",
     "text": [
      "thisisatestwithcharacters\n"
     ]
    }
   ],
   "source": [
    "input = \"This is a test with 100 Characters!\"\n",
    "output = lowerletters(input)\n",
    "print(output)"
   ]
  },
  {
   "cell_type": "code",
   "execution_count": 28,
   "id": "64a2b99a-4be5-49fb-a451-314469ed5300",
   "metadata": {},
   "outputs": [],
   "source": [
    "def remove_letters(text, distinctlist):\n",
    "    if distinctlist:\n",
    "        mylist = distinctlist.copy()\n",
    "        res = \"\"\n",
    "        for c in text:\n",
    "            if c in mylist:\n",
    "                mylist.remove(c)\n",
    "            else:\n",
    "                res +=c\n",
    "        return res\n",
    "    else:\n",
    "        return text"
   ]
  },
  {
   "cell_type": "code",
   "execution_count": 29,
   "id": "026ed503-80e5-4434-aea4-4d8056384e9d",
   "metadata": {},
   "outputs": [
    {
     "name": "stdout",
     "output_type": "stream",
     "text": [
      "thisisatestwithcharacters\n",
      "['a', 'c', 'e', 'h', 'i', 'r', 's', 't', 'w']\n",
      "iststithhaacters\n"
     ]
    }
   ],
   "source": [
    "input = \"This is a test with 100 Characters!\"\n",
    "text = lowerletters(input)\n",
    "print(text)\n",
    "distinct = sorted(set(text))\n",
    "print(distinct)\n",
    "output = remove_letters(text, distinct)\n",
    "print(output)"
   ]
  },
  {
   "cell_type": "code",
   "execution_count": 30,
   "id": "95c1acbe-103d-4862-851e-20d090e1ea16",
   "metadata": {},
   "outputs": [],
   "source": [
    "def remove_duplicate(text):\n",
    "    \"\"\"\n",
    "    A function to remove adjacent duplicate letters\n",
    "    \"\"\"    \n",
    "    res = ''\n",
    "    prev = ''\n",
    "    for c in text:\n",
    "        if c != prev:\n",
    "            res +=c\n",
    "        prev = c\n",
    "    return res\n",
    "            "
   ]
  },
  {
   "cell_type": "code",
   "execution_count": 31,
   "id": "d2bef754-1ab5-42a7-8c81-8b8b90e95fa0",
   "metadata": {},
   "outputs": [
    {
     "name": "stdout",
     "output_type": "stream",
     "text": [
      "boc\n"
     ]
    }
   ],
   "source": [
    "input = \"bboocc\"\n",
    "output = remove_duplicate(input)\n",
    "print(output)"
   ]
  },
  {
   "cell_type": "code",
   "execution_count": 32,
   "id": "4929f8b0-dde8-463a-b68e-8179bf50d66c",
   "metadata": {},
   "outputs": [],
   "source": [
    "def lexstring_sub(text, debug=False):\n",
    "    \"\"\"\n",
    "    A Lex String Substitution function for ACSL 2021 Contest #2 Programming Problem    \n",
    "    \"\"\"\n",
    "\n",
    "    # Step 2 - Find all first occurrences of each distinct letter and arrange them in sorted order.\n",
    "    distinct_letters = set(text)\n",
    "    res = sorted(distinct_letters)\n",
    "    \n",
    "    # Step 3 - Append these sorted letters to the end of a new string and remove those distinct letters from the original string.    \n",
    "    remaining_letters = remove_letters(text, distinct_letters)\n",
    "    if debug:\n",
    "        print(f\"text: {text}, distinct_letters:{''.join(res)}, remaining_letters: {remaining_letters}\")\n",
    "\n",
    "    # Recursive:\n",
    "    if remaining_letters:\n",
    "        return res + lexstring_sub(remaining_letters)\n",
    "    else:\n",
    "        return res"
   ]
  },
  {
   "cell_type": "code",
   "execution_count": 33,
   "id": "b2a47c23-734e-4241-835f-ef7fabb0558c",
   "metadata": {},
   "outputs": [],
   "source": [
    "def lexstring_cipher(text, debug=False):\n",
    "    \"\"\"\n",
    "    A Lex String Cipher function for ACSL 2021 Contest #2 Programming Problem    \n",
    "    \"\"\"\n",
    "    # Step 1 - Change uppercase letters to lowercase and eliminate all non-letters.\n",
    "    text = lowerletters(text)\n",
    "    if debug:\n",
    "        print(\"after step 1:\", text)\n",
    "        \n",
    "    # Steps 2 & 3    \n",
    "    res = lexstring_sub(text, debug=debug)\n",
    "    if debug:\n",
    "        print(\"after Steps 2 & 3:\",''.join(res))    \n",
    "    \n",
    "    # Final Step - remove adjacent duplicates\n",
    "    res = remove_duplicate(res)\n",
    "    if debug:\n",
    "        print(\"after Final Step:\", res)    \n",
    "        \n",
    "    return res\n"
   ]
  },
  {
   "cell_type": "code",
   "execution_count": 34,
   "id": "f4c5aa36-14f3-43a8-ae02-10b2963e1532",
   "metadata": {},
   "outputs": [
    {
     "name": "stdout",
     "output_type": "stream",
     "text": [
      "adghilmnorstagiortgo\n"
     ]
    }
   ],
   "source": [
    "input = \"A good sorting algorithm.\"\n",
    "output = lexstring_cipher(input)\n",
    "print(output)"
   ]
  },
  {
   "cell_type": "code",
   "execution_count": 35,
   "id": "4f23cf9a-aa95-435d-a55a-8f2a03e867d1",
   "metadata": {},
   "outputs": [
    {
     "name": "stdout",
     "output_type": "stream",
     "text": [
      "after step 1: agoodsortingalgorithm\n",
      "text: agoodsortingalgorithm, distinct_letters:adghilmnorst, remaining_letters: oogagorit\n",
      "after Steps 2 & 3: adghilmnorstagiortgoo\n",
      "after Final Step: adghilmnorstagiortgo\n",
      "adghilmnorstagiortgo\n"
     ]
    }
   ],
   "source": [
    "input = \"A good sorting algorithm.\"\n",
    "output = lexstring_cipher(input, debug=True)\n",
    "print(output)"
   ]
  },
  {
   "cell_type": "code",
   "execution_count": 16,
   "id": "efe9bb14-1e55-4d81-a9a6-19986f32c1c5",
   "metadata": {},
   "outputs": [
    {
     "name": "stdout",
     "output_type": "stream",
     "text": [
      "after step 1: tennesseeisthevolunteerstate\n",
      "text: tennesseeisthevolunteerstate, distinct_letters:aehilnorstuv, remaining_letters: neseestenteestte\n",
      "after Steps 2 & 3: aehilnorstuvenstenstesteteee\n",
      "after Final Step: aehilnorstuvenstenstestete\n",
      "aehilnorstuvenstenstestete\n"
     ]
    }
   ],
   "source": [
    "input = \"Tennessee is the volunteer state.\"\n",
    "output = lexstring_cipher(input, debug=True)\n",
    "print(output)"
   ]
  },
  {
   "cell_type": "code",
   "execution_count": 17,
   "id": "6eda2d55-0dce-4fda-ac2a-e0be69584208",
   "metadata": {},
   "outputs": [
    {
     "name": "stdout",
     "output_type": "stream",
     "text": [
      "after step 1: einsteinwasagenius\n",
      "text: einsteinwasagenius, distinct_letters:aeginstuw, remaining_letters: einsaenis\n",
      "after Steps 2 & 3: aeginstuwaeinseins\n",
      "after Final Step: aeginstuwaeinseins\n",
      "aeginstuwaeinseins\n"
     ]
    }
   ],
   "source": [
    "input = \"Einstein was a genius.\"\n",
    "output = lexstring_cipher(input, debug=True)\n",
    "print(output)"
   ]
  },
  {
   "cell_type": "code",
   "execution_count": 36,
   "id": "e2361edd-b684-464f-843f-2271fb4a4797",
   "metadata": {},
   "outputs": [
    {
     "name": "stdout",
     "output_type": "stream",
     "text": [
      "1. adghilmnorstagiortgo\n",
      "2. aehilnorstuvenstenstestete\n",
      "3. aeginstuwaeinseins\n",
      "4. aehimoprstvwyeimprsteirsisis\n",
      "5. abehlorstyaehlsehlsehlseseses\n"
     ]
    }
   ],
   "source": [
    "inputs =[\"A good sorting algorithm.\",\n",
    "         \"Tennessee is the volunteer state.\",\n",
    "         \"Einstein was a genius.\",\n",
    "         \"Tom Sawyer & the Mississippi River \", \n",
    "         \"She sells seashells by the seashore.\"]\n",
    "answers = [\"adghilmnorstagiortgo\", \n",
    "           \"aehilnorstuvenstenstestete\",\n",
    "           \"aeginstuwaeinseins\",\n",
    "           \"aehimoprstvwyeimprsteirsisis\",\n",
    "           \"abehlorstyaehlsehlsehlseseses\"]\n",
    "   \n",
    "for index, input in enumerate(inputs):\n",
    "         output = lexstring_cipher(input)\n",
    "         if output != answers[index]:\n",
    "             print(\"Error: wrong answer on input {index+1}\")\n",
    "         else:\n",
    "             print(f\"{index+1}. {output}\")\n",
    "         "
   ]
  },
  {
   "cell_type": "code",
   "execution_count": null,
   "id": "a8982044-c3b4-4ac0-8e64-3dfaabb6297f",
   "metadata": {},
   "outputs": [],
   "source": []
  }
 ],
 "metadata": {
  "kernelspec": {
   "display_name": "Python 3 (ipykernel)",
   "language": "python",
   "name": "python3"
  },
  "language_info": {
   "codemirror_mode": {
    "name": "ipython",
    "version": 3
   },
   "file_extension": ".py",
   "mimetype": "text/x-python",
   "name": "python",
   "nbconvert_exporter": "python",
   "pygments_lexer": "ipython3",
   "version": "3.9.12"
  }
 },
 "nbformat": 4,
 "nbformat_minor": 5
}

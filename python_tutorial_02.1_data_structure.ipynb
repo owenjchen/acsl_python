{
 "cells": [
  {
   "cell_type": "markdown",
   "metadata": {
    "id": "s39SnnxrZxsx"
   },
   "source": [
    "# Python Tutorials: Data Structures\n",
    "\n",
    "### Author: Dr. Owen Chen\n",
    "\n",
    "### Date: 2023 Fall\n",
    "\n",
    "### Data structures covered in this tutorial:\n",
    "\n",
    "<a id=\"toc\"></a>\n",
    "1. [Lists,Tuples,Strings and Sequences](#list)\n",
    "2. [Stack](#stack)\n",
    "3. [Queue](#queue)\n",
    "4. [Dictionaries](#dict)\n",
    "5. [Sets](#set)"
   ]
  },
  {
   "cell_type": "markdown",
   "metadata": {
    "id": "0mnOHaZpZ1CU"
   },
   "source": [
    "<a id='list'></a>\n",
    "## Lists, Tuples, Strings and Sequences "
   ]
  },
  {
   "cell_type": "markdown",
   "metadata": {
    "id": "aCBZvOZn3V6D"
   },
   "source": [
    "### Sequences\n",
    "Lists, tuples, and strings are all Python sequences, and share many of the same methods."
   ]
  },
  {
   "cell_type": "markdown",
   "metadata": {},
   "source": [
    "## List"
   ]
  },
  {
   "cell_type": "markdown",
   "metadata": {
    "id": "MgQzM2FbzhpW"
   },
   "source": [
    "### Creating an empty list"
   ]
  },
  {
   "cell_type": "code",
   "execution_count": null,
   "metadata": {
    "colab": {
     "base_uri": "https://localhost:8080/",
     "height": 34
    },
    "id": "1gUdm3jfzlCB",
    "outputId": "a84844d5-a2f6-43f5-f587-8e00535ea56f"
   },
   "outputs": [
    {
     "data": {
      "text/plain": [
       "[]"
      ]
     },
     "execution_count": 4,
     "metadata": {
      "tags": []
     },
     "output_type": "execute_result"
    }
   ],
   "source": [
    "empty = []\n",
    "empty"
   ]
  },
  {
   "cell_type": "code",
   "execution_count": 88,
   "metadata": {},
   "outputs": [
    {
     "data": {
      "text/plain": [
       "[]"
      ]
     },
     "execution_count": 88,
     "metadata": {},
     "output_type": "execute_result"
    }
   ],
   "source": [
    "empty=list()\n",
    "empty"
   ]
  },
  {
   "cell_type": "code",
   "execution_count": 89,
   "metadata": {},
   "outputs": [
    {
     "data": {
      "text/plain": [
       "list"
      ]
     },
     "execution_count": 89,
     "metadata": {},
     "output_type": "execute_result"
    }
   ],
   "source": [
    "type(empty)"
   ]
  },
  {
   "cell_type": "markdown",
   "metadata": {
    "id": "fLx7Rtstz3Pn"
   },
   "source": [
    "### Using square brackets with initial values"
   ]
  },
  {
   "cell_type": "code",
   "execution_count": 90,
   "metadata": {
    "colab": {
     "base_uri": "https://localhost:8080/",
     "height": 34
    },
    "id": "X6_VTC9moTAM",
    "outputId": "c218cea9-dbf7-4b5d-d8b2-4915070562a0"
   },
   "outputs": [
    {
     "data": {
      "text/plain": [
       "[1, 2, 3]"
      ]
     },
     "execution_count": 90,
     "metadata": {},
     "output_type": "execute_result"
    }
   ],
   "source": [
    "numbers = [1, 2, 3]\n",
    "numbers\n"
   ]
  },
  {
   "cell_type": "markdown",
   "metadata": {
    "id": "RN5dAwcv4EwQ"
   },
   "source": [
    "### Casting an iterable\n",
    "Any iterable can be cast to a list"
   ]
  },
  {
   "cell_type": "code",
   "execution_count": 91,
   "metadata": {
    "colab": {
     "base_uri": "https://localhost:8080/",
     "height": 34
    },
    "id": "IWCOdiiJ4Iv5",
    "outputId": "63d56640-a0c9-4f64-8882-b61950a8a059"
   },
   "outputs": [
    {
     "data": {
      "text/plain": [
       "[0, 1, 2, 3, 4, 5, 6, 7, 8, 9]"
      ]
     },
     "execution_count": 91,
     "metadata": {},
     "output_type": "execute_result"
    }
   ],
   "source": [
    "numbers = list(range(10))\n",
    "numbers"
   ]
  },
  {
   "cell_type": "markdown",
   "metadata": {
    "id": "m7FQdEVcAMJl"
   },
   "source": [
    "### Creating using multiplication"
   ]
  },
  {
   "cell_type": "code",
   "execution_count": 93,
   "metadata": {
    "colab": {
     "base_uri": "https://localhost:8080/",
     "height": 34
    },
    "id": "lanCHsNZATqK",
    "outputId": "afdc49d3-928d-4854-9ff4-4ef2709d10d7"
   },
   "outputs": [
    {
     "data": {
      "text/plain": [
       "[1, 1, 1, 1, 1, 1, 1, 1, 1, 1]"
      ]
     },
     "execution_count": 93,
     "metadata": {},
     "output_type": "execute_result"
    }
   ],
   "source": [
    "num_players = 10\n",
    "scores = [1] * num_players\n",
    "scores"
   ]
  },
  {
   "cell_type": "markdown",
   "metadata": {
    "id": "h9l7kUOC43iL"
   },
   "source": [
    "### Mixing data types\n",
    "Lists can contain multple data types"
   ]
  },
  {
   "cell_type": "code",
   "execution_count": null,
   "metadata": {
    "colab": {
     "base_uri": "https://localhost:8080/",
     "height": 34
    },
    "id": "jBqfcq6Q4-Yl",
    "outputId": "38f14f53-4a84-4c4a-d56b-3254d72bd0a7"
   },
   "outputs": [
    {
     "data": {
      "text/plain": [
       "['a', 1, 2.0, [13], {}]"
      ]
     },
     "execution_count": 8,
     "metadata": {
      "tags": []
     },
     "output_type": "execute_result"
    }
   ],
   "source": [
    "mixed = ['a', 1, 2.0, [13], {}]\n",
    "mixed"
   ]
  },
  {
   "cell_type": "markdown",
   "metadata": {
    "id": "_rehYX145nEk"
   },
   "source": [
    "### Indexing\n",
    "Items in lists can be accessed using indices in a similar fashion to strings."
   ]
  },
  {
   "cell_type": "markdown",
   "metadata": {
    "id": "PuGNKkIV5_64"
   },
   "source": [
    "#### Access first item"
   ]
  },
  {
   "cell_type": "code",
   "execution_count": null,
   "metadata": {
    "colab": {
     "base_uri": "https://localhost:8080/",
     "height": 34
    },
    "id": "98QVzpN_ogFQ",
    "outputId": "93224fef-7b66-492e-851c-62c71a4d3eb5"
   },
   "outputs": [
    {
     "data": {
      "text/plain": [
       "0"
      ]
     },
     "execution_count": 9,
     "metadata": {
      "tags": []
     },
     "output_type": "execute_result"
    }
   ],
   "source": [
    "numbers[0]\n"
   ]
  },
  {
   "cell_type": "markdown",
   "metadata": {
    "id": "wYljuMmX6FDo"
   },
   "source": [
    "#### Access last item"
   ]
  },
  {
   "cell_type": "code",
   "execution_count": null,
   "metadata": {
    "colab": {
     "base_uri": "https://localhost:8080/",
     "height": 34
    },
    "id": "j5XB0hVZ6S5E",
    "outputId": "702efb97-d245-4b06-c028-fe8ae61288e6"
   },
   "outputs": [
    {
     "data": {
      "text/plain": [
       "8"
      ]
     },
     "execution_count": 11,
     "metadata": {
      "tags": []
     },
     "output_type": "execute_result"
    }
   ],
   "source": [
    "numbers[-2]"
   ]
  },
  {
   "cell_type": "markdown",
   "metadata": {
    "id": "tZJYdQW87vwk"
   },
   "source": [
    "#### Access any item"
   ]
  },
  {
   "cell_type": "code",
   "execution_count": null,
   "metadata": {
    "colab": {
     "base_uri": "https://localhost:8080/",
     "height": 34
    },
    "id": "7EJZyQUl7y_5",
    "outputId": "433c5b3d-51f9-44ee-bb1b-d8d162c744bf"
   },
   "outputs": [
    {
     "data": {
      "text/plain": [
       "4"
      ]
     },
     "execution_count": 12,
     "metadata": {
      "tags": []
     },
     "output_type": "execute_result"
    }
   ],
   "source": [
    "numbers[4]"
   ]
  },
  {
   "cell_type": "markdown",
   "metadata": {
    "id": "g4-XjayC8KO7"
   },
   "source": [
    "### Adding to a list"
   ]
  },
  {
   "cell_type": "markdown",
   "metadata": {
    "id": "VVoxc0Co81iD"
   },
   "source": [
    "#### Append to the end of a list"
   ]
  },
  {
   "cell_type": "code",
   "execution_count": null,
   "metadata": {
    "colab": {
     "base_uri": "https://localhost:8080/",
     "height": 34
    },
    "id": "7l9O1BOz89Sg",
    "outputId": "f5ed7734-afd3-4dcd-8311-ac809622b29b"
   },
   "outputs": [
    {
     "data": {
      "text/plain": [
       "['a', 'c']"
      ]
     },
     "execution_count": 14,
     "metadata": {
      "tags": []
     },
     "output_type": "execute_result"
    }
   ],
   "source": [
    "letters = ['a']\n",
    "letters.append('c')\n",
    "letters"
   ]
  },
  {
   "cell_type": "markdown",
   "metadata": {
    "id": "GOWYij2p9bwL"
   },
   "source": [
    "#### Insert at beginning of list"
   ]
  },
  {
   "cell_type": "code",
   "execution_count": null,
   "metadata": {
    "colab": {
     "base_uri": "https://localhost:8080/",
     "height": 34
    },
    "id": "KgMcKp5W9fI7",
    "outputId": "5f5acb75-5715-456a-f63b-76d675676766"
   },
   "outputs": [
    {
     "data": {
      "text/plain": [
       "['b', 'a', 'c']"
      ]
     },
     "execution_count": 15,
     "metadata": {
      "tags": []
     },
     "output_type": "execute_result"
    }
   ],
   "source": [
    "letters.insert(0, 'b')\n",
    "letters"
   ]
  },
  {
   "cell_type": "markdown",
   "metadata": {
    "id": "z2pfGnq7-PHc"
   },
   "source": [
    "#### Insert at arbitrary position"
   ]
  },
  {
   "cell_type": "code",
   "execution_count": null,
   "metadata": {
    "colab": {
     "base_uri": "https://localhost:8080/",
     "height": 34
    },
    "id": "SgovUUMS-TxT",
    "outputId": "2d639b6d-eaa7-4f91-b837-88136a2b403a"
   },
   "outputs": [
    {
     "data": {
      "text/plain": [
       "['b', 'a', 'c', 'c']"
      ]
     },
     "execution_count": 16,
     "metadata": {
      "tags": []
     },
     "output_type": "execute_result"
    }
   ],
   "source": [
    "letters.insert(2, 'c')\n",
    "letters"
   ]
  },
  {
   "cell_type": "markdown",
   "metadata": {
    "id": "W2WMgepZAjkO"
   },
   "source": [
    "#### Extending with another list"
   ]
  },
  {
   "cell_type": "code",
   "execution_count": null,
   "metadata": {
    "colab": {
     "base_uri": "https://localhost:8080/",
     "height": 34
    },
    "id": "UYn06yndAoNH",
    "outputId": "a1c34ae5-d500-44b0-98a3-c4db3b47c910"
   },
   "outputs": [
    {
     "data": {
      "text/plain": [
       "['b', 'a', 'c', 'c', 'e', 'f', 'g']"
      ]
     },
     "execution_count": 17,
     "metadata": {
      "tags": []
     },
     "output_type": "execute_result"
    }
   ],
   "source": [
    "more_letters = ['e', 'f', 'g']\n",
    "letters.extend(more_letters)\n",
    "letters"
   ]
  },
  {
   "cell_type": "markdown",
   "metadata": {
    "id": "wzPgAr_s_CrC"
   },
   "source": [
    "### Change item at some position"
   ]
  },
  {
   "cell_type": "code",
   "execution_count": null,
   "metadata": {
    "colab": {
     "base_uri": "https://localhost:8080/",
     "height": 34
    },
    "id": "BZGy8c8bov2q",
    "outputId": "4fc4fd41-0e1e-4324-8302-b0ce19558908"
   },
   "outputs": [
    {
     "data": {
      "text/plain": [
       "['b', 'a', 'c', 'd', 'e', 'f', 'g']"
      ]
     },
     "execution_count": 18,
     "metadata": {
      "tags": []
     },
     "output_type": "execute_result"
    }
   ],
   "source": [
    "letters[3] = 'd'\n",
    "letters"
   ]
  },
  {
   "cell_type": "markdown",
   "metadata": {
    "id": "PGcA5_5__RZm"
   },
   "source": [
    "### Swap two items"
   ]
  },
  {
   "cell_type": "code",
   "execution_count": null,
   "metadata": {
    "colab": {
     "base_uri": "https://localhost:8080/",
     "height": 34
    },
    "id": "egbXdmQ__UB4",
    "outputId": "439400af-99d2-4d6c-aaac-f16c822bf73e"
   },
   "outputs": [
    {
     "data": {
      "text/plain": [
       "['a', 'b', 'c', 'd', 'e', 'f', 'g']"
      ]
     },
     "execution_count": 19,
     "metadata": {
      "tags": []
     },
     "output_type": "execute_result"
    }
   ],
   "source": [
    "letters[0], letters[1] = letters[1], letters[0]\n",
    "letters"
   ]
  },
  {
   "cell_type": "markdown",
   "metadata": {
    "id": "RNirVSMaHOp4"
   },
   "source": [
    "### Removing items from a list"
   ]
  },
  {
   "cell_type": "markdown",
   "metadata": {
    "id": "K0ecop0OHXo_"
   },
   "source": [
    "#### Pop from the end"
   ]
  },
  {
   "cell_type": "code",
   "execution_count": null,
   "metadata": {
    "colab": {
     "base_uri": "https://localhost:8080/",
     "height": 34
    },
    "id": "ZfFG3MZ7HdXa",
    "outputId": "fe842c28-5813-4286-df92-908864af1f53"
   },
   "outputs": [
    {
     "data": {
      "text/plain": [
       "['a', 'b', 'c', 'd', 'e']"
      ]
     },
     "execution_count": 20,
     "metadata": {
      "tags": []
     },
     "output_type": "execute_result"
    }
   ],
   "source": [
    "letters = ['a', 'b', 'c', 'd', 'e', 'f']\n",
    "letters.pop()\n",
    "letters"
   ]
  },
  {
   "cell_type": "markdown",
   "metadata": {
    "id": "WSm1EhxBH8a2"
   },
   "source": [
    "#### Pop by index"
   ]
  },
  {
   "cell_type": "code",
   "execution_count": null,
   "metadata": {
    "colab": {
     "base_uri": "https://localhost:8080/",
     "height": 34
    },
    "id": "R62Fg9l4IAYV",
    "outputId": "a6bc87d5-46e8-4383-ced0-e53c67026e43"
   },
   "outputs": [
    {
     "data": {
      "text/plain": [
       "['a', 'b', 'd', 'e']"
      ]
     },
     "execution_count": 21,
     "metadata": {
      "tags": []
     },
     "output_type": "execute_result"
    }
   ],
   "source": [
    "letters.pop(2)\n",
    "letters"
   ]
  },
  {
   "cell_type": "markdown",
   "metadata": {
    "id": "wDhR89qxIUEh"
   },
   "source": [
    "#### Remove specific item"
   ]
  },
  {
   "cell_type": "code",
   "execution_count": null,
   "metadata": {
    "colab": {
     "base_uri": "https://localhost:8080/",
     "height": 34
    },
    "id": "cAyAJIeOpYrU",
    "outputId": "60762469-653a-4e89-8ffc-4082273b728e"
   },
   "outputs": [
    {
     "data": {
      "text/plain": [
       "['a', 'b', 'e']"
      ]
     },
     "execution_count": 22,
     "metadata": {
      "tags": []
     },
     "output_type": "execute_result"
    }
   ],
   "source": [
    "letters.remove('d')\n",
    "letters"
   ]
  },
  {
   "cell_type": "markdown",
   "metadata": {},
   "source": [
    "## 1.2 String\n",
    "A string is a list with each element of a character data type."
   ]
  },
  {
   "cell_type": "code",
   "execution_count": 2,
   "metadata": {},
   "outputs": [
    {
     "data": {
      "text/plain": [
       "'Hello, World!'"
      ]
     },
     "execution_count": 2,
     "metadata": {},
     "output_type": "execute_result"
    }
   ],
   "source": [
    "# A string is contained within 2 quotes:\n",
    "s = \"Hello, World!\"\n",
    "s"
   ]
  },
  {
   "cell_type": "code",
   "execution_count": 94,
   "metadata": {},
   "outputs": [
    {
     "data": {
      "text/plain": [
       "'Hello, World!'"
      ]
     },
     "execution_count": 94,
     "metadata": {},
     "output_type": "execute_result"
    }
   ],
   "source": [
    "# Can also use single quotes:\n",
    "s = 'Hello, World!'\n",
    "s"
   ]
  },
  {
   "cell_type": "code",
   "execution_count": 95,
   "metadata": {},
   "outputs": [
    {
     "data": {
      "text/plain": [
       "'H'"
      ]
     },
     "execution_count": 95,
     "metadata": {},
     "output_type": "execute_result"
    }
   ],
   "source": [
    "s[0]"
   ]
  },
  {
   "cell_type": "code",
   "execution_count": 12,
   "metadata": {},
   "outputs": [
    {
     "data": {
      "text/plain": [
       "'1 2 3 4 5 6 7'"
      ]
     },
     "execution_count": 12,
     "metadata": {},
     "output_type": "execute_result"
    }
   ],
   "source": [
    "# A string can be spaces and digits:\n",
    "s = '1 2 3 4 5 6 7'\n",
    "s"
   ]
  },
  {
   "cell_type": "code",
   "execution_count": 13,
   "metadata": {},
   "outputs": [
    {
     "data": {
      "text/plain": [
       "str"
      ]
     },
     "execution_count": 13,
     "metadata": {},
     "output_type": "execute_result"
    }
   ],
   "source": [
    "type(s)"
   ]
  },
  {
   "cell_type": "code",
   "execution_count": 14,
   "metadata": {},
   "outputs": [
    {
     "data": {
      "text/plain": [
       "[1, 2, 3, 4, 5, 6, 7]"
      ]
     },
     "execution_count": 14,
     "metadata": {},
     "output_type": "execute_result"
    }
   ],
   "source": [
    "# compare to a list of numbers\n",
    "s = [1,2,3,4,5,6,7]\n",
    "s"
   ]
  },
  {
   "cell_type": "code",
   "execution_count": 15,
   "metadata": {},
   "outputs": [
    {
     "data": {
      "text/plain": [
       "list"
      ]
     },
     "execution_count": 15,
     "metadata": {},
     "output_type": "execute_result"
    }
   ],
   "source": [
    "type(s)"
   ]
  },
  {
   "cell_type": "markdown",
   "metadata": {},
   "source": [
    "### Indexing on a string is the same as indexing on a list"
   ]
  },
  {
   "cell_type": "code",
   "execution_count": 5,
   "metadata": {},
   "outputs": [
    {
     "data": {
      "text/plain": [
       "'1'"
      ]
     },
     "execution_count": 5,
     "metadata": {},
     "output_type": "execute_result"
    }
   ],
   "source": [
    "s[0]"
   ]
  },
  {
   "cell_type": "code",
   "execution_count": 6,
   "metadata": {},
   "outputs": [
    {
     "data": {
      "text/plain": [
       "'7'"
      ]
     },
     "execution_count": 6,
     "metadata": {},
     "output_type": "execute_result"
    }
   ],
   "source": [
    "s[-1]"
   ]
  },
  {
   "cell_type": "code",
   "execution_count": 7,
   "metadata": {},
   "outputs": [
    {
     "data": {
      "text/plain": [
       "'2 3'"
      ]
     },
     "execution_count": 7,
     "metadata": {},
     "output_type": "execute_result"
    }
   ],
   "source": [
    "# a slice - 3rd character (inclusive) to the 6th character (noninclusive)\n",
    "s[2:5]"
   ]
  },
  {
   "cell_type": "code",
   "execution_count": 8,
   "metadata": {},
   "outputs": [
    {
     "data": {
      "text/plain": [
       "' 3 4 5 6 7'"
      ]
     },
     "execution_count": 8,
     "metadata": {},
     "output_type": "execute_result"
    }
   ],
   "source": [
    "# 4th character and onward:\n",
    "s[3:]"
   ]
  },
  {
   "cell_type": "markdown",
   "metadata": {},
   "source": [
    "### Add and Multiple strings"
   ]
  },
  {
   "cell_type": "code",
   "execution_count": 96,
   "metadata": {},
   "outputs": [
    {
     "data": {
      "text/plain": [
       "'Welcome to the Python class!'"
      ]
     },
     "execution_count": 96,
     "metadata": {},
     "output_type": "execute_result"
    }
   ],
   "source": [
    "s1 = \"Welcome\"\n",
    "s2 = \"to the Python class!\"\n",
    "s = s1 + \" \" + s2\n",
    "s"
   ]
  },
  {
   "cell_type": "code",
   "execution_count": 97,
   "metadata": {},
   "outputs": [
    {
     "data": {
      "text/plain": [
       "'------------------------------------------------------------'"
      ]
     },
     "execution_count": 97,
     "metadata": {},
     "output_type": "execute_result"
    }
   ],
   "source": [
    "# a dash line with 60 of \"-\"\n",
    "s3 = \"-\"\n",
    "s = s3*60\n",
    "s"
   ]
  },
  {
   "cell_type": "markdown",
   "metadata": {},
   "source": [
    "## 1.3 Tuples"
   ]
  },
  {
   "cell_type": "markdown",
   "metadata": {
    "id": "D9_M_6cwUAaX"
   },
   "source": [
    "### Create tuple using brackets"
   ]
  },
  {
   "cell_type": "code",
   "execution_count": null,
   "metadata": {
    "colab": {
     "base_uri": "https://localhost:8080/",
     "height": 34
    },
    "id": "7Zqb_MU2UEJa",
    "outputId": "0b125537-00c5-4bd2-85d4-3dc130fcf6b7"
   },
   "outputs": [
    {
     "data": {
      "text/plain": [
       "(1, 2, 3)"
      ]
     },
     "execution_count": 23,
     "metadata": {
      "tags": []
     },
     "output_type": "execute_result"
    }
   ],
   "source": [
    "tup = (1, 2, 3)\n",
    "tup"
   ]
  },
  {
   "cell_type": "markdown",
   "metadata": {
    "id": "ep3XqjhqUIS1"
   },
   "source": [
    "### Create tuple with commas"
   ]
  },
  {
   "cell_type": "code",
   "execution_count": null,
   "metadata": {
    "colab": {
     "base_uri": "https://localhost:8080/",
     "height": 34
    },
    "id": "Oz8dkzlzUNEe",
    "outputId": "c8b25da2-8291-406f-b3e3-614cb7c06bba"
   },
   "outputs": [
    {
     "data": {
      "text/plain": [
       "(1, 2, 3)"
      ]
     },
     "execution_count": 24,
     "metadata": {
      "tags": []
     },
     "output_type": "execute_result"
    }
   ],
   "source": [
    "tup = 1, 2, 3\n",
    "tup"
   ]
  },
  {
   "cell_type": "markdown",
   "metadata": {
    "id": "p5Ie15xNUvK-"
   },
   "source": [
    "### Create empty tuple"
   ]
  },
  {
   "cell_type": "code",
   "execution_count": null,
   "metadata": {
    "colab": {
     "base_uri": "https://localhost:8080/",
     "height": 34
    },
    "id": "6M3eLXfXUxLX",
    "outputId": "83081a8c-9e5b-4a5a-bd3e-248f805e6da7"
   },
   "outputs": [
    {
     "data": {
      "text/plain": [
       "()"
      ]
     },
     "execution_count": 25,
     "metadata": {
      "tags": []
     },
     "output_type": "execute_result"
    }
   ],
   "source": [
    "tup = ()\n",
    "tup"
   ]
  },
  {
   "cell_type": "markdown",
   "metadata": {
    "id": "0YKr2HU6UzgT"
   },
   "source": [
    "### Create tuple with single item"
   ]
  },
  {
   "cell_type": "code",
   "execution_count": null,
   "metadata": {
    "colab": {
     "base_uri": "https://localhost:8080/",
     "height": 34
    },
    "id": "9ib336cLU3iu",
    "outputId": "1f47d8eb-ed90-4c0e-d759-e7aa76f4b11d"
   },
   "outputs": [
    {
     "data": {
      "text/plain": [
       "(1,)"
      ]
     },
     "execution_count": 28,
     "metadata": {
      "tags": []
     },
     "output_type": "execute_result"
    }
   ],
   "source": [
    "tup = 1,\n",
    "tup"
   ]
  },
  {
   "cell_type": "markdown",
   "metadata": {
    "id": "a_eqCY6XTy1x"
   },
   "source": [
    "### Behaviours shared by lists and tuples\n",
    "The following sequence behaviors are shared by lists and tuples"
   ]
  },
  {
   "cell_type": "markdown",
   "metadata": {
    "id": "HpNqX6QFLmdK"
   },
   "source": [
    "### Check item in sequence"
   ]
  },
  {
   "cell_type": "code",
   "execution_count": null,
   "metadata": {
    "colab": {
     "base_uri": "https://localhost:8080/",
     "height": 34
    },
    "id": "NpIdl5Cfp7-f",
    "outputId": "1f78c614-29a9-42d7-d2da-300df5698dfc"
   },
   "outputs": [
    {
     "data": {
      "text/plain": [
       "True"
      ]
     },
     "execution_count": 29,
     "metadata": {
      "tags": []
     },
     "output_type": "execute_result"
    }
   ],
   "source": [
    "3 in (1, 2, 3, 4, 5)"
   ]
  },
  {
   "cell_type": "markdown",
   "metadata": {
    "id": "Ms_bF8BjL79W"
   },
   "source": [
    "### Check item not in sequence"
   ]
  },
  {
   "cell_type": "code",
   "execution_count": null,
   "metadata": {
    "colab": {
     "base_uri": "https://localhost:8080/",
     "height": 34
    },
    "id": "gLXaJE6EMGyb",
    "outputId": "786985a3-a630-4617-a4d3-babd7fca9e77"
   },
   "outputs": [
    {
     "data": {
      "text/plain": [
       "True"
      ]
     },
     "execution_count": 30,
     "metadata": {
      "tags": []
     },
     "output_type": "execute_result"
    }
   ],
   "source": [
    "'a' not in [1, 2, 3, 4, 5]"
   ]
  },
  {
   "cell_type": "markdown",
   "metadata": {
    "id": "UNKJxMb6Mipn"
   },
   "source": [
    "### Slicing"
   ]
  },
  {
   "cell_type": "markdown",
   "metadata": {
    "id": "r_fLVxRhNWLA"
   },
   "source": [
    "#### Setting start, slice to the end"
   ]
  },
  {
   "cell_type": "code",
   "execution_count": null,
   "metadata": {
    "colab": {
     "base_uri": "https://localhost:8080/",
     "height": 34
    },
    "id": "098SVCIvsibb",
    "outputId": "8a737bd9-05af-4f95-fdc4-aa882fef47c9"
   },
   "outputs": [
    {
     "data": {
      "text/plain": [
       "('d',)"
      ]
     },
     "execution_count": 32,
     "metadata": {
      "tags": []
     },
     "output_type": "execute_result"
    }
   ],
   "source": [
    "letters = 'a', 'b', 'c', 'd', 'e', 'f'\n",
    "letters[3:4]\n"
   ]
  },
  {
   "cell_type": "markdown",
   "metadata": {
    "id": "dsNvabgmNeqw"
   },
   "source": [
    "#### Set end, slice from beginning"
   ]
  },
  {
   "cell_type": "code",
   "execution_count": null,
   "metadata": {
    "colab": {
     "base_uri": "https://localhost:8080/",
     "height": 34
    },
    "id": "QVNJeYVtNh56",
    "outputId": "249d9c60-e20c-4d78-dc02-67b74b17fe17"
   },
   "outputs": [
    {
     "data": {
      "text/plain": [
       "('a', 'b', 'c', 'd')"
      ]
     },
     "execution_count": 33,
     "metadata": {
      "tags": []
     },
     "output_type": "execute_result"
    }
   ],
   "source": [
    "letters[:4]"
   ]
  },
  {
   "cell_type": "markdown",
   "metadata": {
    "id": "Lrd7HuHnNvIi"
   },
   "source": [
    "#### Index from end of sequence"
   ]
  },
  {
   "cell_type": "code",
   "execution_count": null,
   "metadata": {
    "colab": {
     "base_uri": "https://localhost:8080/",
     "height": 34
    },
    "id": "9XiynpN9M9V_",
    "outputId": "3b8497e3-1219-496f-ec24-6c99dbd3ff8c"
   },
   "outputs": [
    {
     "data": {
      "text/plain": [
       "('c', 'd', 'e', 'f')"
      ]
     },
     "execution_count": 34,
     "metadata": {
      "tags": []
     },
     "output_type": "execute_result"
    }
   ],
   "source": [
    "letters[-4:]"
   ]
  },
  {
   "cell_type": "markdown",
   "metadata": {
    "id": "Lzkr-snEOEE9"
   },
   "source": [
    "#### Setting step"
   ]
  },
  {
   "cell_type": "code",
   "execution_count": null,
   "metadata": {
    "colab": {
     "base_uri": "https://localhost:8080/",
     "height": 34
    },
    "id": "fCzpKpbSOGy-",
    "outputId": "e0ef8366-b712-45ca-fcb7-d3db915adae6"
   },
   "outputs": [
    {
     "data": {
      "text/plain": [
       "('b',)"
      ]
     },
     "execution_count": 36,
     "metadata": {
      "tags": []
     },
     "output_type": "execute_result"
    }
   ],
   "source": [
    "letters[1::-2]"
   ]
  },
  {
   "cell_type": "markdown",
   "metadata": {
    "id": "IR6wtY_oJlSv"
   },
   "source": [
    "### Unpacking"
   ]
  },
  {
   "cell_type": "code",
   "execution_count": 85,
   "metadata": {},
   "outputs": [],
   "source": [
    "#### Error if the number of unpacked values do not match the assigned variables"
   ]
  },
  {
   "cell_type": "code",
   "execution_count": null,
   "metadata": {
    "colab": {
     "base_uri": "https://localhost:8080/",
     "height": 198
    },
    "id": "iUY-WFVvP82h",
    "outputId": "928e9082-4ac2-4a18-a20f-d369c9e7e713"
   },
   "outputs": [
    {
     "ename": "ValueError",
     "evalue": "ignored",
     "output_type": "error",
     "traceback": [
      "\u001b[0;31m---------------------------------------------------------------------------\u001b[0m",
      "\u001b[0;31mValueError\u001b[0m                                Traceback (most recent call last)",
      "\u001b[0;32m<ipython-input-38-c24a37f354b9>\u001b[0m in \u001b[0;36m<module>\u001b[0;34m()\u001b[0m\n\u001b[0;32m----> 1\u001b[0;31m \u001b[0mfirst\u001b[0m\u001b[0;34m,\u001b[0m \u001b[0mmiddle\u001b[0m \u001b[0;34m=\u001b[0m \u001b[0;34m[\u001b[0m\u001b[0;36m1\u001b[0m\u001b[0;34m,\u001b[0m \u001b[0;36m2\u001b[0m\u001b[0;34m,\u001b[0m \u001b[0;36m3\u001b[0m\u001b[0;34m]\u001b[0m\u001b[0;34m\u001b[0m\u001b[0;34m\u001b[0m\u001b[0m\n\u001b[0m\u001b[1;32m      2\u001b[0m \u001b[0;34m\u001b[0m\u001b[0m\n\u001b[1;32m      3\u001b[0m \u001b[0;34mf\"first = {first},  middle = {middle},  last = {last}\"\u001b[0m\u001b[0;34m\u001b[0m\u001b[0;34m\u001b[0m\u001b[0m\n",
      "\u001b[0;31mValueError\u001b[0m: too many values to unpack (expected 2)"
     ]
    }
   ],
   "source": [
    "first, middle = [1, 2, 3]\n",
    "\n",
    "f\"first = {first},  middle = {middle},  last = {last}\""
   ]
  },
  {
   "cell_type": "markdown",
   "metadata": {
    "id": "Ryn60MRRQLhE"
   },
   "source": [
    "### Extended unpacking"
   ]
  },
  {
   "cell_type": "code",
   "execution_count": null,
   "metadata": {
    "colab": {
     "base_uri": "https://localhost:8080/",
     "height": 34
    },
    "id": "5olgXZcwQOwY",
    "outputId": "1c3babb9-a0b5-4018-cbeb-b5ea287d2e04"
   },
   "outputs": [
    {
     "data": {
      "text/plain": [
       "'first = 1,  middle = [2, 3, 4],  last = 5'"
      ]
     },
     "execution_count": 42,
     "metadata": {
      "tags": []
     },
     "output_type": "execute_result"
    }
   ],
   "source": [
    "first, *middle, last = (1, 2, 3, 4, 5)\n",
    "\n",
    "f\"first = {first},  middle = {middle},  last = {last}\""
   ]
  },
  {
   "cell_type": "markdown",
   "metadata": {},
   "source": [
    "<a id = \"stack\"></a>\n",
    "# 2. Stack \n",
    "\n",
    "[Go back to Table of Content](#toc)\n",
    "\n",
    "A stack is a linear data structure that stores items in a Last-In/First-Out (LIFO) or First-In/Last-Out (FILO) manner. \n",
    "\n",
    "In stack, a new element is added at one end and an element is removed from that end only.\n",
    "\n",
    "The insert and delete operations are often called push and pop.\n",
    "\n",
    "The functions associated with stack are:\n",
    "\n",
    "- empty() – Returns whether the stack is empty – Time Complexity: O(1)\n",
    "- size() – Returns the size of the stack – Time Complexity: O(1)\n",
    "- top() – Returns a reference to the topmost element of the stack – Time Complexity: O(1)\n",
    "- push(a) – Inserts the element ‘a’ at the top of the stack – Time Complexity: O(1)\n",
    "- pop() – Deletes the topmost element of the stack – Time Complexity: O(1)"
   ]
  },
  {
   "cell_type": "markdown",
   "metadata": {},
   "source": [
    "### Python Stack Implementation\n",
    "Stack in Python can be implemented using the following ways:\n",
    "\n",
    "- list\n",
    "- Collections.deque\n",
    "- queue.LifoQueue"
   ]
  },
  {
   "cell_type": "markdown",
   "metadata": {
    "id": "uRwRq8FkSMxF"
   },
   "source": [
    "## 2.1 Use List as Stack\n",
    "A stack is a LIFO (last in, first out) data structure which can be simulated using a list"
   ]
  },
  {
   "cell_type": "markdown",
   "metadata": {
    "id": "UMhxPw8tV2ot"
   },
   "source": [
    "#### Push onto the stack using append"
   ]
  },
  {
   "cell_type": "code",
   "execution_count": 98,
   "metadata": {
    "colab": {
     "base_uri": "https://localhost:8080/",
     "height": 34
    },
    "id": "47_iDnO6V6ut",
    "outputId": "18c3ccf8-0d66-4681-e576-387985c81f82"
   },
   "outputs": [
    {
     "name": "stdout",
     "output_type": "stream",
     "text": [
      "Initial stack:\n"
     ]
    },
    {
     "data": {
      "text/plain": [
       "['first', 'second', 'third']"
      ]
     },
     "execution_count": 98,
     "metadata": {},
     "output_type": "execute_result"
    }
   ],
   "source": [
    "stack = []\n",
    " \n",
    "# append() function to push\n",
    "# element in the stack\n",
    "stack.append('first')\n",
    "stack.append('second')\n",
    "stack.append('third')\n",
    " \n",
    "print('Initial stack:')\n",
    "stack"
   ]
  },
  {
   "cell_type": "markdown",
   "metadata": {},
   "source": [
    "### Retrieve items, last one first using **pop**"
   ]
  },
  {
   "cell_type": "code",
   "execution_count": 99,
   "metadata": {},
   "outputs": [
    {
     "name": "stdout",
     "output_type": "stream",
     "text": [
      "\n",
      "Elements popped from stack:\n",
      "third\n",
      "second\n",
      "first\n",
      "\n",
      "Stack after elements are popped:\n",
      "[]\n"
     ]
    }
   ],
   "source": [
    "# pop() function to pop\n",
    "# element from stack in\n",
    "# LIFO order\n",
    "print('\\nElements popped from stack:')\n",
    "print(stack.pop())\n",
    "print(stack.pop())\n",
    "print(stack.pop())\n",
    " \n",
    "print('\\nStack after elements are popped:')\n",
    "print(stack)\n",
    " \n",
    "# uncommenting print(stack.pop())\n",
    "# will cause an IndexError\n",
    "# as the stack is now empty"
   ]
  },
  {
   "cell_type": "markdown",
   "metadata": {},
   "source": [
    "## 2.2 Use collections.deque as Stack\n",
    "    "
   ]
  },
  {
   "cell_type": "code",
   "execution_count": 23,
   "metadata": {},
   "outputs": [
    {
     "name": "stdout",
     "output_type": "stream",
     "text": [
      "Initial stack:\n",
      "deque(['first', 'second', 'third'])\n",
      "\n",
      "Elements popped from stack:\n",
      "third\n",
      "second\n",
      "first\n",
      "\n",
      "Stack after elements are popped:\n",
      "deque([])\n"
     ]
    }
   ],
   "source": [
    "from collections import deque\n",
    "\n",
    "stack = deque()\n",
    "\n",
    "# append() function to push\n",
    "# element in the stack\n",
    "stack.append('first')\n",
    "stack.append('second')\n",
    "stack.append('third')\n",
    "\n",
    "print('Initial stack:')\n",
    "print(stack)\n",
    "\n",
    "# pop() function to pop\n",
    "# element from stack in\n",
    "# LIFO order\n",
    "print('\\nElements popped from stack:')\n",
    "print(stack.pop())\n",
    "print(stack.pop())\n",
    "print(stack.pop())\n",
    "\n",
    "print('\\nStack after elements are popped:')\n",
    "print(stack)\n",
    "\n",
    "# uncommenting print(stack.pop())\n",
    "# will cause an IndexError\n",
    "# as the stack is now empty\n"
   ]
  },
  {
   "cell_type": "markdown",
   "metadata": {},
   "source": [
    "## 2.3 Use queue module"
   ]
  },
  {
   "cell_type": "code",
   "execution_count": 102,
   "metadata": {},
   "outputs": [
    {
     "name": "stdout",
     "output_type": "stream",
     "text": [
      "0\n",
      "Full:  True\n",
      "Size:  3\n",
      "\n",
      "Elements popped from the stack\n",
      "third\n",
      "second\n",
      "first\n",
      "\n",
      "Empty:  True\n"
     ]
    }
   ],
   "source": [
    "from queue import LifoQueue\n",
    "\n",
    "# Initializing a stack\n",
    "stack = LifoQueue(maxsize = 3)\n",
    "\n",
    "# qsize() show the number of elements\n",
    "# in the stack\n",
    "print(stack.qsize())\n",
    "\n",
    "# put() function to push\n",
    "# element in the stack\n",
    "stack.put('first')\n",
    "stack.put('second')\n",
    "stack.put('third')\n",
    "\n",
    "print(\"Full: \", stack.full())\n",
    "print(\"Size: \", stack.qsize())\n",
    "\n",
    "# get() function to pop\n",
    "# element from stack in\n",
    "# LIFO order\n",
    "print('\\nElements popped from the stack')\n",
    "print(stack.get())\n",
    "print(stack.get())\n",
    "print(stack.get())\n",
    "\n",
    "print(\"\\nEmpty: \", stack.empty())\n"
   ]
  },
  {
   "cell_type": "markdown",
   "metadata": {},
   "source": [
    "<a id = \"queue\"></a>\n",
    "# 3. Queue\n",
    "[Go back to Table of Content](#toc)\n",
    "\n",
    "As a stack, the queue is a linear data structure, but the queue stores items in a First In First Out (FIFO) manner. \n",
    "With a queue, the least recently added item is removed first. \n",
    "\n",
    "Operations associated with **queue** are:\n",
    "\n",
    "- **Enqueue**: Adds an item to the queue. If the queue is full, then it is said to be an Overflow condition – Time Complexity: O(1)\n",
    "- **Dequeue**: Removes an item from the queue. The items are popped in the same order in which they are pushed. If the queue is empty, then it is said to be an Underflow condition – Time Complexity: O(1)\n",
    "- **Front**: Get the front item from queue – Time Complexity: O(1)\n",
    "- **Rear**: Get the last item from queue – Time Complexity: O(1)\n"
   ]
  },
  {
   "cell_type": "markdown",
   "metadata": {},
   "source": [
    "Queue in Python can be implemented in the following ways:\n",
    "\n",
    "- list\n",
    "- collections.deque\n",
    "- queue.Queue"
   ]
  },
  {
   "cell_type": "markdown",
   "metadata": {},
   "source": [
    "## 3.1 Use List as Queue\n"
   ]
  },
  {
   "cell_type": "markdown",
   "metadata": {},
   "source": [
    "### Use append() to add an item"
   ]
  },
  {
   "cell_type": "code",
   "execution_count": 100,
   "metadata": {},
   "outputs": [
    {
     "name": "stdout",
     "output_type": "stream",
     "text": [
      "Initial queue:\n"
     ]
    },
    {
     "data": {
      "text/plain": [
       "['first', 'second', 'third']"
      ]
     },
     "execution_count": 100,
     "metadata": {},
     "output_type": "execute_result"
    }
   ],
   "source": [
    "# Initializing a queue\n",
    "queue = []\n",
    "\n",
    "# Adding elements to the queue\n",
    "queue.append('first')\n",
    "queue.append('second')\n",
    "queue.append('third')\n",
    "\n",
    "print(\"Initial queue:\")\n",
    "queue"
   ]
  },
  {
   "cell_type": "markdown",
   "metadata": {},
   "source": [
    "### Use pop(0) to pop an item"
   ]
  },
  {
   "cell_type": "code",
   "execution_count": 101,
   "metadata": {},
   "outputs": [
    {
     "name": "stdout",
     "output_type": "stream",
     "text": [
      "\n",
      "Elements dequeued from queue\n",
      "first\n",
      "second\n",
      "third\n",
      "\n",
      "Queue after removing elements\n",
      "[]\n"
     ]
    }
   ],
   "source": [
    "# Removing elements from the queue\n",
    "print(\"\\nElements dequeued from queue\")\n",
    "print(queue.pop(0))\n",
    "print(queue.pop(0))\n",
    "print(queue.pop(0))\n",
    "\n",
    "print(\"\\nQueue after removing elements\")\n",
    "print(queue)\n",
    "\n",
    "# Uncommenting print(queue.pop(0))\n",
    "# will raise and IndexError\n",
    "# as the queue is now empty"
   ]
  },
  {
   "cell_type": "markdown",
   "metadata": {},
   "source": [
    "## 3.2 Use collections.deque as Queue"
   ]
  },
  {
   "cell_type": "code",
   "execution_count": 30,
   "metadata": {},
   "outputs": [
    {
     "name": "stdout",
     "output_type": "stream",
     "text": [
      "Initial queue:\n"
     ]
    },
    {
     "data": {
      "text/plain": [
       "deque(['first', 'second', 'third'])"
      ]
     },
     "execution_count": 30,
     "metadata": {},
     "output_type": "execute_result"
    }
   ],
   "source": [
    "from collections import deque\n",
    "\n",
    "# Initializing a queue\n",
    "q = deque()\n",
    "\n",
    "# Adding elements to a queue\n",
    "q.append('first')\n",
    "q.append('second')\n",
    "q.append('third')\n",
    "\n",
    "print(\"Initial queue:\")\n",
    "q"
   ]
  },
  {
   "cell_type": "code",
   "execution_count": 31,
   "metadata": {},
   "outputs": [
    {
     "name": "stdout",
     "output_type": "stream",
     "text": [
      "\n",
      "Elements dequeued from the queue\n",
      "first\n",
      "second\n",
      "third\n",
      "\n",
      "Queue after removing elements\n",
      "deque([])\n"
     ]
    }
   ],
   "source": [
    "# Removing elements from a queue\n",
    "print(\"\\nElements dequeued from the queue\")\n",
    "print(q.popleft())\n",
    "print(q.popleft())\n",
    "print(q.popleft())\n",
    "\n",
    "print(\"\\nQueue after removing elements\")\n",
    "print(q)\n",
    "\n",
    "# Uncommenting q.popleft()\n",
    "# will raise an IndexError\n",
    "# as queue is now empty"
   ]
  },
  {
   "cell_type": "markdown",
   "metadata": {},
   "source": [
    "## 3.3 Use the queue module"
   ]
  },
  {
   "cell_type": "code",
   "execution_count": 34,
   "metadata": {},
   "outputs": [
    {
     "name": "stdout",
     "output_type": "stream",
     "text": [
      "q initial size: 0\n",
      "q size: 3\n",
      "\n",
      "Full:  True\n"
     ]
    }
   ],
   "source": [
    "from queue import Queue\n",
    "\n",
    "# Initializing a queue\n",
    "q = Queue(maxsize = 3)\n",
    "\n",
    "# qsize() give the maxsize\n",
    "# of the Queue\n",
    "print(\"q initial size:\", q.qsize())\n",
    "\n",
    "# Adding of element to queue\n",
    "q.put('first')\n",
    "q.put('second')\n",
    "q.put('third')\n",
    "\n",
    "# Return Boolean for Full\n",
    "# Queue\n",
    "print(\"q size:\", q.qsize())\n",
    "print(\"\\nFull: \", q.full())"
   ]
  },
  {
   "cell_type": "code",
   "execution_count": null,
   "metadata": {},
   "outputs": [],
   "source": [
    "# Removing element from queue\n",
    "print(\"\\nElements dequeued from the queue\")\n",
    "print(q.get())\n",
    "print(q.get())\n",
    "print(q.get())\n",
    "\n",
    "# Return Boolean for Empty\n",
    "# Queue\n",
    "print(\"\\nEmpty: \", q.empty())\n",
    "\n",
    "q.put(1)\n",
    "print(\"\\nEmpty: \", q.empty())\n",
    "print(\"Full: \", q.full())\n",
    "\n",
    "# This would result into Infinite\n",
    "# Loop as the Queue is empty.\n",
    "# print(q.get())"
   ]
  },
  {
   "cell_type": "code",
   "execution_count": 35,
   "metadata": {},
   "outputs": [
    {
     "name": "stdout",
     "output_type": "stream",
     "text": [
      "\n",
      "Elements dequeued from the queue\n",
      "first\n",
      "second\n",
      "third\n",
      "\n",
      "Empty:  True\n",
      "\n",
      "Empty:  False\n",
      "Full:  False\n"
     ]
    }
   ],
   "source": [
    "# Removing element from queue\n",
    "print(\"\\nElements dequeued from the queue\")\n",
    "print(q.get())\n",
    "print(q.get())\n",
    "print(q.get())\n",
    "\n",
    "# Return Boolean for Empty\n",
    "# Queue\n",
    "print(\"\\nEmpty: \", q.empty())\n",
    "\n",
    "q.put(1)\n",
    "print(\"\\nEmpty: \", q.empty())\n",
    "print(\"Full: \", q.full())\n",
    "\n",
    "# This would result into Infinite\n",
    "# Loop as the Queue is empty.\n",
    "# print(q.get())"
   ]
  },
  {
   "cell_type": "markdown",
   "metadata": {
    "id": "SxpzGoM_Z_RU"
   },
   "source": [
    "<a id = \"dict\"></a>\n",
    "# 4. Dictionaries \n",
    "[Go back to Table of Content](#toc)\n",
    "\n",
    "Dictionaries are mappings of key value pairs."
   ]
  },
  {
   "cell_type": "markdown",
   "metadata": {
    "id": "l9nWQuW1oLCE"
   },
   "source": [
    "### Create an empty dict using constructor"
   ]
  },
  {
   "cell_type": "code",
   "execution_count": null,
   "metadata": {
    "colab": {
     "base_uri": "https://localhost:8080/",
     "height": 34
    },
    "id": "45C_FS-eoR-3",
    "outputId": "bd814a64-d7e0-4577-fbe0-46c721330ab1"
   },
   "outputs": [
    {
     "data": {
      "text/plain": [
       "{}"
      ]
     },
     "execution_count": 46,
     "metadata": {
      "tags": []
     },
     "output_type": "execute_result"
    }
   ],
   "source": [
    "dictionary = {}\n",
    "dictionary"
   ]
  },
  {
   "cell_type": "markdown",
   "metadata": {
    "id": "uwNpFQFGo0C_"
   },
   "source": [
    "### Create a dictionary based on key/value pairs"
   ]
  },
  {
   "cell_type": "code",
   "execution_count": null,
   "metadata": {
    "colab": {
     "base_uri": "https://localhost:8080/",
     "height": 34
    },
    "id": "VWYvp8peo5ok",
    "outputId": "ef583270-e5dc-4902-a524-696345ff0db1"
   },
   "outputs": [
    {
     "data": {
      "text/plain": [
       "{'key-1': 'value-1', 'key-2': 'value-2'}"
      ]
     },
     "execution_count": 47,
     "metadata": {
      "tags": []
     },
     "output_type": "execute_result"
    }
   ],
   "source": [
    "key_values = [['key-1','value-1'], ['key-2', 'value-2']]\n",
    "dictionary = dict(key_values)\n",
    "dictionary"
   ]
  },
  {
   "cell_type": "markdown",
   "metadata": {
    "id": "oLd8LV02ofza"
   },
   "source": [
    "### Create an empty dict using curley braces"
   ]
  },
  {
   "cell_type": "code",
   "execution_count": null,
   "metadata": {
    "colab": {
     "base_uri": "https://localhost:8080/",
     "height": 34
    },
    "id": "El6HcTagolLw",
    "outputId": "696a4405-368b-4113-a0d1-99566e249446"
   },
   "outputs": [
    {
     "data": {
      "text/plain": [
       "{}"
      ]
     },
     "execution_count": 48,
     "metadata": {
      "tags": []
     },
     "output_type": "execute_result"
    }
   ],
   "source": [
    "dictionary = {}\n",
    "dictionary"
   ]
  },
  {
   "cell_type": "markdown",
   "metadata": {
    "id": "yXNaZRMdpQoK"
   },
   "source": [
    "### Use curley braces to create a dictionary with initial key/values"
   ]
  },
  {
   "cell_type": "code",
   "execution_count": null,
   "metadata": {
    "colab": {
     "base_uri": "https://localhost:8080/",
     "height": 34
    },
    "id": "oRTWGBtvpYcb",
    "outputId": "922c363f-d506-4eb0-81bb-a7301155bdf7"
   },
   "outputs": [
    {
     "data": {
      "text/plain": [
       "{'key-1': 'value-1', 'key-2': 'value-2'}"
      ]
     },
     "execution_count": 49,
     "metadata": {
      "tags": []
     },
     "output_type": "execute_result"
    }
   ],
   "source": [
    "dictionary = {'key-1': 'value-1',\n",
    "              'key-2': 'value-2'}\n",
    "\n",
    "dictionary"
   ]
  },
  {
   "cell_type": "markdown",
   "metadata": {
    "id": "vb9aP6o5pv_B"
   },
   "source": [
    "### Access value using key"
   ]
  },
  {
   "cell_type": "code",
   "execution_count": null,
   "metadata": {
    "colab": {
     "base_uri": "https://localhost:8080/",
     "height": 34
    },
    "id": "3-jz1H8Apzgm",
    "outputId": "3970a9a3-a15c-4a80-a2fc-81ad55cc1717"
   },
   "outputs": [
    {
     "data": {
      "text/plain": [
       "'value-1'"
      ]
     },
     "execution_count": 51,
     "metadata": {
      "tags": []
     },
     "output_type": "execute_result"
    }
   ],
   "source": [
    "dictionary['key-1']"
   ]
  },
  {
   "cell_type": "markdown",
   "metadata": {
    "id": "UBSLRWEeqE-W"
   },
   "source": [
    "### Add a key/value pair to an existing dictionary"
   ]
  },
  {
   "cell_type": "code",
   "execution_count": null,
   "metadata": {
    "colab": {
     "base_uri": "https://localhost:8080/",
     "height": 34
    },
    "id": "J98co3mWqJ5I",
    "outputId": "4ec4724f-aeca-48db-d6c9-84fef9a8c849"
   },
   "outputs": [
    {
     "data": {
      "text/plain": [
       "{'key-1': 'value-1', 'key-2': 'value-2', 'key-3': 'value-3'}"
      ]
     },
     "execution_count": 52,
     "metadata": {
      "tags": []
     },
     "output_type": "execute_result"
    }
   ],
   "source": [
    "dictionary['key-3'] = 'value-3'\n",
    "\n",
    "dictionary"
   ]
  },
  {
   "cell_type": "markdown",
   "metadata": {
    "id": "xmHWK2hHq7c_"
   },
   "source": [
    "### Update value for existing key"
   ]
  },
  {
   "cell_type": "code",
   "execution_count": null,
   "metadata": {
    "colab": {
     "base_uri": "https://localhost:8080/",
     "height": 34
    },
    "id": "VrV2r-vUq-JV",
    "outputId": "c7960849-de81-461f-eed5-1806f9a01ceb"
   },
   "outputs": [
    {
     "data": {
      "text/plain": [
       "'new-value-2'"
      ]
     },
     "execution_count": 53,
     "metadata": {
      "tags": []
     },
     "output_type": "execute_result"
    }
   ],
   "source": [
    "dictionary['key-2'] = 'new-value-2'\n",
    "dictionary['key-2']"
   ]
  },
  {
   "cell_type": "markdown",
   "metadata": {
    "id": "_ot60Snlra6K"
   },
   "source": [
    "### Get keys"
   ]
  },
  {
   "cell_type": "code",
   "execution_count": null,
   "metadata": {
    "colab": {
     "base_uri": "https://localhost:8080/",
     "height": 34
    },
    "id": "Lv726tMhrYnh",
    "outputId": "23089819-c637-4e89-a48e-ee5507b4b550"
   },
   "outputs": [
    {
     "data": {
      "text/plain": [
       "['key-1', 'key-2', 'key-3']"
      ]
     },
     "execution_count": 55,
     "metadata": {
      "tags": []
     },
     "output_type": "execute_result"
    }
   ],
   "source": [
    "list(dictionary.keys())"
   ]
  },
  {
   "cell_type": "markdown",
   "metadata": {
    "id": "WGJyKhKgrf11"
   },
   "source": [
    "### Get values"
   ]
  },
  {
   "cell_type": "code",
   "execution_count": null,
   "metadata": {
    "colab": {
     "base_uri": "https://localhost:8080/",
     "height": 34
    },
    "id": "F7F-fNMMrhT5",
    "outputId": "f9ace37c-d4de-450d-b4e3-c6b06790fbd0"
   },
   "outputs": [
    {
     "data": {
      "text/plain": [
       "dict_values(['value-1', 'new-value-2', 'value-3'])"
      ]
     },
     "execution_count": 56,
     "metadata": {
      "tags": []
     },
     "output_type": "execute_result"
    }
   ],
   "source": [
    "dictionary.values()"
   ]
  },
  {
   "cell_type": "markdown",
   "metadata": {
    "id": "tCpdFg8JrqKM"
   },
   "source": [
    "### Get iterable keys and items"
   ]
  },
  {
   "cell_type": "code",
   "execution_count": null,
   "metadata": {
    "colab": {
     "base_uri": "https://localhost:8080/",
     "height": 34
    },
    "id": "0dZRJamArlLg",
    "outputId": "1d43a628-2f5e-4d4e-c179-b7cbc2373c37"
   },
   "outputs": [
    {
     "data": {
      "text/plain": [
       "dict_items([('key-1', 'value-1'), ('key-2', 'new-value-2'), ('key-3', 'value-3')])"
      ]
     },
     "execution_count": 57,
     "metadata": {
      "tags": []
     },
     "output_type": "execute_result"
    }
   ],
   "source": [
    "dictionary.items()"
   ]
  },
  {
   "cell_type": "markdown",
   "metadata": {
    "id": "Cvk5OCmQrvkd"
   },
   "source": [
    "### Use items in for loop"
   ]
  },
  {
   "cell_type": "code",
   "execution_count": null,
   "metadata": {
    "colab": {
     "base_uri": "https://localhost:8080/",
     "height": 68
    },
    "id": "bzYEfTEWrxno",
    "outputId": "b8b1427b-7eb0-4f4c-c36c-3b526d9a09dd"
   },
   "outputs": [
    {
     "name": "stdout",
     "output_type": "stream",
     "text": [
      "key-1: value-1\n",
      "key-2: new-value-2\n",
      "key-3: value-3\n"
     ]
    }
   ],
   "source": [
    "for key, value in dictionary.items():\n",
    "  print(f\"{key}: {value}\")"
   ]
  },
  {
   "cell_type": "markdown",
   "metadata": {
    "id": "9fqITS30sJC6"
   },
   "source": [
    "### Check if dictionary has key\n",
    "The 'in' syntax we used with sequences checks the dicts keys for membership."
   ]
  },
  {
   "cell_type": "code",
   "execution_count": null,
   "metadata": {
    "colab": {
     "base_uri": "https://localhost:8080/",
     "height": 34
    },
    "id": "c1XdFLXNsWVq",
    "outputId": "fc5b766b-be93-4d8f-95e0-fd17f981bee0"
   },
   "outputs": [
    {
     "data": {
      "text/plain": [
       "False"
      ]
     },
     "execution_count": 60,
     "metadata": {
      "tags": []
     },
     "output_type": "execute_result"
    }
   ],
   "source": [
    "'key-5' in dictionary"
   ]
  },
  {
   "cell_type": "markdown",
   "metadata": {
    "id": "G4Z2Pk3VsyUJ"
   },
   "source": [
    "### Get method"
   ]
  },
  {
   "cell_type": "code",
   "execution_count": null,
   "metadata": {
    "colab": {
     "base_uri": "https://localhost:8080/",
     "height": 34
    },
    "id": "FnHIgV8_s1eQ",
    "outputId": "50b29063-b0c2-44b8-bd97-4b1da21282a7"
   },
   "outputs": [
    {
     "data": {
      "text/plain": [
       "'default value'"
      ]
     },
     "execution_count": 64,
     "metadata": {
      "tags": []
     },
     "output_type": "execute_result"
    }
   ],
   "source": [
    "dictionary.get(\"bad key\", \"default value\")"
   ]
  },
  {
   "cell_type": "markdown",
   "metadata": {
    "id": "YmWqelbJthVB"
   },
   "source": [
    "### Remove item"
   ]
  },
  {
   "cell_type": "code",
   "execution_count": null,
   "metadata": {
    "colab": {
     "base_uri": "https://localhost:8080/",
     "height": 34
    },
    "id": "tOLuWnHEtkjT",
    "outputId": "e90cf788-09a9-4e0a-9231-b29f8c070fab"
   },
   "outputs": [
    {
     "data": {
      "text/plain": [
       "{'key-2': 'new-value-2', 'key-3': 'value-3'}"
      ]
     },
     "execution_count": 65,
     "metadata": {
      "tags": []
     },
     "output_type": "execute_result"
    }
   ],
   "source": [
    "del(dictionary['key-1'])\n",
    "dictionary"
   ]
  },
  {
   "cell_type": "markdown",
   "metadata": {
    "id": "AnFGTgxCiZnk"
   },
   "source": [
    "### Keys must be immutable"
   ]
  },
  {
   "cell_type": "markdown",
   "metadata": {
    "id": "rnKNsxuZinvy"
   },
   "source": [
    "#### List as key\n",
    "Lists are mutable and not hashable"
   ]
  },
  {
   "cell_type": "code",
   "execution_count": null,
   "metadata": {
    "colab": {
     "base_uri": "https://localhost:8080/",
     "height": 198
    },
    "id": "16t9F7PPipo4",
    "outputId": "ad113919-80cc-44cd-cc76-ad1d252dde27"
   },
   "outputs": [
    {
     "ename": "TypeError",
     "evalue": "ignored",
     "output_type": "error",
     "traceback": [
      "\u001b[0;31m---------------------------------------------------------------------------\u001b[0m",
      "\u001b[0;31mTypeError\u001b[0m                                 Traceback (most recent call last)",
      "\u001b[0;32m<ipython-input-66-25faa77a670a>\u001b[0m in \u001b[0;36m<module>\u001b[0;34m()\u001b[0m\n\u001b[1;32m      3\u001b[0m \u001b[0mmap\u001b[0m \u001b[0;34m=\u001b[0m \u001b[0;34m{\u001b[0m\u001b[0;34m}\u001b[0m\u001b[0;34m\u001b[0m\u001b[0;34m\u001b[0m\u001b[0m\n\u001b[1;32m      4\u001b[0m \u001b[0;34m\u001b[0m\u001b[0m\n\u001b[0;32m----> 5\u001b[0;31m \u001b[0mmap\u001b[0m\u001b[0;34m[\u001b[0m\u001b[0mitems\u001b[0m\u001b[0;34m]\u001b[0m \u001b[0;34m=\u001b[0m \u001b[0;34m\"some-value\"\u001b[0m\u001b[0;34m\u001b[0m\u001b[0;34m\u001b[0m\u001b[0m\n\u001b[0m",
      "\u001b[0;31mTypeError\u001b[0m: unhashable type: 'list'"
     ]
    }
   ],
   "source": [
    "items = ['item-1', 'item-2', 'item-3']\n",
    "\n",
    "map = {}\n",
    "\n",
    "map[items] = \"some-value\""
   ]
  },
  {
   "cell_type": "markdown",
   "metadata": {
    "id": "_9vXIamIjLER"
   },
   "source": [
    "#### Tuple as a key\n",
    "Tuples are immutable and hence hashable"
   ]
  },
  {
   "cell_type": "code",
   "execution_count": null,
   "metadata": {
    "colab": {
     "base_uri": "https://localhost:8080/",
     "height": 34
    },
    "id": "K2pFCFu3jNRM",
    "outputId": "5e1fc13f-b76f-45d5-9fff-359f6199972e"
   },
   "outputs": [
    {
     "data": {
      "text/plain": [
       "{('item-1', 'item-2', 'item-3'): 'some-value'}"
      ]
     },
     "execution_count": 67,
     "metadata": {
      "tags": []
     },
     "output_type": "execute_result"
    }
   ],
   "source": [
    "items = 'item-1', 'item-2', 'item-3'\n",
    "map = {}\n",
    "map[items] = \"some-value\"\n",
    "\n",
    "map"
   ]
  },
  {
   "cell_type": "markdown",
   "metadata": {
    "id": "Y1rOvrTSaCnA"
   },
   "source": [
    "<a id = \"set\"></a>\n",
    "# 5. Sets\n",
    "[Go back to Table of Content](#toc)"
   ]
  },
  {
   "cell_type": "markdown",
   "metadata": {
    "id": "_Bu_DUont1Ks"
   },
   "source": [
    "### Create set from tuple or list"
   ]
  },
  {
   "cell_type": "code",
   "execution_count": null,
   "metadata": {
    "colab": {
     "base_uri": "https://localhost:8080/",
     "height": 34
    },
    "id": "epPCLrckt4Zy",
    "outputId": "df768aae-5c29-492b-a444-d60735fb0f36"
   },
   "outputs": [
    {
     "data": {
      "text/plain": [
       "{'a', 'b', 'c'}"
      ]
     },
     "execution_count": 68,
     "metadata": {
      "tags": []
     },
     "output_type": "execute_result"
    }
   ],
   "source": [
    "letters = 'a', 'a', 'a', 'b', 'c'\n",
    "unique_letters = set(letters)\n",
    "unique_letters"
   ]
  },
  {
   "cell_type": "markdown",
   "metadata": {
    "id": "qnQHMNCRuebg"
   },
   "source": [
    "### Create set from a string"
   ]
  },
  {
   "cell_type": "code",
   "execution_count": null,
   "metadata": {
    "colab": {
     "base_uri": "https://localhost:8080/",
     "height": 34
    },
    "id": "IRsuJBVC_ORB",
    "outputId": "ffca987d-0534-4e4f-d660-24318b4c2795"
   },
   "outputs": [
    {
     "data": {
      "text/plain": [
       "{'i', 'm', 'p', 's'}"
      ]
     },
     "execution_count": 69,
     "metadata": {
      "tags": []
     },
     "output_type": "execute_result"
    }
   ],
   "source": [
    "unique_chars = set('mississippi')\n",
    "unique_chars"
   ]
  },
  {
   "cell_type": "markdown",
   "metadata": {
    "id": "LUJyjEh1uzrv"
   },
   "source": [
    "### Create set using curley braces"
   ]
  },
  {
   "cell_type": "code",
   "execution_count": null,
   "metadata": {
    "colab": {
     "base_uri": "https://localhost:8080/",
     "height": 34
    },
    "id": "afYk3yfTu3Pt",
    "outputId": "8fc66ae0-c16c-45e0-d684-41757f68ee81"
   },
   "outputs": [
    {
     "data": {
      "text/plain": [
       "{1, 2, 3, 4, 5}"
      ]
     },
     "execution_count": 70,
     "metadata": {
      "tags": []
     },
     "output_type": "execute_result"
    }
   ],
   "source": [
    "unique_num = {1, 1, 2, 3, 4, 5, 5}\n",
    "unique_num"
   ]
  },
  {
   "cell_type": "markdown",
   "metadata": {
    "id": "jDMYvC0avu_C"
   },
   "source": [
    "### Adding to a set"
   ]
  },
  {
   "cell_type": "code",
   "execution_count": null,
   "metadata": {
    "colab": {
     "base_uri": "https://localhost:8080/",
     "height": 34
    },
    "id": "hoZ7hcrBvwtc",
    "outputId": "1585f6f0-3122-480e-a69a-022460b0fbc7"
   },
   "outputs": [
    {
     "data": {
      "text/plain": [
       "{1, 2, 3, 4, 5, 6}"
      ]
     },
     "execution_count": 72,
     "metadata": {
      "tags": []
     },
     "output_type": "execute_result"
    }
   ],
   "source": [
    "unique_num.add(6)\n",
    "unique_num"
   ]
  },
  {
   "cell_type": "markdown",
   "metadata": {
    "id": "o-UWnVB7v8yb"
   },
   "source": [
    "### Popping from a set\n",
    "Pop method removes and returns a random element of the set"
   ]
  },
  {
   "cell_type": "code",
   "execution_count": null,
   "metadata": {
    "colab": {
     "base_uri": "https://localhost:8080/",
     "height": 34
    },
    "id": "e9xWJPXnwF4s",
    "outputId": "3d0bc7f2-3dda-4738-975b-011d09f8ec7f"
   },
   "outputs": [
    {
     "data": {
      "text/plain": [
       "2"
      ]
     },
     "execution_count": 74,
     "metadata": {
      "tags": []
     },
     "output_type": "execute_result"
    }
   ],
   "source": [
    "unique_num.pop()"
   ]
  },
  {
   "cell_type": "markdown",
   "metadata": {
    "id": "VJjl2Fv9vLOl"
   },
   "source": [
    "### Indexing\n",
    "Sets have no order, and hence cannot be accessed via indexing"
   ]
  },
  {
   "cell_type": "code",
   "execution_count": null,
   "metadata": {
    "colab": {
     "base_uri": "https://localhost:8080/",
     "height": 164
    },
    "id": "vxPCJWJOvShU",
    "outputId": "8bd70eb2-1c1d-4b64-f23b-dcf278c4a29f"
   },
   "outputs": [
    {
     "ename": "TypeError",
     "evalue": "ignored",
     "output_type": "error",
     "traceback": [
      "\u001b[0;31m---------------------------------------------------------------------------\u001b[0m",
      "\u001b[0;31mTypeError\u001b[0m                                 Traceback (most recent call last)",
      "\u001b[0;32m<ipython-input-75-c928415e5703>\u001b[0m in \u001b[0;36m<module>\u001b[0;34m()\u001b[0m\n\u001b[0;32m----> 1\u001b[0;31m \u001b[0munique_num\u001b[0m\u001b[0;34m[\u001b[0m\u001b[0;36m4\u001b[0m\u001b[0;34m]\u001b[0m\u001b[0;34m\u001b[0m\u001b[0;34m\u001b[0m\u001b[0m\n\u001b[0m",
      "\u001b[0;31mTypeError\u001b[0m: 'set' object does not support indexing"
     ]
    }
   ],
   "source": [
    "unique_num[4]"
   ]
  },
  {
   "cell_type": "markdown",
   "metadata": {
    "id": "TQyoEjgivjA3"
   },
   "source": [
    "### Checking membership"
   ]
  },
  {
   "cell_type": "code",
   "execution_count": null,
   "metadata": {
    "colab": {
     "base_uri": "https://localhost:8080/",
     "height": 34
    },
    "id": "3zOvkWX6vlf2",
    "outputId": "020d8aef-4a5a-45fc-da0c-8e5a74240487"
   },
   "outputs": [
    {
     "data": {
      "text/plain": [
       "True"
      ]
     },
     "execution_count": 76,
     "metadata": {
      "tags": []
     },
     "output_type": "execute_result"
    }
   ],
   "source": [
    "3 in unique_num"
   ]
  },
  {
   "cell_type": "markdown",
   "metadata": {
    "id": "6ph_k8RUweYA"
   },
   "source": [
    "### Set operations"
   ]
  },
  {
   "cell_type": "code",
   "execution_count": null,
   "metadata": {
    "id": "7EfN4R5xwmXM"
   },
   "outputs": [],
   "source": [
    "s1 = { 1 ,2 ,3 ,4, 5, 6, 7}\n",
    "s2 = { 0, 2, 4, 6, 8 }"
   ]
  },
  {
   "cell_type": "markdown",
   "metadata": {
    "id": "RAG3ATbtwtwm"
   },
   "source": [
    "#### Items in first set, but not in the second"
   ]
  },
  {
   "cell_type": "code",
   "execution_count": null,
   "metadata": {
    "colab": {
     "base_uri": "https://localhost:8080/",
     "height": 34
    },
    "id": "kCfxlj9Lwz1x",
    "outputId": "3c3b92ad-959b-46bf-ecb0-2513886923b9"
   },
   "outputs": [
    {
     "data": {
      "text/plain": [
       "{1, 3, 5, 7}"
      ]
     },
     "execution_count": 78,
     "metadata": {
      "tags": []
     },
     "output_type": "execute_result"
    }
   ],
   "source": [
    "s1 - s2"
   ]
  },
  {
   "cell_type": "markdown",
   "metadata": {
    "id": "KDA6bO1Vw8Bk"
   },
   "source": [
    "#### Items in either or both sets"
   ]
  },
  {
   "cell_type": "code",
   "execution_count": null,
   "metadata": {
    "colab": {
     "base_uri": "https://localhost:8080/",
     "height": 34
    },
    "id": "a-1CBUnRw-y-",
    "outputId": "584219f7-80ba-4e24-f3ec-b833428bfc87"
   },
   "outputs": [
    {
     "data": {
      "text/plain": [
       "{0, 1, 2, 3, 4, 5, 6, 7, 8}"
      ]
     },
     "execution_count": 79,
     "metadata": {
      "tags": []
     },
     "output_type": "execute_result"
    }
   ],
   "source": [
    "s1 | s2"
   ]
  },
  {
   "cell_type": "markdown",
   "metadata": {
    "id": "ADEQBlFrxIN7"
   },
   "source": [
    "#### Items in both sets"
   ]
  },
  {
   "cell_type": "code",
   "execution_count": null,
   "metadata": {
    "colab": {
     "base_uri": "https://localhost:8080/",
     "height": 34
    },
    "id": "IIudbePtxRkR",
    "outputId": "ad5fcea8-8b15-467d-a895-c11e4caa8609"
   },
   "outputs": [
    {
     "data": {
      "text/plain": [
       "{2, 4, 6}"
      ]
     },
     "execution_count": 80,
     "metadata": {
      "tags": []
     },
     "output_type": "execute_result"
    }
   ],
   "source": [
    "s1 & s2"
   ]
  },
  {
   "cell_type": "markdown",
   "metadata": {
    "id": "742awPXgxat5"
   },
   "source": [
    "#### Items in either set, but not both"
   ]
  },
  {
   "cell_type": "code",
   "execution_count": null,
   "metadata": {
    "colab": {
     "base_uri": "https://localhost:8080/",
     "height": 34
    },
    "id": "03UonZ9G_jDc",
    "outputId": "b06f2369-fd8f-42a3-befb-d9af998f7076"
   },
   "outputs": [
    {
     "data": {
      "text/plain": [
       "{0, 1, 3, 5, 7, 8}"
      ]
     },
     "execution_count": 81,
     "metadata": {
      "tags": []
     },
     "output_type": "execute_result"
    }
   ],
   "source": [
    "s1 ^ s2"
   ]
  },
  {
   "cell_type": "markdown",
   "metadata": {
    "id": "z-hjI2NsaK4w"
   },
   "source": [
    "<a id = \"pandas\"></a>\n",
    "# 8. Pandas DataFrame\n",
    "[Go back to Table of Content](#toc)\n",
    "\n",
    "*   One of the most highly leveraged data structures for data science\n",
    "*   A table-like two dimensional data structure. \n"
   ]
  },
  {
   "cell_type": "markdown",
   "metadata": {
    "id": "e8Dxdc4V6wlV"
   },
   "source": [
    "### Create a DataFrame"
   ]
  },
  {
   "cell_type": "code",
   "execution_count": null,
   "metadata": {
    "colab": {
     "base_uri": "https://localhost:8080/",
     "height": 297
    },
    "id": "73JaHcb261eb",
    "outputId": "95ec9725-3f0e-472d-c9e1-6439bfeac6ff"
   },
   "outputs": [
    {
     "data": {
      "text/html": [
       "<div>\n",
       "<style scoped>\n",
       "    .dataframe tbody tr th:only-of-type {\n",
       "        vertical-align: middle;\n",
       "    }\n",
       "\n",
       "    .dataframe tbody tr th {\n",
       "        vertical-align: top;\n",
       "    }\n",
       "\n",
       "    .dataframe thead th {\n",
       "        text-align: right;\n",
       "    }\n",
       "</style>\n",
       "<table border=\"1\" class=\"dataframe\">\n",
       "  <thead>\n",
       "    <tr style=\"text-align: right;\">\n",
       "      <th></th>\n",
       "      <th>age</th>\n",
       "      <th>first</th>\n",
       "      <th>last</th>\n",
       "    </tr>\n",
       "  </thead>\n",
       "  <tbody>\n",
       "    <tr>\n",
       "      <th>0</th>\n",
       "      <td>43</td>\n",
       "      <td>henry</td>\n",
       "      <td>smith</td>\n",
       "    </tr>\n",
       "    <tr>\n",
       "      <th>1</th>\n",
       "      <td>23</td>\n",
       "      <td>rolly</td>\n",
       "      <td>brocker</td>\n",
       "    </tr>\n",
       "    <tr>\n",
       "      <th>2</th>\n",
       "      <td>78</td>\n",
       "      <td>molly</td>\n",
       "      <td>stein</td>\n",
       "    </tr>\n",
       "    <tr>\n",
       "      <th>3</th>\n",
       "      <td>56</td>\n",
       "      <td>frank</td>\n",
       "      <td>bach</td>\n",
       "    </tr>\n",
       "    <tr>\n",
       "      <th>4</th>\n",
       "      <td>26</td>\n",
       "      <td>david</td>\n",
       "      <td>spencer</td>\n",
       "    </tr>\n",
       "    <tr>\n",
       "      <th>5</th>\n",
       "      <td>14</td>\n",
       "      <td>steven</td>\n",
       "      <td>de wilde</td>\n",
       "    </tr>\n",
       "    <tr>\n",
       "      <th>6</th>\n",
       "      <td>46</td>\n",
       "      <td>gwen</td>\n",
       "      <td>mason</td>\n",
       "    </tr>\n",
       "    <tr>\n",
       "      <th>7</th>\n",
       "      <td>92</td>\n",
       "      <td>arthur</td>\n",
       "      <td>davis</td>\n",
       "    </tr>\n",
       "  </tbody>\n",
       "</table>\n",
       "</div>"
      ],
      "text/plain": [
       "   age   first      last\n",
       "0   43   henry     smith\n",
       "1   23   rolly   brocker\n",
       "2   78   molly     stein\n",
       "3   56   frank      bach\n",
       "4   26   david   spencer\n",
       "5   14  steven  de wilde\n",
       "6   46    gwen     mason\n",
       "7   92  arthur     davis"
      ]
     },
     "execution_count": 103,
     "metadata": {
      "tags": []
     },
     "output_type": "execute_result"
    }
   ],
   "source": [
    "import pandas as pd\n",
    "first_names = ['henry', 'rolly', 'molly', 'frank', 'david', 'steven', 'gwen', 'arthur']\n",
    "last_names = ['smith', 'brocker', 'stein', 'bach', 'spencer', 'de wilde', 'mason', 'davis']\n",
    "ages = [43, 23, 78, 56, 26, 14, 46, 92]\n",
    "\n",
    "df = pd.DataFrame({ 'first': first_names, 'last': last_names, 'age': ages})\n",
    "df"
   ]
  },
  {
   "cell_type": "markdown",
   "metadata": {
    "id": "ut_QqgQi7CvX"
   },
   "source": [
    "### Head - looking at the top"
   ]
  },
  {
   "cell_type": "code",
   "execution_count": null,
   "metadata": {
    "colab": {
     "base_uri": "https://localhost:8080/",
     "height": 297
    },
    "id": "FN7tXlFV7FiE",
    "outputId": "f48221e8-bcee-4d3c-e2e0-e3bd130b202d"
   },
   "outputs": [
    {
     "data": {
      "text/html": [
       "<div>\n",
       "<style scoped>\n",
       "    .dataframe tbody tr th:only-of-type {\n",
       "        vertical-align: middle;\n",
       "    }\n",
       "\n",
       "    .dataframe tbody tr th {\n",
       "        vertical-align: top;\n",
       "    }\n",
       "\n",
       "    .dataframe thead th {\n",
       "        text-align: right;\n",
       "    }\n",
       "</style>\n",
       "<table border=\"1\" class=\"dataframe\">\n",
       "  <thead>\n",
       "    <tr style=\"text-align: right;\">\n",
       "      <th></th>\n",
       "      <th>age</th>\n",
       "      <th>first</th>\n",
       "      <th>last</th>\n",
       "    </tr>\n",
       "  </thead>\n",
       "  <tbody>\n",
       "    <tr>\n",
       "      <th>0</th>\n",
       "      <td>43</td>\n",
       "      <td>henry</td>\n",
       "      <td>smith</td>\n",
       "    </tr>\n",
       "    <tr>\n",
       "      <th>1</th>\n",
       "      <td>23</td>\n",
       "      <td>rolly</td>\n",
       "      <td>brocker</td>\n",
       "    </tr>\n",
       "    <tr>\n",
       "      <th>2</th>\n",
       "      <td>78</td>\n",
       "      <td>molly</td>\n",
       "      <td>stein</td>\n",
       "    </tr>\n",
       "    <tr>\n",
       "      <th>3</th>\n",
       "      <td>56</td>\n",
       "      <td>frank</td>\n",
       "      <td>bach</td>\n",
       "    </tr>\n",
       "    <tr>\n",
       "      <th>4</th>\n",
       "      <td>26</td>\n",
       "      <td>david</td>\n",
       "      <td>spencer</td>\n",
       "    </tr>\n",
       "    <tr>\n",
       "      <th>5</th>\n",
       "      <td>14</td>\n",
       "      <td>steven</td>\n",
       "      <td>de wilde</td>\n",
       "    </tr>\n",
       "    <tr>\n",
       "      <th>6</th>\n",
       "      <td>46</td>\n",
       "      <td>gwen</td>\n",
       "      <td>mason</td>\n",
       "    </tr>\n",
       "    <tr>\n",
       "      <th>7</th>\n",
       "      <td>92</td>\n",
       "      <td>arthur</td>\n",
       "      <td>davis</td>\n",
       "    </tr>\n",
       "  </tbody>\n",
       "</table>\n",
       "</div>"
      ],
      "text/plain": [
       "   age   first      last\n",
       "0   43   henry     smith\n",
       "1   23   rolly   brocker\n",
       "2   78   molly     stein\n",
       "3   56   frank      bach\n",
       "4   26   david   spencer\n",
       "5   14  steven  de wilde\n",
       "6   46    gwen     mason\n",
       "7   92  arthur     davis"
      ]
     },
     "execution_count": 106,
     "metadata": {
      "tags": []
     },
     "output_type": "execute_result"
    }
   ],
   "source": [
    "df.head(10)"
   ]
  },
  {
   "cell_type": "markdown",
   "metadata": {
    "id": "2lZEPhBd7PGN"
   },
   "source": [
    "### Setting number of rows returned with head"
   ]
  },
  {
   "cell_type": "code",
   "execution_count": null,
   "metadata": {
    "id": "mO583bRm7J9y"
   },
   "outputs": [],
   "source": [
    "df.head(3)"
   ]
  },
  {
   "cell_type": "markdown",
   "metadata": {
    "id": "fP0Szs_k7ZwM"
   },
   "source": [
    "### Tail - looking at the bottom"
   ]
  },
  {
   "cell_type": "code",
   "execution_count": null,
   "metadata": {
    "colab": {
     "base_uri": "https://localhost:8080/",
     "height": 111
    },
    "id": "lWpCA6lh7dIZ",
    "outputId": "6ad75973-5eba-4e1f-e70f-709f20036be7"
   },
   "outputs": [
    {
     "data": {
      "text/html": [
       "<div>\n",
       "<style scoped>\n",
       "    .dataframe tbody tr th:only-of-type {\n",
       "        vertical-align: middle;\n",
       "    }\n",
       "\n",
       "    .dataframe tbody tr th {\n",
       "        vertical-align: top;\n",
       "    }\n",
       "\n",
       "    .dataframe thead th {\n",
       "        text-align: right;\n",
       "    }\n",
       "</style>\n",
       "<table border=\"1\" class=\"dataframe\">\n",
       "  <thead>\n",
       "    <tr style=\"text-align: right;\">\n",
       "      <th></th>\n",
       "      <th>age</th>\n",
       "      <th>first</th>\n",
       "      <th>last</th>\n",
       "    </tr>\n",
       "  </thead>\n",
       "  <tbody>\n",
       "    <tr>\n",
       "      <th>6</th>\n",
       "      <td>46</td>\n",
       "      <td>gwen</td>\n",
       "      <td>mason</td>\n",
       "    </tr>\n",
       "    <tr>\n",
       "      <th>7</th>\n",
       "      <td>92</td>\n",
       "      <td>arthur</td>\n",
       "      <td>davis</td>\n",
       "    </tr>\n",
       "  </tbody>\n",
       "</table>\n",
       "</div>"
      ],
      "text/plain": [
       "   age   first   last\n",
       "6   46    gwen  mason\n",
       "7   92  arthur  davis"
      ]
     },
     "execution_count": 108,
     "metadata": {
      "tags": []
     },
     "output_type": "execute_result"
    }
   ],
   "source": [
    "df.tail(2)"
   ]
  },
  {
   "cell_type": "markdown",
   "metadata": {
    "id": "aMcpAbpW7sKB"
   },
   "source": [
    "### Describe - descriptive statistics"
   ]
  },
  {
   "cell_type": "code",
   "execution_count": null,
   "metadata": {
    "colab": {
     "base_uri": "https://localhost:8080/",
     "height": 297
    },
    "id": "c1SCEPeB7xIi",
    "outputId": "ad35757e-f072-4208-e853-1f25dc24614e"
   },
   "outputs": [
    {
     "data": {
      "text/html": [
       "<div>\n",
       "<style scoped>\n",
       "    .dataframe tbody tr th:only-of-type {\n",
       "        vertical-align: middle;\n",
       "    }\n",
       "\n",
       "    .dataframe tbody tr th {\n",
       "        vertical-align: top;\n",
       "    }\n",
       "\n",
       "    .dataframe thead th {\n",
       "        text-align: right;\n",
       "    }\n",
       "</style>\n",
       "<table border=\"1\" class=\"dataframe\">\n",
       "  <thead>\n",
       "    <tr style=\"text-align: right;\">\n",
       "      <th></th>\n",
       "      <th>age</th>\n",
       "    </tr>\n",
       "  </thead>\n",
       "  <tbody>\n",
       "    <tr>\n",
       "      <th>count</th>\n",
       "      <td>8.000000</td>\n",
       "    </tr>\n",
       "    <tr>\n",
       "      <th>mean</th>\n",
       "      <td>47.250000</td>\n",
       "    </tr>\n",
       "    <tr>\n",
       "      <th>std</th>\n",
       "      <td>27.227874</td>\n",
       "    </tr>\n",
       "    <tr>\n",
       "      <th>min</th>\n",
       "      <td>14.000000</td>\n",
       "    </tr>\n",
       "    <tr>\n",
       "      <th>25%</th>\n",
       "      <td>25.250000</td>\n",
       "    </tr>\n",
       "    <tr>\n",
       "      <th>50%</th>\n",
       "      <td>44.500000</td>\n",
       "    </tr>\n",
       "    <tr>\n",
       "      <th>75%</th>\n",
       "      <td>61.500000</td>\n",
       "    </tr>\n",
       "    <tr>\n",
       "      <th>max</th>\n",
       "      <td>92.000000</td>\n",
       "    </tr>\n",
       "  </tbody>\n",
       "</table>\n",
       "</div>"
      ],
      "text/plain": [
       "             age\n",
       "count   8.000000\n",
       "mean   47.250000\n",
       "std    27.227874\n",
       "min    14.000000\n",
       "25%    25.250000\n",
       "50%    44.500000\n",
       "75%    61.500000\n",
       "max    92.000000"
      ]
     },
     "execution_count": 109,
     "metadata": {
      "tags": []
     },
     "output_type": "execute_result"
    }
   ],
   "source": [
    "df.describe()"
   ]
  },
  {
   "cell_type": "markdown",
   "metadata": {
    "id": "Of3owwjI71cr"
   },
   "source": [
    "### Access one column"
   ]
  },
  {
   "cell_type": "code",
   "execution_count": null,
   "metadata": {
    "colab": {
     "base_uri": "https://localhost:8080/",
     "height": 170
    },
    "id": "siMCagaq74bO",
    "outputId": "99907925-afaf-459c-bb9f-63a7b9bf25e2"
   },
   "outputs": [
    {
     "data": {
      "text/plain": [
       "0     henry\n",
       "1     rolly\n",
       "2     molly\n",
       "3     frank\n",
       "4     david\n",
       "5    steven\n",
       "6      gwen\n",
       "7    arthur\n",
       "Name: first, dtype: object"
      ]
     },
     "execution_count": 110,
     "metadata": {
      "tags": []
     },
     "output_type": "execute_result"
    }
   ],
   "source": [
    "df['first']"
   ]
  },
  {
   "cell_type": "markdown",
   "metadata": {
    "id": "KdOsmAk67-FA"
   },
   "source": [
    "### Slice a column"
   ]
  },
  {
   "cell_type": "code",
   "execution_count": null,
   "metadata": {
    "colab": {
     "base_uri": "https://localhost:8080/",
     "height": 102
    },
    "id": "dNl_CTuk8Bip",
    "outputId": "df4f7aa6-4457-4c77-f2cb-5c77c227d072"
   },
   "outputs": [
    {
     "data": {
      "text/plain": [
       "4     david\n",
       "5    steven\n",
       "6      gwen\n",
       "7    arthur\n",
       "Name: first, dtype: object"
      ]
     },
     "execution_count": 111,
     "metadata": {
      "tags": []
     },
     "output_type": "execute_result"
    }
   ],
   "source": [
    "df['first'][4:]"
   ]
  },
  {
   "cell_type": "markdown",
   "metadata": {
    "id": "H3iUwAI-8TFp"
   },
   "source": [
    "### Use conditions to filter"
   ]
  },
  {
   "cell_type": "code",
   "execution_count": null,
   "metadata": {
    "colab": {
     "base_uri": "https://localhost:8080/",
     "height": 142
    },
    "id": "pjYmR1d0fbUh",
    "outputId": "0add25f2-e4c6-4a21-98d8-6c77cdacea4e"
   },
   "outputs": [
    {
     "data": {
      "text/html": [
       "<div>\n",
       "<style scoped>\n",
       "    .dataframe tbody tr th:only-of-type {\n",
       "        vertical-align: middle;\n",
       "    }\n",
       "\n",
       "    .dataframe tbody tr th {\n",
       "        vertical-align: top;\n",
       "    }\n",
       "\n",
       "    .dataframe thead th {\n",
       "        text-align: right;\n",
       "    }\n",
       "</style>\n",
       "<table border=\"1\" class=\"dataframe\">\n",
       "  <thead>\n",
       "    <tr style=\"text-align: right;\">\n",
       "      <th></th>\n",
       "      <th>age</th>\n",
       "      <th>first</th>\n",
       "      <th>last</th>\n",
       "    </tr>\n",
       "  </thead>\n",
       "  <tbody>\n",
       "    <tr>\n",
       "      <th>2</th>\n",
       "      <td>78</td>\n",
       "      <td>molly</td>\n",
       "      <td>stein</td>\n",
       "    </tr>\n",
       "    <tr>\n",
       "      <th>3</th>\n",
       "      <td>56</td>\n",
       "      <td>frank</td>\n",
       "      <td>bach</td>\n",
       "    </tr>\n",
       "    <tr>\n",
       "      <th>7</th>\n",
       "      <td>92</td>\n",
       "      <td>arthur</td>\n",
       "      <td>davis</td>\n",
       "    </tr>\n",
       "  </tbody>\n",
       "</table>\n",
       "</div>"
      ],
      "text/plain": [
       "   age   first   last\n",
       "2   78   molly  stein\n",
       "3   56   frank   bach\n",
       "7   92  arthur  davis"
      ]
     },
     "execution_count": 112,
     "metadata": {
      "tags": []
     },
     "output_type": "execute_result"
    }
   ],
   "source": [
    "df[df['age'] > 50]"
   ]
  },
  {
   "cell_type": "markdown",
   "metadata": {
    "id": "mU_PWc0zaO0X"
   },
   "source": [
    "<a id = \"series\"></a>\n",
    "# 9. Pandas Series\n",
    "\n",
    "[Go back to Table of Content](#toc)\n",
    "\n",
    "*   A one dimensional labeled array\n",
    "*   Contains data of only one type\n",
    "*   Similar to a column in a spreedsheet\n",
    "\n",
    "\n"
   ]
  },
  {
   "cell_type": "markdown",
   "metadata": {
    "id": "8IJJSLsN8kAq"
   },
   "source": [
    "### Create a series"
   ]
  },
  {
   "cell_type": "code",
   "execution_count": null,
   "metadata": {
    "colab": {
     "base_uri": "https://localhost:8080/",
     "height": 85
    },
    "id": "cdGYE9LdnSwU",
    "outputId": "c4a7433b-e15c-4f27-d727-72cf26e9de70"
   },
   "outputs": [
    {
     "data": {
      "text/plain": [
       "0    1\n",
       "1    2\n",
       "2    3\n",
       "dtype: int64"
      ]
     },
     "execution_count": 114,
     "metadata": {
      "tags": []
     },
     "output_type": "execute_result"
    }
   ],
   "source": [
    "pd_series = pd.Series( [1, 2, 3 ] )\n",
    "pd_series"
   ]
  },
  {
   "cell_type": "markdown",
   "metadata": {
    "id": "GzZyCmanpu2p"
   },
   "source": [
    "### Series introspection methods"
   ]
  },
  {
   "cell_type": "code",
   "execution_count": null,
   "metadata": {
    "colab": {
     "base_uri": "https://localhost:8080/",
     "height": 34
    },
    "id": "RlsP8h-KpxxE",
    "outputId": "5eb734b2-d44e-422c-c53b-fb0fdca4b1ba"
   },
   "outputs": [
    {
     "data": {
      "text/plain": [
       "'This series is made up of 3 items whose data type is int64'"
      ]
     },
     "execution_count": 115,
     "metadata": {
      "tags": []
     },
     "output_type": "execute_result"
    }
   ],
   "source": [
    "f\"This series is made up of {pd_series.size} items whose data type is {pd_series.dtype}\""
   ]
  },
  {
   "cell_type": "markdown",
   "metadata": {
    "id": "OgKF9C9an8iB"
   },
   "source": [
    "### A Pandas DataFrame is composed of Pandas Series. "
   ]
  },
  {
   "cell_type": "code",
   "execution_count": null,
   "metadata": {
    "colab": {
     "base_uri": "https://localhost:8080/",
     "height": 34
    },
    "id": "wAmSud2ToHuh",
    "outputId": "9afc9fb8-bef8-4f3f-95ac-8d26f9375233"
   },
   "outputs": [
    {
     "data": {
      "text/plain": [
       "pandas.core.series.Series"
      ]
     },
     "execution_count": 116,
     "metadata": {
      "tags": []
     },
     "output_type": "execute_result"
    }
   ],
   "source": [
    "age = df.age\n",
    "type( age )"
   ]
  },
  {
   "cell_type": "markdown",
   "metadata": {
    "id": "DooLFZH1ovCV"
   },
   "source": [
    "### Some useful helper methods of a Series"
   ]
  },
  {
   "cell_type": "markdown",
   "metadata": {
    "id": "iyDtUDT3JRuY"
   },
   "source": [
    "#### mean"
   ]
  },
  {
   "cell_type": "code",
   "execution_count": null,
   "metadata": {
    "colab": {
     "base_uri": "https://localhost:8080/",
     "height": 34
    },
    "id": "9gi2tOSTJTrI",
    "outputId": "1fbee477-4a35-422d-949b-1fe0b180af04"
   },
   "outputs": [
    {
     "data": {
      "text/plain": [
       "4.888888888888889"
      ]
     },
     "execution_count": 117,
     "metadata": {
      "tags": []
     },
     "output_type": "execute_result"
    }
   ],
   "source": [
    "pd_series = pd.Series([ 1, 2, 3, 5, 6, 6, 6, 7, 8])\n",
    "pd_series.mean()"
   ]
  },
  {
   "cell_type": "markdown",
   "metadata": {
    "id": "bILvFviLJbok"
   },
   "source": [
    "#### Unique"
   ]
  },
  {
   "cell_type": "code",
   "execution_count": null,
   "metadata": {
    "colab": {
     "base_uri": "https://localhost:8080/",
     "height": 34
    },
    "id": "azsZ0xzcJdN2",
    "outputId": "f8371eb1-959f-4726-acd1-e00729f9f2d6"
   },
   "outputs": [
    {
     "data": {
      "text/plain": [
       "array([1, 2, 3, 5, 6, 7, 8])"
      ]
     },
     "execution_count": 118,
     "metadata": {
      "tags": []
     },
     "output_type": "execute_result"
    }
   ],
   "source": [
    "pd_series.unique()"
   ]
  },
  {
   "cell_type": "markdown",
   "metadata": {
    "id": "GT2CGOucJgjz"
   },
   "source": [
    "#### Max"
   ]
  },
  {
   "cell_type": "code",
   "execution_count": null,
   "metadata": {
    "colab": {
     "base_uri": "https://localhost:8080/",
     "height": 34
    },
    "id": "s-PPBB7Co385",
    "outputId": "27c23504-0120-489f-b52b-0c6fbd49b8d9"
   },
   "outputs": [
    {
     "data": {
      "text/plain": [
       "1"
      ]
     },
     "execution_count": 120,
     "metadata": {
      "tags": []
     },
     "output_type": "execute_result"
    }
   ],
   "source": [
    "pd_series.min()"
   ]
  },
  {
   "cell_type": "markdown",
   "metadata": {
    "id": "g2UU5cr6rna6"
   },
   "source": [
    "# References:\n",
    "[Lists](https://docs.python.org/3/tutorial/datastructures.html)\n",
    "\n",
    "[Tuples and sequences](https://docs.python.org/3/tutorial/datastructures.html#tuples-and-sequences)\n",
    "\n",
    "[Dictionaries](https://docs.python.org/3/tutorial/datastructures.html#dictionaries)\n",
    "\n",
    "\n"
   ]
  },
  {
   "cell_type": "code",
   "execution_count": null,
   "metadata": {},
   "outputs": [],
   "source": []
  }
 ],
 "metadata": {
  "colab": {
   "collapsed_sections": [
    "_rehYX145nEk",
    "g4-XjayC8KO7"
   ],
   "name": "Lesson5-Python For Data Science-Python-Data-structure.ipynb",
   "provenance": [
    {
     "file_id": "https://github.com/paiml/python_for_datascience/blob/master/Lesson5_Python_For_Data_Science_Python_Data_structure.ipynb",
     "timestamp": 1679247223272
    }
   ]
  },
  "kernelspec": {
   "display_name": "Python 3 (ipykernel)",
   "language": "python",
   "name": "python3"
  },
  "language_info": {
   "codemirror_mode": {
    "name": "ipython",
    "version": 3
   },
   "file_extension": ".py",
   "mimetype": "text/x-python",
   "name": "python",
   "nbconvert_exporter": "python",
   "pygments_lexer": "ipython3",
   "version": "3.9.12"
  }
 },
 "nbformat": 4,
 "nbformat_minor": 4
}

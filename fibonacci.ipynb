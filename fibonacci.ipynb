{
 "cells": [
  {
   "cell_type": "markdown",
   "id": "6747b3e9-f38e-4062-8393-7c1597cf05ab",
   "metadata": {},
   "source": [
    "# Fibonacci Function"
   ]
  },
  {
   "cell_type": "code",
   "execution_count": 4,
   "id": "d99db404-f1f3-43e8-9c77-e055e1b304a2",
   "metadata": {},
   "outputs": [],
   "source": [
    "def fibonacci(n):\n",
    "    if n < 0:\n",
    "        print(\"Incorrect input\")\n",
    "        return\n",
    "    elif n in (0,1):\n",
    "        return n    \n",
    "    a, b = 1, 1    \n",
    "    for i in range(2, n):\n",
    "        a, b = b, a+b\n",
    "    return b"
   ]
  },
  {
   "cell_type": "code",
   "execution_count": 8,
   "id": "7b063038-4b54-4e38-9383-69e0b5238128",
   "metadata": {},
   "outputs": [],
   "source": [
    "def fibonacci2(n):\n",
    "    if n < 0:\n",
    "        print(\"Incorrect input\")\n",
    "        return\n",
    "    if n == 0:\n",
    "        return 1  \n",
    "    a, b = 1, 2    \n",
    "    for i in range(1, n):\n",
    "        a, b = b, a+b\n",
    "    return b"
   ]
  },
  {
   "cell_type": "code",
   "execution_count": 9,
   "id": "9ebf5343-4f11-4ba5-9fb6-77b7068acfb8",
   "metadata": {},
   "outputs": [
    {
     "name": "stdout",
     "output_type": "stream",
     "text": [
      "0: 0\n",
      "1: 1\n",
      "2: 1\n",
      "3: 2\n",
      "4: 3\n",
      "5: 5\n",
      "6: 8\n",
      "7: 13\n",
      "8: 21\n",
      "9: 34\n",
      "10: 55\n",
      "11: 89\n",
      "12: 144\n",
      "13: 233\n",
      "14: 377\n",
      "15: 610\n",
      "16: 987\n",
      "17: 1597\n",
      "18: 2584\n",
      "19: 4181\n",
      "20: 6765\n",
      "21: 10946\n",
      "22: 17711\n",
      "23: 28657\n",
      "24: 46368\n",
      "25: 75025\n",
      "26: 121393\n",
      "27: 196418\n",
      "28: 317811\n",
      "29: 514229\n"
     ]
    }
   ],
   "source": [
    "n = 30\n",
    "for i in range(n):\n",
    "    print(f\"{i}: {fibonacci(i)}\")"
   ]
  },
  {
   "cell_type": "code",
   "execution_count": 10,
   "id": "bbfafdc4-4431-4c29-b79e-cd0fd585d3f9",
   "metadata": {},
   "outputs": [
    {
     "name": "stdout",
     "output_type": "stream",
     "text": [
      "0: 1\n",
      "1: 2\n",
      "2: 3\n",
      "3: 5\n",
      "4: 8\n",
      "5: 13\n",
      "6: 21\n",
      "7: 34\n",
      "8: 55\n",
      "9: 89\n",
      "10: 144\n",
      "11: 233\n",
      "12: 377\n",
      "13: 610\n",
      "14: 987\n",
      "15: 1597\n",
      "16: 2584\n",
      "17: 4181\n",
      "18: 6765\n",
      "19: 10946\n",
      "20: 17711\n",
      "21: 28657\n",
      "22: 46368\n",
      "23: 75025\n",
      "24: 121393\n",
      "25: 196418\n",
      "26: 317811\n",
      "27: 514229\n",
      "28: 832040\n",
      "29: 1346269\n"
     ]
    }
   ],
   "source": [
    "n = 30\n",
    "for i in range(n):\n",
    "    print(f\"{i}: {fibonacci2(i)}\")"
   ]
  },
  {
   "cell_type": "code",
   "execution_count": null,
   "id": "36b58b56-879d-409b-a0c8-26a3301b0b06",
   "metadata": {},
   "outputs": [],
   "source": []
  }
 ],
 "metadata": {
  "kernelspec": {
   "display_name": "Python 3 (ipykernel)",
   "language": "python",
   "name": "python3"
  },
  "language_info": {
   "codemirror_mode": {
    "name": "ipython",
    "version": 3
   },
   "file_extension": ".py",
   "mimetype": "text/x-python",
   "name": "python",
   "nbconvert_exporter": "python",
   "pygments_lexer": "ipython3",
   "version": "3.9.12"
  }
 },
 "nbformat": 4,
 "nbformat_minor": 5
}

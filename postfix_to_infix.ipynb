{
 "cells": [
  {
   "cell_type": "markdown",
   "id": "1bbe3bec-5af6-4381-b06d-cc30ea803b71",
   "metadata": {},
   "source": [
    "## Postfix to Infix"
   ]
  },
  {
   "cell_type": "code",
   "execution_count": 18,
   "id": "8f2ad7bd-a805-459e-8721-c6f8600509aa",
   "metadata": {},
   "outputs": [],
   "source": [
    "# Python3 program to find infix for\n",
    "Operators = set(['+', '-', '*', '/', '(', ')', '^'])  # collection of Operators\n",
    "def is_operator(c):\n",
    "    return (c in Operators)\n",
    "\n",
    "# Get Infix for a given postfix\n",
    "# expression\n",
    "def postfix_to_infix(exp) :\n",
    "    s = []\n",
    "    for i in exp:                \n",
    "        # We assume that input is a\n",
    "        # valid postfix and expect\n",
    "        # an operator.\n",
    "        if (is_operator(i)):\n",
    "            op1 = s[0]\n",
    "            s.pop(0)\n",
    "            op2 = s[0]\n",
    "            s.pop(0)\n",
    "            s.insert(0, \"(\" + op2 + i +\n",
    "                            op1 + \")\")\n",
    "        else:\n",
    "            # Push operands   \n",
    "            s.insert(0, i)\n",
    "            \n",
    "    # There must be a single element in\n",
    "    # stack now which is the required\n",
    "    # infix.\n",
    "    return ''.join(s)"
   ]
  },
  {
   "cell_type": "code",
   "execution_count": 19,
   "id": "dc24e7e2-f261-4869-bab8-b082c8b7db6f",
   "metadata": {},
   "outputs": [
    {
     "name": "stdout",
     "output_type": "stream",
     "text": [
      "postfix notation:  ab*c+\n",
      "Infix notation:  ((a*b)+c)\n"
     ]
    }
   ],
   "source": [
    "expression = \"ab*c+\"\n",
    "print('postfix notation: ',expression)\n",
    "print('Infix notation: ',postfix_to_infix(expression))"
   ]
  },
  {
   "cell_type": "code",
   "execution_count": 21,
   "id": "ed3b18f9-6e3c-4bcf-a9c2-d58106fdefa9",
   "metadata": {},
   "outputs": [
    {
     "name": "stdout",
     "output_type": "stream",
     "text": [
      "postfix notation:   562^6-5/862+/-*\n",
      "Infix notation:  (5*((((6^2)-6)/5)-(8/(6+2)))) \n"
     ]
    }
   ],
   "source": [
    "expression = \" 562^6-5/862+/-*\"\n",
    "print('postfix notation: ',expression)\n",
    "print('Infix notation: ',postfix_to_infix(expression))"
   ]
  },
  {
   "cell_type": "code",
   "execution_count": 16,
   "id": "d4694829-43b5-4ec1-9d6c-168a2ce1f1ae",
   "metadata": {},
   "outputs": [
    {
     "name": "stdin",
     "output_type": "stream",
     "text": [
      "Enter postfix expression  ac*d+b/\n"
     ]
    },
    {
     "name": "stdout",
     "output_type": "stream",
     "text": [
      "infix notation:  ac*d+b/\n",
      "postfix notation:  (((a*c)+d)/b)\n"
     ]
    }
   ],
   "source": [
    "expression = input('Enter postfix expression ')\n",
    "print('infix notation: ',expression)\n",
    "print('postfix notation: ',postfix_to_infix(expression))"
   ]
  },
  {
   "cell_type": "code",
   "execution_count": null,
   "id": "5b43fbd6-fb07-4583-bb6c-0c1f54b3ed4d",
   "metadata": {},
   "outputs": [],
   "source": []
  }
 ],
 "metadata": {
  "kernelspec": {
   "display_name": "Python 3 (ipykernel)",
   "language": "python",
   "name": "python3"
  },
  "language_info": {
   "codemirror_mode": {
    "name": "ipython",
    "version": 3
   },
   "file_extension": ".py",
   "mimetype": "text/x-python",
   "name": "python",
   "nbconvert_exporter": "python",
   "pygments_lexer": "ipython3",
   "version": "3.9.12"
  }
 },
 "nbformat": 4,
 "nbformat_minor": 5
}

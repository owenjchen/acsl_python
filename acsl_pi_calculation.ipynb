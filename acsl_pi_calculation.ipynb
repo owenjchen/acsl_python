{
 "cells": [
  {
   "cell_type": "markdown",
   "id": "b74be222-de2e-4d8c-996c-b26a5e175dd3",
   "metadata": {},
   "source": [
    "# Calculate Pi"
   ]
  },
  {
   "cell_type": "code",
   "execution_count": 13,
   "id": "237166a0-59bb-4120-8a4a-20f2c7b070e9",
   "metadata": {},
   "outputs": [],
   "source": [
    "import math\n",
    "def calculatePI(PI=3,n=2,sign=1, loop=1000000):\n",
    "    for i in range(0,loop):\n",
    "        PI = PI + (sign * (4 / ((n) * (n + 1)* (n + 2))))\n",
    "        sign = sign * (-1)\n",
    "        # Increment by 2 according to formula\n",
    "        n += 2\n",
    "    return PI"
   ]
  },
  {
   "cell_type": "code",
   "execution_count": 14,
   "id": "cf8ab205-2b2a-4732-a395-45ac8909874b",
   "metadata": {},
   "outputs": [
    {
     "name": "stdout",
     "output_type": "stream",
     "text": [
      "The approximation of Pi in 1000 is: 3.141592653340544 \n",
      "Error=  -2.492490658312363e-10 \n"
     ]
    }
   ],
   "source": [
    "loop=1000\n",
    "pi = calculatePI(loop=loop)\n",
    "print(f\"The approximation of Pi in {loop} is: {pi} \")\n",
    "error = pi - math.pi\n",
    "print(f\"Error=  {error} \")"
   ]
  },
  {
   "cell_type": "code",
   "execution_count": 10,
   "id": "d867693a-88db-431e-8de4-7e05ec4e924e",
   "metadata": {},
   "outputs": [
    {
     "name": "stdout",
     "output_type": "stream",
     "text": [
      "The approximation of Pi in 100000 is: 3.1415926535897865 \n",
      "Error=  -6.661338147750939e-15 \n"
     ]
    }
   ],
   "source": [
    "loop=100000\n",
    "pi = calculatePI(loop=loop)\n",
    "print(f\"The approximation of Pi in {loop} is: {pi} \")\n",
    "error = pi - math.pi\n",
    "print(f\"Error=  {error} \")"
   ]
  },
  {
   "cell_type": "code",
   "execution_count": 12,
   "id": "a8b9c225-a93b-4506-9fbc-0d141a44f66f",
   "metadata": {},
   "outputs": [
    {
     "name": "stdout",
     "output_type": "stream",
     "text": [
      "The approximation of Pi in 1000000 is: 3.141592653589787 \n",
      "Error=  -6.217248937900877e-15 \n"
     ]
    }
   ],
   "source": [
    "loop=1000000\n",
    "pi = calculatePI(loop=loop)\n",
    "print(f\"The approximation of Pi in {loop} is: {pi} \")\n",
    "error = pi - math.pi\n",
    "print(f\"Error=  {error} \")"
   ]
  },
  {
   "cell_type": "code",
   "execution_count": null,
   "id": "53b15a46-52e1-471c-b5d4-c17f364a086c",
   "metadata": {},
   "outputs": [],
   "source": []
  }
 ],
 "metadata": {
  "kernelspec": {
   "display_name": "Python 3 (ipykernel)",
   "language": "python",
   "name": "python3"
  },
  "language_info": {
   "codemirror_mode": {
    "name": "ipython",
    "version": 3
   },
   "file_extension": ".py",
   "mimetype": "text/x-python",
   "name": "python",
   "nbconvert_exporter": "python",
   "pygments_lexer": "ipython3",
   "version": "3.9.12"
  }
 },
 "nbformat": 4,
 "nbformat_minor": 5
}

{
 "cells": [
  {
   "cell_type": "markdown",
   "id": "2b0c4012-8a2d-4094-9918-2829ddd58843",
   "metadata": {},
   "source": [
    "# ACSL Contest Programming Problem\n",
    "## 2021-2022 ● Contest 4: Fibonacci & Mandelbrot ● Intermediate Division\n"
   ]
  },
  {
   "cell_type": "markdown",
   "id": "c844bb87-4f72-4626-92a2-952d4a5adeb4",
   "metadata": {},
   "source": [
    "**PROBLEM**: Given the function 𝑓(𝑧) = 𝑧 , “iterate” the function by evaluating 2 + 𝐶\n",
    "𝑓(𝑓(𝑓(. . . 𝑓(𝑓(0))))), stopping as soon as the function escapes or cycles. The function escapes\n",
    "when the absolute value of its result is greater than a specified value; in this problem, it is 4. The\n",
    "function cycles when it results in a value that it has already produced after rounding each result\n",
    "to 2 decimal places. The variable 𝑧 and the constant 𝐶 are complex numbers.\n",
    "\n",
    "In order to use complex numbers, we need to define an imaginary number, i, such that\n",
    "𝑖 = − 1, and therefore, the value of 𝑖 . A complex number has two 2 = − 1 * − 1 =− 1\n",
    "parts: a real part and an imaginary part. They are represented in the form 𝑎 + 𝑏𝑖, where 𝑎 is\n",
    "referred to as the real number part and 𝑏𝑖 as the imaginary number part. Both a and b are real\n",
    "numbers.\n",
    "\n",
    "There are three operations you will need to perform on complex numbers: addition,\n",
    "multiplication, and absolute value. Here is how each operation is performed:\n",
    "\n",
    "● **Addition**:\n",
    "Combine the real number parts and combine the imaginary number parts:\n",
    "\n",
    "(𝑎 + 𝑏𝑖) + (𝑐 + 𝑑𝑖) = (𝑎 + 𝑐) + (𝑏 + 𝑑)𝑖\n",
    "\n",
    "Example: (5 + 2𝑖) + (3 − 6𝑖) = 8 − 4𝑖\n",
    "\n",
    "● **Multiplication**:\n",
    "Use the distributive property on binomial terms:\n",
    "\n",
    "(𝑎 + 𝑏𝑖)(𝑐 + 𝑑𝑖) = 𝑎𝑐 + 𝑎𝑑𝑖 + 𝑏𝑐𝑖 + 𝑏𝑑𝑖2 = (𝑎𝑐 − 𝑏𝑑) + (𝑎𝑑 + 𝑏𝑐)𝑖\n",
    "\n",
    "Example: (5 + 𝑖)(3 + 2𝑖) = 5 · 3 + 5 · 2𝑖 + 1 · 3𝑖 + 1 · 2𝑖2\n",
    "= 15 + 10𝑖 + 3𝑖 − 2\n",
    "= 13 + 13𝑖\n",
    "\n",
    "Example: (5 + 2𝑖)(3 − 6𝑖) = 27 − 24𝑖\n",
    "\n",
    "● **Absolute Value**:\n",
    "The absolute value of a complex number is given by the formula:\n",
    "\n",
    "|𝑎 + 𝑏𝑖| = 𝑎2 + 𝑏2\n",
    "\n",
    "Example: |3 − 4𝑖| = 32 + (− 4)2 = 9 + 16 = 25 = 5\n",
    "\n",
    "In this problem, you will be given two decimal numbers separated by a single space. They\n",
    "will represent the real part, a, and the imaginary part, b. This defines the constant 𝐶 for the\n",
    "function 𝑓(𝑧) = 𝑧 . For each input, evaluate up to 5 iterations of the function f. While 2 + 𝐶\n",
    "performing the computation on f, keep the result of the function in full precision. For each\n",
    "iteration, if the absolute value of the result is greater than 4, stop the process and output\n",
    "“ESCAPES n”, where n is the number of the last iteration that was completed. There is a single\n",
    "\n",
    "space after the word ESCAPES. Otherwise, round the final absolute value to 3 decimal places.\n",
    "Output that number as a string in the format “x.xxx”."
   ]
  },
  {
   "cell_type": "code",
   "execution_count": 13,
   "id": "8eeb5109-fe81-459a-ae03-6cf484b92855",
   "metadata": {},
   "outputs": [],
   "source": [
    "import cmath"
   ]
  },
  {
   "cell_type": "code",
   "execution_count": 18,
   "id": "5263c82d-6859-41e8-8e0a-eb69da460336",
   "metadata": {},
   "outputs": [
    {
     "data": {
      "text/plain": [
       "(1.12345+1.1236j)"
      ]
     },
     "execution_count": 18,
     "metadata": {},
     "output_type": "execute_result"
    }
   ],
   "source": [
    "x = complex(1.12345, 1.1236)\n",
    "x"
   ]
  },
  {
   "cell_type": "code",
   "execution_count": 19,
   "id": "56070870-318b-4b28-b359-30b02fcba71b",
   "metadata": {},
   "outputs": [],
   "source": [
    "# round to the nearest hundredth for a complex number\n",
    "def roundc(x, n=2):\n",
    "    return complex(round(x.real, n), round(x.imag, n))"
   ]
  },
  {
   "cell_type": "code",
   "execution_count": 20,
   "id": "62a539db-e048-4644-80c5-78850b4297c9",
   "metadata": {},
   "outputs": [
    {
     "name": "stdout",
     "output_type": "stream",
     "text": [
      "(1.123+1.124j)\n"
     ]
    }
   ],
   "source": [
    "print(roundc(x))"
   ]
  },
  {
   "cell_type": "code",
   "execution_count": 1,
   "id": "fdedf96d-d4d6-43f3-8065-9c790510a9d6",
   "metadata": {},
   "outputs": [],
   "source": [
    "# Solution\n",
    "import cmath\n",
    "\n",
    "def roundabs(x):\n",
    "    return str(round(abs(x), 3))\n",
    "\n",
    "def roundc(x, n=2):\n",
    "    return complex(round(x.real, n), round(x.imag, n))\n",
    "\n",
    "def solve(x,y, n=1000):\n",
    "    c = complex(x,y)\n",
    "    z = roundc(c)\n",
    "    i = 0\n",
    "    seen = [z]\n",
    "    for i in range(1,n):\n",
    "        z = roundc(z*z + c)\n",
    "        if abs(z) > 4:\n",
    "            return f\"ESCAPES {i+1}\"\n",
    "        if z in seen:\n",
    "            break\n",
    "        else:\n",
    "            seen.append(z)\n",
    "    lasti = seen.index(z)\n",
    "    return i - lasti"
   ]
  },
  {
   "cell_type": "code",
   "execution_count": 2,
   "id": "6b002e2b-64a6-4960-876e-aa94db96429d",
   "metadata": {},
   "outputs": [
    {
     "name": "stdout",
     "output_type": "stream",
     "text": [
      "ESCAPES 8\n"
     ]
    }
   ],
   "source": [
    "x,y = 0.3, -0.67\n",
    "print(solve(x,y))"
   ]
  },
  {
   "cell_type": "code",
   "execution_count": 29,
   "id": "0259cff1-0be4-4691-854a-316fdad14613",
   "metadata": {},
   "outputs": [
    {
     "name": "stdout",
     "output_type": "stream",
     "text": [
      "ESCAPES 2\n"
     ]
    }
   ],
   "source": [
    "x,y = 2, -0.3\n",
    "print(solve(x,y))"
   ]
  },
  {
   "cell_type": "code",
   "execution_count": 30,
   "id": "90931d85-6e26-4f87-8c11-d8451cf04c81",
   "metadata": {},
   "outputs": [
    {
     "name": "stdout",
     "output_type": "stream",
     "text": [
      "3\n",
      "ESCAPES 2\n",
      "5\n",
      "8\n",
      "13\n"
     ]
    }
   ],
   "source": [
    "inputx = [(-0.1,0.75),\n",
    "        (2.0, -0.3),\n",
    "        (-0.5, 0.56),\n",
    "        (-1.21, -0.32),\n",
    "        (0.01, -0.64)]\n",
    "for (x,y) in inputx:\n",
    "    print(solve(x,y))"
   ]
  },
  {
   "cell_type": "code",
   "execution_count": 31,
   "id": "aef8e1b4-f4bc-4f8b-a2bc-13b411b9a525",
   "metadata": {},
   "outputs": [
    {
     "name": "stdout",
     "output_type": "stream",
     "text": [
      "5\n",
      "8\n",
      "21\n",
      "ESCAPES 6\n",
      "1\n"
     ]
    }
   ],
   "source": [
    "inputx = [(-0.52,0.57),\n",
    "        (-1.07, -0.2),\n",
    "        (-1.04, -0.28),\n",
    "        (0.33, 0.77),\n",
    "        (0.26, -0.02)]\n",
    "for (x,y) in inputx:\n",
    "    print(solve(x,y))"
   ]
  },
  {
   "cell_type": "code",
   "execution_count": null,
   "id": "55fd47a5-01ed-4798-b2e9-10b2ffd15eb2",
   "metadata": {},
   "outputs": [],
   "source": []
  }
 ],
 "metadata": {
  "kernelspec": {
   "display_name": "Python 3 (ipykernel)",
   "language": "python",
   "name": "python3"
  },
  "language_info": {
   "codemirror_mode": {
    "name": "ipython",
    "version": 3
   },
   "file_extension": ".py",
   "mimetype": "text/x-python",
   "name": "python",
   "nbconvert_exporter": "python",
   "pygments_lexer": "ipython3",
   "version": "3.9.13"
  }
 },
 "nbformat": 4,
 "nbformat_minor": 5
}

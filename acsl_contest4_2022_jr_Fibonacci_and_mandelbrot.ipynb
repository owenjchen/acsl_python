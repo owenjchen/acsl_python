{
 "cells": [
  {
   "cell_type": "markdown",
   "id": "2b0c4012-8a2d-4094-9918-2829ddd58843",
   "metadata": {},
   "source": [
    "# ACSL Contest Programming Problem\n",
    "## 2021-2022 ● Contest 4: Fibonacci & Mandelbrot ● Junior Division\n"
   ]
  },
  {
   "cell_type": "markdown",
   "id": "c844bb87-4f72-4626-92a2-952d4a5adeb4",
   "metadata": {},
   "source": [
    "**PROBLEM**: Given the function 𝑓(𝑧) = 𝑧 , “iterate” the function 5 times. That is, evaluate 2 + 𝐶\n",
    "𝑓(𝑓(𝑓(𝑓(𝑓(0))))), stopping if the absolute value (as defined below) is greater than 4. The\n",
    "variable 𝑧 and the constant 𝐶 are complex numbers.\n",
    "\n",
    "In order to use complex numbers, we need to define an imaginary number, i, such that\n",
    "𝑖 = − 1, and therefore, the value of 𝑖 . A complex number has two 2 = − 1 * − 1 =− 1\n",
    "parts: a real part and an imaginary part. They are represented in the form 𝑎 + 𝑏𝑖, where 𝑎 is\n",
    "referred to as the real number part and 𝑏𝑖 as the imaginary number part. Both a and b are real\n",
    "numbers.\n",
    "\n",
    "There are three operations you will need to perform on complex numbers: addition,\n",
    "multiplication, and absolute value. Here is how each operation is performed:\n",
    "\n",
    "● **Addition**:\n",
    "Combine the real number parts and combine the imaginary number parts:\n",
    "\n",
    "(𝑎 + 𝑏𝑖) + (𝑐 + 𝑑𝑖) = (𝑎 + 𝑐) + (𝑏 + 𝑑)𝑖\n",
    "\n",
    "Example: (5 + 2𝑖) + (3 − 6𝑖) = 8 − 4𝑖\n",
    "\n",
    "● **Multiplication**:\n",
    "Use the distributive property on binomial terms:\n",
    "\n",
    "(𝑎 + 𝑏𝑖)(𝑐 + 𝑑𝑖) = 𝑎𝑐 + 𝑎𝑑𝑖 + 𝑏𝑐𝑖 + 𝑏𝑑𝑖2 = (𝑎𝑐 − 𝑏𝑑) + (𝑎𝑑 + 𝑏𝑐)𝑖\n",
    "\n",
    "Example: (5 + 𝑖)(3 + 2𝑖) = 5 · 3 + 5 · 2𝑖 + 1 · 3𝑖 + 1 · 2𝑖2\n",
    "= 15 + 10𝑖 + 3𝑖 − 2\n",
    "= 13 + 13𝑖\n",
    "\n",
    "Example: (5 + 2𝑖)(3 − 6𝑖) = 27 − 24𝑖\n",
    "\n",
    "● **Absolute Value**:\n",
    "The absolute value of a complex number is given by the formula:\n",
    "\n",
    "|𝑎 + 𝑏𝑖| = 𝑎2 + 𝑏2\n",
    "\n",
    "Example: |3 − 4𝑖| = 32 + (− 4)2 = 9 + 16 = 25 = 5\n",
    "\n",
    "In this problem, you will be given two decimal numbers separated by a single space. They\n",
    "will represent the real part, a, and the imaginary part, b. This defines the constant 𝐶 for the\n",
    "function 𝑓(𝑧) = 𝑧 . For each input, evaluate up to 5 iterations of the function f. While 2 + 𝐶\n",
    "performing the computation on f, keep the result of the function in full precision. For each\n",
    "iteration, if the absolute value of the result is greater than 4, stop the process and output\n",
    "“ESCAPES n”, where n is the number of the last iteration that was completed. There is a single\n",
    "\n",
    "space after the word ESCAPES. Otherwise, round the final absolute value to 3 decimal places.\n",
    "Output that number as a string in the format “x.xxx”."
   ]
  },
  {
   "cell_type": "code",
   "execution_count": 1,
   "id": "66408780-2d27-415d-afdb-f5521b40327c",
   "metadata": {},
   "outputs": [],
   "source": [
    "## Use Python cmath module\n",
    "import cmath"
   ]
  },
  {
   "cell_type": "code",
   "execution_count": 2,
   "id": "8bfb06cf-4226-44ce-bbce-829959b4f547",
   "metadata": {},
   "outputs": [
    {
     "data": {
      "text/plain": [
       "(2+1j)"
      ]
     },
     "execution_count": 2,
     "metadata": {},
     "output_type": "execute_result"
    }
   ],
   "source": [
    "x = complex(2,1)\n",
    "x"
   ]
  },
  {
   "cell_type": "code",
   "execution_count": 4,
   "id": "e7c95266-787f-4bc3-81fb-b39612d5f8f3",
   "metadata": {},
   "outputs": [
    {
     "data": {
      "text/plain": [
       "2.0"
      ]
     },
     "execution_count": 4,
     "metadata": {},
     "output_type": "execute_result"
    }
   ],
   "source": [
    "x.real"
   ]
  },
  {
   "cell_type": "code",
   "execution_count": 5,
   "id": "9f753cbe-e8af-48c1-82fa-c05fcf672568",
   "metadata": {},
   "outputs": [
    {
     "data": {
      "text/plain": [
       "1.0"
      ]
     },
     "execution_count": 5,
     "metadata": {},
     "output_type": "execute_result"
    }
   ],
   "source": [
    "x.imag"
   ]
  },
  {
   "cell_type": "code",
   "execution_count": 7,
   "id": "c7f9f9a9-fddc-4c2b-9a1f-32d5d8d42b74",
   "metadata": {},
   "outputs": [],
   "source": [
    "def multiply(x, y):\n",
    "    real = x.real*y.real - x.imag*y.imag\n",
    "    imag = x.real*y.imag + x.imag*y.real\n",
    "    return complex(real, imag)"
   ]
  },
  {
   "cell_type": "code",
   "execution_count": 8,
   "id": "34c3bb25-f91f-4ec3-9faa-228f47ee1009",
   "metadata": {},
   "outputs": [
    {
     "name": "stdout",
     "output_type": "stream",
     "text": [
      "(3+4j)\n",
      "(3+4j)\n"
     ]
    }
   ],
   "source": [
    "z1 = x*x\n",
    "print(z1)\n",
    "z2 = multiply(x,x)\n",
    "print(z2)"
   ]
  },
  {
   "cell_type": "code",
   "execution_count": 36,
   "id": "89c3c277-7e09-43c1-b946-3c2d32192608",
   "metadata": {},
   "outputs": [],
   "source": [
    "# Abosulte value of a comprex number\n",
    "import math\n",
    "def cabs(x):\n",
    "    return math.sqrt((x.real)**2 + (x.imag)**2)"
   ]
  },
  {
   "cell_type": "code",
   "execution_count": 37,
   "id": "7c5949a2-8511-47b2-bcc0-d5143ef97b3e",
   "metadata": {},
   "outputs": [
    {
     "name": "stdout",
     "output_type": "stream",
     "text": [
      "2.23606797749979\n"
     ]
    }
   ],
   "source": [
    "print(abs(complex(2,1)))"
   ]
  },
  {
   "cell_type": "code",
   "execution_count": 38,
   "id": "0b8dde29-838b-41f2-9fd6-f266b09eb9b8",
   "metadata": {},
   "outputs": [
    {
     "name": "stdout",
     "output_type": "stream",
     "text": [
      "2.23606797749979\n"
     ]
    }
   ],
   "source": [
    "print(cabs(complex(2,1)))"
   ]
  },
  {
   "cell_type": "code",
   "execution_count": 24,
   "id": "95607d7f-5634-495b-819e-a97025a00ef4",
   "metadata": {},
   "outputs": [
    {
     "name": "stdout",
     "output_type": "stream",
     "text": [
      "2.0\n"
     ]
    }
   ],
   "source": [
    "print(cabs(complex(2,0)))"
   ]
  },
  {
   "cell_type": "code",
   "execution_count": 42,
   "id": "dc559b94-f85f-4cd3-8ad7-b02dbd4c9659",
   "metadata": {},
   "outputs": [],
   "source": [
    "# Round to 3 decimal\n",
    "# Abosulte value of a comprex number\n",
    "\n",
    "def roundabs(x):\n",
    "    return str(round(abs(x), 3))"
   ]
  },
  {
   "cell_type": "code",
   "execution_count": 43,
   "id": "00865265-5c9d-469e-afbe-5eeb882dbee5",
   "metadata": {},
   "outputs": [
    {
     "name": "stdout",
     "output_type": "stream",
     "text": [
      "2.236\n"
     ]
    }
   ],
   "source": [
    "print(roundabs(complex(2,1)))"
   ]
  },
  {
   "cell_type": "code",
   "execution_count": 44,
   "id": "49f72c45-0436-4acc-bc6b-691dc4a0b401",
   "metadata": {},
   "outputs": [
    {
     "name": "stdout",
     "output_type": "stream",
     "text": [
      "2.0\n"
     ]
    }
   ],
   "source": [
    "print(roundabs(complex(2,0)))"
   ]
  },
  {
   "cell_type": "code",
   "execution_count": 45,
   "id": "fdedf96d-d4d6-43f3-8065-9c790510a9d6",
   "metadata": {},
   "outputs": [],
   "source": [
    "# Solution\n",
    "import cmath\n",
    "\n",
    "def roundabs(x):\n",
    "    return str(round(abs(x), 3))\n",
    "\n",
    "def solve(x,y, n=5):\n",
    "    c = complex(x,y)\n",
    "    z = c\n",
    "    for i in range(1,n):\n",
    "        z = z*z + c\n",
    "        if abs(z) > 4:\n",
    "            return f\"ESCAPES {i+1}\"\n",
    "    return roundabs(z)"
   ]
  },
  {
   "cell_type": "code",
   "execution_count": 46,
   "id": "6b002e2b-64a6-4960-876e-aa94db96429d",
   "metadata": {},
   "outputs": [
    {
     "name": "stdout",
     "output_type": "stream",
     "text": [
      "0.817\n"
     ]
    }
   ],
   "source": [
    "x,y = 0.3, -0.67\n",
    "print(solve(x,y))"
   ]
  },
  {
   "cell_type": "code",
   "execution_count": 47,
   "id": "0259cff1-0be4-4691-854a-316fdad14613",
   "metadata": {},
   "outputs": [
    {
     "name": "stdout",
     "output_type": "stream",
     "text": [
      "ESCAPES 2\n"
     ]
    }
   ],
   "source": [
    "x,y = 2, -0.3\n",
    "print(solve(x,y))"
   ]
  },
  {
   "cell_type": "code",
   "execution_count": 48,
   "id": "90931d85-6e26-4f87-8c11-d8451cf04c81",
   "metadata": {},
   "outputs": [
    {
     "name": "stdout",
     "output_type": "stream",
     "text": [
      "0.817\n",
      "ESCAPES 2\n",
      "0.018\n",
      "0.508\n",
      "0.574\n"
     ]
    }
   ],
   "source": [
    "inputx = [(0.3,-0.67),\n",
    "        (2.0, -0.3),\n",
    "        (-0.5, 0.56),\n",
    "        (-0.62, 0.43),\n",
    "        (0.0, 0.543)]\n",
    "for (x,y) in inputx:\n",
    "    print(solve(x,y))"
   ]
  },
  {
   "cell_type": "code",
   "execution_count": null,
   "id": "aef8e1b4-f4bc-4f8b-a2bc-13b411b9a525",
   "metadata": {},
   "outputs": [],
   "source": []
  }
 ],
 "metadata": {
  "kernelspec": {
   "display_name": "Python 3 (ipykernel)",
   "language": "python",
   "name": "python3"
  },
  "language_info": {
   "codemirror_mode": {
    "name": "ipython",
    "version": 3
   },
   "file_extension": ".py",
   "mimetype": "text/x-python",
   "name": "python",
   "nbconvert_exporter": "python",
   "pygments_lexer": "ipython3",
   "version": "3.9.13"
  }
 },
 "nbformat": 4,
 "nbformat_minor": 5
}

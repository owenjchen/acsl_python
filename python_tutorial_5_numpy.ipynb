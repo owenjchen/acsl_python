{
 "cells": [
  {
   "cell_type": "markdown",
   "id": "1905143e-c1b4-48bc-b7a3-f32bae9cd3ce",
   "metadata": {},
   "source": [
    "# Matrix Operations in Python\n",
    "\n",
    "The easy way to conduct matrix operations in Python is to use Numpy!\n",
    "\n",
    "**NumPy** is an open-source Python library that we can use to perform high-level mathematical operations with arrays, matrices, linear algebra,\n"
   ]
  },
  {
   "cell_type": "code",
   "execution_count": 1,
   "id": "a8f88352-0d8b-47b9-875f-1737cdd35906",
   "metadata": {},
   "outputs": [
    {
     "name": "stdout",
     "output_type": "stream",
     "text": [
      "Requirement already satisfied: numpy in c:\\programdata\\anaconda3\\lib\\site-packages (1.23.4)\n"
     ]
    }
   ],
   "source": [
    "#Install Numpy:\n",
    "!pip install numpy"
   ]
  },
  {
   "cell_type": "code",
   "execution_count": 2,
   "id": "34df32f1-fb79-4640-8b5e-3429715ea807",
   "metadata": {},
   "outputs": [],
   "source": [
    "import numpy as np"
   ]
  },
  {
   "cell_type": "markdown",
   "id": "c413d19c-44f0-4ecc-ab9f-558629c5db48",
   "metadata": {},
   "source": [
    "## One dimention array in Numpy"
   ]
  },
  {
   "cell_type": "code",
   "execution_count": 104,
   "id": "14957809-342f-42c0-a977-8b4f85446cfd",
   "metadata": {},
   "outputs": [
    {
     "data": {
      "text/plain": [
       "array([1, 2, 3, 4, 5])"
      ]
     },
     "execution_count": 104,
     "metadata": {},
     "output_type": "execute_result"
    }
   ],
   "source": [
    "arr = np.array([1, 2, 3, 4, 5])\n",
    "arr"
   ]
  },
  {
   "cell_type": "markdown",
   "id": "9a2bb282-965c-44f5-819d-2b0cba7fd84a",
   "metadata": {},
   "source": [
    "## Two dimension array - Matrix"
   ]
  },
  {
   "cell_type": "code",
   "execution_count": 105,
   "id": "b87d79e7-9cc7-4f88-a555-fc90841f8000",
   "metadata": {},
   "outputs": [
    {
     "data": {
      "text/plain": [
       "array([[1, 2, 3],\n",
       "       [4, 5, 6],\n",
       "       [7, 8, 9]])"
      ]
     },
     "execution_count": 105,
     "metadata": {},
     "output_type": "execute_result"
    }
   ],
   "source": [
    "mat = np.array([[1, 2, 3], [4, 5, 6],[7, 8, 9]])\n",
    "mat"
   ]
  },
  {
   "cell_type": "markdown",
   "id": "809fd8d7-e727-43ad-a3a1-513659a773a2",
   "metadata": {},
   "source": [
    "## Use np.matrix to define a matrix"
   ]
  },
  {
   "cell_type": "code",
   "execution_count": 57,
   "id": "b2d9e05c-2a97-4ec5-afa9-307a9db02437",
   "metadata": {},
   "outputs": [
    {
     "data": {
      "text/plain": [
       "matrix([[1, 2, 3],\n",
       "        [4, 5, 6],\n",
       "        [7, 8, 9]])"
      ]
     },
     "execution_count": 57,
     "metadata": {},
     "output_type": "execute_result"
    }
   ],
   "source": [
    "mat1 = np.matrix([[1, 2, 3], [4, 5, 6],[7, 8, 9]])\n",
    "mat1"
   ]
  },
  {
   "cell_type": "markdown",
   "id": "7cc5badd-c74c-4271-94a0-0eb8cbf19a0f",
   "metadata": {},
   "source": [
    "## 3-dimension array"
   ]
  },
  {
   "cell_type": "code",
   "execution_count": 18,
   "id": "868abb37-adf8-44b8-a014-fc1c82f2839d",
   "metadata": {},
   "outputs": [
    {
     "data": {
      "text/plain": [
       "array([[[111, 112, 113],\n",
       "        [124, 125, 126]],\n",
       "\n",
       "       [[211, 212, 213],\n",
       "        [224, 225, 226]],\n",
       "\n",
       "       [[311, 312, 313],\n",
       "        [324, 325, 326]]])"
      ]
     },
     "execution_count": 18,
     "metadata": {},
     "output_type": "execute_result"
    }
   ],
   "source": [
    "d = np.array([[[111, 112, 113], [124, 125, 126]], [[211, 212, 213], [224, 225, 226]], [[311, 312, 313], [324, 325, 326]]])\n",
    "d"
   ]
  },
  {
   "cell_type": "markdown",
   "id": "1b651c1d-c351-4ac2-9fd9-482d7eb13c67",
   "metadata": {},
   "source": [
    "## Check dimenion - ndim"
   ]
  },
  {
   "cell_type": "code",
   "execution_count": 27,
   "id": "dc784df0-4913-4c6c-8b70-5488e465f70e",
   "metadata": {},
   "outputs": [
    {
     "name": "stdout",
     "output_type": "stream",
     "text": [
      "1\n",
      "2\n",
      "3\n"
     ]
    }
   ],
   "source": [
    "print(arr.ndim)\n",
    "print(mat.ndim)\n",
    "print(d.ndim)"
   ]
  },
  {
   "cell_type": "markdown",
   "id": "7920ed51-d50e-471f-b95d-96023c073d48",
   "metadata": {},
   "source": [
    "## NumPy Array Indexing\n",
    "\n",
    "Access Array Elements\n",
    "Array indexing is the same as accessing an array element.\n",
    "\n",
    "You can access an array element by referring to its index number.\n",
    "\n",
    "The indexes in NumPy arrays start with 0, meaning that the first element has index 0, and the second has index 1 etc."
   ]
  },
  {
   "cell_type": "code",
   "execution_count": 10,
   "id": "779516ac-9ade-482f-aa3f-34057b780a40",
   "metadata": {},
   "outputs": [
    {
     "name": "stdout",
     "output_type": "stream",
     "text": [
      "First element of arr: 1\n",
      "Last element of arr: 5\n"
     ]
    }
   ],
   "source": [
    "print(f\"First element of arr: {arr[0]}\")\n",
    "print(f\"Last element of arr: {arr[-1]}\")"
   ]
  },
  {
   "cell_type": "code",
   "execution_count": 106,
   "id": "f9d22fa2-639f-4aa2-93db-2df8a90641fb",
   "metadata": {},
   "outputs": [
    {
     "name": "stdout",
     "output_type": "stream",
     "text": [
      "First row of mat: [1 2 3]\n",
      "Last row of mat: [7 8 9]\n"
     ]
    }
   ],
   "source": [
    "print(f\"First row of mat: {mat[0]}\")\n",
    "print(f\"Last row of mat: {mat[-1]}\")"
   ]
  },
  {
   "cell_type": "code",
   "execution_count": 107,
   "id": "110d0989-b544-4fff-a40d-fbb0ece30994",
   "metadata": {},
   "outputs": [
    {
     "name": "stdout",
     "output_type": "stream",
     "text": [
      "First col of mat: [1 4 7]\n",
      "Last colof mat: [3 6 9]\n"
     ]
    }
   ],
   "source": [
    "print(f\"First col of mat: {mat[:,0]}\")\n",
    "print(f\"Last colof mat: {mat[:,-1]}\")"
   ]
  },
  {
   "cell_type": "code",
   "execution_count": 30,
   "id": "cbffbbfc-3687-4df9-8b6a-add0d9b3b4b5",
   "metadata": {},
   "outputs": [
    {
     "data": {
      "text/plain": [
       "1"
      ]
     },
     "execution_count": 30,
     "metadata": {},
     "output_type": "execute_result"
    }
   ],
   "source": [
    "# First element - 0,0\n",
    "mat[0,0]"
   ]
  },
  {
   "cell_type": "code",
   "execution_count": 31,
   "id": "86ee21b8-47d0-4ae0-92c2-1418286dc7d0",
   "metadata": {},
   "outputs": [
    {
     "data": {
      "text/plain": [
       "6"
      ]
     },
     "execution_count": 31,
     "metadata": {},
     "output_type": "execute_result"
    }
   ],
   "source": [
    "# Element on row i, col j\n",
    "i, j = 1, 2\n",
    "mat[i,j]"
   ]
  },
  {
   "cell_type": "markdown",
   "id": "13d687c6-e7cc-47de-a6d3-3b87dde289ce",
   "metadata": {},
   "source": [
    "## NumPy Matrix Indexing"
   ]
  },
  {
   "cell_type": "code",
   "execution_count": 59,
   "id": "132bd437-72d1-424d-ba71-63aaed933b19",
   "metadata": {},
   "outputs": [],
   "source": [
    "mat1 = np.matrix([[1, 2, 3], [4, 5, 6],[7, 8, 9]])"
   ]
  },
  {
   "cell_type": "code",
   "execution_count": 65,
   "id": "65d00888-c10f-4753-971c-e36b2894046f",
   "metadata": {},
   "outputs": [
    {
     "data": {
      "text/plain": [
       "1"
      ]
     },
     "execution_count": 65,
     "metadata": {},
     "output_type": "execute_result"
    }
   ],
   "source": [
    "# First element - 0,0\n",
    "mat1[0,0]"
   ]
  },
  {
   "cell_type": "code",
   "execution_count": 60,
   "id": "9686ac22-5c90-4e1a-bbf6-0c61df46d8f7",
   "metadata": {},
   "outputs": [
    {
     "name": "stdout",
     "output_type": "stream",
     "text": [
      "First row of mat1: [[1 2 3]]\n",
      "Last row of mat1: [[7 8 9]]\n"
     ]
    }
   ],
   "source": [
    "print(f\"First row of mat1: {mat1[0]}\")\n",
    "print(f\"Last row of mat1: {mat1[-1]}\")"
   ]
  },
  {
   "cell_type": "code",
   "execution_count": 64,
   "id": "326fb55f-e048-49ec-89e3-ca7121d4334b",
   "metadata": {},
   "outputs": [
    {
     "name": "stdout",
     "output_type": "stream",
     "text": [
      "First col of mat1: [[1]\n",
      " [4]\n",
      " [7]]\n",
      "Last col of mat1: [[3]\n",
      " [6]\n",
      " [9]]\n"
     ]
    }
   ],
   "source": [
    "print(f\"First col of mat1: {mat1[:,0]}\")\n",
    "print(f\"Last col of mat1: {mat1[:,-1]}\")"
   ]
  },
  {
   "cell_type": "code",
   "execution_count": 62,
   "id": "0dd739d9-a178-4d97-9cc7-6f30a3bdff07",
   "metadata": {},
   "outputs": [
    {
     "data": {
      "text/plain": [
       "(3, 3)"
      ]
     },
     "execution_count": 62,
     "metadata": {},
     "output_type": "execute_result"
    }
   ],
   "source": [
    "mat1.shape"
   ]
  },
  {
   "cell_type": "markdown",
   "id": "5b1f750c-eecc-48b0-a304-5aab1b04f4e2",
   "metadata": {},
   "source": [
    "## 3 dimensions - use 3 indices"
   ]
  },
  {
   "cell_type": "code",
   "execution_count": 21,
   "id": "51645235-7229-483b-ae13-f4814a398fcc",
   "metadata": {},
   "outputs": [
    {
     "name": "stdout",
     "output_type": "stream",
     "text": [
      "First element of first dimenion of d: [[111 112 113]\n",
      " [124 125 126]]\n",
      "Last element of first dimenion of d: [[311 312 313]\n",
      " [324 325 326]]\n"
     ]
    }
   ],
   "source": [
    "print(f\"First element of first dimenion of d: {d[0]}\")\n",
    "print(f\"Last element of first dimenion of d: {d[-1]}\")"
   ]
  },
  {
   "cell_type": "code",
   "execution_count": 20,
   "id": "0958ee1f-2815-43f7-9eef-682e8fc9dc11",
   "metadata": {},
   "outputs": [
    {
     "name": "stdout",
     "output_type": "stream",
     "text": [
      "First element of first dimenion of d: [[111 112 113]\n",
      " [124 125 126]]\n",
      "Last element of first dimenion of d: [[311 312 313]\n",
      " [324 325 326]]\n"
     ]
    }
   ],
   "source": [
    "print(f\"First element of first dimenion of d: {d[0,:,:]}\")\n",
    "print(f\"Last element of first dimenion of d: {d[-1,:,:]}\")"
   ]
  },
  {
   "cell_type": "code",
   "execution_count": 22,
   "id": "6ed7423d-4261-4a25-8e2b-f2c944a1acb1",
   "metadata": {},
   "outputs": [
    {
     "name": "stdout",
     "output_type": "stream",
     "text": [
      "First element of 2nd dimenion of d: [[111 112 113]\n",
      " [211 212 213]\n",
      " [311 312 313]]\n",
      "Last element of 2nd dimenion of d: [[124 125 126]\n",
      " [224 225 226]\n",
      " [324 325 326]]\n"
     ]
    }
   ],
   "source": [
    "print(f\"First element of 2nd dimenion of d: {d[:,0,:]}\")\n",
    "print(f\"Last element of 2nd dimenion of d: {d[:, -1, :]}\")"
   ]
  },
  {
   "cell_type": "code",
   "execution_count": 23,
   "id": "250336bc-a8d5-45ad-94c7-3d312f6be861",
   "metadata": {},
   "outputs": [
    {
     "name": "stdout",
     "output_type": "stream",
     "text": [
      "First element of 3rd dimenion of d: [[111 124]\n",
      " [211 224]\n",
      " [311 324]]\n",
      "Last element of 3rd dimenion of d: [[113 126]\n",
      " [213 226]\n",
      " [313 326]]\n"
     ]
    }
   ],
   "source": [
    "print(f\"First element of 3rd dimenion of d: {d[:,:,0]}\")\n",
    "print(f\"Last element of 3rd dimenion of d: {d[:, :, -1]}\")"
   ]
  },
  {
   "cell_type": "markdown",
   "id": "085530a4-a664-41fe-919a-44086dcde279",
   "metadata": {},
   "source": [
    "## Matrix addition - two matrices must have the same shapes"
   ]
  },
  {
   "cell_type": "code",
   "execution_count": 66,
   "id": "99df2e3e-5331-4209-b0be-9b3ff3b89ede",
   "metadata": {},
   "outputs": [],
   "source": [
    "mat1 = np.matrix([[1, 2, 3], [4, 5, 6],[7, 8, 9]])\n",
    "mat2 = np.matrix([[1, 2, 3], [4, 5, 6]])"
   ]
  },
  {
   "cell_type": "code",
   "execution_count": 67,
   "id": "a64626f4-87a1-451a-a464-25c82abcddbb",
   "metadata": {},
   "outputs": [
    {
     "ename": "ValueError",
     "evalue": "operands could not be broadcast together with shapes (3,3) (2,3) ",
     "output_type": "error",
     "traceback": [
      "\u001b[1;31m---------------------------------------------------------------------------\u001b[0m",
      "\u001b[1;31mValueError\u001b[0m                                Traceback (most recent call last)",
      "Cell \u001b[1;32mIn [67], line 3\u001b[0m\n\u001b[0;32m      1\u001b[0m \u001b[38;5;66;03m# can not add two matrices with different dimensions\u001b[39;00m\n\u001b[0;32m      2\u001b[0m \u001b[38;5;66;03m# This will give an error below\u001b[39;00m\n\u001b[1;32m----> 3\u001b[0m mat3 \u001b[38;5;241m=\u001b[39m \u001b[43mmat1\u001b[49m\u001b[43m \u001b[49m\u001b[38;5;241;43m+\u001b[39;49m\u001b[43m \u001b[49m\u001b[43mmat2\u001b[49m\n",
      "\u001b[1;31mValueError\u001b[0m: operands could not be broadcast together with shapes (3,3) (2,3) "
     ]
    }
   ],
   "source": [
    "# can not add two matrices with different dimensions\n",
    "# This will give an error below\n",
    "mat3 = mat1 + mat2"
   ]
  },
  {
   "cell_type": "code",
   "execution_count": 74,
   "id": "94d1433e-e290-4d20-9f7e-53c97a61e393",
   "metadata": {},
   "outputs": [
    {
     "data": {
      "text/plain": [
       "matrix([[ 3,  4,  5],\n",
       "        [ 6,  7,  8],\n",
       "        [ 9, 10, 11]])"
      ]
     },
     "execution_count": 74,
     "metadata": {},
     "output_type": "execute_result"
    }
   ],
   "source": [
    "mat2 = np.matrix([[2, 2, 2], [2, 2, 2],[2, 2, 2]])\n",
    "mat3 = mat1 + mat2\n",
    "mat3"
   ]
  },
  {
   "cell_type": "markdown",
   "id": "9894bb04-9304-4c95-a46d-cef2c063c466",
   "metadata": {},
   "source": [
    "## Matrix subtractin - two matrices must have the same shapes"
   ]
  },
  {
   "cell_type": "code",
   "execution_count": 75,
   "id": "9db314fd-5d1c-4353-bdb2-f2af4fb9c2c1",
   "metadata": {},
   "outputs": [
    {
     "data": {
      "text/plain": [
       "matrix([[-1,  0,  1],\n",
       "        [ 2,  3,  4],\n",
       "        [ 5,  6,  7]])"
      ]
     },
     "execution_count": 75,
     "metadata": {},
     "output_type": "execute_result"
    }
   ],
   "source": [
    "mat3 = mat1 - mat2\n",
    "mat3"
   ]
  },
  {
   "cell_type": "markdown",
   "id": "54cf1fdc-997e-4cce-9495-8c57df972013",
   "metadata": {},
   "source": [
    "## Matrix multiplications\n",
    "\n",
    "- \\* or np.matmul or np.dot() for matrix product or dot product\n",
    "\n",
    "- np.multiply() for element-wise product of two matrices\n"
   ]
  },
  {
   "cell_type": "markdown",
   "id": "14c4927d-7d65-4483-83b6-d1acdc9879c5",
   "metadata": {},
   "source": [
    "### Matrix Product - Method 1  operator \\*"
   ]
  },
  {
   "cell_type": "code",
   "execution_count": 77,
   "id": "80eb51b2-6765-4f7e-8f6b-b9831c42c0ee",
   "metadata": {},
   "outputs": [
    {
     "data": {
      "text/plain": [
       "matrix([[12, 12, 12],\n",
       "        [30, 30, 30],\n",
       "        [48, 48, 48]])"
      ]
     },
     "execution_count": 77,
     "metadata": {},
     "output_type": "execute_result"
    }
   ],
   "source": [
    "mat3 = mat1 * mat2\n",
    "mat3"
   ]
  },
  {
   "cell_type": "markdown",
   "id": "c1b9a9c4-3446-4113-90b1-6258c4c5ab6c",
   "metadata": {},
   "source": [
    "### Matrix Product - Method 2  np.matmul()"
   ]
  },
  {
   "cell_type": "code",
   "execution_count": 81,
   "id": "325fd4f3-f40f-4659-bf9e-a2d4f1c37cb7",
   "metadata": {},
   "outputs": [
    {
     "data": {
      "text/plain": [
       "matrix([[12, 12, 12],\n",
       "        [30, 30, 30],\n",
       "        [48, 48, 48]])"
      ]
     },
     "execution_count": 81,
     "metadata": {},
     "output_type": "execute_result"
    }
   ],
   "source": [
    "mat3 = np.matmul(mat1, mat2)\n",
    "mat3"
   ]
  },
  {
   "cell_type": "markdown",
   "id": "8c74e6a7-fd59-4a65-9d12-448b52422168",
   "metadata": {},
   "source": [
    "### Matrix Product - Method 3  np.dot()"
   ]
  },
  {
   "cell_type": "code",
   "execution_count": 82,
   "id": "bc603326-3c8a-4e66-ac24-4ed063d4b46b",
   "metadata": {},
   "outputs": [
    {
     "data": {
      "text/plain": [
       "matrix([[12, 12, 12],\n",
       "        [30, 30, 30],\n",
       "        [48, 48, 48]])"
      ]
     },
     "execution_count": 82,
     "metadata": {},
     "output_type": "execute_result"
    }
   ],
   "source": [
    "mat3 = np.dot(mat1, mat2)\n",
    "mat3"
   ]
  },
  {
   "cell_type": "markdown",
   "id": "62c503da-73db-40fa-a716-958dff05e324",
   "metadata": {},
   "source": [
    "### Element-wide multiplication"
   ]
  },
  {
   "cell_type": "code",
   "execution_count": 78,
   "id": "c27d0874-7ebc-4520-962f-56a82528e5ec",
   "metadata": {},
   "outputs": [
    {
     "data": {
      "text/plain": [
       "matrix([[ 2,  4,  6],\n",
       "        [ 8, 10, 12],\n",
       "        [14, 16, 18]])"
      ]
     },
     "execution_count": 78,
     "metadata": {},
     "output_type": "execute_result"
    }
   ],
   "source": [
    "mat3 = np.multiply(mat1, mat2)\n",
    "mat3"
   ]
  },
  {
   "cell_type": "code",
   "execution_count": 41,
   "id": "503f0c18-f324-4a11-9e78-10c432c52fe0",
   "metadata": {},
   "outputs": [
    {
     "data": {
      "text/plain": [
       "array([[1, 0, 0],\n",
       "       [0, 5, 0],\n",
       "       [0, 0, 9]])"
      ]
     },
     "execution_count": 41,
     "metadata": {},
     "output_type": "execute_result"
    }
   ],
   "source": [
    "mat4 = np.array([[1, 0, 0], [0, 1, 0],[0, 0, 1]])\n",
    "mat5 = mat1 * mat4\n",
    "mat5"
   ]
  },
  {
   "cell_type": "markdown",
   "id": "4ed990a3-13ae-4959-aa45-3271e091952c",
   "metadata": {},
   "source": [
    "## Matrix Square"
   ]
  },
  {
   "cell_type": "code",
   "execution_count": 94,
   "id": "d7062970-0028-4ce8-a834-7e6aa51ede17",
   "metadata": {},
   "outputs": [
    {
     "data": {
      "text/plain": [
       "matrix([[ 30,  36,  42],\n",
       "        [ 66,  81,  96],\n",
       "        [102, 126, 150]])"
      ]
     },
     "execution_count": 94,
     "metadata": {},
     "output_type": "execute_result"
    }
   ],
   "source": [
    "matsq = mat1 * mat1\n",
    "matsq"
   ]
  },
  {
   "cell_type": "code",
   "execution_count": 95,
   "id": "958f37a0-ac3c-4059-915a-f963a8c11acc",
   "metadata": {},
   "outputs": [
    {
     "data": {
      "text/plain": [
       "matrix([[ 30,  36,  42],\n",
       "        [ 66,  81,  96],\n",
       "        [102, 126, 150]])"
      ]
     },
     "execution_count": 95,
     "metadata": {},
     "output_type": "execute_result"
    }
   ],
   "source": [
    "mat3 = np.matmul(mat1, mat1)\n",
    "mat3"
   ]
  },
  {
   "cell_type": "markdown",
   "id": "e89cc54e-1d89-40d7-a98b-bde7ac383dd3",
   "metadata": {},
   "source": [
    "## Element-wise square"
   ]
  },
  {
   "cell_type": "code",
   "execution_count": 88,
   "id": "de8cd81f-deee-4cc7-852c-d01214eba23e",
   "metadata": {},
   "outputs": [
    {
     "data": {
      "text/plain": [
       "matrix([[ 1,  4,  9],\n",
       "        [16, 25, 36],\n",
       "        [49, 64, 81]])"
      ]
     },
     "execution_count": 88,
     "metadata": {},
     "output_type": "execute_result"
    }
   ],
   "source": [
    "mat3 = np.square(mat1)\n",
    "mat3"
   ]
  },
  {
   "cell_type": "markdown",
   "id": "1b7161c3-1e5a-4645-9830-ef943ef898ff",
   "metadata": {},
   "source": [
    "## Grah Theory - Adjacency Matrix"
   ]
  },
  {
   "cell_type": "markdown",
   "id": "e847909b-bec0-4deb-b07b-4beb130798a4",
   "metadata": {},
   "source": [
    "### Calculate number of different paths"
   ]
  },
  {
   "cell_type": "markdown",
   "id": "5858920e-9591-44ba-8ad4-11bed80de067",
   "metadata": {},
   "source": [
    "### Problem 2: Find the total number of different paths from A to C of lenght 2 or 4"
   ]
  },
  {
   "cell_type": "code",
   "execution_count": 91,
   "id": "78fb284b-1579-43c8-b8cb-9e7f47568d73",
   "metadata": {},
   "outputs": [
    {
     "data": {
      "text/plain": [
       "matrix([[1, 0, 1],\n",
       "        [0, 1, 1],\n",
       "        [1, 0, 0]])"
      ]
     },
     "execution_count": 91,
     "metadata": {},
     "output_type": "execute_result"
    }
   ],
   "source": [
    "m1 = np.matrix([[1,0,1],[0,1,1],[1,0,0]])\n",
    "m1"
   ]
  },
  {
   "cell_type": "code",
   "execution_count": 96,
   "id": "1bb42536-3f0a-4669-8e32-b5eeb4a71620",
   "metadata": {},
   "outputs": [
    {
     "data": {
      "text/plain": [
       "matrix([[2, 0, 1],\n",
       "        [1, 1, 1],\n",
       "        [1, 0, 1]])"
      ]
     },
     "execution_count": 96,
     "metadata": {},
     "output_type": "execute_result"
    }
   ],
   "source": [
    "m2 = m1*m1\n",
    "m2"
   ]
  },
  {
   "cell_type": "code",
   "execution_count": 97,
   "id": "3e1156b5-6988-49aa-9404-5d66dc4704d1",
   "metadata": {},
   "outputs": [
    {
     "data": {
      "text/plain": [
       "matrix([[5, 0, 3],\n",
       "        [4, 1, 3],\n",
       "        [3, 0, 2]])"
      ]
     },
     "execution_count": 97,
     "metadata": {},
     "output_type": "execute_result"
    }
   ],
   "source": [
    "m4 = m2*m2\n",
    "m4"
   ]
  },
  {
   "cell_type": "markdown",
   "id": "59d3f267-a0a8-4ca3-a69e-f8646d79e384",
   "metadata": {},
   "source": [
    "### 2018-2019 ACSL Contest #4 - Problem 2\n",
    "How many paths of length 2 "
   ]
  },
  {
   "cell_type": "code",
   "execution_count": 102,
   "id": "00d6595c-6a26-46e5-98a4-4fc5abb38f87",
   "metadata": {},
   "outputs": [
    {
     "data": {
      "text/plain": [
       "matrix([[0, 1, 0, 1, 1],\n",
       "        [0, 0, 1, 0, 1],\n",
       "        [1, 1, 0, 1, 0],\n",
       "        [0, 0, 0, 0, 1],\n",
       "        [0, 0, 0, 1, 0]])"
      ]
     },
     "execution_count": 102,
     "metadata": {},
     "output_type": "execute_result"
    }
   ],
   "source": [
    "m = np.matrix([[0, 1, 0, 1, 1],\n",
    "               [0, 0, 1, 0, 1],\n",
    "               [1, 1, 0, 1, 0],\n",
    "               [0, 0, 0, 0, 1],\n",
    "               [0, 0, 0, 1, 0]])\n",
    "m"
   ]
  },
  {
   "cell_type": "code",
   "execution_count": 103,
   "id": "855ee8b4-9edf-4787-866c-02f8aba7fa8a",
   "metadata": {},
   "outputs": [
    {
     "data": {
      "text/plain": [
       "matrix([[0, 0, 1, 1, 2],\n",
       "        [1, 1, 0, 2, 0],\n",
       "        [0, 1, 1, 1, 3],\n",
       "        [0, 0, 0, 1, 0],\n",
       "        [0, 0, 0, 0, 1]])"
      ]
     },
     "execution_count": 103,
     "metadata": {},
     "output_type": "execute_result"
    }
   ],
   "source": [
    "m2 = m*m\n",
    "m2"
   ]
  },
  {
   "cell_type": "code",
   "execution_count": null,
   "id": "fa448ac8-7fe4-4643-a865-adda5917fb03",
   "metadata": {},
   "outputs": [],
   "source": []
  }
 ],
 "metadata": {
  "kernelspec": {
   "display_name": "Python 3 (ipykernel)",
   "language": "python",
   "name": "python3"
  },
  "language_info": {
   "codemirror_mode": {
    "name": "ipython",
    "version": 3
   },
   "file_extension": ".py",
   "mimetype": "text/x-python",
   "name": "python",
   "nbconvert_exporter": "python",
   "pygments_lexer": "ipython3",
   "version": "3.9.13"
  }
 },
 "nbformat": 4,
 "nbformat_minor": 5
}

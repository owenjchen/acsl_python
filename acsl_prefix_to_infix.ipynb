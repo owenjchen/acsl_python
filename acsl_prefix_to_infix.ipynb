{
 "cells": [
  {
   "cell_type": "markdown",
   "id": "48ab7697-1d11-4bcf-820c-a640df848bb4",
   "metadata": {},
   "source": [
    "## Prefix to Infix"
   ]
  },
  {
   "cell_type": "code",
   "execution_count": 2,
   "id": "39ff41f4-8699-4378-b595-a16a6bd29e38",
   "metadata": {},
   "outputs": [],
   "source": [
    "# Python Program to convert prefix to Infix\n",
    "Operators = set(['+', '-', '*', '/', '(', ')', '^'])  # collection of Operators\n",
    "def is_operator(c):\n",
    "    return (c in Operators)\n",
    "    \n",
    "def prefix_to_infix(prefix):\n",
    "    stack = []\n",
    "    \n",
    "    # read prefix in reverse order\n",
    "    i = len(prefix) - 1\n",
    "    while i >= 0:\n",
    "        if not is_operator(prefix[i]):\n",
    "            \n",
    "            # symbol is operand\n",
    "            stack.append(prefix[i])\n",
    "            i -= 1\n",
    "        else:\n",
    "        \n",
    "            # symbol is operator\n",
    "            str = \"(\" + stack.pop() + prefix[i] + stack.pop() + \")\"\n",
    "            stack.append(str)\n",
    "            i -= 1\n",
    "    \n",
    "    return stack.pop()"
   ]
  },
  {
   "cell_type": "code",
   "execution_count": 7,
   "id": "4937696c-3939-439b-944d-26e7662a6756",
   "metadata": {},
   "outputs": [
    {
     "name": "stdout",
     "output_type": "stream",
     "text": [
      "postfix notation:  *-A/BC-/AKL\n",
      "Infix notation:  ((A-(B/C))*((A/K)-L))\n"
     ]
    }
   ],
   "source": [
    "expression = \"*-A/BC-/AKL\"\n",
    "print('postfix notation: ',expression)\n",
    "print('Infix notation: ',prefix_to_infix(expression))"
   ]
  },
  {
   "cell_type": "code",
   "execution_count": 8,
   "id": "14119707-ce11-474d-aeca-8b774711ba39",
   "metadata": {},
   "outputs": [
    {
     "name": "stdout",
     "output_type": "stream",
     "text": [
      "postfix notation:  *5-/-^6265/8+62\n",
      "Infix notation:  (5*((((6^2)-6)/5)-(8/(6+2))))\n"
     ]
    }
   ],
   "source": [
    "expression = \"*5-/-^6265/8+62\"\n",
    "print('postfix notation: ',expression)\n",
    "print('Infix notation: ',prefix_to_infix(expression))"
   ]
  },
  {
   "cell_type": "code",
   "execution_count": 9,
   "id": "08cb3c46-7c79-47b0-9724-a8fab76f02c9",
   "metadata": {},
   "outputs": [
    {
     "name": "stdin",
     "output_type": "stream",
     "text": [
      "Enter prefix expression  /+*acdb\n"
     ]
    },
    {
     "name": "stdout",
     "output_type": "stream",
     "text": [
      "prefix notation:  /+*acdb\n",
      "postfix notation:  (((a*c)+d)/b)\n"
     ]
    }
   ],
   "source": [
    "expression = input('Enter prefix expression ')\n",
    "print('prefix notation: ',expression)\n",
    "print('infix notation: ', prefix_to_infix(expression))"
   ]
  },
  {
   "cell_type": "code",
   "execution_count": 5,
   "id": "4a9832a1-3c01-46f4-939a-c416ea3da85a",
   "metadata": {},
   "outputs": [
    {
     "name": "stdout",
     "output_type": "stream",
     "text": [
      "prefix notation:  *2-/*89*344\n",
      "infix notation:  (2*(((8*9)/(3*4))-4))\n"
     ]
    }
   ],
   "source": [
    "expression = \"*2-/*89*344\"\n",
    "print('prefix notation: ',expression)\n",
    "print('infix notation: ', prefix_to_infix(expression))"
   ]
  },
  {
   "cell_type": "code",
   "execution_count": 6,
   "id": "17ca2143-5ecb-422a-8309-53b42d5b42de",
   "metadata": {},
   "outputs": [
    {
     "data": {
      "text/plain": [
       "4.0"
      ]
     },
     "execution_count": 6,
     "metadata": {},
     "output_type": "execute_result"
    }
   ],
   "source": [
    "(2*(((8*9)/(3*4))-4))"
   ]
  },
  {
   "cell_type": "code",
   "execution_count": null,
   "id": "71bf08ff-b8f0-46a5-8062-a623c76314fe",
   "metadata": {},
   "outputs": [],
   "source": []
  }
 ],
 "metadata": {
  "kernelspec": {
   "display_name": "Python 3 (ipykernel)",
   "language": "python",
   "name": "python3"
  },
  "language_info": {
   "codemirror_mode": {
    "name": "ipython",
    "version": 3
   },
   "file_extension": ".py",
   "mimetype": "text/x-python",
   "name": "python",
   "nbconvert_exporter": "python",
   "pygments_lexer": "ipython3",
   "version": "3.9.13"
  }
 },
 "nbformat": 4,
 "nbformat_minor": 5
}

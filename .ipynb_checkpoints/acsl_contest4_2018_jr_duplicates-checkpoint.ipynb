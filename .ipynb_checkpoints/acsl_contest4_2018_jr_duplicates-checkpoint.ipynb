{
 "cells": [
  {
   "cell_type": "markdown",
   "id": "3558e231-58a8-4cbe-87cd-2fb0e77b9134",
   "metadata": {},
   "source": [
    "# ACSL Contest Programming Problem\n",
    "## 2017-2018 ● Contest 4: Duplicates ● Junior Division\n",
    "\n",
    "http://www.datafiles.acsl.org/samples/contest4/c_4_duplicates_jr.pdf\n"
   ]
  },
  {
   "cell_type": "markdown",
   "id": "14fdd6ad-2b75-4dde-b34f-bfe9ae8407bc",
   "metadata": {},
   "source": [
    "**PROBLEM:**\n",
    "\n",
    "Consider a sorted array containing the letters COMPUTER:\n",
    "C E M O P R T •••\n",
    "\n",
    "When a letter is added, you insert the letter in the correct place in the array, moving the other letters. If the\n",
    "letter is already in the array, insert it BEFORE the existing occurrence.\n",
    "Continuing with the example above, let’s add the letters BAT. The shaded ([x]) cell is where the new letter is\n",
    "positioned:\n",
    "\n",
    "\t1  2  3  4  5  6  7  8  9  ...\n",
    "\n",
    "Add B: [B] C  E  M  O  P  R  T •••\n",
    "\n",
    "Add A: [A] B  C  E  M  O  P  R  T •••\n",
    "\n",
    "Add T:  A  B  C  E  M  O  P  R [T] T •••\n",
    "\n",
    "INPUT: You’ll process 5 lines of data. Each line will start with a positive number, N, followed by a\n",
    "space, and then a string, xxx. Into an empty array, insert each letter in the string, one at a time. Ignore non-letters and also, convert all lowercase letters into uppercase.\n",
    "\n",
    "OUTPUT: For each input line, print how many different letters occupied the Nth element of the array\n",
    "while the string was processed. For example, “2 Computer” has answer of 3: The different letters in\n",
    "position 2 of the array were O, M, and finally E. The input line “2 COMPUTER Bat” has an answer of 5:\n",
    "the different letters at position 5 were O, M, E, C, and B.\n",
    "\n",
    "**SAMPLE INPUT**:  **SAMPLE OUTPUT*:\n",
    "\n",
    "2 Computer\t\t1. 3\n",
    "\n",
    "2 COMPUTER bat\t\t2. 5\n",
    "\n",
    "3 COMPUTER\t\t3. 2\n",
    "\n",
    "4 ACSL is fun\t\t4. 3\n",
    "\n",
    "9 the xylophone\t\t5. 4\n",
    "\n",
    "**TEST INPUT**\n",
    "\n",
    "3 python\n",
    "\n",
    "3 computers\n",
    "\n",
    "7 the quick brown fox\n",
    "\n",
    "9 she sells sea shells by the sea shore\n",
    "\n",
    "5 american computer science league\n",
    "\n",
    "**TEST OUTPUT**\n",
    ">>\n",
    "1. 4\n",
    "2. 2\n",
    "3. 6\n",
    "4. 4\n",
    "5. 5\n"
   ]
  },
  {
   "cell_type": "code",
   "execution_count": 13,
   "id": "28bd38c9-b366-4cc3-8551-d8013b8b1e70",
   "metadata": {},
   "outputs": [],
   "source": [
    "def solve(input):\n",
    "    n, s = input.split(' ', 1)\n",
    "    lset = set()    \n",
    "    n = int(n)\n",
    "    s = s.upper()\n",
    "    letters = [s[0]] \n",
    "    countinsert = 1\n",
    "    for uc in s[1:]:\n",
    "        if uc < 'A' or uc > 'Z': \n",
    "            continue\n",
    "        i = 0\n",
    "        nletters = len(letters)\n",
    "        for i in range(nletters):\n",
    "            if letters[i] >= uc:\n",
    "                letters[(i+1):] = letters[i:]\n",
    "                letters[i] = uc\n",
    "                break\n",
    "        else:\n",
    "            letters.append(uc)\n",
    "        if len(letters) >= n:            \n",
    "            lset.add(letters[n-1])\n",
    "\n",
    "    return(len(lset))\n"
   ]
  },
  {
   "cell_type": "code",
   "execution_count": 14,
   "id": "019d4f11-f82a-4e05-9ae3-70671d897b69",
   "metadata": {},
   "outputs": [
    {
     "name": "stdout",
     "output_type": "stream",
     "text": [
      "3\n",
      "5\n",
      "2\n",
      "3\n",
      "4\n",
      "4\n",
      "2\n",
      "6\n",
      "4\n",
      "5\n"
     ]
    }
   ],
   "source": [
    "inputx = ['2 Computer', \n",
    "        '2 COMPUTER bat',\n",
    "        '3 COMPUTER',\n",
    "        '4 ACSL is fun',\n",
    "        '9 the xylophone',\n",
    "        '3 python',\n",
    "        '3 computers',\n",
    "        '7 the quick brown fox',\n",
    "        '9 she sells sea shells by the sea shore',\n",
    "        '5 american computer science league']\n",
    "for x in inputx:\n",
    "    print(solve(x))"
   ]
  },
  {
   "cell_type": "code",
   "execution_count": null,
   "id": "7b39b06b-3eda-4097-8ed8-3c4d3d1a32dd",
   "metadata": {},
   "outputs": [],
   "source": []
  }
 ],
 "metadata": {
  "kernelspec": {
   "display_name": "Python 3 (ipykernel)",
   "language": "python",
   "name": "python3"
  },
  "language_info": {
   "codemirror_mode": {
    "name": "ipython",
    "version": 3
   },
   "file_extension": ".py",
   "mimetype": "text/x-python",
   "name": "python",
   "nbconvert_exporter": "python",
   "pygments_lexer": "ipython3",
   "version": "3.9.12"
  }
 },
 "nbformat": 4,
 "nbformat_minor": 5
}

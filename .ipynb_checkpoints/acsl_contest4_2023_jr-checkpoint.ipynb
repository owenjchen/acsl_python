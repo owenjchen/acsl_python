{
 "cells": [
  {
   "cell_type": "markdown",
   "id": "2b0c4012-8a2d-4094-9918-2829ddd58843",
   "metadata": {},
   "source": [
    "# ACSL Contest Programming Problem\n",
    "2023 Junior\n"
   ]
  },
  {
   "cell_type": "code",
   "execution_count": 75,
   "id": "3abbb264-34f2-46bc-8d11-008a9368e581",
   "metadata": {},
   "outputs": [],
   "source": [
    "def create_target_matrix(n, target_list):\n",
    "    target_mat = [[0]*n for i in range(n)]\n",
    "    for cell in target_list:\n",
    "        i, j = int(cell[0]), int(cell[1])\n",
    "        target_mat[i][j] = 1\n",
    "    return target_mat "
   ]
  },
  {
   "cell_type": "code",
   "execution_count": 91,
   "id": "be0da4f0-6788-4f74-bc38-894aa7b98d00",
   "metadata": {},
   "outputs": [],
   "source": [
    "def set_direction_map():\n",
    "    direction_map = {}\n",
    "    # sorted directions A, B, C, D, E, F, G, H        \n",
    "    letters = list('ABCDEFGH')\n",
    "    directions = [[0, -1],\n",
    "                  [-1, 0],\n",
    "                  [0, 1],\n",
    "                  [1, 0],\n",
    "                  [-1, -1],\n",
    "                  [-1, 1],\n",
    "                  [1, 1],\n",
    "                  [1, -1],\n",
    "                 ]   \n",
    "    for letter, direction in zip(letters, directions):\n",
    "        direction_map[letter] = direction        \n",
    "    return direction_map"
   ]
  },
  {
   "cell_type": "code",
   "execution_count": 92,
   "id": "9dfea11d-afb2-4c6a-b6c9-8eddd550dce7",
   "metadata": {},
   "outputs": [],
   "source": [
    "def create_border_cells(n):\n",
    "    border_cells = [] \n",
    "    # First Row \n",
    "    for i in range(n):\n",
    "        border_cells.append((0, i))        \n",
    "    # row 2 - n-1\n",
    "    for i in range(1, n-1):\n",
    "        border_cells.append((i, 0))\n",
    "        border_cells.append((i, n-1))             \n",
    "    # Last row\n",
    "    for i in range(n):            \n",
    "        border_cells.append((n-1, i))                        \n",
    "    return border_cells"
   ]
  },
  {
   "cell_type": "code",
   "execution_count": 93,
   "id": "66b864a3-e3c3-4d95-b627-37f3fb807c48",
   "metadata": {},
   "outputs": [],
   "source": [
    "def get_first_target(n, mat,cell, direction):\n",
    "    i, j = cell[0] + direction[0], cell[1] + direction[1] \n",
    "    while i in range(n) and j in range(n):\n",
    "        if mat[i][j] > 0:\n",
    "            return (i, j)\n",
    "        else:\n",
    "            i, j =  i + direction[0], j + direction[1] \n",
    "    return None"
   ]
  },
  {
   "cell_type": "code",
   "execution_count": 106,
   "id": "234d6ce8-8513-44bc-80a8-a13547bce550",
   "metadata": {},
   "outputs": [],
   "source": [
    "def count_next_target(n, mat, cell, direction):\n",
    "    i, j = cell[0] + direction[0], cell[1] + direction[1]  \n",
    "    if mat[i][j] > 0:\n",
    "        return 1 + count_next_target(n, mat, (i,j), direction)\n",
    "    else:\n",
    "        return 0"
   ]
  },
  {
   "cell_type": "code",
   "execution_count": 107,
   "id": "11a88b07-bf57-49a7-a846-cabd544c9ea0",
   "metadata": {},
   "outputs": [],
   "source": [
    "def solve(n, targets):\n",
    "    target_list = targets.split()\n",
    "    target_mat = create_target_matrix(n, target_list)\n",
    "    border_cells = create_border_cells(n)\n",
    "    direction_map = set_direction_map()\n",
    "    max_len = 0\n",
    "    max_border_cell = ''\n",
    "    for cell in border_cells:\n",
    "        for letter, direction in direction_map.items():            \n",
    "            first_target_cell = get_first_target(n, target_mat, cell, direction)\n",
    "            if first_target_cell:\n",
    "                count = 1 + count_next_target(n, target_mat, first_target_cell, direction)\n",
    "                if count > max_len:\n",
    "                    max_len = count\n",
    "                    max_border_cell = str(cell[0]) + str(cell[1]) + letter\n",
    "    return max_border_cell"
   ]
  },
  {
   "cell_type": "code",
   "execution_count": 108,
   "id": "ac91226b-f2f4-4d77-be51-bdd6235408c8",
   "metadata": {},
   "outputs": [
    {
     "name": "stdout",
     "output_type": "stream",
     "text": [
      "40C\n"
     ]
    }
   ],
   "source": [
    "print(solve(6, \"13 21 41 42 44\"))"
   ]
  },
  {
   "cell_type": "code",
   "execution_count": 109,
   "id": "d92a8ff4-9580-4383-bec4-68733136b859",
   "metadata": {},
   "outputs": [
    {
     "name": "stdout",
     "output_type": "stream",
     "text": [
      "01D\n"
     ]
    }
   ],
   "source": [
    "print(solve(5, \"31 21 13 32 11 12\"))"
   ]
  },
  {
   "cell_type": "code",
   "execution_count": 110,
   "id": "20538343-edb9-41b0-b4da-3ce3ab708595",
   "metadata": {},
   "outputs": [
    {
     "name": "stdout",
     "output_type": "stream",
     "text": [
      "89A\n"
     ]
    }
   ],
   "source": [
    "print(solve(10, \"81 84 86 87 88 71 73 75 77 32 33 45 47 48 11 13 15 16\"))"
   ]
  },
  {
   "cell_type": "code",
   "execution_count": 111,
   "id": "ef420bff-17d1-4f4d-bdd9-59134740c4dc",
   "metadata": {},
   "outputs": [
    {
     "name": "stdout",
     "output_type": "stream",
     "text": [
      "05D\n"
     ]
    }
   ],
   "source": [
    "print(solve(8, \"65 45 55 32 42 54 13 14 41 61 24\"))"
   ]
  },
  {
   "cell_type": "code",
   "execution_count": 112,
   "id": "c4e9de49-dc0e-4cc1-8ef8-c0503a6715b2",
   "metadata": {},
   "outputs": [
    {
     "name": "stdout",
     "output_type": "stream",
     "text": [
      "02D\n"
     ]
    }
   ],
   "source": [
    "print(solve(4, \"12 22 21\"))"
   ]
  },
  {
   "cell_type": "code",
   "execution_count": 113,
   "id": "aa0c5061-685a-416e-9843-ac9a186e6548",
   "metadata": {},
   "outputs": [
    {
     "name": "stdout",
     "output_type": "stream",
     "text": [
      "80F\n"
     ]
    }
   ],
   "source": [
    "print(solve(9,\"11 14 17 33 44 24 31 35 37 45 41 53 57 62 64 66 71 77\"))"
   ]
  },
  {
   "cell_type": "code",
   "execution_count": 114,
   "id": "9365233a-e309-4fe8-9240-c476bcd6e524",
   "metadata": {},
   "outputs": [
    {
     "name": "stdout",
     "output_type": "stream",
     "text": [
      "65B\n"
     ]
    }
   ],
   "source": [
    "print(solve(7,\"15 23 24 32 35 31 45 55 44\"))"
   ]
  },
  {
   "cell_type": "code",
   "execution_count": 115,
   "id": "edcd11e2-9ff3-451a-b823-e9665deb71bd",
   "metadata": {},
   "outputs": [
    {
     "name": "stdout",
     "output_type": "stream",
     "text": [
      "03D\n"
     ]
    }
   ],
   "source": [
    "print(solve(6,\"43 33 44 14 23 41\"))"
   ]
  },
  {
   "cell_type": "code",
   "execution_count": 116,
   "id": "cfe93f9a-537b-4563-aeed-107490fa892c",
   "metadata": {},
   "outputs": [
    {
     "name": "stdout",
     "output_type": "stream",
     "text": [
      "29A\n"
     ]
    }
   ],
   "source": [
    "print(solve(10,\"25 71 82 63 54 45 56 75 77 88 21 24 26 27 28 12 13 15 34 35 33 37\"))"
   ]
  },
  {
   "cell_type": "code",
   "execution_count": 117,
   "id": "2257b7c0-8f39-4b75-af0a-eec86d7c1a38",
   "metadata": {},
   "outputs": [
    {
     "name": "stdout",
     "output_type": "stream",
     "text": [
      "27H\n"
     ]
    }
   ],
   "source": [
    "print(solve(8, \"12 13 16 21 22 31 34 35 36 45 43 41 52 54 56 66 65 64 63 61\"))"
   ]
  },
  {
   "cell_type": "code",
   "execution_count": null,
   "id": "9ba7a82c-735c-4763-aefd-0275d9f76311",
   "metadata": {},
   "outputs": [],
   "source": []
  }
 ],
 "metadata": {
  "kernelspec": {
   "display_name": "Python 3 (ipykernel)",
   "language": "python",
   "name": "python3"
  },
  "language_info": {
   "codemirror_mode": {
    "name": "ipython",
    "version": 3
   },
   "file_extension": ".py",
   "mimetype": "text/x-python",
   "name": "python",
   "nbconvert_exporter": "python",
   "pygments_lexer": "ipython3",
   "version": "3.9.13"
  }
 },
 "nbformat": 4,
 "nbformat_minor": 5
}

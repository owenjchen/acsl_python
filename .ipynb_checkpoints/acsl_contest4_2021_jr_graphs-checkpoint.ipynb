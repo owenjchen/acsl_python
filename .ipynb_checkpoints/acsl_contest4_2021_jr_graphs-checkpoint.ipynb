{
 "cells": [
  {
   "cell_type": "markdown",
   "id": "2b0c4012-8a2d-4094-9918-2829ddd58843",
   "metadata": {},
   "source": [
    "# ACSL Contest Programming Problem\n",
    "## 2020-2021 ● Contest 4: Graphs ● Junior Division\n"
   ]
  },
  {
   "cell_type": "markdown",
   "id": "c844bb87-4f72-4626-92a2-952d4a5adeb4",
   "metadata": {},
   "source": [
    "**PROBLEM**: \n",
    "Given a directed graph, create its adjacency matrix in order to output one of the following:\n",
    "\n",
    "1. Find and print the sum of the number of cycles of length 1 and cycles of length 2.\n",
    "\n",
    "2. Find the maximum number of edges starting at any specific vertex. If there is a tie, \n",
    "choose the vertex that is first numerically. Print the sum of all edges that start at that vertex.\n",
    "\n",
    "3. Find and print the total number of paths of length 2 in the entire graph.\n",
    "\n",
    "The graph below is represented by 6 edges which are 12, 13, 23, 31, 34, and 41. The answer to each\n",
    "characteristic stated above is:\n",
    "\n",
    "1. 1 - There are 0 cycles of length 1 since there is no edge that starts and ends with the same vertex. \n",
    "There is one cycle of length 2 which exists because 13 and 31 are both edges. The sum is 1.\n",
    "\n",
    "2. 25 - Vertices 1 and 3 each have a maximum of 2 edges starting there. Therefore, use starting vertex 1 \n",
    "since it is first numerically. The sum of all of the edges that start at vertex 1 is 12 + 13 = 25.\n",
    "\n",
    "3. 10 - By inspection, the paths of length 2 are 123, 131, 134, 231, 234, 313, 312, 341, 412, and 413. \n",
    "The total is 10.\n",
    "\n",
    "**INPUT**:\n",
    "There will be 5 lines of input. Each line will contain a number from 1-3 to indicate which of the\n",
    "above 3 characteristics to print followed by a list of 2-character strings giving all of the directed edges in\n",
    "the graph. For example, the string “31” says there is a directed edge from vertex 3 to vertex 1. Graphs\n",
    "will have no more than 9 vertices.\n",
    "\n",
    "**OUTPUT**: \n",
    "Print the result of the specified characteristic (1-3) for the corresponding graph that was input."
   ]
  },
  {
   "cell_type": "markdown",
   "id": "505126ab-38a5-4798-a979-493b5ed2f5bd",
   "metadata": {},
   "source": [
    "## Tasks\n",
    "\n",
    "1. Read input\n",
    "2. Created a list of edges\n",
    "3. Create an adjacency matrix from a list of edges\n",
    "4. Count Cycles of length of 1 and length of 2\n",
    "5. Find the max numer of edges in the graph\n",
    "6. Find and print the total number of paths of length of 2\n"
   ]
  },
  {
   "cell_type": "code",
   "execution_count": 159,
   "id": "49c37284-5269-487e-99a3-f9baa3c0abe9",
   "metadata": {},
   "outputs": [],
   "source": [
    "import numpy as np\n",
    "\n",
    "def adjacencyMatrix(edges):\n",
    "    n = max(max(e) for e in edges)\n",
    "    zeros = np.zeros((n,n), dtype=int)\n",
    "    mat = np.asmatrix(zeros)\n",
    "    for e in edges:\n",
    "        mat[e[0] - 1, e[1] - 1] = 1\n",
    "    return mat\n",
    "\n",
    "def countCycles(matrix):\n",
    "    n, k = matrix.shape\n",
    "    count1 = 0\n",
    "    count2 = 0\n",
    "    for i in range(n):\n",
    "        for j in range(k):\n",
    "            if matrix[i,j] == 1:\n",
    "                if i == j:\n",
    "                    count1 += 1\n",
    "                elif matrix[j, i] == 1:\n",
    "                        count2 +=1\n",
    "    return count1 + count2//2\n",
    "\n",
    "    \n",
    "def maxEdges(matrix):\n",
    "    n = matrix.shape[0]\n",
    "    max_edges = -1\n",
    "    max_vertex = -1\n",
    "    for i in range(n):\n",
    "        edges = np.sum(matrix[i,:])\n",
    "        if edges > max_edges:\n",
    "            max_edges = edges\n",
    "            max_vertex = i \n",
    "    sum_edges = 0\n",
    "    for i in range(n):\n",
    "        if matrix[max_vertex, i] == 1:\n",
    "            sum_edges += (max_vertex+1)*10 + i+1\n",
    "    return sum_edges\n",
    "\n",
    "def countPaths(matrix):\n",
    "    sq = matrix*matrix\n",
    "    return np.sum(sq)\n",
    "\n",
    "def solve(s):\n",
    "    option, *edges = s.split()    \n",
    "    edges = [(int(e[0]), int(e[1])) for e in edges]\n",
    "    matrix = adjacencyMatrix(edges)\n",
    "    if option == '1':\n",
    "        print(countCycles(matrix))        \n",
    "    elif option == '2':\n",
    "        max_edges = maxEdges(matrix)\n",
    "        print(max_edges)        \n",
    "    elif option == '3':\n",
    "        print(countPaths(matrix))\n"
   ]
  },
  {
   "cell_type": "code",
   "execution_count": 160,
   "id": "90931d85-6e26-4f87-8c11-d8451cf04c81",
   "metadata": {},
   "outputs": [
    {
     "name": "stdout",
     "output_type": "stream",
     "text": [
      "25\n",
      "5\n",
      "49\n",
      "10\n",
      "50\n"
     ]
    }
   ],
   "source": [
    "inputx = ['2 12 13 23 31 34 41',\n",
    "        '1 12 23 34 11 21 32 45 53 95 43 99 29 91',\n",
    "        '3 12 23 34 41 31 52 45 61 14 21 33 55 13 54 32 56 36',\n",
    "        '1 12 11 33 34 43 55 52 41 31 25 88 79 98 45 13 42 87 35 51 21 14 78',\n",
    "        '2 12 11 33 34 43 55 52 41 31 25 88 79 98 45 13 42 87 35 51 21 14 78']\n",
    "\n",
    "for s in inputx:\n",
    "    solve(s)"
   ]
  },
  {
   "cell_type": "code",
   "execution_count": 161,
   "id": "aef8e1b4-f4bc-4f8b-a2bc-13b411b9a525",
   "metadata": {},
   "outputs": [
    {
     "name": "stdout",
     "output_type": "stream",
     "text": [
      "0\n",
      "42\n",
      "24\n",
      "52\n",
      "6\n"
     ]
    }
   ],
   "source": [
    "inputx = ['1 12 31 41 42 43 45 51 63 64 56 16',\n",
    "        '2 12 13 22 23 24 34 42 98 71 87 17 96 67',\n",
    "        '3 12 14 21 24 25 32 41 43 59 65 91 87 76 95',\n",
    "        '2 11 12 14 15 23 25 31 43 45 51 52 68 79 87 89',\n",
    "        '3 55 77 45 54']\n",
    "for s in inputx:\n",
    "    solve(s)"
   ]
  },
  {
   "cell_type": "code",
   "execution_count": null,
   "id": "a498c86e-6497-414e-9cd6-d86a77431749",
   "metadata": {},
   "outputs": [],
   "source": []
  }
 ],
 "metadata": {
  "kernelspec": {
   "display_name": "Python 3 (ipykernel)",
   "language": "python",
   "name": "python3"
  },
  "language_info": {
   "codemirror_mode": {
    "name": "ipython",
    "version": 3
   },
   "file_extension": ".py",
   "mimetype": "text/x-python",
   "name": "python",
   "nbconvert_exporter": "python",
   "pygments_lexer": "ipython3",
   "version": "3.9.12"
  }
 },
 "nbformat": 4,
 "nbformat_minor": 5
}

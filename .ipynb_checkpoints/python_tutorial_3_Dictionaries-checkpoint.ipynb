{
 "cells": [
  {
   "cell_type": "markdown",
   "metadata": {
    "id": "s39SnnxrZxsx"
   },
   "source": [
    "# Python Tutorials: Dictionary Data Structure \n",
    "\n",
    "### Author: Dr. Owen Chen\n",
    "\n",
    "### Date: 2023/3/26\n"
   ]
  },
  {
   "cell_type": "markdown",
   "metadata": {
    "id": "SxpzGoM_Z_RU"
   },
   "source": [
    "## Dictionaries \n",
    "Dictionaries are mappings of key value pairs.\n",
    "\n",
    "    d = {  \n",
    "        <key>: <value>,   \n",
    "        <key>: <value>,   \n",
    "          .   \n",
    "          .   \n",
    "          .   \n",
    "        <key>: <value>   \n",
    "    }  \n",
    "    \n",
    "### Dictioanay == Hash Table in C/C++, Java"
   ]
  },
  {
   "cell_type": "markdown",
   "metadata": {
    "id": "l9nWQuW1oLCE"
   },
   "source": [
    "### Create an empty dict using constructor"
   ]
  },
  {
   "cell_type": "code",
   "execution_count": 56,
   "metadata": {
    "colab": {
     "base_uri": "https://localhost:8080/",
     "height": 34
    },
    "id": "45C_FS-eoR-3",
    "outputId": "bd814a64-d7e0-4577-fbe0-46c721330ab1"
   },
   "outputs": [
    {
     "data": {
      "text/plain": [
       "{}"
      ]
     },
     "execution_count": 56,
     "metadata": {},
     "output_type": "execute_result"
    }
   ],
   "source": [
    "dict = {} \n",
    "dict"
   ]
  },
  {
   "cell_type": "markdown",
   "metadata": {
    "id": "uwNpFQFGo0C_"
   },
   "source": [
    "### Create a dictionary based on key/value pairs"
   ]
  },
  {
   "cell_type": "code",
   "execution_count": null,
   "metadata": {
    "colab": {
     "base_uri": "https://localhost:8080/",
     "height": 34
    },
    "id": "VWYvp8peo5ok",
    "outputId": "ef583270-e5dc-4902-a524-696345ff0db1"
   },
   "outputs": [
    {
     "data": {
      "text/plain": [
       "{'key-1': 'value-1', 'key-2': 'value-2'}"
      ]
     },
     "execution_count": 47,
     "metadata": {
      "tags": []
     },
     "output_type": "execute_result"
    }
   ],
   "source": [
    "key_values = [['key-1','value-1'], ['key-2', 'value-2']]\n",
    "dictionary = dict(key_values)\n",
    "dictionary"
   ]
  },
  {
   "cell_type": "markdown",
   "metadata": {
    "id": "oLd8LV02ofza"
   },
   "source": [
    "### Create an empty dict using curley braces"
   ]
  },
  {
   "cell_type": "code",
   "execution_count": null,
   "metadata": {
    "colab": {
     "base_uri": "https://localhost:8080/",
     "height": 34
    },
    "id": "El6HcTagolLw",
    "outputId": "696a4405-368b-4113-a0d1-99566e249446"
   },
   "outputs": [
    {
     "data": {
      "text/plain": [
       "{}"
      ]
     },
     "execution_count": 48,
     "metadata": {
      "tags": []
     },
     "output_type": "execute_result"
    }
   ],
   "source": [
    "dictionary = {}\n",
    "dictionary"
   ]
  },
  {
   "cell_type": "markdown",
   "metadata": {
    "id": "yXNaZRMdpQoK"
   },
   "source": [
    "### Use curley braces to create a dictionary with initial key/values"
   ]
  },
  {
   "cell_type": "code",
   "execution_count": 58,
   "metadata": {
    "colab": {
     "base_uri": "https://localhost:8080/",
     "height": 34
    },
    "id": "oRTWGBtvpYcb",
    "outputId": "922c363f-d506-4eb0-81bb-a7301155bdf7"
   },
   "outputs": [
    {
     "data": {
      "text/plain": [
       "{'key-1': 'value-1', 'key-2': 'value-2'}"
      ]
     },
     "execution_count": 58,
     "metadata": {},
     "output_type": "execute_result"
    }
   ],
   "source": [
    "dictionary = {'key-1': 'value-1',\n",
    "              'key-2': 'value-2'}\n",
    "\n",
    "dictionary"
   ]
  },
  {
   "cell_type": "code",
   "execution_count": 57,
   "metadata": {},
   "outputs": [
    {
     "data": {
      "text/plain": [
       "{'word': 'hello', 'count': 5, 'aka': 'hi'}"
      ]
     },
     "execution_count": 57,
     "metadata": {},
     "output_type": "execute_result"
    }
   ],
   "source": [
    "dict = { 'word': 'hello',\n",
    "        'count':5,\n",
    "        'aka':'hi',\n",
    "}\n",
    "dict"
   ]
  },
  {
   "cell_type": "markdown",
   "metadata": {
    "id": "vb9aP6o5pv_B"
   },
   "source": [
    "### Access value using key"
   ]
  },
  {
   "cell_type": "code",
   "execution_count": 59,
   "metadata": {
    "colab": {
     "base_uri": "https://localhost:8080/",
     "height": 34
    },
    "id": "3-jz1H8Apzgm",
    "outputId": "3970a9a3-a15c-4a80-a2fc-81ad55cc1717"
   },
   "outputs": [
    {
     "data": {
      "text/plain": [
       "'value-1'"
      ]
     },
     "execution_count": 59,
     "metadata": {},
     "output_type": "execute_result"
    }
   ],
   "source": [
    "dictionary['key-1']"
   ]
  },
  {
   "cell_type": "code",
   "execution_count": 60,
   "metadata": {},
   "outputs": [
    {
     "data": {
      "text/plain": [
       "5"
      ]
     },
     "execution_count": 60,
     "metadata": {},
     "output_type": "execute_result"
    }
   ],
   "source": [
    "dict['count']"
   ]
  },
  {
   "cell_type": "code",
   "execution_count": 61,
   "metadata": {},
   "outputs": [
    {
     "data": {
      "text/plain": [
       "'hi'"
      ]
     },
     "execution_count": 61,
     "metadata": {},
     "output_type": "execute_result"
    }
   ],
   "source": [
    "dict['aka']"
   ]
  },
  {
   "cell_type": "markdown",
   "metadata": {
    "id": "UBSLRWEeqE-W"
   },
   "source": [
    "### Add a key/value pair to an existing dictionary"
   ]
  },
  {
   "cell_type": "code",
   "execution_count": 62,
   "metadata": {},
   "outputs": [
    {
     "data": {
      "text/plain": [
       "{'key-1': 'value-1', 'key-2': 'value-2'}"
      ]
     },
     "execution_count": 62,
     "metadata": {},
     "output_type": "execute_result"
    }
   ],
   "source": [
    "dictionary"
   ]
  },
  {
   "cell_type": "code",
   "execution_count": 63,
   "metadata": {
    "colab": {
     "base_uri": "https://localhost:8080/",
     "height": 34
    },
    "id": "J98co3mWqJ5I",
    "outputId": "4ec4724f-aeca-48db-d6c9-84fef9a8c849"
   },
   "outputs": [
    {
     "data": {
      "text/plain": [
       "{'key-1': 'value-1', 'key-2': 'value-2', 'key-3': 'value-3'}"
      ]
     },
     "execution_count": 63,
     "metadata": {},
     "output_type": "execute_result"
    }
   ],
   "source": [
    "dictionary['key-3'] = 'value-3'\n",
    "\n",
    "dictionary"
   ]
  },
  {
   "cell_type": "markdown",
   "metadata": {
    "id": "xmHWK2hHq7c_"
   },
   "source": [
    "### Update value for existing key"
   ]
  },
  {
   "cell_type": "code",
   "execution_count": 64,
   "metadata": {
    "colab": {
     "base_uri": "https://localhost:8080/",
     "height": 34
    },
    "id": "VrV2r-vUq-JV",
    "outputId": "c7960849-de81-461f-eed5-1806f9a01ceb"
   },
   "outputs": [
    {
     "data": {
      "text/plain": [
       "'new-value-2'"
      ]
     },
     "execution_count": 64,
     "metadata": {},
     "output_type": "execute_result"
    }
   ],
   "source": [
    "dictionary['key-2'] = 'new-value-2'\n",
    "dictionary['key-2']"
   ]
  },
  {
   "cell_type": "code",
   "execution_count": 65,
   "metadata": {},
   "outputs": [
    {
     "data": {
      "text/plain": [
       "{'key-1': 'value-1', 'key-2': 'new-value-2', 'key-3': 'value-3'}"
      ]
     },
     "execution_count": 65,
     "metadata": {},
     "output_type": "execute_result"
    }
   ],
   "source": [
    "dictionary"
   ]
  },
  {
   "cell_type": "markdown",
   "metadata": {},
   "source": [
    "## Dictionary Built-in Functions"
   ]
  },
  {
   "cell_type": "markdown",
   "metadata": {
    "id": "_ot60Snlra6K"
   },
   "source": [
    "### Get keys:  d.keys()\n",
    "\n",
    "    d.keys()\n",
    "    Returns a list of keys in a dictionary.\n",
    "\n",
    "    d.keys() returns a list of all keys in d:\n"
   ]
  },
  {
   "cell_type": "code",
   "execution_count": 68,
   "metadata": {
    "colab": {
     "base_uri": "https://localhost:8080/",
     "height": 34
    },
    "id": "Lv726tMhrYnh",
    "outputId": "23089819-c637-4e89-a48e-ee5507b4b550"
   },
   "outputs": [
    {
     "data": {
      "text/plain": [
       "['key-1', 'key-2', 'key-3']"
      ]
     },
     "execution_count": 68,
     "metadata": {},
     "output_type": "execute_result"
    }
   ],
   "source": [
    "dictionary = {'key-1': 'value-1', 'key-2': 'value-2', 'key-3': 'value-3'}\n",
    "keys = [key for key in dictionary.keys()]\n",
    "keys"
   ]
  },
  {
   "cell_type": "code",
   "execution_count": 72,
   "metadata": {},
   "outputs": [
    {
     "data": {
      "text/plain": [
       "dict_keys(['a', 'b', 'c'])"
      ]
     },
     "execution_count": 72,
     "metadata": {},
     "output_type": "execute_result"
    }
   ],
   "source": [
    "d = {'a': 10, 'b': 20, 'c': 30}\n",
    "d.keys()    "
   ]
  },
  {
   "cell_type": "markdown",
   "metadata": {
    "id": "WGJyKhKgrf11"
   },
   "source": [
    "### Get values:  d.values()\n",
    "\n",
    "    d.values()\n",
    "    Returns a list of values in a dictionary.\n",
    "\n",
    "    d.values() returns a list of all values in d:\n"
   ]
  },
  {
   "cell_type": "code",
   "execution_count": 69,
   "metadata": {
    "colab": {
     "base_uri": "https://localhost:8080/",
     "height": 34
    },
    "id": "F7F-fNMMrhT5",
    "outputId": "f9ace37c-d4de-450d-b4e3-c6b06790fbd0"
   },
   "outputs": [
    {
     "data": {
      "text/plain": [
       "dict_values(['value-1', 'value-2', 'value-3'])"
      ]
     },
     "execution_count": 69,
     "metadata": {},
     "output_type": "execute_result"
    }
   ],
   "source": [
    "dictionary.values()"
   ]
  },
  {
   "cell_type": "code",
   "execution_count": 70,
   "metadata": {},
   "outputs": [
    {
     "data": {
      "text/plain": [
       "['value-1', 'value-2', 'value-3']"
      ]
     },
     "execution_count": 70,
     "metadata": {},
     "output_type": "execute_result"
    }
   ],
   "source": [
    "values = [val for val in dictionary.values()]\n",
    "values"
   ]
  },
  {
   "cell_type": "code",
   "execution_count": 73,
   "metadata": {},
   "outputs": [
    {
     "data": {
      "text/plain": [
       "[10, 20, 30]"
      ]
     },
     "execution_count": 73,
     "metadata": {},
     "output_type": "execute_result"
    }
   ],
   "source": [
    "values = [val for val in d.values()]\n",
    "values"
   ]
  },
  {
   "cell_type": "markdown",
   "metadata": {
    "id": "tCpdFg8JrqKM"
   },
   "source": [
    "### Get items:  d.items()\n",
    "**Get iterable keys and items**\n",
    "\n",
    "    d.items()\n",
    "    Returns a list of key-value pairs in a dictionary.\n",
    "\n",
    "    d.items() returns a list of tuples containing the key-value pairs in d. The first item in each tuple is the key, and the second item is the key’s value:\n",
    "\n"
   ]
  },
  {
   "cell_type": "code",
   "execution_count": null,
   "metadata": {
    "colab": {
     "base_uri": "https://localhost:8080/",
     "height": 34
    },
    "id": "0dZRJamArlLg",
    "outputId": "1d43a628-2f5e-4d4e-c179-b7cbc2373c37"
   },
   "outputs": [
    {
     "data": {
      "text/plain": [
       "dict_items([('key-1', 'value-1'), ('key-2', 'new-value-2'), ('key-3', 'value-3')])"
      ]
     },
     "execution_count": 57,
     "metadata": {
      "tags": []
     },
     "output_type": "execute_result"
    }
   ],
   "source": [
    "dictionary.items()"
   ]
  },
  {
   "cell_type": "markdown",
   "metadata": {
    "id": "Cvk5OCmQrvkd"
   },
   "source": [
    "### Use items in for loop"
   ]
  },
  {
   "cell_type": "code",
   "execution_count": 71,
   "metadata": {
    "colab": {
     "base_uri": "https://localhost:8080/",
     "height": 68
    },
    "id": "bzYEfTEWrxno",
    "outputId": "b8b1427b-7eb0-4f4c-c36c-3b526d9a09dd"
   },
   "outputs": [
    {
     "name": "stdout",
     "output_type": "stream",
     "text": [
      "key-1: value-1\n",
      "key-2: value-2\n",
      "key-3: value-3\n"
     ]
    }
   ],
   "source": [
    "for k, v in dictionary.items():\n",
    "  print(f\"{k}: {v}\")"
   ]
  },
  {
   "cell_type": "code",
   "execution_count": 74,
   "metadata": {},
   "outputs": [
    {
     "name": "stdout",
     "output_type": "stream",
     "text": [
      "a: 10\n",
      "b: 20\n",
      "c: 30\n"
     ]
    }
   ],
   "source": [
    "for key, value in d.items():\n",
    "  print(f\"{key}: {value}\")"
   ]
  },
  {
   "cell_type": "markdown",
   "metadata": {
    "id": "9fqITS30sJC6"
   },
   "source": [
    "### Check if dictionary has key\n",
    "The 'in' syntax we used with sequences checks the dicts keys for membership."
   ]
  },
  {
   "cell_type": "code",
   "execution_count": 75,
   "metadata": {
    "colab": {
     "base_uri": "https://localhost:8080/",
     "height": 34
    },
    "id": "c1XdFLXNsWVq",
    "outputId": "fc5b766b-be93-4d8f-95e0-fd17f981bee0"
   },
   "outputs": [
    {
     "data": {
      "text/plain": [
       "False"
      ]
     },
     "execution_count": 75,
     "metadata": {},
     "output_type": "execute_result"
    }
   ],
   "source": [
    "'key-5' in dictionary"
   ]
  },
  {
   "cell_type": "markdown",
   "metadata": {
    "id": "G4Z2Pk3VsyUJ"
   },
   "source": [
    "### Get method: d.get()\n",
    "\n",
    "    d.get(<key>[, <default>])\n",
    "    \n",
    "Returns the value for a key if it exists in the dictionary.\n",
    "\n",
    "The Python dictionary .get() method provides a convenient way of getting the value of a key from a dictionary without checking ahead of time whether the key exists, and without raising an error.\n",
    "\n",
    "d.get(<key>) searches dictionary d for <key> and returns the associated value if it is found. If <key> is not found, it returns None:\n",
    "    "
   ]
  },
  {
   "cell_type": "code",
   "execution_count": null,
   "metadata": {
    "colab": {
     "base_uri": "https://localhost:8080/",
     "height": 34
    },
    "id": "FnHIgV8_s1eQ",
    "outputId": "50b29063-b0c2-44b8-bd97-4b1da21282a7"
   },
   "outputs": [
    {
     "data": {
      "text/plain": [
       "'default value'"
      ]
     },
     "execution_count": 64,
     "metadata": {
      "tags": []
     },
     "output_type": "execute_result"
    }
   ],
   "source": [
    "dictionary.get(\"bad key\", \"default value\")"
   ]
  },
  {
   "cell_type": "code",
   "execution_count": 76,
   "metadata": {},
   "outputs": [],
   "source": [
    "d = {'a': 10, 'b': 20, 'c': 30}"
   ]
  },
  {
   "cell_type": "code",
   "execution_count": 77,
   "metadata": {},
   "outputs": [
    {
     "data": {
      "text/plain": [
       "20"
      ]
     },
     "execution_count": 77,
     "metadata": {},
     "output_type": "execute_result"
    }
   ],
   "source": [
    "d.get('b')"
   ]
  },
  {
   "cell_type": "code",
   "execution_count": 78,
   "metadata": {},
   "outputs": [
    {
     "data": {
      "text/plain": [
       "20"
      ]
     },
     "execution_count": 78,
     "metadata": {},
     "output_type": "execute_result"
    }
   ],
   "source": [
    "d['b']"
   ]
  },
  {
   "cell_type": "code",
   "execution_count": 79,
   "metadata": {},
   "outputs": [
    {
     "ename": "KeyError",
     "evalue": "'d'",
     "output_type": "error",
     "traceback": [
      "\u001b[0;31m---------------------------------------------------------------------------\u001b[0m",
      "\u001b[0;31mKeyError\u001b[0m                                  Traceback (most recent call last)",
      "\u001b[0;32m/tmp/ipykernel_5465/412136556.py\u001b[0m in \u001b[0;36m<module>\u001b[0;34m\u001b[0m\n\u001b[0;32m----> 1\u001b[0;31m \u001b[0md\u001b[0m\u001b[0;34m[\u001b[0m\u001b[0;34m'd'\u001b[0m\u001b[0;34m]\u001b[0m\u001b[0;34m\u001b[0m\u001b[0;34m\u001b[0m\u001b[0m\n\u001b[0m",
      "\u001b[0;31mKeyError\u001b[0m: 'd'"
     ]
    }
   ],
   "source": [
    "d['d']"
   ]
  },
  {
   "cell_type": "code",
   "execution_count": 81,
   "metadata": {},
   "outputs": [
    {
     "name": "stdout",
     "output_type": "stream",
     "text": [
      "None\n"
     ]
    }
   ],
   "source": [
    "val = d.get('d')"
   ]
  },
  {
   "cell_type": "markdown",
   "metadata": {},
   "source": [
    "If <key> is not found and the optional <default> argument is specified, that value is returned instead of None:"
   ]
  },
  {
   "cell_type": "code",
   "execution_count": 6,
   "metadata": {},
   "outputs": [],
   "source": [
    "d.get('z')"
   ]
  },
  {
   "cell_type": "code",
   "execution_count": 5,
   "metadata": {},
   "outputs": [
    {
     "name": "stdout",
     "output_type": "stream",
     "text": [
      "None\n"
     ]
    }
   ],
   "source": [
    "print(d.get('z'))"
   ]
  },
  {
   "cell_type": "markdown",
   "metadata": {
    "id": "YmWqelbJthVB"
   },
   "source": [
    "### Remove item: del()"
   ]
  },
  {
   "cell_type": "code",
   "execution_count": null,
   "metadata": {
    "colab": {
     "base_uri": "https://localhost:8080/",
     "height": 34
    },
    "id": "tOLuWnHEtkjT",
    "outputId": "e90cf788-09a9-4e0a-9231-b29f8c070fab"
   },
   "outputs": [
    {
     "data": {
      "text/plain": [
       "{'key-2': 'new-value-2', 'key-3': 'value-3'}"
      ]
     },
     "execution_count": 65,
     "metadata": {
      "tags": []
     },
     "output_type": "execute_result"
    }
   ],
   "source": [
    "del(dictionary['key-1'])\n",
    "dictionary"
   ]
  },
  {
   "cell_type": "markdown",
   "metadata": {},
   "source": [
    "### Remove item: d.pop()\n",
    "\n",
    "    d.pop(<key>[, <default>])\n",
    "    Removes a key from a dictionary, if it is present, and returns its value.\n",
    "\n",
    "    If <key> is present in d, d.pop(<key>) removes <key> and returns its associated value:\n",
    "\n"
   ]
  },
  {
   "cell_type": "code",
   "execution_count": 12,
   "metadata": {},
   "outputs": [
    {
     "data": {
      "text/plain": [
       "{'a': 10, 'b': 20, 'c': 30}"
      ]
     },
     "execution_count": 12,
     "metadata": {},
     "output_type": "execute_result"
    }
   ],
   "source": [
    "d = {'a': 10, 'b': 20, 'c': 30}\n",
    "d"
   ]
  },
  {
   "cell_type": "code",
   "execution_count": 13,
   "metadata": {},
   "outputs": [
    {
     "data": {
      "text/plain": [
       "20"
      ]
     },
     "execution_count": 13,
     "metadata": {},
     "output_type": "execute_result"
    }
   ],
   "source": [
    "d.pop('b')"
   ]
  },
  {
   "cell_type": "code",
   "execution_count": 14,
   "metadata": {},
   "outputs": [
    {
     "data": {
      "text/plain": [
       "{'a': 10, 'c': 30}"
      ]
     },
     "execution_count": 14,
     "metadata": {},
     "output_type": "execute_result"
    }
   ],
   "source": [
    "d"
   ]
  },
  {
   "cell_type": "markdown",
   "metadata": {},
   "source": [
    "### Remove item: d.popitem()\n",
    "\n",
    "    Removes a key-value pair from a dictionary.\n",
    "\n",
    "    d.popitem() removes the last key-value pair added from d and returns it as a tuple:"
   ]
  },
  {
   "cell_type": "code",
   "execution_count": 15,
   "metadata": {},
   "outputs": [
    {
     "data": {
      "text/plain": [
       "{'a': 10, 'b': 20, 'c': 30}"
      ]
     },
     "execution_count": 15,
     "metadata": {},
     "output_type": "execute_result"
    }
   ],
   "source": [
    "d = {'a': 10, 'b': 20, 'c': 30}\n",
    "d"
   ]
  },
  {
   "cell_type": "code",
   "execution_count": 16,
   "metadata": {},
   "outputs": [
    {
     "data": {
      "text/plain": [
       "('c', 30)"
      ]
     },
     "execution_count": 16,
     "metadata": {},
     "output_type": "execute_result"
    }
   ],
   "source": [
    "d.popitem()"
   ]
  },
  {
   "cell_type": "code",
   "execution_count": 17,
   "metadata": {},
   "outputs": [
    {
     "data": {
      "text/plain": [
       "{'a': 10, 'b': 20}"
      ]
     },
     "execution_count": 17,
     "metadata": {},
     "output_type": "execute_result"
    }
   ],
   "source": [
    "d"
   ]
  },
  {
   "cell_type": "markdown",
   "metadata": {
    "id": "AnFGTgxCiZnk"
   },
   "source": [
    "### Keys must be immutable"
   ]
  },
  {
   "cell_type": "markdown",
   "metadata": {
    "id": "rnKNsxuZinvy"
   },
   "source": [
    "#### List as key\n",
    "Lists are mutable and not hashable"
   ]
  },
  {
   "cell_type": "code",
   "execution_count": null,
   "metadata": {
    "colab": {
     "base_uri": "https://localhost:8080/",
     "height": 198
    },
    "id": "16t9F7PPipo4",
    "outputId": "ad113919-80cc-44cd-cc76-ad1d252dde27"
   },
   "outputs": [
    {
     "ename": "TypeError",
     "evalue": "ignored",
     "output_type": "error",
     "traceback": [
      "\u001b[0;31m---------------------------------------------------------------------------\u001b[0m",
      "\u001b[0;31mTypeError\u001b[0m                                 Traceback (most recent call last)",
      "\u001b[0;32m<ipython-input-66-25faa77a670a>\u001b[0m in \u001b[0;36m<module>\u001b[0;34m()\u001b[0m\n\u001b[1;32m      3\u001b[0m \u001b[0mmap\u001b[0m \u001b[0;34m=\u001b[0m \u001b[0;34m{\u001b[0m\u001b[0;34m}\u001b[0m\u001b[0;34m\u001b[0m\u001b[0;34m\u001b[0m\u001b[0m\n\u001b[1;32m      4\u001b[0m \u001b[0;34m\u001b[0m\u001b[0m\n\u001b[0;32m----> 5\u001b[0;31m \u001b[0mmap\u001b[0m\u001b[0;34m[\u001b[0m\u001b[0mitems\u001b[0m\u001b[0;34m]\u001b[0m \u001b[0;34m=\u001b[0m \u001b[0;34m\"some-value\"\u001b[0m\u001b[0;34m\u001b[0m\u001b[0;34m\u001b[0m\u001b[0m\n\u001b[0m",
      "\u001b[0;31mTypeError\u001b[0m: unhashable type: 'list'"
     ]
    }
   ],
   "source": [
    "items = ['item-1', 'item-2', 'item-3']\n",
    "\n",
    "map = {}\n",
    "\n",
    "map[items] = \"some-value\""
   ]
  },
  {
   "cell_type": "markdown",
   "metadata": {
    "id": "_9vXIamIjLER"
   },
   "source": [
    "#### Tuple as a key\n",
    "Tuples are immutable and hence hashable"
   ]
  },
  {
   "cell_type": "code",
   "execution_count": null,
   "metadata": {
    "colab": {
     "base_uri": "https://localhost:8080/",
     "height": 34
    },
    "id": "K2pFCFu3jNRM",
    "outputId": "5e1fc13f-b76f-45d5-9fff-359f6199972e"
   },
   "outputs": [
    {
     "data": {
      "text/plain": [
       "{('item-1', 'item-2', 'item-3'): 'some-value'}"
      ]
     },
     "execution_count": 67,
     "metadata": {
      "tags": []
     },
     "output_type": "execute_result"
    }
   ],
   "source": [
    "items = 'item-1', 'item-2', 'item-3'\n",
    "map = {}\n",
    "map[items] = \"some-value\"\n",
    "\n",
    "map"
   ]
  },
  {
   "cell_type": "markdown",
   "metadata": {
    "id": "g2UU5cr6rna6",
    "tags": []
   },
   "source": [
    "## Dictionary Arrays: \n",
    "\n",
    "A list with each element as a dictionary\n",
    "\n",
    "    arr = [{key1:value1}, \n",
    "           {key2:value2}, \n",
    "           ...,\n",
    "           {keyn:valuen},\n",
    "           ]"
   ]
  },
  {
   "cell_type": "markdown",
   "metadata": {},
   "source": [
    "### Create a dictionary array for a given string:\n",
    "    key is the ascii value of the character\n",
    "    value is the character"
   ]
  },
  {
   "cell_type": "code",
   "execution_count": 82,
   "metadata": {},
   "outputs": [
    {
     "data": {
      "text/plain": [
       "'Hello ASCL Students'"
      ]
     },
     "execution_count": 82,
     "metadata": {},
     "output_type": "execute_result"
    }
   ],
   "source": [
    "s = \"Hello ASCL Students\"\n",
    "s"
   ]
  },
  {
   "cell_type": "code",
   "execution_count": 84,
   "metadata": {},
   "outputs": [
    {
     "data": {
      "text/plain": [
       "[{72: 'H'},\n",
       " {101: 'e'},\n",
       " {108: 'l'},\n",
       " {108: 'l'},\n",
       " {111: 'o'},\n",
       " {32: ' '},\n",
       " {65: 'A'},\n",
       " {83: 'S'},\n",
       " {67: 'C'},\n",
       " {76: 'L'},\n",
       " {32: ' '},\n",
       " {83: 'S'},\n",
       " {116: 't'},\n",
       " {117: 'u'},\n",
       " {100: 'd'},\n",
       " {101: 'e'},\n",
       " {110: 'n'},\n",
       " {116: 't'},\n",
       " {115: 's'}]"
      ]
     },
     "execution_count": 84,
     "metadata": {},
     "output_type": "execute_result"
    }
   ],
   "source": [
    "s_dict = [{ord(c):c} for c in s]\n",
    "s_dict"
   ]
  },
  {
   "cell_type": "code",
   "execution_count": 85,
   "metadata": {},
   "outputs": [
    {
     "data": {
      "text/plain": [
       "[72,\n",
       " 101,\n",
       " 108,\n",
       " 108,\n",
       " 111,\n",
       " 32,\n",
       " 65,\n",
       " 83,\n",
       " 67,\n",
       " 76,\n",
       " 32,\n",
       " 83,\n",
       " 116,\n",
       " 117,\n",
       " 100,\n",
       " 101,\n",
       " 110,\n",
       " 116,\n",
       " 115]"
      ]
     },
     "execution_count": 85,
     "metadata": {},
     "output_type": "execute_result"
    }
   ],
   "source": [
    "### Print the dictionary array based on keys\n",
    "ascii_keys = []\n",
    "for e in s_dict:\n",
    "    for key in e.keys():\n",
    "        ascii_keys.append(key)\n",
    "ascii_keys\n"
   ]
  },
  {
   "cell_type": "markdown",
   "metadata": {},
   "source": [
    "### Use List Comprehension twice"
   ]
  },
  {
   "cell_type": "code",
   "execution_count": 86,
   "metadata": {},
   "outputs": [
    {
     "data": {
      "text/plain": [
       "[72,\n",
       " 101,\n",
       " 108,\n",
       " 108,\n",
       " 111,\n",
       " 32,\n",
       " 65,\n",
       " 83,\n",
       " 67,\n",
       " 76,\n",
       " 32,\n",
       " 83,\n",
       " 116,\n",
       " 117,\n",
       " 100,\n",
       " 101,\n",
       " 110,\n",
       " 116,\n",
       " 115]"
      ]
     },
     "execution_count": 86,
     "metadata": {},
     "output_type": "execute_result"
    }
   ],
   "source": [
    "ascii_keys = [key for e in s_dict for key in e.keys()]\n",
    "ascii_keys"
   ]
  },
  {
   "cell_type": "code",
   "execution_count": 87,
   "metadata": {},
   "outputs": [],
   "source": [
    "### Sorted Keys\n",
    "ascii_keys.sort()"
   ]
  },
  {
   "cell_type": "code",
   "execution_count": 88,
   "metadata": {},
   "outputs": [
    {
     "data": {
      "text/plain": [
       "[32,\n",
       " 32,\n",
       " 65,\n",
       " 67,\n",
       " 72,\n",
       " 76,\n",
       " 83,\n",
       " 83,\n",
       " 100,\n",
       " 101,\n",
       " 101,\n",
       " 108,\n",
       " 108,\n",
       " 110,\n",
       " 111,\n",
       " 115,\n",
       " 116,\n",
       " 116,\n",
       " 117]"
      ]
     },
     "execution_count": 88,
     "metadata": {},
     "output_type": "execute_result"
    }
   ],
   "source": [
    "ascii_keys"
   ]
  },
  {
   "cell_type": "code",
   "execution_count": 89,
   "metadata": {},
   "outputs": [
    {
     "data": {
      "text/plain": [
       "[32,\n",
       " 32,\n",
       " 65,\n",
       " 67,\n",
       " 72,\n",
       " 76,\n",
       " 83,\n",
       " 83,\n",
       " 100,\n",
       " 101,\n",
       " 101,\n",
       " 108,\n",
       " 108,\n",
       " 110,\n",
       " 111,\n",
       " 115,\n",
       " 116,\n",
       " 116,\n",
       " 117]"
      ]
     },
     "execution_count": 89,
     "metadata": {},
     "output_type": "execute_result"
    }
   ],
   "source": [
    "# 2nd Method - use sorted() function to sort a list\n",
    "\n",
    "ascii_keys = [key for e in s_dict for key in e.keys()]\n",
    "ascii_keys = sorted(ascii_keys)\n",
    "ascii_keys"
   ]
  },
  {
   "cell_type": "markdown",
   "metadata": {},
   "source": [
    "### Multiple Key-value pairs"
   ]
  },
  {
   "cell_type": "code",
   "execution_count": 53,
   "metadata": {},
   "outputs": [
    {
     "data": {
      "text/plain": [
       "[{'key': 72, 'value': 'H', 'pos': 0},\n",
       " {'key': 101, 'value': 'e', 'pos': 1},\n",
       " {'key': 108, 'value': 'l', 'pos': 2},\n",
       " {'key': 108, 'value': 'l', 'pos': 3},\n",
       " {'key': 111, 'value': 'o', 'pos': 4},\n",
       " {'key': 32, 'value': ' ', 'pos': 5},\n",
       " {'key': 65, 'value': 'A', 'pos': 6},\n",
       " {'key': 83, 'value': 'S', 'pos': 7},\n",
       " {'key': 67, 'value': 'C', 'pos': 8},\n",
       " {'key': 76, 'value': 'L', 'pos': 9},\n",
       " {'key': 32, 'value': ' ', 'pos': 10},\n",
       " {'key': 83, 'value': 'S', 'pos': 11},\n",
       " {'key': 116, 'value': 't', 'pos': 12},\n",
       " {'key': 117, 'value': 'u', 'pos': 13},\n",
       " {'key': 100, 'value': 'd', 'pos': 14},\n",
       " {'key': 101, 'value': 'e', 'pos': 15},\n",
       " {'key': 110, 'value': 'n', 'pos': 16},\n",
       " {'key': 116, 'value': 't', 'pos': 17},\n",
       " {'key': 115, 'value': 's', 'pos': 18}]"
      ]
     },
     "execution_count": 53,
     "metadata": {},
     "output_type": "execute_result"
    }
   ],
   "source": [
    "s_dict = [{'key':ord(c), 'value':c, 'pos':i} for i,c in enumerate(s)]\n",
    "s_dict"
   ]
  },
  {
   "cell_type": "code",
   "execution_count": 93,
   "metadata": {},
   "outputs": [
    {
     "data": {
      "text/plain": [
       "[{'key': 72, 'value': 'H', 'pos': 0},\n",
       " {'key': 101, 'value': 'e', 'pos': 1},\n",
       " {'key': 108, 'value': 'l', 'pos': 2},\n",
       " {'key': 108, 'value': 'l', 'pos': 3},\n",
       " {'key': 111, 'value': 'o', 'pos': 4},\n",
       " {'key': 32, 'value': ' ', 'pos': 5},\n",
       " {'key': 65, 'value': 'A', 'pos': 6},\n",
       " {'key': 83, 'value': 'S', 'pos': 7},\n",
       " {'key': 67, 'value': 'C', 'pos': 8},\n",
       " {'key': 76, 'value': 'L', 'pos': 9},\n",
       " {'key': 32, 'value': ' ', 'pos': 10},\n",
       " {'key': 83, 'value': 'S', 'pos': 11},\n",
       " {'key': 116, 'value': 't', 'pos': 12},\n",
       " {'key': 117, 'value': 'u', 'pos': 13},\n",
       " {'key': 100, 'value': 'd', 'pos': 14},\n",
       " {'key': 101, 'value': 'e', 'pos': 15},\n",
       " {'key': 110, 'value': 'n', 'pos': 16},\n",
       " {'key': 116, 'value': 't', 'pos': 17},\n",
       " {'key': 115, 'value': 's', 'pos': 18}]"
      ]
     },
     "execution_count": 93,
     "metadata": {},
     "output_type": "execute_result"
    }
   ],
   "source": [
    "s_dict = []\n",
    "i = 0\n",
    "for c in s:\n",
    "    dict = {'key':ord(c), 'value':c,'pos':i}\n",
    "    s_dict.append(dict)\n",
    "    i += 1\n",
    "s_dict    "
   ]
  },
  {
   "cell_type": "code",
   "execution_count": 92,
   "metadata": {},
   "outputs": [
    {
     "data": {
      "text/plain": [
       "[{'key': 72, 'value': 'H', 'pos': 0},\n",
       " {'key': 101, 'value': 'e', 'pos': 1},\n",
       " {'key': 108, 'value': 'l', 'pos': 2},\n",
       " {'key': 108, 'value': 'l', 'pos': 3},\n",
       " {'key': 111, 'value': 'o', 'pos': 4},\n",
       " {'key': 32, 'value': ' ', 'pos': 5},\n",
       " {'key': 65, 'value': 'A', 'pos': 6},\n",
       " {'key': 83, 'value': 'S', 'pos': 7},\n",
       " {'key': 67, 'value': 'C', 'pos': 8},\n",
       " {'key': 76, 'value': 'L', 'pos': 9},\n",
       " {'key': 32, 'value': ' ', 'pos': 10},\n",
       " {'key': 83, 'value': 'S', 'pos': 11},\n",
       " {'key': 116, 'value': 't', 'pos': 12},\n",
       " {'key': 117, 'value': 'u', 'pos': 13},\n",
       " {'key': 100, 'value': 'd', 'pos': 14},\n",
       " {'key': 101, 'value': 'e', 'pos': 15},\n",
       " {'key': 110, 'value': 'n', 'pos': 16},\n",
       " {'key': 116, 'value': 't', 'pos': 17},\n",
       " {'key': 115, 'value': 's', 'pos': 18}]"
      ]
     },
     "execution_count": 92,
     "metadata": {},
     "output_type": "execute_result"
    }
   ],
   "source": [
    "s_dict = []\n",
    "for i, c in enumerate(s):\n",
    "    dict = {'key':ord(c), 'value':c,'pos':i}\n",
    "    s_dict.append(dict)\n",
    "s_dict    \n",
    "    "
   ]
  },
  {
   "cell_type": "code",
   "execution_count": 94,
   "metadata": {},
   "outputs": [
    {
     "data": {
      "text/plain": [
       "[{'key': 32, 'value': ' ', 'pos': 5},\n",
       " {'key': 32, 'value': ' ', 'pos': 10},\n",
       " {'key': 65, 'value': 'A', 'pos': 6},\n",
       " {'key': 67, 'value': 'C', 'pos': 8},\n",
       " {'key': 72, 'value': 'H', 'pos': 0},\n",
       " {'key': 76, 'value': 'L', 'pos': 9},\n",
       " {'key': 83, 'value': 'S', 'pos': 7},\n",
       " {'key': 83, 'value': 'S', 'pos': 11},\n",
       " {'key': 100, 'value': 'd', 'pos': 14},\n",
       " {'key': 101, 'value': 'e', 'pos': 1},\n",
       " {'key': 101, 'value': 'e', 'pos': 15},\n",
       " {'key': 108, 'value': 'l', 'pos': 2},\n",
       " {'key': 108, 'value': 'l', 'pos': 3},\n",
       " {'key': 110, 'value': 'n', 'pos': 16},\n",
       " {'key': 111, 'value': 'o', 'pos': 4},\n",
       " {'key': 115, 'value': 's', 'pos': 18},\n",
       " {'key': 116, 'value': 't', 'pos': 12},\n",
       " {'key': 116, 'value': 't', 'pos': 17},\n",
       " {'key': 117, 'value': 'u', 'pos': 13}]"
      ]
     },
     "execution_count": 94,
     "metadata": {},
     "output_type": "execute_result"
    }
   ],
   "source": [
    "sorted_dict = sorted(s_dict, key=lambda d: d['key'])\n",
    "sorted_dict"
   ]
  },
  {
   "cell_type": "code",
   "execution_count": 95,
   "metadata": {},
   "outputs": [
    {
     "name": "stdout",
     "output_type": "stream",
     "text": [
      "  ACHLSSdeellnosttu\n"
     ]
    }
   ],
   "source": [
    "# Print the string based on sorted key values\n",
    "out = \"\"\n",
    "for d in sorted_dict:\n",
    "    out += d['value']\n",
    "print(out)"
   ]
  },
  {
   "cell_type": "code",
   "execution_count": 97,
   "metadata": {},
   "outputs": [
    {
     "data": {
      "text/plain": [
       "'  ACHLSSdeellnosttu'"
      ]
     },
     "execution_count": 97,
     "metadata": {},
     "output_type": "execute_result"
    }
   ],
   "source": [
    "''.join(sorted(s))"
   ]
  },
  {
   "cell_type": "code",
   "execution_count": null,
   "metadata": {},
   "outputs": [],
   "source": []
  }
 ],
 "metadata": {
  "colab": {
   "collapsed_sections": [
    "_rehYX145nEk",
    "g4-XjayC8KO7"
   ],
   "name": "Lesson5-Python For Data Science-Python-Data-structure.ipynb",
   "provenance": [
    {
     "file_id": "https://github.com/paiml/python_for_datascience/blob/master/Lesson5_Python_For_Data_Science_Python_Data_structure.ipynb",
     "timestamp": 1679247223272
    }
   ]
  },
  "kernelspec": {
   "display_name": "Python 3 (ipykernel)",
   "language": "python",
   "name": "python3"
  },
  "language_info": {
   "codemirror_mode": {
    "name": "ipython",
    "version": 3
   },
   "file_extension": ".py",
   "mimetype": "text/x-python",
   "name": "python",
   "nbconvert_exporter": "python",
   "pygments_lexer": "ipython3",
   "version": "3.9.13"
  }
 },
 "nbformat": 4,
 "nbformat_minor": 4
}

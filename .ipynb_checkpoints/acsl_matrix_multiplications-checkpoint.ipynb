{
 "cells": [
  {
   "cell_type": "markdown",
   "id": "321c7c1c-7640-4675-90df-375d11f8f8ce",
   "metadata": {},
   "source": [
    "# Grah Theory - Adjacency Matrix\n",
    "\n",
    "Calculate number of different paths"
   ]
  },
  {
   "cell_type": "code",
   "execution_count": 1,
   "id": "dcfd4e06-91d4-445c-b325-72b5cf5e46f7",
   "metadata": {},
   "outputs": [],
   "source": [
    "import numpy as np"
   ]
  },
  {
   "cell_type": "markdown",
   "id": "303e4416-ba90-418d-a4a8-96cdb6dafd27",
   "metadata": {},
   "source": [
    "## Example 1: Matrix^2 = Matrix * Matrix "
   ]
  },
  {
   "cell_type": "code",
   "execution_count": 91,
   "id": "9441cbe0-6a9b-4b17-85d2-690f9b154dea",
   "metadata": {},
   "outputs": [
    {
     "data": {
      "text/plain": [
       "matrix([[1, 0, 1],\n",
       "        [0, 1, 1],\n",
       "        [1, 0, 0]])"
      ]
     },
     "execution_count": 91,
     "metadata": {},
     "output_type": "execute_result"
    }
   ],
   "source": [
    "m1 = np.matrix([[1,0,1],[0,1,1],[1,0,0]])\n",
    "m1"
   ]
  },
  {
   "cell_type": "code",
   "execution_count": 96,
   "id": "dfce3204-1f60-4785-94cb-f712b0031de2",
   "metadata": {},
   "outputs": [
    {
     "data": {
      "text/plain": [
       "matrix([[2, 0, 1],\n",
       "        [1, 1, 1],\n",
       "        [1, 0, 1]])"
      ]
     },
     "execution_count": 96,
     "metadata": {},
     "output_type": "execute_result"
    }
   ],
   "source": [
    "m2 = m1*m1\n",
    "m2"
   ]
  },
  {
   "cell_type": "code",
   "execution_count": 97,
   "id": "20091162-d570-47dc-9322-3ac496888dfa",
   "metadata": {},
   "outputs": [
    {
     "data": {
      "text/plain": [
       "matrix([[5, 0, 3],\n",
       "        [4, 1, 3],\n",
       "        [3, 0, 2]])"
      ]
     },
     "execution_count": 97,
     "metadata": {},
     "output_type": "execute_result"
    }
   ],
   "source": [
    "m4 = m2*m2\n",
    "m4"
   ]
  },
  {
   "cell_type": "markdown",
   "id": "79cd6a23-dc59-4f46-b458-b0ee06bda1ce",
   "metadata": {},
   "source": [
    "## Example 2: Matrix^2 = matrix * matrix, and Matrix^4 = Matrix^2 * Matrix^2"
   ]
  },
  {
   "cell_type": "code",
   "execution_count": 2,
   "id": "d1d72939-cd90-4d40-b7dc-5b34cfe2b134",
   "metadata": {},
   "outputs": [
    {
     "data": {
      "text/plain": [
       "matrix([[0, 1, 0, 1, 1],\n",
       "        [0, 0, 1, 0, 1],\n",
       "        [1, 1, 0, 1, 0],\n",
       "        [0, 0, 0, 0, 1],\n",
       "        [0, 0, 0, 1, 0]])"
      ]
     },
     "execution_count": 2,
     "metadata": {},
     "output_type": "execute_result"
    }
   ],
   "source": [
    "m = np.matrix([[0, 1, 0, 1, 1],\n",
    "               [0, 0, 1, 0, 1],\n",
    "               [1, 1, 0, 1, 0],\n",
    "               [0, 0, 0, 0, 1],\n",
    "               [0, 0, 0, 1, 0]])\n",
    "m"
   ]
  },
  {
   "cell_type": "code",
   "execution_count": 4,
   "id": "093195ed-e8c8-42a8-97cc-df926ded5823",
   "metadata": {},
   "outputs": [
    {
     "data": {
      "text/plain": [
       "matrix([[0, 0, 1, 1, 2],\n",
       "        [1, 1, 0, 2, 0],\n",
       "        [0, 1, 1, 1, 3],\n",
       "        [0, 0, 0, 1, 0],\n",
       "        [0, 0, 0, 0, 1]])"
      ]
     },
     "execution_count": 4,
     "metadata": {},
     "output_type": "execute_result"
    }
   ],
   "source": [
    "m2 = m*m\n",
    "m2"
   ]
  },
  {
   "cell_type": "code",
   "execution_count": 5,
   "id": "31447beb-ec92-4391-b31b-fdf7fa7d5f29",
   "metadata": {},
   "outputs": [
    {
     "data": {
      "text/plain": [
       "16"
      ]
     },
     "execution_count": 5,
     "metadata": {},
     "output_type": "execute_result"
    }
   ],
   "source": [
    "## Counter number of paths with length of 2\n",
    "np.sum(m2)"
   ]
  },
  {
   "cell_type": "code",
   "execution_count": 6,
   "id": "e2f3a049-26d0-4c7d-a345-dad78bddcbcf",
   "metadata": {},
   "outputs": [
    {
     "name": "stdout",
     "output_type": "stream",
     "text": [
      "[[0 1 1 2 5]\n",
      " [1 1 1 5 2]\n",
      " [1 2 1 4 6]\n",
      " [0 0 0 1 0]\n",
      " [0 0 0 0 1]]\n"
     ]
    },
    {
     "data": {
      "text/plain": [
       "35"
      ]
     },
     "execution_count": 6,
     "metadata": {},
     "output_type": "execute_result"
    }
   ],
   "source": [
    "## Counter number of paths with length of 4\n",
    "m4 = m2*m2\n",
    "print(m4)\n",
    "np.sum(m4)"
   ]
  },
  {
   "cell_type": "markdown",
   "id": "7f88c164-80d0-4337-83e5-014f101d542e",
   "metadata": {},
   "source": [
    "## Example 3 - 2018-2019 Contest 4 - Intermeidate\n",
    "Problem 1"
   ]
  },
  {
   "cell_type": "code",
   "execution_count": 7,
   "id": "ba50b679-1fee-4408-b9e1-7e8fa87b6993",
   "metadata": {},
   "outputs": [
    {
     "data": {
      "text/plain": [
       "matrix([[1, 1, 1],\n",
       "        [1, 0, 1],\n",
       "        [1, 1, 1]])"
      ]
     },
     "execution_count": 7,
     "metadata": {},
     "output_type": "execute_result"
    }
   ],
   "source": [
    "m1 = np.matrix([[1,1,1],\n",
    "                [1,0,1],\n",
    "                [1,1,1]])\n",
    "m1"
   ]
  },
  {
   "cell_type": "code",
   "execution_count": null,
   "id": "b4a4ea60-dbb6-475c-9376-56eba1918be2",
   "metadata": {},
   "outputs": [],
   "source": []
  }
 ],
 "metadata": {
  "kernelspec": {
   "display_name": "Python 3 (ipykernel)",
   "language": "python",
   "name": "python3"
  },
  "language_info": {
   "codemirror_mode": {
    "name": "ipython",
    "version": 3
   },
   "file_extension": ".py",
   "mimetype": "text/x-python",
   "name": "python",
   "nbconvert_exporter": "python",
   "pygments_lexer": "ipython3",
   "version": "3.9.12"
  }
 },
 "nbformat": 4,
 "nbformat_minor": 5
}

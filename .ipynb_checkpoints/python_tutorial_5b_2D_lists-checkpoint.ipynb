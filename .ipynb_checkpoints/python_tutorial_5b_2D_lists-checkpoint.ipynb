{
 "cells": [
  {
   "cell_type": "markdown",
   "id": "1905143e-c1b4-48bc-b7a3-f32bae9cd3ce",
   "metadata": {},
   "source": [
    "# Matrix in Python using 2D Lists\n",
    "\n",
    "The easy way to conduct matrix operations in Python is to use Numpy!\n",
    "\n",
    "**NumPy** is an open-source Python library that we can use to perform high-level mathematical operations with arrays, matrices, linear algebra,\n",
    "\n",
    "However, if you don't want to use Numpy, you can still use 2D Arrays or list of lists as a matrix.\n",
    "\n",
    "These terms are the same:\n",
    "\n",
    "- Matrix\n",
    "- 2D Array\n",
    "- 2D List\n",
    "- List of Lists\n",
    "- Nested Lists\n",
    "- Linked List\n"
   ]
  },
  {
   "cell_type": "markdown",
   "id": "c413d19c-44f0-4ecc-ab9f-558629c5db48",
   "metadata": {},
   "source": [
    "## One dimention list"
   ]
  },
  {
   "cell_type": "code",
   "execution_count": 22,
   "id": "4150ea2c-cb75-4b46-8539-e220dd708236",
   "metadata": {},
   "outputs": [
    {
     "data": {
      "text/plain": [
       "[]"
      ]
     },
     "execution_count": 22,
     "metadata": {},
     "output_type": "execute_result"
    }
   ],
   "source": [
    "arr = []\n",
    "arr"
   ]
  },
  {
   "cell_type": "code",
   "execution_count": 23,
   "id": "a278a342-ffcc-4e58-89cd-ec1235079edc",
   "metadata": {},
   "outputs": [
    {
     "data": {
      "text/plain": [
       "[2]"
      ]
     },
     "execution_count": 23,
     "metadata": {},
     "output_type": "execute_result"
    }
   ],
   "source": [
    "arr.append(2)\n",
    "arr"
   ]
  },
  {
   "cell_type": "code",
   "execution_count": 32,
   "id": "14957809-342f-42c0-a977-8b4f85446cfd",
   "metadata": {},
   "outputs": [
    {
     "data": {
      "text/plain": [
       "[1, 2, 3, 4, 5]"
      ]
     },
     "execution_count": 32,
     "metadata": {},
     "output_type": "execute_result"
    }
   ],
   "source": [
    "arr = [1, 2, 3, 4, 5]\n",
    "arr"
   ]
  },
  {
   "cell_type": "code",
   "execution_count": 33,
   "id": "8a4c2d3e-d3a4-4693-9b44-613489a21f77",
   "metadata": {},
   "outputs": [
    {
     "data": {
      "text/plain": [
       "4"
      ]
     },
     "execution_count": 33,
     "metadata": {},
     "output_type": "execute_result"
    }
   ],
   "source": [
    "arr.index(5)"
   ]
  },
  {
   "cell_type": "code",
   "execution_count": 34,
   "id": "bccb4e79-cdd8-476c-b28e-a66c860f1ef2",
   "metadata": {},
   "outputs": [
    {
     "data": {
      "text/plain": [
       "[5, 4, 3, 2, 1]"
      ]
     },
     "execution_count": 34,
     "metadata": {},
     "output_type": "execute_result"
    }
   ],
   "source": [
    "arr[::-1]"
   ]
  },
  {
   "cell_type": "code",
   "execution_count": 39,
   "id": "e3f72fb8-f555-491a-9dda-99b1d1c61627",
   "metadata": {},
   "outputs": [
    {
     "name": "stdout",
     "output_type": "stream",
     "text": [
      "5\n",
      "4\n",
      "3\n",
      "2\n",
      "1\n"
     ]
    }
   ],
   "source": [
    "arr2 = reversed(arr)\n",
    "for elem in arr2:\n",
    "    print(elem)"
   ]
  },
  {
   "cell_type": "code",
   "execution_count": 21,
   "id": "8a94ffe7-8f91-4ccb-bc68-1167c5f05f14",
   "metadata": {},
   "outputs": [
    {
     "data": {
      "text/plain": [
       "[1, 2, 3, 4, 5]"
      ]
     },
     "execution_count": 21,
     "metadata": {},
     "output_type": "execute_result"
    }
   ],
   "source": [
    "arr = list(set([1, 2, 3, 4, 5]))\n",
    "arr"
   ]
  },
  {
   "cell_type": "markdown",
   "id": "9a2bb282-965c-44f5-819d-2b0cba7fd84a",
   "metadata": {},
   "source": [
    "## Two dimension array - Matrix"
   ]
  },
  {
   "cell_type": "code",
   "execution_count": 40,
   "id": "974dbbd3-c9b5-41c8-88bd-78ae8d8d3bb2",
   "metadata": {},
   "outputs": [
    {
     "data": {
      "text/plain": [
       "[[1, 2, 3], [4, 5, 6]]"
      ]
     },
     "execution_count": 40,
     "metadata": {},
     "output_type": "execute_result"
    }
   ],
   "source": [
    "a = [[1, 2, 3], [4, 5, 6]]\n",
    "a"
   ]
  },
  {
   "cell_type": "code",
   "execution_count": 41,
   "id": "d2fb8d17-8cfd-4425-b31f-8cd9af15b22f",
   "metadata": {},
   "outputs": [
    {
     "data": {
      "text/plain": [
       "2"
      ]
     },
     "execution_count": 41,
     "metadata": {},
     "output_type": "execute_result"
    }
   ],
   "source": [
    "len(a)"
   ]
  },
  {
   "cell_type": "code",
   "execution_count": 42,
   "id": "b1c4d970-a009-46da-bb79-ba257828dc27",
   "metadata": {},
   "outputs": [
    {
     "data": {
      "text/plain": [
       "3"
      ]
     },
     "execution_count": 42,
     "metadata": {},
     "output_type": "execute_result"
    }
   ],
   "source": [
    "len(a[0])"
   ]
  },
  {
   "cell_type": "code",
   "execution_count": 43,
   "id": "ded2fae4-fc58-41d6-9d3d-af50197e6b09",
   "metadata": {},
   "outputs": [
    {
     "name": "stdout",
     "output_type": "stream",
     "text": [
      "[1, 2, 3]\n",
      "[4, 5, 6]\n"
     ]
    }
   ],
   "source": [
    "print(a[0])\n",
    "print(a[1])"
   ]
  },
  {
   "cell_type": "code",
   "execution_count": 44,
   "id": "903182e0-f036-4758-896f-5ea42b59e8f0",
   "metadata": {},
   "outputs": [
    {
     "name": "stdout",
     "output_type": "stream",
     "text": [
      "[1, 2, 3]\n"
     ]
    }
   ],
   "source": [
    "# Make a copy is a reference to original copy\n",
    "b = a[0]\n",
    "print(b)"
   ]
  },
  {
   "cell_type": "code",
   "execution_count": 45,
   "id": "5b49e07e-e474-4292-a217-8b49a7317ba7",
   "metadata": {},
   "outputs": [
    {
     "name": "stdout",
     "output_type": "stream",
     "text": [
      "2\n",
      "[[1, 7, 3], [4, 5, 6]]\n",
      "[1, 7, 3]\n"
     ]
    }
   ],
   "source": [
    "# a change in a will affect the value in b:\n",
    "print(a[0][1])\n",
    "a[0][1] = 7\n",
    "print(a)\n",
    "print(b)"
   ]
  },
  {
   "cell_type": "code",
   "execution_count": 48,
   "id": "b87d79e7-9cc7-4f88-a555-fc90841f8000",
   "metadata": {},
   "outputs": [
    {
     "data": {
      "text/plain": [
       "[[1, 2, 3], [4, 5, 6], [7, 8, 9]]"
      ]
     },
     "execution_count": 48,
     "metadata": {},
     "output_type": "execute_result"
    }
   ],
   "source": [
    "mat = [[1, 2, 3], \n",
    "       [4, 5, 6],\n",
    "       [7, 8, 9],\n",
    "      ]\n",
    "mat"
   ]
  },
  {
   "cell_type": "code",
   "execution_count": 49,
   "id": "76e0ae9b-7c77-4dc0-903e-ed504e3ee747",
   "metadata": {},
   "outputs": [
    {
     "data": {
      "text/plain": [
       "3"
      ]
     },
     "execution_count": 49,
     "metadata": {},
     "output_type": "execute_result"
    }
   ],
   "source": [
    "# Number of rows:\n",
    "len(mat)"
   ]
  },
  {
   "cell_type": "code",
   "execution_count": 50,
   "id": "1cf1de13-3b85-4c2e-bbf9-2cf40bd0fbdf",
   "metadata": {},
   "outputs": [
    {
     "data": {
      "text/plain": [
       "3"
      ]
     },
     "execution_count": 50,
     "metadata": {},
     "output_type": "execute_result"
    }
   ],
   "source": [
    "# number of columns:\n",
    "len(mat[0])"
   ]
  },
  {
   "cell_type": "code",
   "execution_count": 51,
   "id": "f3447db3-4cdb-454b-b965-b93b0973b26a",
   "metadata": {},
   "outputs": [
    {
     "data": {
      "text/plain": [
       "[[1, 2, 3, 4], [5, 6, 7, 8], [9, 10, 11, 12]]"
      ]
     },
     "execution_count": 51,
     "metadata": {},
     "output_type": "execute_result"
    }
   ],
   "source": [
    "# 3 x 4 matrix\n",
    "mat2 = [[1, 2, 3, 4], \n",
    "       [5, 6, 7, 8],\n",
    "       [9, 10, 11, 12]]\n",
    "mat2"
   ]
  },
  {
   "cell_type": "code",
   "execution_count": 52,
   "id": "953e1c5e-06f4-4934-8cfb-198abccdea24",
   "metadata": {},
   "outputs": [
    {
     "data": {
      "text/plain": [
       "3"
      ]
     },
     "execution_count": 52,
     "metadata": {},
     "output_type": "execute_result"
    }
   ],
   "source": [
    "# Number of rows:\n",
    "len(mat2)"
   ]
  },
  {
   "cell_type": "code",
   "execution_count": 53,
   "id": "413e0df1-7bcf-4b2d-a56d-9a3304586568",
   "metadata": {},
   "outputs": [
    {
     "data": {
      "text/plain": [
       "4"
      ]
     },
     "execution_count": 53,
     "metadata": {},
     "output_type": "execute_result"
    }
   ],
   "source": [
    "# number of columns:\n",
    "len(mat2[0])"
   ]
  },
  {
   "cell_type": "markdown",
   "id": "505f90aa-fdc4-4c83-aace-a9f53d79d21f",
   "metadata": {},
   "source": [
    "## Go through elements of a 2D list"
   ]
  },
  {
   "cell_type": "code",
   "execution_count": 54,
   "id": "fd652551-4588-4e3e-bc14-2325b697344c",
   "metadata": {},
   "outputs": [
    {
     "name": "stdout",
     "output_type": "stream",
     "text": [
      "1 2 3 4 \n",
      "5 6 \n",
      "7 8 9 \n"
     ]
    }
   ],
   "source": [
    "# First method - use len()\n",
    "a = [[1, 2, 3, 4], [5, 6], [7, 8, 9]]\n",
    "for i in range(len(a)):\n",
    "    for j in range(len(a[i])):\n",
    "        print(a[i][j], end=' ')\n",
    "    print()"
   ]
  },
  {
   "cell_type": "code",
   "execution_count": 37,
   "id": "35cb6be3-add6-4408-aee8-f31ad551dfab",
   "metadata": {},
   "outputs": [
    {
     "name": "stdout",
     "output_type": "stream",
     "text": [
      "1 2 3 4 \n",
      "5 6 \n",
      "7 8 9 \n"
     ]
    }
   ],
   "source": [
    "# 2nd Method - use for element in a list:\n",
    "\n",
    "a = [[1, 2, 3, 4], [5, 6], [7, 8, 9]]\n",
    "for row in a:\n",
    "    for elem in row:\n",
    "        print(elem, end=' ')\n",
    "    print()"
   ]
  },
  {
   "cell_type": "code",
   "execution_count": 56,
   "id": "92d03661-75f8-440e-86ff-7b105e83d397",
   "metadata": {},
   "outputs": [
    {
     "data": {
      "text/plain": [
       "[1, 2, 3, 4]"
      ]
     },
     "execution_count": 56,
     "metadata": {},
     "output_type": "execute_result"
    }
   ],
   "source": [
    "a[0]"
   ]
  },
  {
   "cell_type": "code",
   "execution_count": 55,
   "id": "f25b58ce-df33-47d1-bbd4-e47a89bfe141",
   "metadata": {},
   "outputs": [
    {
     "data": {
      "text/plain": [
       "['1', '2', '3', '4']"
      ]
     },
     "execution_count": 55,
     "metadata": {},
     "output_type": "execute_result"
    }
   ],
   "source": [
    "res0 =[ str(elem) for elem in a[0]] \n",
    "res0"
   ]
  },
  {
   "cell_type": "code",
   "execution_count": 57,
   "id": "9d7d7186-0555-4053-8a49-40b43b1a8309",
   "metadata": {},
   "outputs": [
    {
     "data": {
      "text/plain": [
       "'1 2 3 4'"
      ]
     },
     "execution_count": 57,
     "metadata": {},
     "output_type": "execute_result"
    }
   ],
   "source": [
    "' '.join(res0)"
   ]
  },
  {
   "cell_type": "code",
   "execution_count": 58,
   "id": "ef70d4d7-bb6e-427b-9828-fd2cabf4c172",
   "metadata": {},
   "outputs": [
    {
     "name": "stdout",
     "output_type": "stream",
     "text": [
      "1 2 3 4\n",
      "5 6\n",
      "7 8 9\n"
     ]
    }
   ],
   "source": [
    "# Use list comprehension\n",
    "res = [' '.join([str(elem) for elem in row]) for row in a]\n",
    "print('\\n'.join(res))"
   ]
  },
  {
   "cell_type": "markdown",
   "id": "2e774faf-5279-4038-b909-afe2ca690513",
   "metadata": {
    "tags": []
   },
   "source": [
    "###  Sum of all elements"
   ]
  },
  {
   "cell_type": "code",
   "execution_count": 59,
   "id": "df5e02c0-c3cd-4cf7-b08a-58ce2afbaaac",
   "metadata": {},
   "outputs": [
    {
     "name": "stdout",
     "output_type": "stream",
     "text": [
      "45\n"
     ]
    }
   ],
   "source": [
    "#  calculate a sum of all elements\n",
    "a = [[1, 2, 3, 4], [5, 6], [7, 8, 9]]\n",
    "s = 0\n",
    "for i in range(len(a)):\n",
    "    for j in range(len(a[i])):\n",
    "        s += a[i][j]\n",
    "print(s)"
   ]
  },
  {
   "cell_type": "code",
   "execution_count": 60,
   "id": "fb72bb0c-31c0-4c37-b1b9-e27703f92dd2",
   "metadata": {},
   "outputs": [
    {
     "name": "stdout",
     "output_type": "stream",
     "text": [
      "45\n"
     ]
    }
   ],
   "source": [
    "a = [[1, 2, 3, 4], [5, 6], [7, 8, 9]]\n",
    "s = 0\n",
    "for row in a:\n",
    "    for element in row:\n",
    "        s += element\n",
    "print(s)"
   ]
  },
  {
   "cell_type": "code",
   "execution_count": 61,
   "id": "7528e0b7-5a0b-410f-8dad-eb48653f0597",
   "metadata": {},
   "outputs": [
    {
     "name": "stdout",
     "output_type": "stream",
     "text": [
      "[[1, 3, 6, 10], [15, 21], [28, 36, 45]]\n",
      "45\n"
     ]
    }
   ],
   "source": [
    "a = [[1, 2, 3, 4], [5, 6], [7, 8, 9]]\n",
    "s = 0\n",
    "accum = [[s := s+elem for elem in row] for row in a]\n",
    "print(accum)\n",
    "print(accum[-1][-1])"
   ]
  },
  {
   "cell_type": "markdown",
   "id": "7f7af209-5ee9-493d-ba73-54b6b0062a35",
   "metadata": {},
   "source": [
    "## Intialize a matrix"
   ]
  },
  {
   "cell_type": "code",
   "execution_count": 47,
   "id": "f93d68d6-668b-456c-8700-f7f6c96128c2",
   "metadata": {
    "tags": []
   },
   "outputs": [
    {
     "data": {
      "text/plain": [
       "[[0, 0, 0, 0, 0, 0],\n",
       " [0, 0, 0, 0, 0, 0],\n",
       " [0, 0, 0, 0, 0, 0],\n",
       " [0, 0, 0, 0, 0, 0],\n",
       " [0, 0, 0, 0, 0, 0],\n",
       " [0, 0, 0, 0, 0, 0]]"
      ]
     },
     "execution_count": 47,
     "metadata": {},
     "output_type": "execute_result"
    }
   ],
   "source": [
    "# Initialize a nxn matrix with 0 \n",
    "n = 6\n",
    "mat = [[0]*n for i in range(n)]\n",
    "mat"
   ]
  },
  {
   "cell_type": "code",
   "execution_count": 63,
   "id": "cf748f6a-ce84-44e1-a0e7-e16247fb4915",
   "metadata": {},
   "outputs": [
    {
     "data": {
      "text/plain": [
       "[[0, 0, 0, 0, 0, 0, 0],\n",
       " [0, 0, 0, 0, 0, 0, 0],\n",
       " [0, 0, 0, 0, 0, 0, 0],\n",
       " [0, 0, 0, 0, 0, 0, 0],\n",
       " [0, 0, 0, 0, 0, 0, 0],\n",
       " [0, 0, 0, 0, 0, 0, 0]]"
      ]
     },
     "execution_count": 63,
     "metadata": {},
     "output_type": "execute_result"
    }
   ],
   "source": [
    "# Initialize a nxm matrix with 0 \n",
    "n, m = 6, 7\n",
    "mat = [[0]*m for i in range(n)]\n",
    "mat"
   ]
  },
  {
   "cell_type": "markdown",
   "id": "d8adfe92-044b-495a-ab6b-3754a56a90a7",
   "metadata": {},
   "source": [
    "## Practice 1 - Initialize a 7x6 matrix with all elements being 1"
   ]
  },
  {
   "cell_type": "code",
   "execution_count": 64,
   "id": "e4a81a5a-ee2c-4da0-acd5-6c6d08c8db70",
   "metadata": {
    "tags": []
   },
   "outputs": [
    {
     "data": {
      "text/plain": [
       "[[1, 1, 1, 1, 1, 1],\n",
       " [1, 1, 1, 1, 1, 1],\n",
       " [1, 1, 1, 1, 1, 1],\n",
       " [1, 1, 1, 1, 1, 1],\n",
       " [1, 1, 1, 1, 1, 1],\n",
       " [1, 1, 1, 1, 1, 1],\n",
       " [1, 1, 1, 1, 1, 1]]"
      ]
     },
     "execution_count": 64,
     "metadata": {},
     "output_type": "execute_result"
    }
   ],
   "source": [
    "n, m  = 7, 6\n",
    "mat = [[1]*m for i in range(n)]\n",
    "mat"
   ]
  },
  {
   "cell_type": "markdown",
   "id": "76de1973-6aa9-46db-95ce-7d9233349da2",
   "metadata": {},
   "source": [
    "## Practice 2 - Create a nxn identity matrix:\n",
    "- diagonal elements are 1\n",
    "- all other elements are 0\n",
    "\n",
    "Example for 2x2:\n",
    "\n",
    "    1 0\n",
    "    0 1\n",
    "\n",
    "Test your code with n = 4, 5, 6"
   ]
  },
  {
   "cell_type": "markdown",
   "id": "eb1c838f-bc4b-49dd-a572-82d5291fa8e3",
   "metadata": {},
   "source": [
    "def identity_matrix(n):\n",
    "    \n",
    "    # (1) create a nxn matrix with all 0s\n",
    "    \n",
    "    # (2) change the diagonal elements to 1\n",
    "    \n",
    "    return mat"
   ]
  },
  {
   "cell_type": "code",
   "execution_count": 65,
   "id": "7878a4ee-e7b3-46a9-9a11-8c0ddbb229fa",
   "metadata": {
    "tags": []
   },
   "outputs": [],
   "source": [
    "# Initialize a nxn identity matrix\n",
    "def identity_matrix(n):\n",
    "    mat = [[0]*n for i in range(n)]\n",
    "    for i in range(n):\n",
    "        mat[i][i]  = 1\n",
    "    return mat"
   ]
  },
  {
   "cell_type": "code",
   "execution_count": 66,
   "id": "8aebc39d-9401-47de-9792-e2b2bc030e8c",
   "metadata": {
    "tags": []
   },
   "outputs": [
    {
     "data": {
      "text/plain": [
       "[[1, 0, 0, 0], [0, 1, 0, 0], [0, 0, 1, 0], [0, 0, 0, 1]]"
      ]
     },
     "execution_count": 66,
     "metadata": {},
     "output_type": "execute_result"
    }
   ],
   "source": [
    "mat1 = identity_matrix(4)\n",
    "mat1"
   ]
  },
  {
   "cell_type": "code",
   "execution_count": 67,
   "id": "6a2b3259-8f4d-4ef8-82c5-849714dd0d54",
   "metadata": {
    "tags": []
   },
   "outputs": [
    {
     "data": {
      "text/plain": [
       "[[1, 0, 0, 0, 0],\n",
       " [0, 1, 0, 0, 0],\n",
       " [0, 0, 1, 0, 0],\n",
       " [0, 0, 0, 1, 0],\n",
       " [0, 0, 0, 0, 1]]"
      ]
     },
     "execution_count": 67,
     "metadata": {},
     "output_type": "execute_result"
    }
   ],
   "source": [
    "mat2 = identity_matrix(5)\n",
    "mat2"
   ]
  },
  {
   "cell_type": "code",
   "execution_count": 12,
   "id": "28992004-cb65-40db-a405-036abb4ae3b3",
   "metadata": {
    "tags": []
   },
   "outputs": [
    {
     "data": {
      "text/plain": [
       "[[1, 0, 0, 0, 0, 0],\n",
       " [0, 1, 0, 0, 0, 0],\n",
       " [0, 0, 1, 0, 0, 0],\n",
       " [0, 0, 0, 1, 0, 0],\n",
       " [0, 0, 0, 0, 1, 0],\n",
       " [0, 0, 0, 0, 0, 1]]"
      ]
     },
     "execution_count": 12,
     "metadata": {},
     "output_type": "execute_result"
    }
   ],
   "source": [
    "mat3 = identity_matrix(6)\n",
    "mat3"
   ]
  },
  {
   "cell_type": "markdown",
   "id": "271be41a-0fef-4e20-8445-edfe71e09577",
   "metadata": {},
   "source": [
    "## Practice 3 - Create a nxn matrix with consecutive numbers\n",
    "- given an input n, and start, create an nxn matrix with the first element being start, and the second element being start+1, etc.\n",
    "\n",
    "- Test your matrix with n = 5, start=0, and n=6, start=1"
   ]
  },
  {
   "cell_type": "markdown",
   "id": "13649ba2-4eba-4fd0-8fbe-86a0a0ae0f9f",
   "metadata": {},
   "source": [
    "    def my_matrix(n, start):\n",
    "        # initialize a nxn matrix with elements of 0\n",
    "        # set each element in two nested loops sequentially"
   ]
  },
  {
   "cell_type": "code",
   "execution_count": 68,
   "id": "927bba3a-a760-4e6c-a460-c959b283e69d",
   "metadata": {
    "tags": []
   },
   "outputs": [],
   "source": [
    "# Initialize a nxn matrix with consecutive numbers\n",
    "def consecutive_matrix(n, start):\n",
    "    mat = [[0]*n for i in range(n)]\n",
    "    for i in range(n):\n",
    "        for j in range(n):\n",
    "            mat[i][j] = start\n",
    "            start +=1\n",
    "    return mat"
   ]
  },
  {
   "cell_type": "code",
   "execution_count": 70,
   "id": "af475a5b-961f-407e-a683-f268e90abe0f",
   "metadata": {
    "tags": []
   },
   "outputs": [
    {
     "data": {
      "text/plain": [
       "[[0, 1, 2, 3, 4],\n",
       " [5, 6, 7, 8, 9],\n",
       " [10, 11, 12, 13, 14],\n",
       " [15, 16, 17, 18, 19],\n",
       " [20, 21, 22, 23, 24]]"
      ]
     },
     "execution_count": 70,
     "metadata": {},
     "output_type": "execute_result"
    }
   ],
   "source": [
    "mat = consecutive_matrix(5, 0)\n",
    "mat"
   ]
  },
  {
   "cell_type": "code",
   "execution_count": 71,
   "id": "d7c2deed-5c9e-437b-8cbd-51e803eecfaa",
   "metadata": {
    "tags": []
   },
   "outputs": [
    {
     "data": {
      "text/plain": [
       "[[1, 2, 3, 4, 5, 6],\n",
       " [7, 8, 9, 10, 11, 12],\n",
       " [13, 14, 15, 16, 17, 18],\n",
       " [19, 20, 21, 22, 23, 24],\n",
       " [25, 26, 27, 28, 29, 30],\n",
       " [31, 32, 33, 34, 35, 36]]"
      ]
     },
     "execution_count": 71,
     "metadata": {},
     "output_type": "execute_result"
    }
   ],
   "source": [
    "mat = consecutive_matrix(6, 1)\n",
    "mat"
   ]
  },
  {
   "cell_type": "markdown",
   "id": "a9a61109-9bb5-4b9d-a687-d66a932c64a2",
   "metadata": {},
   "source": [
    "## Practice 4 - Produce a matrix with constraints"
   ]
  },
  {
   "cell_type": "markdown",
   "id": "615c95bc-cfc9-41f3-9c53-1703305ea2f9",
   "metadata": {},
   "source": [
    "Suppose you are given a nxn matrix (an array of n rows and n columns). Create the matrix with the following constraints\n",
    "\n",
    "- diagonal elements equal to 1\n",
    "- elements above the diagonal equal to 0\n",
    "- elements below the diagnonal equal to 2\n",
    "\n",
    "That is, you need to produce such a matrix like this (for n==4):\n",
    "\n",
    "    1 0 0 0\n",
    "    2 1 0 0\n",
    "    2 2 1 0\n",
    "    2 2 2 1\n",
    "    \n",
    "(1) Write a Python code to produce such a matrix for a given n.\n",
    "\n",
    "(2) Print your matrix in a nice format.\n",
    "\n",
    "Test your code on n = 4, 5, 6\n"
   ]
  },
  {
   "cell_type": "code",
   "execution_count": 91,
   "id": "cf1f1f64-935d-4723-a78b-5673265d73f0",
   "metadata": {
    "tags": []
   },
   "outputs": [],
   "source": [
    "def my_matrix(n):\n",
    "    if n < 1:\n",
    "        raise ValueError(\"Input n must be greater than 1\")\n",
    "    mat = [[0] * n for i in range(n)]\n",
    "    for i in range(n):\n",
    "        for j in range(n):\n",
    "            if i < j:\n",
    "                mat[i][j] = 0\n",
    "            elif i > j:\n",
    "                mat[i][j] = 2\n",
    "            else:\n",
    "                mat[i][j] = 1\n",
    "    return mat"
   ]
  },
  {
   "cell_type": "code",
   "execution_count": 92,
   "id": "426b0b29-4ab5-4ded-9cf9-aba7eefc0f94",
   "metadata": {
    "tags": []
   },
   "outputs": [],
   "source": [
    "def format_matrix(mat):\n",
    "    return '\\n'.join(['\\t'.join([str(elem) for elem in row]) for row in mat])"
   ]
  },
  {
   "cell_type": "code",
   "execution_count": 93,
   "id": "2bf6afc2-0035-437f-b6df-d1b83b4acb8d",
   "metadata": {},
   "outputs": [
    {
     "name": "stdout",
     "output_type": "stream",
     "text": [
      "1\t0\t0\t0\n",
      "2\t1\t0\t0\n",
      "2\t2\t1\t0\n",
      "2\t2\t2\t1\n"
     ]
    }
   ],
   "source": [
    "mat = my_matrix(4)\n",
    "print(format_matrix(mat))"
   ]
  },
  {
   "cell_type": "code",
   "execution_count": 94,
   "id": "dc9a154f-5fe9-4055-b797-fd86b07dfdf1",
   "metadata": {},
   "outputs": [
    {
     "name": "stdout",
     "output_type": "stream",
     "text": [
      "1\t0\t0\t0\t0\n",
      "2\t1\t0\t0\t0\n",
      "2\t2\t1\t0\t0\n",
      "2\t2\t2\t1\t0\n",
      "2\t2\t2\t2\t1\n"
     ]
    }
   ],
   "source": [
    "mat = my_matrix(5)\n",
    "print(format_matrix(mat))"
   ]
  },
  {
   "cell_type": "code",
   "execution_count": 95,
   "id": "601403a0-26f9-4b83-9fe0-77c92e03e761",
   "metadata": {},
   "outputs": [
    {
     "name": "stdout",
     "output_type": "stream",
     "text": [
      "1\t0\t0\t0\t0\t0\n",
      "2\t1\t0\t0\t0\t0\n",
      "2\t2\t1\t0\t0\t0\n",
      "2\t2\t2\t1\t0\t0\n",
      "2\t2\t2\t2\t1\t0\n",
      "2\t2\t2\t2\t2\t1\n"
     ]
    }
   ],
   "source": [
    "mat = my_matrix(6)\n",
    "print(format_matrix(mat))"
   ]
  },
  {
   "cell_type": "code",
   "execution_count": 87,
   "id": "2a740e20-99ba-415b-9f44-fb8b46ff4ec9",
   "metadata": {
    "tags": []
   },
   "outputs": [
    {
     "data": {
      "text/plain": [
       "'0\\t0\\t0\\t0\\t0\\t0\\n0\\t1\\t2\\t3\\t4\\t5\\n0\\t2\\t4\\t6\\t8\\t10\\n0\\t3\\t6\\t9\\t12\\t15\\n0\\t4\\t8\\t12\\t16\\t20\\n0\\t5\\t10\\t15\\t20\\t25'"
      ]
     },
     "execution_count": 87,
     "metadata": {},
     "output_type": "execute_result"
    }
   ],
   "source": [
    "print_matrix = lambda m: \"\\n\".join('\\t'.join([str(e) for e in i]) for i in m)\n",
    "m = print_matrix(mat)\n",
    "m"
   ]
  },
  {
   "cell_type": "markdown",
   "id": "2b0a59d4-8e0e-4b84-a006-e740fee6022d",
   "metadata": {},
   "source": [
    "## Practice 5 - Create a nxn matrix with element i, j as a[i][j] = i * j.\n",
    "\n",
    "    For example, for a 6x6, the output is:\n",
    "    0  0  0  0  0  0\n",
    "    0  1  2  3  4  5\n",
    "    0  2  4  6  8 10\n",
    "    0  3  6  9 12 15\n",
    "    0  4  8 12 16 20\n"
   ]
  },
  {
   "cell_type": "code",
   "execution_count": 96,
   "id": "c4770942-800b-4618-9512-0594aaad5433",
   "metadata": {},
   "outputs": [],
   "source": [
    "def my_matrix(n):\n",
    "    mat = [[0]*n for i in range(n)]\n",
    "    for i in range(n):\n",
    "        for j in range(n):\n",
    "            mat[i][j] = i * j\n",
    "    return mat"
   ]
  },
  {
   "cell_type": "code",
   "execution_count": 97,
   "id": "00e360cc-2339-4c63-a34f-787f24338ad8",
   "metadata": {},
   "outputs": [
    {
     "name": "stdout",
     "output_type": "stream",
     "text": [
      "0\t0\t0\t0\t0\n",
      "0\t1\t2\t3\t4\n",
      "0\t2\t4\t6\t8\n",
      "0\t3\t6\t9\t12\n",
      "0\t4\t8\t12\t16\n"
     ]
    }
   ],
   "source": [
    "print(format_matrix(my_matrix(5)))"
   ]
  },
  {
   "cell_type": "code",
   "execution_count": 98,
   "id": "3513d7dc-9824-41d7-a7f0-e6d617816bca",
   "metadata": {},
   "outputs": [
    {
     "name": "stdout",
     "output_type": "stream",
     "text": [
      "0\t0\t0\t0\t0\t0\n",
      "0\t1\t2\t3\t4\t5\n",
      "0\t2\t4\t6\t8\t10\n",
      "0\t3\t6\t9\t12\t15\n",
      "0\t4\t8\t12\t16\t20\n",
      "0\t5\t10\t15\t20\t25\n"
     ]
    }
   ],
   "source": [
    "print(format_matrix(my_matrix(6)))"
   ]
  },
  {
   "cell_type": "markdown",
   "id": "3513f0a9-f046-45c3-be54-26d7c587ab29",
   "metadata": {},
   "source": [
    "## Navigate to different 8 neighbors in 8 different directions in a matrix in a 2D list\n",
    "\n",
    "- Make sure that the neighbor exists - not out of bound"
   ]
  },
  {
   "cell_type": "code",
   "execution_count": 99,
   "id": "347c2dc8-26f8-45e4-9fe1-5478fa0e54a7",
   "metadata": {},
   "outputs": [
    {
     "data": {
      "text/plain": [
       "[[1, 2, 3, 4, 5, 6],\n",
       " [7, 8, 9, 10, 11, 12],\n",
       " [13, 14, 15, 16, 17, 18],\n",
       " [19, 20, 21, 22, 23, 24],\n",
       " [25, 26, 27, 28, 29, 30],\n",
       " [31, 32, 33, 34, 35, 36]]"
      ]
     },
     "execution_count": 99,
     "metadata": {},
     "output_type": "execute_result"
    }
   ],
   "source": [
    "mat = consecutive_matrix(6, 1)\n",
    "mat"
   ]
  },
  {
   "cell_type": "code",
   "execution_count": 101,
   "id": "b27cd707-b7a5-4518-9935-91613f25b675",
   "metadata": {},
   "outputs": [
    {
     "name": "stdout",
     "output_type": "stream",
     "text": [
      "current position: mat[2][3] = 16\n",
      "go east: mat[2][4] = 17\n",
      "go west: mat[2][2] = 15\n",
      "go south: mat[3][3] = 22\n",
      "go north: mat[1][3] = 10\n",
      "go southeast: mat[3][4] = 23\n",
      "go southwest: mat[3][2] = 21\n",
      "go northeast: mat[1][4] = 11\n",
      "go northwest: mat[1][2] = 9\n"
     ]
    }
   ],
   "source": [
    "i, j = 2, 3\n",
    "print(f\"current position: mat[{i}][{j}] = {mat[i][j]}\")\n",
    "print(f\"go east: mat[{i}][{j+1}] = {mat[i][j+1]}\")\n",
    "print(f\"go west: mat[{i}][{j-1}] = {mat[i][j-1]}\")\n",
    "print(f\"go south: mat[{i+1}][{j}] = {mat[i+1][j]}\")\n",
    "print(f\"go north: mat[{i-1}][{j}] = {mat[i-1][j]}\")\n",
    "print(f\"go southeast: mat[{i+1}][{j+1}] = {mat[i+1][j+1]}\")\n",
    "print(f\"go southwest: mat[{i+1}][{j-1}] = {mat[i+1][j-1]}\")\n",
    "print(f\"go northeast: mat[{i-1}][{j+1}] = {mat[i-1][j+1]}\")\n",
    "print(f\"go northwest: mat[{i-1}][{j-1}] = {mat[i-1][j-1]}\")"
   ]
  },
  {
   "cell_type": "code",
   "execution_count": null,
   "id": "e04215f3-3c1a-4639-b08a-d3642fbb8a7b",
   "metadata": {},
   "outputs": [],
   "source": [
    "## Practice: given a matrix, and a position [i][j], return all neighbors\n",
    "\n",
    "[-1, 0, 1] \n",
    "3x3 = 9\n"
   ]
  },
  {
   "cell_type": "code",
   "execution_count": 102,
   "id": "e9c6e809-8044-4769-9389-1d2cae3f4a28",
   "metadata": {
    "tags": []
   },
   "outputs": [],
   "source": [
    "def get_neighbors(mat, i, j):\n",
    "    n = len(mat)\n",
    "    m = len(mat[0])\n",
    "    neighbors = []\n",
    "    ways = [-1, 0, 1]\n",
    "    for k in ways:\n",
    "        for l in ways:\n",
    "            if not (k == 0 and l ==0):            \n",
    "                if 0 <= i+k < n:\n",
    "                    if 0 <= j+l < m:\n",
    "                        neighbors.append(mat[i+k][j+l]) \n",
    "    return neighbors"
   ]
  },
  {
   "cell_type": "code",
   "execution_count": 103,
   "id": "1ccc52b4-2e99-482c-b4de-bd05160709c9",
   "metadata": {},
   "outputs": [
    {
     "name": "stdout",
     "output_type": "stream",
     "text": [
      "I am in mat[2, 3] = 16\n",
      "Here are my neighbors: [9, 10, 11, 15, 17, 21, 22, 23]\n"
     ]
    }
   ],
   "source": [
    "i, j = 2, 3\n",
    "print(f\"I am in mat[{i}, {j}] = {mat[i][j]}\")\n",
    "my_neighbors = get_neighbors(mat, i, j)\n",
    "print(\"Here are my neighbors:\", my_neighbors)    "
   ]
  },
  {
   "cell_type": "code",
   "execution_count": 64,
   "id": "63832886-e24f-4775-af38-8991314afdac",
   "metadata": {},
   "outputs": [
    {
     "name": "stdout",
     "output_type": "stream",
     "text": [
      "I am in mat[0, 3] = 4\n",
      "Here are my neighbors: [5, 10, 11, 3, 9]\n"
     ]
    }
   ],
   "source": [
    "i, j = 0, 3\n",
    "print(f\"I am in mat[{i}, {j}] = {mat[i][j]}\")\n",
    "my_neighbors = get_neighbors(mat, i, j)\n",
    "print(\"Here are my neighbors:\", my_neighbors)    "
   ]
  },
  {
   "cell_type": "code",
   "execution_count": 65,
   "id": "be39ee1d-6f10-42ce-a3b8-b395ab9c1db7",
   "metadata": {},
   "outputs": [
    {
     "name": "stdout",
     "output_type": "stream",
     "text": [
      "I am in mat[0, 5] = 6\n",
      "Here are my neighbors: [12, 5, 11]\n"
     ]
    }
   ],
   "source": [
    "i, j = 0, 5\n",
    "print(f\"I am in mat[{i}, {j}] = {mat[i][j]}\")\n",
    "my_neighbors = get_neighbors(mat, i, j)\n",
    "print(\"Here are my neighbors:\", my_neighbors)    "
   ]
  },
  {
   "cell_type": "markdown",
   "id": "7cc5badd-c74c-4271-94a0-0eb8cbf19a0f",
   "metadata": {},
   "source": [
    "## 3-dimension array"
   ]
  },
  {
   "cell_type": "code",
   "execution_count": 12,
   "id": "868abb37-adf8-44b8-a014-fc1c82f2839d",
   "metadata": {},
   "outputs": [
    {
     "data": {
      "text/plain": [
       "[[[111, 112, 113], [124, 125, 126]],\n",
       " [[211, 212, 213], [224, 225, 226]],\n",
       " [[311, 312, 313], [324, 325, 326]]]"
      ]
     },
     "execution_count": 12,
     "metadata": {},
     "output_type": "execute_result"
    }
   ],
   "source": [
    "d = [[[111, 112, 113], \n",
    "      [124, 125, 126]],\n",
    "     [[211, 212, 213], \n",
    "      [224, 225, 226]], \n",
    "     [[311, 312, 313], \n",
    "      [324, 325, 326]]]\n",
    "d"
   ]
  },
  {
   "cell_type": "markdown",
   "id": "1b651c1d-c351-4ac2-9fd9-482d7eb13c67",
   "metadata": {},
   "source": [
    "## Check dimenions"
   ]
  },
  {
   "cell_type": "code",
   "execution_count": 23,
   "id": "dc784df0-4913-4c6c-8b70-5488e465f70e",
   "metadata": {},
   "outputs": [
    {
     "name": "stdout",
     "output_type": "stream",
     "text": [
      "3\n",
      "2\n",
      "3\n"
     ]
    }
   ],
   "source": [
    "print(len(d))\n",
    "print(len(d[0]))\n",
    "print(len(d[0][0]))"
   ]
  },
  {
   "cell_type": "markdown",
   "id": "13d687c6-e7cc-47de-a6d3-3b87dde289ce",
   "metadata": {},
   "source": [
    "## Matrix Indexing"
   ]
  },
  {
   "cell_type": "code",
   "execution_count": 24,
   "id": "132bd437-72d1-424d-ba71-63aaed933b19",
   "metadata": {},
   "outputs": [],
   "source": [
    "mat1 =[[1, 2, 3], [4, 5, 6],[7, 8, 9]]"
   ]
  },
  {
   "cell_type": "code",
   "execution_count": 25,
   "id": "65d00888-c10f-4753-971c-e36b2894046f",
   "metadata": {},
   "outputs": [
    {
     "data": {
      "text/plain": [
       "1"
      ]
     },
     "execution_count": 25,
     "metadata": {},
     "output_type": "execute_result"
    }
   ],
   "source": [
    "# First element - 0,0\n",
    "mat1[0][0]"
   ]
  },
  {
   "cell_type": "code",
   "execution_count": 26,
   "id": "9686ac22-5c90-4e1a-bbf6-0c61df46d8f7",
   "metadata": {},
   "outputs": [
    {
     "name": "stdout",
     "output_type": "stream",
     "text": [
      "First row of mat1: [1, 2, 3]\n",
      "Last row of mat1: [7, 8, 9]\n"
     ]
    }
   ],
   "source": [
    "print(f\"First row of mat1: {mat1[0]}\")\n",
    "print(f\"Last row of mat1: {mat1[-1]}\")"
   ]
  },
  {
   "cell_type": "code",
   "execution_count": 28,
   "id": "326fb55f-e048-49ec-89e3-ca7121d4334b",
   "metadata": {},
   "outputs": [
    {
     "name": "stdout",
     "output_type": "stream",
     "text": [
      "First col of mat1: [1, 2, 3]\n",
      "Last col of mat1: [7, 8, 9]\n"
     ]
    }
   ],
   "source": [
    "print(f\"First col of mat1: {mat1[:][0]}\")\n",
    "print(f\"Last col of mat1: {mat1[:][-1]}\")"
   ]
  },
  {
   "cell_type": "code",
   "execution_count": 30,
   "id": "0dd739d9-a178-4d97-9cc7-6f30a3bdff07",
   "metadata": {},
   "outputs": [
    {
     "name": "stdout",
     "output_type": "stream",
     "text": [
      "3 3\n"
     ]
    }
   ],
   "source": [
    "print(len(mat1), len(mat1[0]))"
   ]
  },
  {
   "cell_type": "markdown",
   "id": "5b1f750c-eecc-48b0-a304-5aab1b04f4e2",
   "metadata": {},
   "source": [
    "## 3 dimensions - use 3 indices"
   ]
  },
  {
   "cell_type": "code",
   "execution_count": 31,
   "id": "51645235-7229-483b-ae13-f4814a398fcc",
   "metadata": {},
   "outputs": [
    {
     "name": "stdout",
     "output_type": "stream",
     "text": [
      "First element of first dimenion of d: [[111, 112, 113], [124, 125, 126]]\n",
      "Last element of first dimenion of d: [[311, 312, 313], [324, 325, 326]]\n"
     ]
    }
   ],
   "source": [
    "print(f\"First element of first dimenion of d: {d[0]}\")\n",
    "print(f\"Last element of first dimenion of d: {d[-1]}\")"
   ]
  },
  {
   "cell_type": "code",
   "execution_count": 32,
   "id": "0958ee1f-2815-43f7-9eef-682e8fc9dc11",
   "metadata": {},
   "outputs": [
    {
     "name": "stdout",
     "output_type": "stream",
     "text": [
      "First element of first dimenion of d: [[111, 112, 113], [124, 125, 126]]\n",
      "Last element of first dimenion of d: [[311, 312, 313], [324, 325, 326]]\n"
     ]
    }
   ],
   "source": [
    "print(f\"First element of first dimenion of d: {d[0][:][:]}\")\n",
    "print(f\"Last element of first dimenion of d: {d[-1][:][:]}\")"
   ]
  },
  {
   "cell_type": "code",
   "execution_count": 33,
   "id": "6ed7423d-4261-4a25-8e2b-f2c944a1acb1",
   "metadata": {},
   "outputs": [
    {
     "name": "stdout",
     "output_type": "stream",
     "text": [
      "First element of 2nd dimenion of d: [[111, 112, 113], [124, 125, 126]]\n",
      "Last element of 2nd dimenion of d: [[311, 312, 313], [324, 325, 326]]\n"
     ]
    }
   ],
   "source": [
    "print(f\"First element of 2nd dimenion of d: {d[:][0][:]}\")\n",
    "print(f\"Last element of 2nd dimenion of d: {d[:][-1][:]}\")"
   ]
  },
  {
   "cell_type": "code",
   "execution_count": 34,
   "id": "250336bc-a8d5-45ad-94c7-3d312f6be861",
   "metadata": {},
   "outputs": [
    {
     "name": "stdout",
     "output_type": "stream",
     "text": [
      "First element of 3rd dimenion of d: [[111, 112, 113], [124, 125, 126]]\n",
      "Last element of 3rd dimenion of d: [[311, 312, 313], [324, 325, 326]]\n"
     ]
    }
   ],
   "source": [
    "print(f\"First element of 3rd dimenion of d: {d[:][:][0]}\")\n",
    "print(f\"Last element of 3rd dimenion of d: {d[:][:][-1]}\")"
   ]
  },
  {
   "cell_type": "code",
   "execution_count": null,
   "id": "fa448ac8-7fe4-4643-a865-adda5917fb03",
   "metadata": {},
   "outputs": [],
   "source": []
  }
 ],
 "metadata": {
  "kernelspec": {
   "display_name": "Python 3 (ipykernel)",
   "language": "python",
   "name": "python3"
  },
  "language_info": {
   "codemirror_mode": {
    "name": "ipython",
    "version": 3
   },
   "file_extension": ".py",
   "mimetype": "text/x-python",
   "name": "python",
   "nbconvert_exporter": "python",
   "pygments_lexer": "ipython3",
   "version": "3.9.13"
  }
 },
 "nbformat": 4,
 "nbformat_minor": 5
}

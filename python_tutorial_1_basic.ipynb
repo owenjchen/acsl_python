{
 "cells": [
  {
   "cell_type": "markdown",
   "id": "f4095883-771e-4b27-8041-a5d082235154",
   "metadata": {},
   "source": [
    "# Python Tutorials - Basics\n",
    "\n",
    "### Author: Dr. Owen Chen\n",
    "### Date: 2023/1/12\n",
    "\n",
    "## Topics:\n",
    "\n",
    "- Hello, World\n",
    "- Variables\n",
    "- Data Types\n",
    "- Type Conversion\n",
    "- Lists\n",
    "- List Comprehension\n",
    "- Dictionaries\n",
    "- Dictionary Comprehension\n",
    "- Tuples\n",
    "- Set\n",
    "- Program Flow\n",
    "- Loops\n",
    "- Functions"
   ]
  },
  {
   "cell_type": "markdown",
   "id": "ca849c71-ee3e-488a-a5e8-54b1cd13acaa",
   "metadata": {},
   "source": [
    "## Hello, World!"
   ]
  },
  {
   "cell_type": "code",
   "execution_count": 1,
   "id": "89b2d1be-466e-40d9-aa55-d2b1a388550d",
   "metadata": {},
   "outputs": [
    {
     "name": "stdout",
     "output_type": "stream",
     "text": [
      "Hello, World!\n"
     ]
    }
   ],
   "source": [
    "print(\"Hello, World!\")"
   ]
  },
  {
   "cell_type": "code",
   "execution_count": 116,
   "id": "edb023e7-8ef2-438d-9367-b6b9b25c5a6a",
   "metadata": {},
   "outputs": [
    {
     "name": "stdout",
     "output_type": "stream",
     "text": [
      "Hey 10 2.2\n"
     ]
    }
   ],
   "source": [
    "print(\"Hey\", 10, 2.2)"
   ]
  },
  {
   "cell_type": "markdown",
   "id": "d7d9b369-ff1c-4e87-b1c3-db198ae2e8c8",
   "metadata": {
    "tags": []
   },
   "source": [
    "# Variables\n",
    "- A variable is a reserved memory location.\n",
    "- A variable in a python program gives data to the computer for processing."
   ]
  },
  {
   "cell_type": "markdown",
   "id": "81251138-9270-411c-a73a-6a048763dc7b",
   "metadata": {},
   "source": [
    "### Basic data types\n",
    "- Integers\n",
    "- Floats\n",
    "- Strings\n",
    "- Boolean"
   ]
  },
  {
   "cell_type": "markdown",
   "id": "2c8eca15-643f-422c-8830-e635cc8b1c4d",
   "metadata": {},
   "source": [
    "### Python Variable Name Convention\n",
    "A variable name in Python should fulfil the following\n",
    "- Use lowercase\n",
    "- Separate words with underscore.\n",
    "\n",
    "A variable name in Python can be\n",
    "- A single lowercase letter\n",
    "- A lowercase word\n",
    "- Or lowercase words separated by underscore.\n",
    "\n",
    "Examples of variable names\n",
    "- x\n",
    "- i\n",
    "- cars\n",
    "- my_cars\n",
    "\n",
    "Note that other programming languages can have other naming conventions."
   ]
  },
  {
   "cell_type": "markdown",
   "id": "66d6e063-6321-4307-8e93-30a7cdbc1849",
   "metadata": {},
   "source": [
    "### Declaration of variables"
   ]
  },
  {
   "cell_type": "code",
   "execution_count": 1,
   "id": "06ecfcfe-7495-4756-ae3e-66cd23671285",
   "metadata": {
    "collapsed": true,
    "jupyter": {
     "outputs_hidden": true
    }
   },
   "outputs": [],
   "source": [
    "s = \"This is a string\"\n",
    "a = 2\n",
    "b = 2.4"
   ]
  },
  {
   "cell_type": "code",
   "execution_count": 2,
   "id": "e4c330c2-f076-43d3-93a2-c4dc726b8d02",
   "metadata": {
    "collapsed": true,
    "jupyter": {
     "outputs_hidden": true
    }
   },
   "outputs": [
    {
     "data": {
      "text/plain": [
       "float"
      ]
     },
     "execution_count": 2,
     "metadata": {},
     "output_type": "execute_result"
    }
   ],
   "source": [
    "type(b)"
   ]
  },
  {
   "cell_type": "markdown",
   "id": "8bc17a85-65ba-4441-887b-cebe0e9b6510",
   "metadata": {},
   "source": [
    "### Integers\n",
    "An integer is a number which is not a fraction; a whole number.\n",
    "\n",
    "Examples of integers: \n",
    "- -23\n",
    "- -5\n",
    "- 0\n",
    "- 1\n",
    "- 78\n",
    "- 1,980,350\n",
    "\n",
    "Examples of non-integers: \n",
    "- 3.14\n",
    "- 0.001\n",
    "- 9,999.999"
   ]
  },
  {
   "cell_type": "code",
   "execution_count": 3,
   "id": "1278df1e-62e9-429b-baee-6b8ee32b4fea",
   "metadata": {
    "collapsed": true,
    "jupyter": {
     "outputs_hidden": true
    }
   },
   "outputs": [],
   "source": [
    "a = 2\n",
    "b = 3"
   ]
  },
  {
   "cell_type": "code",
   "execution_count": 4,
   "id": "4bb60322-44e7-4b19-86a7-e6f8ee1494f0",
   "metadata": {
    "collapsed": true,
    "jupyter": {
     "outputs_hidden": true
    }
   },
   "outputs": [
    {
     "data": {
      "text/plain": [
       "(int, int)"
      ]
     },
     "execution_count": 4,
     "metadata": {},
     "output_type": "execute_result"
    }
   ],
   "source": [
    "type(a), type(b)"
   ]
  },
  {
   "cell_type": "code",
   "execution_count": 5,
   "id": "a7a98566-6bc2-4ab4-9fe2-c9fb4c03b5f2",
   "metadata": {
    "collapsed": true,
    "jupyter": {
     "outputs_hidden": true
    }
   },
   "outputs": [
    {
     "data": {
      "text/plain": [
       "int"
      ]
     },
     "execution_count": 5,
     "metadata": {},
     "output_type": "execute_result"
    }
   ],
   "source": [
    "type(a + b)"
   ]
  },
  {
   "cell_type": "code",
   "execution_count": 6,
   "id": "eed89f89-a6c3-40f1-a8c8-6b71445ff885",
   "metadata": {
    "collapsed": true,
    "jupyter": {
     "outputs_hidden": true
    }
   },
   "outputs": [
    {
     "data": {
      "text/plain": [
       "int"
      ]
     },
     "execution_count": 6,
     "metadata": {},
     "output_type": "execute_result"
    }
   ],
   "source": [
    "c = a + b\n",
    "type(c)"
   ]
  },
  {
   "cell_type": "markdown",
   "id": "525f37bb-1eb0-4d02-81e4-906cea053063",
   "metadata": {},
   "source": [
    "### Float\n",
    "A float is a numbers with digits on both sides of a decimal point. This is in contrast to the integer data type, which houses an integer or whole number.\n",
    "\n",
    "Examples of floats:\n",
    "- 3.13\n",
    "- 9.99\n",
    "- 0.0001\n",
    "\n",
    "Note that a float data type in Python can represent a whole number.\n",
    "- 1.0\n",
    "- 3.0"
   ]
  },
  {
   "cell_type": "code",
   "execution_count": 7,
   "id": "b7b454b7-e1c7-4909-97e2-1c15e42685e2",
   "metadata": {
    "collapsed": true,
    "jupyter": {
     "outputs_hidden": true
    }
   },
   "outputs": [],
   "source": [
    "a = 1.1\n",
    "b = 2.3"
   ]
  },
  {
   "cell_type": "code",
   "execution_count": 8,
   "id": "79efd4a4-659b-400b-8ad1-21a9e6a3a050",
   "metadata": {
    "collapsed": true,
    "jupyter": {
     "outputs_hidden": true
    }
   },
   "outputs": [
    {
     "data": {
      "text/plain": [
       "(float, float)"
      ]
     },
     "execution_count": 8,
     "metadata": {},
     "output_type": "execute_result"
    }
   ],
   "source": [
    "type(a), type(b)"
   ]
  },
  {
   "cell_type": "code",
   "execution_count": 9,
   "id": "d2f9400b-7609-46bd-a0ef-8872eb8cc13c",
   "metadata": {
    "collapsed": true,
    "jupyter": {
     "outputs_hidden": true
    }
   },
   "outputs": [
    {
     "data": {
      "text/plain": [
       "float"
      ]
     },
     "execution_count": 9,
     "metadata": {},
     "output_type": "execute_result"
    }
   ],
   "source": [
    "type(a + b)"
   ]
  },
  {
   "cell_type": "code",
   "execution_count": 10,
   "id": "76eccb84-e3a4-4fed-ab43-05945933e47a",
   "metadata": {
    "collapsed": true,
    "jupyter": {
     "outputs_hidden": true
    }
   },
   "outputs": [
    {
     "data": {
      "text/plain": [
       "3.4"
      ]
     },
     "execution_count": 10,
     "metadata": {},
     "output_type": "execute_result"
    }
   ],
   "source": [
    "a + b"
   ]
  },
  {
   "cell_type": "code",
   "execution_count": 11,
   "id": "72fffd95-8333-4727-b82d-1227b2e897b5",
   "metadata": {
    "collapsed": true,
    "jupyter": {
     "outputs_hidden": true
    }
   },
   "outputs": [],
   "source": [
    "i = 1"
   ]
  },
  {
   "cell_type": "code",
   "execution_count": 12,
   "id": "fd4de12c-8213-44bf-a6c4-56010efc7c7b",
   "metadata": {
    "collapsed": true,
    "jupyter": {
     "outputs_hidden": true
    }
   },
   "outputs": [
    {
     "data": {
      "text/plain": [
       "int"
      ]
     },
     "execution_count": 12,
     "metadata": {},
     "output_type": "execute_result"
    }
   ],
   "source": [
    "type(i)"
   ]
  },
  {
   "cell_type": "code",
   "execution_count": 13,
   "id": "70653a12-8316-4195-83d1-b093a6381f46",
   "metadata": {
    "collapsed": true,
    "jupyter": {
     "outputs_hidden": true
    }
   },
   "outputs": [
    {
     "data": {
      "text/plain": [
       "float"
      ]
     },
     "execution_count": 13,
     "metadata": {},
     "output_type": "execute_result"
    }
   ],
   "source": [
    "type(i + a)"
   ]
  },
  {
   "cell_type": "code",
   "execution_count": 14,
   "id": "c393aa41-6443-4f7d-a467-4e8ec81856ac",
   "metadata": {
    "collapsed": true,
    "jupyter": {
     "outputs_hidden": true
    }
   },
   "outputs": [
    {
     "data": {
      "text/plain": [
       "2.1"
      ]
     },
     "execution_count": 14,
     "metadata": {},
     "output_type": "execute_result"
    }
   ],
   "source": [
    "i + a"
   ]
  },
  {
   "cell_type": "markdown",
   "id": "0966bfc9-10fd-42ba-a412-bd6823ee721d",
   "metadata": {},
   "source": [
    "### Math functions\n",
    "- **abs()** Returns absolute value of a number\n",
    "- **pow()** Raises a number to a power\n",
    "- **round()** Rounds a floating-point value"
   ]
  },
  {
   "cell_type": "code",
   "execution_count": 15,
   "id": "499874a5-f71d-4a66-b64c-e370b054f6cc",
   "metadata": {
    "collapsed": true,
    "jupyter": {
     "outputs_hidden": true
    }
   },
   "outputs": [
    {
     "data": {
      "text/plain": [
       "2"
      ]
     },
     "execution_count": 15,
     "metadata": {},
     "output_type": "execute_result"
    }
   ],
   "source": [
    "abs(-2)"
   ]
  },
  {
   "cell_type": "code",
   "execution_count": 16,
   "id": "0464bdb4-599e-4595-af79-41d6ec3b3110",
   "metadata": {
    "collapsed": true,
    "jupyter": {
     "outputs_hidden": true
    }
   },
   "outputs": [
    {
     "data": {
      "text/plain": [
       "8"
      ]
     },
     "execution_count": 16,
     "metadata": {},
     "output_type": "execute_result"
    }
   ],
   "source": [
    "pow(2, 3)"
   ]
  },
  {
   "cell_type": "code",
   "execution_count": 17,
   "id": "907c4250-bf3c-400e-8c6e-d72e0abb7175",
   "metadata": {
    "collapsed": true,
    "jupyter": {
     "outputs_hidden": true
    }
   },
   "outputs": [
    {
     "data": {
      "text/plain": [
       "8"
      ]
     },
     "execution_count": 17,
     "metadata": {},
     "output_type": "execute_result"
    }
   ],
   "source": [
    "2**3"
   ]
  },
  {
   "cell_type": "code",
   "execution_count": 18,
   "id": "3c2937a6-d06d-452a-afd2-371a58a9d35e",
   "metadata": {
    "collapsed": true,
    "jupyter": {
     "outputs_hidden": true
    }
   },
   "outputs": [
    {
     "data": {
      "text/plain": [
       "3.1"
      ]
     },
     "execution_count": 18,
     "metadata": {},
     "output_type": "execute_result"
    }
   ],
   "source": [
    "round(3.14, 1)"
   ]
  },
  {
   "cell_type": "code",
   "execution_count": 19,
   "id": "e2765ee9-4d84-4f92-b822-9e221557ddf9",
   "metadata": {
    "collapsed": true,
    "jupyter": {
     "outputs_hidden": true
    }
   },
   "outputs": [
    {
     "data": {
      "text/plain": [
       "1.2345"
      ]
     },
     "execution_count": 19,
     "metadata": {},
     "output_type": "execute_result"
    }
   ],
   "source": [
    "f = 1.234456778\n",
    "round(f, 4)"
   ]
  },
  {
   "cell_type": "markdown",
   "id": "d621110e-ff61-4bea-a2b6-e2c08266e229",
   "metadata": {},
   "source": [
    "### Strings\n",
    "A string in Python is a sequence of characters.\n",
    "\n",
    "Examples\n",
    "- \"I am a string!\"\n",
    "- 'I am another string'"
   ]
  },
  {
   "cell_type": "code",
   "execution_count": 20,
   "id": "14d8d10f-8d6c-4edb-88a0-e97b90b78ec7",
   "metadata": {
    "collapsed": true,
    "jupyter": {
     "outputs_hidden": true
    }
   },
   "outputs": [],
   "source": [
    "s1 = 'I am a string'\n",
    "s2 = \"I am another string\""
   ]
  },
  {
   "cell_type": "code",
   "execution_count": 21,
   "id": "d4a1ff4e-39a8-42f3-b8d8-39bc3c0fe03b",
   "metadata": {
    "collapsed": true,
    "jupyter": {
     "outputs_hidden": true
    }
   },
   "outputs": [
    {
     "data": {
      "text/plain": [
       "'I am a stringI am another string'"
      ]
     },
     "execution_count": 21,
     "metadata": {},
     "output_type": "execute_result"
    }
   ],
   "source": [
    "s1 + s2"
   ]
  },
  {
   "cell_type": "code",
   "execution_count": 22,
   "id": "9beabac7-f005-488d-a6ca-4533dfce5e2c",
   "metadata": {
    "collapsed": true,
    "jupyter": {
     "outputs_hidden": true
    }
   },
   "outputs": [],
   "source": [
    "a = 1"
   ]
  },
  {
   "cell_type": "code",
   "execution_count": null,
   "id": "8288d058-a3f0-4c6b-bb94-0229624a58f1",
   "metadata": {
    "collapsed": true,
    "jupyter": {
     "outputs_hidden": true
    }
   },
   "outputs": [],
   "source": [
    "s1 + a"
   ]
  },
  {
   "cell_type": "code",
   "execution_count": 24,
   "id": "d275b6a8-dd55-43dd-8789-c6c4a145c2d9",
   "metadata": {
    "collapsed": true,
    "jupyter": {
     "outputs_hidden": true
    }
   },
   "outputs": [
    {
     "name": "stdout",
     "output_type": "stream",
     "text": [
      "I am a string with an int here 3 - and more text\n"
     ]
    }
   ],
   "source": [
    "print(f\"I am a string with an int here {a + 2} - and more text\")"
   ]
  },
  {
   "cell_type": "markdown",
   "id": "f22b2a94-dc58-4f55-bcc4-c89502a35550",
   "metadata": {},
   "source": [
    "### Boolean\n",
    "- True or False (case sensitive)\n",
    "- Either it rains or not -> Either you take your umbrella or not"
   ]
  },
  {
   "cell_type": "code",
   "execution_count": 25,
   "id": "0b42ac72-8c63-4552-8c48-f1d1281762cb",
   "metadata": {
    "collapsed": true,
    "jupyter": {
     "outputs_hidden": true
    }
   },
   "outputs": [
    {
     "data": {
      "text/plain": [
       "True"
      ]
     },
     "execution_count": 25,
     "metadata": {},
     "output_type": "execute_result"
    }
   ],
   "source": [
    "True"
   ]
  },
  {
   "cell_type": "code",
   "execution_count": 26,
   "id": "ce076528-0c95-42cc-ab85-a22e685eee5c",
   "metadata": {
    "collapsed": true,
    "jupyter": {
     "outputs_hidden": true
    }
   },
   "outputs": [
    {
     "data": {
      "text/plain": [
       "False"
      ]
     },
     "execution_count": 26,
     "metadata": {},
     "output_type": "execute_result"
    }
   ],
   "source": [
    "False"
   ]
  },
  {
   "cell_type": "code",
   "execution_count": 27,
   "id": "1ab2156d-7c84-41a9-a2d5-2965ffaad15b",
   "metadata": {
    "collapsed": true,
    "jupyter": {
     "outputs_hidden": true
    }
   },
   "outputs": [],
   "source": [
    "b = True"
   ]
  },
  {
   "cell_type": "code",
   "execution_count": 28,
   "id": "73702ed8-2bec-495a-82ee-4f5604a070db",
   "metadata": {
    "collapsed": true,
    "jupyter": {
     "outputs_hidden": true
    }
   },
   "outputs": [
    {
     "data": {
      "text/plain": [
       "True"
      ]
     },
     "execution_count": 28,
     "metadata": {},
     "output_type": "execute_result"
    }
   ],
   "source": [
    "b"
   ]
  },
  {
   "cell_type": "code",
   "execution_count": 29,
   "id": "b9071236-f805-4a7a-b08c-5e669b1d519c",
   "metadata": {
    "collapsed": true,
    "jupyter": {
     "outputs_hidden": true
    }
   },
   "outputs": [],
   "source": [
    "b = 10 > 5"
   ]
  },
  {
   "cell_type": "code",
   "execution_count": 30,
   "id": "a388f7e8-b346-4bcb-a852-d26fa4c7f9d6",
   "metadata": {
    "collapsed": true,
    "jupyter": {
     "outputs_hidden": true
    }
   },
   "outputs": [
    {
     "data": {
      "text/plain": [
       "True"
      ]
     },
     "execution_count": 30,
     "metadata": {},
     "output_type": "execute_result"
    }
   ],
   "source": [
    "b"
   ]
  },
  {
   "cell_type": "code",
   "execution_count": 31,
   "id": "00683ab9-4d15-40fa-8f15-11d2e7de54df",
   "metadata": {
    "collapsed": true,
    "jupyter": {
     "outputs_hidden": true
    }
   },
   "outputs": [
    {
     "data": {
      "text/plain": [
       "False"
      ]
     },
     "execution_count": 31,
     "metadata": {},
     "output_type": "execute_result"
    }
   ],
   "source": [
    "bool(2 > 4)"
   ]
  },
  {
   "cell_type": "code",
   "execution_count": null,
   "id": "7f2967b2-c270-4abc-aab6-1418bbaad1ba",
   "metadata": {},
   "outputs": [],
   "source": []
  },
  {
   "cell_type": "code",
   "execution_count": 3,
   "id": "24431488-7596-42c7-a2ba-807c0a60f1c5",
   "metadata": {},
   "outputs": [],
   "source": [
    "a = 9 "
   ]
  },
  {
   "cell_type": "code",
   "execution_count": 4,
   "id": "3933d27b-de1a-4a5a-9cf8-5ab4ebbaac7f",
   "metadata": {},
   "outputs": [
    {
     "data": {
      "text/plain": [
       "9"
      ]
     },
     "execution_count": 4,
     "metadata": {},
     "output_type": "execute_result"
    }
   ],
   "source": [
    "a"
   ]
  },
  {
   "cell_type": "code",
   "execution_count": 5,
   "id": "fad7a5f2-e974-4517-b87a-f237cb52f287",
   "metadata": {},
   "outputs": [
    {
     "name": "stdout",
     "output_type": "stream",
     "text": [
      "9\n"
     ]
    }
   ],
   "source": [
    "print(a)"
   ]
  },
  {
   "cell_type": "markdown",
   "id": "fc811f2d-1fde-407d-a68b-e24a415ddbd5",
   "metadata": {},
   "source": [
    "## Data Types"
   ]
  },
  {
   "cell_type": "code",
   "execution_count": 6,
   "id": "9ce346fe-cafe-4520-9e95-29c821a00edc",
   "metadata": {},
   "outputs": [
    {
     "data": {
      "text/plain": [
       "int"
      ]
     },
     "execution_count": 6,
     "metadata": {},
     "output_type": "execute_result"
    }
   ],
   "source": [
    "type(a)"
   ]
  },
  {
   "cell_type": "code",
   "execution_count": 7,
   "id": "eec4de16-b7d4-4bf2-a20c-1973d72d3e19",
   "metadata": {},
   "outputs": [],
   "source": [
    "a = 9.0"
   ]
  },
  {
   "cell_type": "code",
   "execution_count": 8,
   "id": "f0bd8971-6c9b-4be3-980e-ac9d33d0002f",
   "metadata": {},
   "outputs": [
    {
     "data": {
      "text/plain": [
       "9.0"
      ]
     },
     "execution_count": 8,
     "metadata": {},
     "output_type": "execute_result"
    }
   ],
   "source": [
    "a"
   ]
  },
  {
   "cell_type": "code",
   "execution_count": 9,
   "id": "841c0056-c3a9-4e30-9322-1598df2ff07e",
   "metadata": {},
   "outputs": [
    {
     "data": {
      "text/plain": [
       "float"
      ]
     },
     "execution_count": 9,
     "metadata": {},
     "output_type": "execute_result"
    }
   ],
   "source": [
    "type(a)"
   ]
  },
  {
   "cell_type": "code",
   "execution_count": 10,
   "id": "ce887e0e-da1e-4227-b89d-dc994e3d8f15",
   "metadata": {},
   "outputs": [
    {
     "data": {
      "text/plain": [
       "'hello'"
      ]
     },
     "execution_count": 10,
     "metadata": {},
     "output_type": "execute_result"
    }
   ],
   "source": [
    "a = \"hello\"\n",
    "a"
   ]
  },
  {
   "cell_type": "code",
   "execution_count": 11,
   "id": "8476ff5c-6f45-4fdd-acba-be9a066e21a4",
   "metadata": {},
   "outputs": [
    {
     "data": {
      "text/plain": [
       "str"
      ]
     },
     "execution_count": 11,
     "metadata": {},
     "output_type": "execute_result"
    }
   ],
   "source": [
    "type(a)"
   ]
  },
  {
   "cell_type": "code",
   "execution_count": 12,
   "id": "d08bb39d-ab5f-4b07-abe5-ab68d73a73d7",
   "metadata": {},
   "outputs": [
    {
     "data": {
      "text/plain": [
       "'h'"
      ]
     },
     "execution_count": 12,
     "metadata": {},
     "output_type": "execute_result"
    }
   ],
   "source": [
    "a[0]"
   ]
  },
  {
   "cell_type": "code",
   "execution_count": 13,
   "id": "4efb54b4-1fbf-48a7-80db-484589e5cf45",
   "metadata": {},
   "outputs": [
    {
     "data": {
      "text/plain": [
       "'e'"
      ]
     },
     "execution_count": 13,
     "metadata": {},
     "output_type": "execute_result"
    }
   ],
   "source": [
    "a[1]"
   ]
  },
  {
   "cell_type": "code",
   "execution_count": 14,
   "id": "5e5744c2-df61-4724-a7c6-39e289ea2b5d",
   "metadata": {},
   "outputs": [
    {
     "data": {
      "text/plain": [
       "'o'"
      ]
     },
     "execution_count": 14,
     "metadata": {},
     "output_type": "execute_result"
    }
   ],
   "source": [
    "a[-1]"
   ]
  },
  {
   "cell_type": "code",
   "execution_count": 15,
   "id": "f1da613a-8899-4c3b-ad06-5cf1c9bb33bf",
   "metadata": {},
   "outputs": [
    {
     "data": {
      "text/plain": [
       "'o'"
      ]
     },
     "execution_count": 15,
     "metadata": {},
     "output_type": "execute_result"
    }
   ],
   "source": [
    "a[4]"
   ]
  },
  {
   "cell_type": "code",
   "execution_count": 16,
   "id": "38bdf4d4-c1bf-492f-9bbd-1b6ac1909500",
   "metadata": {},
   "outputs": [
    {
     "data": {
      "text/plain": [
       "5"
      ]
     },
     "execution_count": 16,
     "metadata": {},
     "output_type": "execute_result"
    }
   ],
   "source": [
    "l = len(a)\n",
    "l"
   ]
  },
  {
   "cell_type": "code",
   "execution_count": 17,
   "id": "7c5de0ce-8e09-4519-a4b9-c117d5876046",
   "metadata": {},
   "outputs": [
    {
     "data": {
      "text/plain": [
       "'o'"
      ]
     },
     "execution_count": 17,
     "metadata": {},
     "output_type": "execute_result"
    }
   ],
   "source": [
    "a[len(a)-1]"
   ]
  },
  {
   "cell_type": "markdown",
   "id": "455c0151-5b32-44b9-a3ee-2e12ee1cba92",
   "metadata": {},
   "source": [
    "# Type Conversion\n",
    "- More about formatted strings\n",
    "- Types are not the same\n",
    "- Convert them with **int(), float(), str()**"
   ]
  },
  {
   "cell_type": "code",
   "execution_count": 1,
   "id": "19ed6645",
   "metadata": {},
   "outputs": [
    {
     "name": "stdout",
     "output_type": "stream",
     "text": [
      "Hello Rune!\n",
      "You were born in 1990.\n"
     ]
    }
   ],
   "source": [
    "name = input(\"What is your name? \")\n",
    "print(f\"Hello {name}!\")\n",
    "birth_year = input(\"What is your birht year? \")\n",
    "print(f\"You were born in {birth_year}.\")"
   ]
  },
  {
   "cell_type": "code",
   "execution_count": null,
   "id": "525c3b16",
   "metadata": {},
   "outputs": [],
   "source": [
    "name = input(\"What is your name? \")\n",
    "print(f\"Hello {name}!\")\n",
    "birth_year = input(\"What is your birht year? \")\n",
    "print(f\"You are {2021 - birth_year} old!\")"
   ]
  },
  {
   "cell_type": "code",
   "execution_count": 3,
   "id": "153a35a1",
   "metadata": {},
   "outputs": [
    {
     "data": {
      "text/plain": [
       "str"
      ]
     },
     "execution_count": 3,
     "metadata": {},
     "output_type": "execute_result"
    }
   ],
   "source": [
    "type(birth_year)"
   ]
  },
  {
   "cell_type": "code",
   "execution_count": 4,
   "id": "905b923f",
   "metadata": {},
   "outputs": [
    {
     "data": {
      "text/plain": [
       "1990"
      ]
     },
     "execution_count": 4,
     "metadata": {},
     "output_type": "execute_result"
    }
   ],
   "source": [
    "int(birth_year)"
   ]
  },
  {
   "cell_type": "code",
   "execution_count": 5,
   "id": "795d917d",
   "metadata": {},
   "outputs": [
    {
     "name": "stdout",
     "output_type": "stream",
     "text": [
      "Hello Rune!\n",
      "You are 31 old!\n"
     ]
    }
   ],
   "source": [
    "name = input(\"What is your name? \")\n",
    "print(f\"Hello {name}!\")\n",
    "birth_year = input(\"What is your birht year? \")\n",
    "birth_year = int(birth_year)\n",
    "print(f\"You are {2021 - birth_year} old!\")"
   ]
  },
  {
   "cell_type": "code",
   "execution_count": 6,
   "id": "d9b93473",
   "metadata": {},
   "outputs": [
    {
     "data": {
      "text/plain": [
       "30"
      ]
     },
     "execution_count": 6,
     "metadata": {},
     "output_type": "execute_result"
    }
   ],
   "source": [
    "int(\"30\")"
   ]
  },
  {
   "cell_type": "code",
   "execution_count": 7,
   "id": "bcf91033",
   "metadata": {},
   "outputs": [
    {
     "data": {
      "text/plain": [
       "-4"
      ]
     },
     "execution_count": 7,
     "metadata": {},
     "output_type": "execute_result"
    }
   ],
   "source": [
    "int(\" -4\")"
   ]
  },
  {
   "cell_type": "code",
   "execution_count": 8,
   "id": "8c055632",
   "metadata": {},
   "outputs": [
    {
     "data": {
      "text/plain": [
       "2.0"
      ]
     },
     "execution_count": 8,
     "metadata": {},
     "output_type": "execute_result"
    }
   ],
   "source": [
    "float(\"2\")"
   ]
  },
  {
   "cell_type": "code",
   "execution_count": 9,
   "id": "3f637e27",
   "metadata": {},
   "outputs": [
    {
     "data": {
      "text/plain": [
       "3.14"
      ]
     },
     "execution_count": 9,
     "metadata": {},
     "output_type": "execute_result"
    }
   ],
   "source": [
    "float(\"3.14\")"
   ]
  },
  {
   "cell_type": "code",
   "execution_count": 10,
   "id": "a1ce844a",
   "metadata": {},
   "outputs": [
    {
     "data": {
      "text/plain": [
       "3.0"
      ]
     },
     "execution_count": 10,
     "metadata": {},
     "output_type": "execute_result"
    }
   ],
   "source": [
    "float(3)"
   ]
  },
  {
   "cell_type": "code",
   "execution_count": 11,
   "id": "3913c653",
   "metadata": {},
   "outputs": [],
   "source": [
    "s = \"This is a string\"\n",
    "i = 7"
   ]
  },
  {
   "cell_type": "code",
   "execution_count": null,
   "id": "fd476d0f",
   "metadata": {},
   "outputs": [],
   "source": [
    "s + i"
   ]
  },
  {
   "cell_type": "code",
   "execution_count": 13,
   "id": "d7ab400f",
   "metadata": {},
   "outputs": [
    {
     "data": {
      "text/plain": [
       "'This is a string7'"
      ]
     },
     "execution_count": 13,
     "metadata": {},
     "output_type": "execute_result"
    }
   ],
   "source": [
    "s + str(i)"
   ]
  },
  {
   "cell_type": "markdown",
   "id": "78eeb1aa-3d30-4f38-a3bd-a71d7a8d2755",
   "metadata": {},
   "source": [
    "# Lists\n",
    "### Goal\n",
    "- Learn about lists\n",
    "- How to get a random element from a list\n",
    "- How to make a randomization of a string\n",
    "- A few nice functions"
   ]
  },
  {
   "cell_type": "code",
   "execution_count": 1,
   "id": "dbd66352-24fc-4097-bdd9-2d4f8c4df4b8",
   "metadata": {},
   "outputs": [],
   "source": [
    "my_list = ['Apple', 'Orange', 'Banana']"
   ]
  },
  {
   "cell_type": "code",
   "execution_count": 2,
   "id": "911bdea2-a2eb-4a3c-9bce-aea63a8cb364",
   "metadata": {},
   "outputs": [
    {
     "data": {
      "text/plain": [
       "['Apple', 'Orange', 'Banana']"
      ]
     },
     "execution_count": 2,
     "metadata": {},
     "output_type": "execute_result"
    }
   ],
   "source": [
    "my_list"
   ]
  },
  {
   "cell_type": "code",
   "execution_count": 3,
   "id": "4831e9de-25a5-499b-abeb-b6c5f6e493f9",
   "metadata": {},
   "outputs": [
    {
     "data": {
      "text/plain": [
       "'Apple'"
      ]
     },
     "execution_count": 3,
     "metadata": {},
     "output_type": "execute_result"
    }
   ],
   "source": [
    "my_list[0]"
   ]
  },
  {
   "cell_type": "code",
   "execution_count": 4,
   "id": "26009447-fba5-4d25-83c7-21e1f2d48817",
   "metadata": {},
   "outputs": [
    {
     "data": {
      "text/plain": [
       "'Orange'"
      ]
     },
     "execution_count": 4,
     "metadata": {},
     "output_type": "execute_result"
    }
   ],
   "source": [
    "my_list[1]"
   ]
  },
  {
   "cell_type": "code",
   "execution_count": 5,
   "id": "53c33a68-9765-415d-a6a8-d5555fe81a13",
   "metadata": {},
   "outputs": [
    {
     "data": {
      "text/plain": [
       "'Banana'"
      ]
     },
     "execution_count": 5,
     "metadata": {},
     "output_type": "execute_result"
    }
   ],
   "source": [
    "my_list[-1]"
   ]
  },
  {
   "cell_type": "code",
   "execution_count": 6,
   "id": "70e8fdb7-dd32-4360-b9f9-78e3a0cc8841",
   "metadata": {},
   "outputs": [
    {
     "data": {
      "text/plain": [
       "'Orange'"
      ]
     },
     "execution_count": 6,
     "metadata": {},
     "output_type": "execute_result"
    }
   ],
   "source": [
    "my_list[-2]"
   ]
  },
  {
   "cell_type": "code",
   "execution_count": 7,
   "id": "e64e1071-d821-4c63-b22c-fd477f015976",
   "metadata": {},
   "outputs": [
    {
     "data": {
      "text/plain": [
       "'Banana'"
      ]
     },
     "execution_count": 7,
     "metadata": {},
     "output_type": "execute_result"
    }
   ],
   "source": [
    "my_list.pop()"
   ]
  },
  {
   "cell_type": "code",
   "execution_count": 8,
   "id": "1191ed9c-5b5c-48e7-9b44-6f1e9ea4a280",
   "metadata": {},
   "outputs": [
    {
     "data": {
      "text/plain": [
       "['Apple', 'Orange']"
      ]
     },
     "execution_count": 8,
     "metadata": {},
     "output_type": "execute_result"
    }
   ],
   "source": [
    "my_list"
   ]
  },
  {
   "cell_type": "code",
   "execution_count": 9,
   "id": "e062be17-2d5e-42cf-85e8-f9d1ea73b471",
   "metadata": {},
   "outputs": [],
   "source": [
    "my_list.append(\"Banana\")"
   ]
  },
  {
   "cell_type": "code",
   "execution_count": 10,
   "id": "4f3197f8-3140-437d-9fb1-1d2fa0e24211",
   "metadata": {},
   "outputs": [
    {
     "data": {
      "text/plain": [
       "['Apple', 'Orange', 'Banana']"
      ]
     },
     "execution_count": 10,
     "metadata": {},
     "output_type": "execute_result"
    }
   ],
   "source": [
    "my_list"
   ]
  },
  {
   "cell_type": "code",
   "execution_count": 11,
   "id": "9b0c549c-b3ee-42e0-8cc7-ae7d89db324c",
   "metadata": {},
   "outputs": [],
   "source": [
    "another_list = ['France', 'Denmark', 'Sweden']"
   ]
  },
  {
   "cell_type": "code",
   "execution_count": 12,
   "id": "bd00abe3-4eaa-41ca-bfec-0c757786808f",
   "metadata": {},
   "outputs": [
    {
     "data": {
      "text/plain": [
       "['Apple', 'Orange', 'Banana', 'France', 'Denmark', 'Sweden']"
      ]
     },
     "execution_count": 12,
     "metadata": {},
     "output_type": "execute_result"
    }
   ],
   "source": [
    "my_list + another_list"
   ]
  },
  {
   "cell_type": "code",
   "execution_count": 13,
   "id": "b7b660e5-2163-4479-a53c-013054fdd07a",
   "metadata": {},
   "outputs": [],
   "source": [
    "new_list = my_list + another_list"
   ]
  },
  {
   "cell_type": "code",
   "execution_count": 14,
   "id": "9345f110-6b71-4724-9d21-d74f6d30087c",
   "metadata": {},
   "outputs": [
    {
     "data": {
      "text/plain": [
       "['Apple', 'Orange', 'Banana', 'France', 'Denmark', 'Sweden']"
      ]
     },
     "execution_count": 14,
     "metadata": {},
     "output_type": "execute_result"
    }
   ],
   "source": [
    "new_list"
   ]
  },
  {
   "cell_type": "code",
   "execution_count": 15,
   "id": "4f3b79b8-e516-4486-86c9-18b866f39208",
   "metadata": {},
   "outputs": [],
   "source": [
    "import random"
   ]
  },
  {
   "cell_type": "code",
   "execution_count": 16,
   "id": "c1cb1035-5f3d-4432-b9c3-8a6f62a38357",
   "metadata": {},
   "outputs": [
    {
     "data": {
      "text/plain": [
       "'Denmark'"
      ]
     },
     "execution_count": 16,
     "metadata": {},
     "output_type": "execute_result"
    }
   ],
   "source": [
    "random.choice(new_list)"
   ]
  },
  {
   "cell_type": "code",
   "execution_count": 17,
   "id": "7aeccb5d-2cf4-4780-b305-80cc8fd612dc",
   "metadata": {},
   "outputs": [
    {
     "data": {
      "text/plain": [
       "['Apple', 'Orange', 'Banana', 'France', 'Denmark', 'Sweden']"
      ]
     },
     "execution_count": 17,
     "metadata": {},
     "output_type": "execute_result"
    }
   ],
   "source": [
    "new_list"
   ]
  },
  {
   "cell_type": "code",
   "execution_count": 18,
   "id": "f459138a-5e7a-4903-addc-9dc6786860e3",
   "metadata": {},
   "outputs": [
    {
     "data": {
      "text/plain": [
       "'Sweden'"
      ]
     },
     "execution_count": 18,
     "metadata": {},
     "output_type": "execute_result"
    }
   ],
   "source": [
    "random.choice(new_list)"
   ]
  },
  {
   "cell_type": "code",
   "execution_count": 19,
   "id": "9cd25e91-5903-4942-b2cd-47ff1289f27e",
   "metadata": {},
   "outputs": [],
   "source": [
    "random.shuffle(new_list)"
   ]
  },
  {
   "cell_type": "code",
   "execution_count": 20,
   "id": "a955f4be-4a7e-4c28-a8dd-bffd63c4d092",
   "metadata": {},
   "outputs": [
    {
     "data": {
      "text/plain": [
       "['Apple', 'Sweden', 'France', 'Orange', 'Denmark', 'Banana']"
      ]
     },
     "execution_count": 20,
     "metadata": {},
     "output_type": "execute_result"
    }
   ],
   "source": [
    "new_list"
   ]
  },
  {
   "cell_type": "code",
   "execution_count": 21,
   "id": "d5573c7e-4094-454e-83eb-9bed0ae4c024",
   "metadata": {},
   "outputs": [
    {
     "data": {
      "text/plain": [
       "'Apple Sweden France Orange Denmark Banana'"
      ]
     },
     "execution_count": 21,
     "metadata": {},
     "output_type": "execute_result"
    }
   ],
   "source": [
    "' '.join(new_list)"
   ]
  },
  {
   "cell_type": "code",
   "execution_count": 22,
   "id": "6716a6c4-dbd8-4901-859f-be94c46c50b5",
   "metadata": {},
   "outputs": [
    {
     "data": {
      "text/plain": [
       "'mweesao'"
      ]
     },
     "execution_count": 22,
     "metadata": {},
     "output_type": "execute_result"
    }
   ],
   "source": [
    "s = \"awesome\"\n",
    "''.join(random.sample(s, len(s)))"
   ]
  },
  {
   "cell_type": "code",
   "execution_count": 23,
   "id": "6ed3acbb-fcff-4e56-9d27-abed7d2fd41b",
   "metadata": {},
   "outputs": [],
   "source": [
    "my_numbers = [3, 5, 2, 6, 8, 2]"
   ]
  },
  {
   "cell_type": "code",
   "execution_count": 24,
   "id": "fee9dacd-6ca1-44b1-a306-b7c86007baa6",
   "metadata": {},
   "outputs": [
    {
     "data": {
      "text/plain": [
       "[3, 5, 2, 6, 8, 2]"
      ]
     },
     "execution_count": 24,
     "metadata": {},
     "output_type": "execute_result"
    }
   ],
   "source": [
    "my_numbers"
   ]
  },
  {
   "cell_type": "code",
   "execution_count": 25,
   "id": "cef5f7eb-260e-4e96-b87f-a97805cc526a",
   "metadata": {},
   "outputs": [
    {
     "data": {
      "text/plain": [
       "8"
      ]
     },
     "execution_count": 25,
     "metadata": {},
     "output_type": "execute_result"
    }
   ],
   "source": [
    "max(my_numbers)"
   ]
  },
  {
   "cell_type": "code",
   "execution_count": 26,
   "id": "c3295a3b-bcf8-4117-b944-a6e19800fa7b",
   "metadata": {},
   "outputs": [
    {
     "data": {
      "text/plain": [
       "2"
      ]
     },
     "execution_count": 26,
     "metadata": {},
     "output_type": "execute_result"
    }
   ],
   "source": [
    "min(my_numbers)"
   ]
  },
  {
   "cell_type": "code",
   "execution_count": 27,
   "id": "dda34910-b0d6-4149-8c74-bb34554812cd",
   "metadata": {},
   "outputs": [
    {
     "data": {
      "text/plain": [
       "26"
      ]
     },
     "execution_count": 27,
     "metadata": {},
     "output_type": "execute_result"
    }
   ],
   "source": [
    "sum(my_numbers)"
   ]
  },
  {
   "cell_type": "code",
   "execution_count": 28,
   "id": "2f43aba7-8bed-40bc-8cf3-ee34b649cd6e",
   "metadata": {},
   "outputs": [
    {
     "data": {
      "text/plain": [
       "6"
      ]
     },
     "execution_count": 28,
     "metadata": {},
     "output_type": "execute_result"
    }
   ],
   "source": [
    "len(my_numbers)"
   ]
  },
  {
   "cell_type": "code",
   "execution_count": 29,
   "id": "a71aba24-e803-46f1-8e97-0bfe153567b3",
   "metadata": {},
   "outputs": [
    {
     "data": {
      "text/plain": [
       "4.333333333333333"
      ]
     },
     "execution_count": 29,
     "metadata": {},
     "output_type": "execute_result"
    }
   ],
   "source": [
    "sum(my_numbers)/len(my_numbers)"
   ]
  },
  {
   "cell_type": "code",
   "execution_count": 72,
   "id": "8c2f0d6f-db72-4c45-972d-7eb43dced95d",
   "metadata": {},
   "outputs": [],
   "source": [
    "l = [1, 2, 3]"
   ]
  },
  {
   "cell_type": "code",
   "execution_count": 73,
   "id": "8ebfd5c1-e6a3-449e-b990-4082990b4663",
   "metadata": {},
   "outputs": [
    {
     "data": {
      "text/plain": [
       "[1, 2, 3]"
      ]
     },
     "execution_count": 73,
     "metadata": {},
     "output_type": "execute_result"
    }
   ],
   "source": [
    "l"
   ]
  },
  {
   "cell_type": "code",
   "execution_count": 74,
   "id": "cd1fcb58-b216-4aae-b1e4-8027fd0154b9",
   "metadata": {},
   "outputs": [
    {
     "data": {
      "text/plain": [
       "list"
      ]
     },
     "execution_count": 74,
     "metadata": {},
     "output_type": "execute_result"
    }
   ],
   "source": [
    "type(l)"
   ]
  },
  {
   "cell_type": "code",
   "execution_count": 75,
   "id": "656798d4-f58b-44f2-ab13-0ca4de41f349",
   "metadata": {},
   "outputs": [
    {
     "data": {
      "text/plain": [
       "1"
      ]
     },
     "execution_count": 75,
     "metadata": {},
     "output_type": "execute_result"
    }
   ],
   "source": [
    "l[0]"
   ]
  },
  {
   "cell_type": "code",
   "execution_count": 76,
   "id": "ae8ab8c4-2638-434c-87d0-5c8a6286eed5",
   "metadata": {},
   "outputs": [],
   "source": [
    "l.append(4)"
   ]
  },
  {
   "cell_type": "code",
   "execution_count": 77,
   "id": "764f654d-01b9-4c07-a40d-e2fc523b3650",
   "metadata": {},
   "outputs": [
    {
     "data": {
      "text/plain": [
       "[1, 2, 3, 4]"
      ]
     },
     "execution_count": 77,
     "metadata": {},
     "output_type": "execute_result"
    }
   ],
   "source": [
    "l"
   ]
  },
  {
   "cell_type": "code",
   "execution_count": 78,
   "id": "105a4593-0af1-4356-892f-36bb81f10f98",
   "metadata": {},
   "outputs": [],
   "source": [
    "l.append(-2)"
   ]
  },
  {
   "cell_type": "code",
   "execution_count": 79,
   "id": "18feaf8a-20c0-42c7-8467-9920651e6b13",
   "metadata": {},
   "outputs": [
    {
     "data": {
      "text/plain": [
       "[1, 2, 3, 4, -2]"
      ]
     },
     "execution_count": 79,
     "metadata": {},
     "output_type": "execute_result"
    }
   ],
   "source": [
    "l"
   ]
  },
  {
   "cell_type": "code",
   "execution_count": 80,
   "id": "6118fd2e-cd0a-4754-8b31-607dded4fcb6",
   "metadata": {},
   "outputs": [
    {
     "data": {
      "text/plain": [
       "[-2, 1, 2, 3, 4]"
      ]
     },
     "execution_count": 80,
     "metadata": {},
     "output_type": "execute_result"
    }
   ],
   "source": [
    "l = sorted(l)\n",
    "l"
   ]
  },
  {
   "cell_type": "markdown",
   "id": "4e3ed050-646b-44dd-b94c-ec95ffdbf256",
   "metadata": {},
   "source": [
    "## Boolean"
   ]
  },
  {
   "cell_type": "code",
   "execution_count": 14,
   "id": "4894bcb5-026f-4a87-9e4f-e2a2779f1dac",
   "metadata": {},
   "outputs": [
    {
     "data": {
      "text/plain": [
       "True"
      ]
     },
     "execution_count": 14,
     "metadata": {},
     "output_type": "execute_result"
    }
   ],
   "source": [
    "b = True\n",
    "b"
   ]
  },
  {
   "cell_type": "code",
   "execution_count": 11,
   "id": "5df5eb3b-210b-4fd8-b69c-c943134f59fe",
   "metadata": {},
   "outputs": [
    {
     "data": {
      "text/plain": [
       "bool"
      ]
     },
     "execution_count": 11,
     "metadata": {},
     "output_type": "execute_result"
    }
   ],
   "source": [
    "type(b)"
   ]
  },
  {
   "cell_type": "code",
   "execution_count": 12,
   "id": "fe2c6ff0-7746-4f6e-9986-299b90b0997f",
   "metadata": {},
   "outputs": [],
   "source": [
    "b = False"
   ]
  },
  {
   "cell_type": "code",
   "execution_count": 15,
   "id": "65691482-7cdf-435f-a496-482225d57cc9",
   "metadata": {},
   "outputs": [
    {
     "name": "stdout",
     "output_type": "stream",
     "text": [
      "b is True\n"
     ]
    }
   ],
   "source": [
    "if b == True:\n",
    "    print(\"b is True\")\n",
    "else:\n",
    "    print(\"b is False\")"
   ]
  },
  {
   "cell_type": "markdown",
   "id": "8f25318f-19ce-4751-a24d-52d85e2f37b8",
   "metadata": {},
   "source": [
    "# List Comprehension"
   ]
  },
  {
   "cell_type": "code",
   "execution_count": 85,
   "id": "f2361d41-5a57-42b2-9247-d627f12adff4",
   "metadata": {},
   "outputs": [
    {
     "data": {
      "text/plain": [
       "[0, 1, 2, 3, 4, 5, 6, 7, 8, 9]"
      ]
     },
     "execution_count": 85,
     "metadata": {},
     "output_type": "execute_result"
    }
   ],
   "source": [
    "l = [ i for i in range(10) ]\n",
    "l"
   ]
  },
  {
   "cell_type": "code",
   "execution_count": 86,
   "id": "f67b4b01-5cc5-462d-b516-0764d90f1f24",
   "metadata": {},
   "outputs": [
    {
     "data": {
      "text/plain": [
       "[0, 1, 2, 3, 4, 5, 6, 7, 8, 9]"
      ]
     },
     "execution_count": 86,
     "metadata": {},
     "output_type": "execute_result"
    }
   ],
   "source": [
    "# The above List comprehensin is equivalent to the following block:\n",
    "l = []\n",
    "for i in range(10):\n",
    "        l.append(i)\n",
    "l"
   ]
  },
  {
   "cell_type": "code",
   "execution_count": 82,
   "id": "42faa0ad-a376-4ab3-9240-c5dbe644d240",
   "metadata": {},
   "outputs": [
    {
     "data": {
      "text/plain": [
       "[1, 3, 5, 7, 9]"
      ]
     },
     "execution_count": 82,
     "metadata": {},
     "output_type": "execute_result"
    }
   ],
   "source": [
    "# add an if condtion to a list comprehension\n",
    "\n",
    "l_odd = [ i for i in range(10) if i % 2 == 1]\n",
    "l_odd"
   ]
  },
  {
   "cell_type": "code",
   "execution_count": 87,
   "id": "d22b20b5-edad-4389-8c24-b8173989ad6f",
   "metadata": {},
   "outputs": [
    {
     "data": {
      "text/plain": [
       "[1, 3, 5, 7, 9]"
      ]
     },
     "execution_count": 87,
     "metadata": {},
     "output_type": "execute_result"
    }
   ],
   "source": [
    "# The above List comprehension with an if condition is equivalent to the following block:\n",
    "l = []\n",
    "for i in range(10):\n",
    "    if i % 2 == 1:\n",
    "        l.append(i)\n",
    "l"
   ]
  },
  {
   "cell_type": "markdown",
   "id": "bf88ac1e-4480-4602-804b-45542ef6b47b",
   "metadata": {},
   "source": [
    "## List Product - duplicate a list"
   ]
  },
  {
   "cell_type": "code",
   "execution_count": 88,
   "id": "23c1e970-153c-434b-b311-7002d992d6ba",
   "metadata": {},
   "outputs": [],
   "source": [
    "new_l = l*2"
   ]
  },
  {
   "cell_type": "code",
   "execution_count": 89,
   "id": "5257ff73-404b-4fbd-8b2c-13158ee27c25",
   "metadata": {},
   "outputs": [
    {
     "data": {
      "text/plain": [
       "[1, 3, 5, 7, 9, 1, 3, 5, 7, 9]"
      ]
     },
     "execution_count": 89,
     "metadata": {},
     "output_type": "execute_result"
    }
   ],
   "source": [
    "new_l"
   ]
  },
  {
   "cell_type": "code",
   "execution_count": 28,
   "id": "1c1a44ca-b3a9-4e4d-99ab-4bcae84de159",
   "metadata": {},
   "outputs": [
    {
     "data": {
      "text/plain": [
       "['hello',\n",
       " 'hello',\n",
       " 'hello',\n",
       " 'hello',\n",
       " 'hello',\n",
       " 'hello',\n",
       " 'hello',\n",
       " 'hello',\n",
       " 'hello',\n",
       " 'hello']"
      ]
     },
     "execution_count": 28,
     "metadata": {},
     "output_type": "execute_result"
    }
   ],
   "source": [
    "l = [\"hello\"]*10\n",
    "l"
   ]
  },
  {
   "cell_type": "markdown",
   "id": "d2ff5035-574d-402f-9a63-7c7c30d7ae5e",
   "metadata": {},
   "source": [
    "# Tuples"
   ]
  },
  {
   "cell_type": "code",
   "execution_count": 29,
   "id": "5e049cf3-c53e-4b04-a6b4-b7b0a5fa29a5",
   "metadata": {},
   "outputs": [
    {
     "data": {
      "text/plain": [
       "(2, 3)"
      ]
     },
     "execution_count": 29,
     "metadata": {},
     "output_type": "execute_result"
    }
   ],
   "source": [
    "t = (2,3)\n",
    "t"
   ]
  },
  {
   "cell_type": "code",
   "execution_count": 30,
   "id": "09277299-9948-479b-9299-f8a765e9d4b6",
   "metadata": {},
   "outputs": [
    {
     "data": {
      "text/plain": [
       "2"
      ]
     },
     "execution_count": 30,
     "metadata": {},
     "output_type": "execute_result"
    }
   ],
   "source": [
    "t[0]"
   ]
  },
  {
   "cell_type": "markdown",
   "id": "22e89dd8-3537-4059-b2d5-245a0e940f9e",
   "metadata": {},
   "source": [
    "## A tuple is immutable - you can not change the values of tuple elements"
   ]
  },
  {
   "cell_type": "code",
   "execution_count": 31,
   "id": "649ee2f1-bf36-4b35-ac1b-e241395f3d7f",
   "metadata": {},
   "outputs": [
    {
     "ename": "TypeError",
     "evalue": "'tuple' object does not support item assignment",
     "output_type": "error",
     "traceback": [
      "\u001b[1;31m---------------------------------------------------------------------------\u001b[0m",
      "\u001b[1;31mTypeError\u001b[0m                                 Traceback (most recent call last)",
      "Cell \u001b[1;32mIn [31], line 1\u001b[0m\n\u001b[1;32m----> 1\u001b[0m t[\u001b[38;5;241m0\u001b[39m] \u001b[38;5;241m=\u001b[39m \u001b[38;5;241m4\u001b[39m\n",
      "\u001b[1;31mTypeError\u001b[0m: 'tuple' object does not support item assignment"
     ]
    }
   ],
   "source": [
    "# \n",
    "t[0] = 4"
   ]
  },
  {
   "cell_type": "code",
   "execution_count": 32,
   "id": "81a88427-4bba-4079-b33a-500085e79d8b",
   "metadata": {},
   "outputs": [
    {
     "data": {
      "text/plain": [
       "[1, 2, 3]"
      ]
     },
     "execution_count": 32,
     "metadata": {},
     "output_type": "execute_result"
    }
   ],
   "source": [
    "l = [1,2,3]\n",
    "l"
   ]
  },
  {
   "cell_type": "code",
   "execution_count": 33,
   "id": "77bbb1e1-6e9e-4414-af84-49b70e936af5",
   "metadata": {},
   "outputs": [
    {
     "data": {
      "text/plain": [
       "[-1, 2, 3]"
      ]
     },
     "execution_count": 33,
     "metadata": {},
     "output_type": "execute_result"
    }
   ],
   "source": [
    "l[0] = -1\n",
    "l"
   ]
  },
  {
   "cell_type": "code",
   "execution_count": 34,
   "id": "b821b742-ca3e-4aa2-a9ac-faab79456f6f",
   "metadata": {},
   "outputs": [],
   "source": [
    "t1, t2 = t"
   ]
  },
  {
   "cell_type": "code",
   "execution_count": 35,
   "id": "18501d93-2886-4b5c-a57c-5346c714c64e",
   "metadata": {},
   "outputs": [
    {
     "data": {
      "text/plain": [
       "2"
      ]
     },
     "execution_count": 35,
     "metadata": {},
     "output_type": "execute_result"
    }
   ],
   "source": [
    "t1"
   ]
  },
  {
   "cell_type": "markdown",
   "id": "4e9165ef-50ad-499d-843c-3d7727af9e7d",
   "metadata": {},
   "source": [
    "# Dictionaries\n",
    "### Goal\n",
    "- Learn about dictionaries (dict) in Python\n",
    "- Store key-value pairs"
   ]
  },
  {
   "cell_type": "code",
   "execution_count": 1,
   "id": "83730aa9",
   "metadata": {},
   "outputs": [],
   "source": [
    "my_dict = {\n",
    "    'Key 1': 'Value 1',\n",
    "    'Key 2': 'Value 2'\n",
    "}"
   ]
  },
  {
   "cell_type": "code",
   "execution_count": 2,
   "id": "3c6ad91d",
   "metadata": {},
   "outputs": [
    {
     "data": {
      "text/plain": [
       "'Value 1'"
      ]
     },
     "execution_count": 2,
     "metadata": {},
     "output_type": "execute_result"
    }
   ],
   "source": [
    "my_dict['Key 1']"
   ]
  },
  {
   "cell_type": "code",
   "execution_count": 3,
   "id": "bbd98c3a",
   "metadata": {},
   "outputs": [
    {
     "data": {
      "text/plain": [
       "'Value 2'"
      ]
     },
     "execution_count": 3,
     "metadata": {},
     "output_type": "execute_result"
    }
   ],
   "source": [
    "my_dict['Key 2']"
   ]
  },
  {
   "cell_type": "code",
   "execution_count": 4,
   "id": "c051e1da",
   "metadata": {},
   "outputs": [],
   "source": [
    "my_dict['Key 3'] = 'Value 3'"
   ]
  },
  {
   "cell_type": "code",
   "execution_count": 5,
   "id": "064b1d1c",
   "metadata": {},
   "outputs": [
    {
     "data": {
      "text/plain": [
       "{'Key 1': 'Value 1', 'Key 2': 'Value 2', 'Key 3': 'Value 3'}"
      ]
     },
     "execution_count": 5,
     "metadata": {},
     "output_type": "execute_result"
    }
   ],
   "source": [
    "my_dict"
   ]
  },
  {
   "cell_type": "code",
   "execution_count": 6,
   "id": "2509abba",
   "metadata": {},
   "outputs": [],
   "source": [
    "my_dict['Key 2'] = 'Value 3'"
   ]
  },
  {
   "cell_type": "code",
   "execution_count": 7,
   "id": "8f1a0ca4",
   "metadata": {},
   "outputs": [
    {
     "data": {
      "text/plain": [
       "{'Key 1': 'Value 1', 'Key 2': 'Value 3', 'Key 3': 'Value 3'}"
      ]
     },
     "execution_count": 7,
     "metadata": {},
     "output_type": "execute_result"
    }
   ],
   "source": [
    "my_dict"
   ]
  },
  {
   "cell_type": "code",
   "execution_count": 8,
   "id": "f9461a6c",
   "metadata": {},
   "outputs": [],
   "source": [
    "car = {\n",
    "    'Brand': \"Lamborghini\",\n",
    "    'Model': \"Sián\",\n",
    "    'Year': 2020\n",
    "}"
   ]
  },
  {
   "cell_type": "code",
   "execution_count": 9,
   "id": "372d75da",
   "metadata": {},
   "outputs": [
    {
     "data": {
      "text/plain": [
       "{'Brand': 'Lamborghini', 'Model': 'Sián', 'Year': 2020}"
      ]
     },
     "execution_count": 9,
     "metadata": {},
     "output_type": "execute_result"
    }
   ],
   "source": [
    "car"
   ]
  },
  {
   "cell_type": "code",
   "execution_count": 10,
   "id": "f843aacb",
   "metadata": {},
   "outputs": [],
   "source": [
    "items = ['Pen', 'Scissor', 'Pen', 'Pen', 'Scissor']\n",
    "\n",
    "count = {}\n",
    "for item in items:\n",
    "    count[item] = count.get(item, 0) + 1"
   ]
  },
  {
   "cell_type": "code",
   "execution_count": 11,
   "id": "6b1aaefa",
   "metadata": {},
   "outputs": [
    {
     "data": {
      "text/plain": [
       "{'Pen': 3, 'Scissor': 2}"
      ]
     },
     "execution_count": 11,
     "metadata": {},
     "output_type": "execute_result"
    }
   ],
   "source": [
    "count"
   ]
  },
  {
   "cell_type": "code",
   "execution_count": 12,
   "id": "ff667154",
   "metadata": {},
   "outputs": [
    {
     "name": "stdout",
     "output_type": "stream",
     "text": [
      "Pen 3\n",
      "Scissor 2\n"
     ]
    }
   ],
   "source": [
    "for key, value in count.items():\n",
    "    print(key, value)"
   ]
  },
  {
   "cell_type": "code",
   "execution_count": 13,
   "id": "3ed806fb",
   "metadata": {},
   "outputs": [
    {
     "name": "stdout",
     "output_type": "stream",
     "text": [
      "Brand Lamborghini\n",
      "Model Sián\n",
      "Year 2020\n"
     ]
    }
   ],
   "source": [
    "for key, value in car.items():\n",
    "    print(key, value)"
   ]
  },
  {
   "cell_type": "code",
   "execution_count": 14,
   "id": "b2fe853f",
   "metadata": {},
   "outputs": [
    {
     "data": {
      "text/plain": [
       "dict_keys(['Brand', 'Model', 'Year'])"
      ]
     },
     "execution_count": 14,
     "metadata": {},
     "output_type": "execute_result"
    }
   ],
   "source": [
    "car.keys()"
   ]
  },
  {
   "cell_type": "code",
   "execution_count": 15,
   "id": "38bb7ee6",
   "metadata": {},
   "outputs": [
    {
     "data": {
      "text/plain": [
       "['Brand', 'Model', 'Year']"
      ]
     },
     "execution_count": 15,
     "metadata": {},
     "output_type": "execute_result"
    }
   ],
   "source": [
    "list(car.keys())"
   ]
  },
  {
   "cell_type": "code",
   "execution_count": 16,
   "id": "36e66deb",
   "metadata": {},
   "outputs": [
    {
     "data": {
      "text/plain": [
       "list"
      ]
     },
     "execution_count": 16,
     "metadata": {},
     "output_type": "execute_result"
    }
   ],
   "source": [
    "type(list(car.keys()))"
   ]
  },
  {
   "cell_type": "code",
   "execution_count": 17,
   "id": "1e3c334a",
   "metadata": {},
   "outputs": [
    {
     "data": {
      "text/plain": [
       "['Pen', 'Scissor']"
      ]
     },
     "execution_count": 17,
     "metadata": {},
     "output_type": "execute_result"
    }
   ],
   "source": [
    "list(count.keys())"
   ]
  },
  {
   "cell_type": "code",
   "execution_count": 91,
   "id": "c7b1121a-8d5f-4b6b-825f-49c6fc5844f7",
   "metadata": {},
   "outputs": [
    {
     "data": {
      "text/plain": [
       "{1: 'first item', 2: 'second item', 4: '4th item'}"
      ]
     },
     "execution_count": 91,
     "metadata": {},
     "output_type": "execute_result"
    }
   ],
   "source": [
    "d = {1:'first item', 2:'second item', 4: '4th item'}\n",
    "d"
   ]
  },
  {
   "cell_type": "code",
   "execution_count": 92,
   "id": "db3e1dc6-829a-49d1-a384-89970d691ac3",
   "metadata": {},
   "outputs": [
    {
     "data": {
      "text/plain": [
       "dict"
      ]
     },
     "execution_count": 92,
     "metadata": {},
     "output_type": "execute_result"
    }
   ],
   "source": [
    "type(d)"
   ]
  },
  {
   "cell_type": "code",
   "execution_count": 93,
   "id": "eb257a6f-081d-465d-a553-070692750463",
   "metadata": {},
   "outputs": [
    {
     "data": {
      "text/plain": [
       "'first item'"
      ]
     },
     "execution_count": 93,
     "metadata": {},
     "output_type": "execute_result"
    }
   ],
   "source": [
    "d[1]"
   ]
  },
  {
   "cell_type": "code",
   "execution_count": 94,
   "id": "bf8d8cb8-708b-4423-b1e3-6bdf9f7ea66e",
   "metadata": {},
   "outputs": [
    {
     "ename": "KeyError",
     "evalue": "0",
     "output_type": "error",
     "traceback": [
      "\u001b[1;31m---------------------------------------------------------------------------\u001b[0m",
      "\u001b[1;31mKeyError\u001b[0m                                  Traceback (most recent call last)",
      "Cell \u001b[1;32mIn [94], line 3\u001b[0m\n\u001b[0;32m      1\u001b[0m \u001b[38;5;66;03m# When reference an item in a dictionary, the index is the key value, not the array index value like a list.  \u001b[39;00m\n\u001b[0;32m      2\u001b[0m \u001b[38;5;66;03m# for example, key 0 does not exist in our dictionary d above.  A reference below will give an error:\u001b[39;00m\n\u001b[1;32m----> 3\u001b[0m \u001b[43md\u001b[49m\u001b[43m[\u001b[49m\u001b[38;5;241;43m0\u001b[39;49m\u001b[43m]\u001b[49m\n",
      "\u001b[1;31mKeyError\u001b[0m: 0"
     ]
    }
   ],
   "source": [
    "# When reference an item in a dictionary, the index is the key value, not the array index value like a list.  \n",
    "# for example, key 0 does not exist in our dictionary d above.  A reference below will give an error:\n",
    "d[0]"
   ]
  },
  {
   "cell_type": "markdown",
   "id": "8dbc96b0-ca2d-4e05-b452-2a5a2267ce6d",
   "metadata": {},
   "source": [
    "# Dictionary Comprehension \n",
    "Similar to list comprehension, we can create a dictionary using a dictionary comprehension"
   ]
  },
  {
   "cell_type": "code",
   "execution_count": null,
   "id": "70ebf4cc-2145-4237-a529-64e6b271d5a1",
   "metadata": {},
   "outputs": [
    {
     "data": {
      "text/plain": [
       "{0: 'item 1',\n",
       " 1: 'item 2',\n",
       " 2: 'item 3',\n",
       " 3: 'item 4',\n",
       " 4: 'item 5',\n",
       " 5: 'item 6',\n",
       " 6: 'item 7',\n",
       " 7: 'item 8',\n",
       " 8: 'item 9',\n",
       " 9: 'item 10'}"
      ]
     },
     "execution_count": 98,
     "metadata": {},
     "output_type": "execute_result"
    }
   ],
   "source": [
    "d = {i: f\"item {i+1}\" for i in range(10)}\n",
    "d"
   ]
  },
  {
   "cell_type": "code",
   "execution_count": 100,
   "id": "6ee6d3e7-af99-4925-9498-fc1c6366cef5",
   "metadata": {},
   "outputs": [],
   "source": [
    "# The above dictionary comprehension is equivalent to the following block:\n",
    "d = {}\n",
    "for i in range(10):\n",
    "    d[i] = f\"item {i+1}\""
   ]
  },
  {
   "cell_type": "code",
   "execution_count": 101,
   "id": "179f734e-12df-47a9-bfc1-73e8fb344173",
   "metadata": {},
   "outputs": [
    {
     "data": {
      "text/plain": [
       "{0: 'item 1',\n",
       " 1: 'item 2',\n",
       " 2: 'item 3',\n",
       " 3: 'item 4',\n",
       " 4: 'item 5',\n",
       " 5: 'item 6',\n",
       " 6: 'item 7',\n",
       " 7: 'item 8',\n",
       " 8: 'item 9',\n",
       " 9: 'item 10'}"
      ]
     },
     "execution_count": 101,
     "metadata": {},
     "output_type": "execute_result"
    }
   ],
   "source": [
    "d"
   ]
  },
  {
   "cell_type": "markdown",
   "id": "0c4c4eeb-8dab-4e17-b3f8-589e31b616e8",
   "metadata": {},
   "source": [
    "## Set"
   ]
  },
  {
   "cell_type": "code",
   "execution_count": 110,
   "id": "4f75cd71-3020-4e53-a141-f1083abe0119",
   "metadata": {},
   "outputs": [
    {
     "data": {
      "text/plain": [
       "{1, 2, 3}"
      ]
     },
     "execution_count": 110,
     "metadata": {},
     "output_type": "execute_result"
    }
   ],
   "source": [
    "s1 = {1, 2, 3}\n",
    "s1"
   ]
  },
  {
   "cell_type": "code",
   "execution_count": 113,
   "id": "a66b0917-59e2-4920-9144-92ba9f19beb3",
   "metadata": {},
   "outputs": [
    {
     "data": {
      "text/plain": [
       "set"
      ]
     },
     "execution_count": 113,
     "metadata": {},
     "output_type": "execute_result"
    }
   ],
   "source": [
    "type(s1)"
   ]
  },
  {
   "cell_type": "code",
   "execution_count": 111,
   "id": "fc39059c-2836-4ca9-9c26-2463b13403da",
   "metadata": {},
   "outputs": [
    {
     "data": {
      "text/plain": [
       "{1, 2, 3, 4}"
      ]
     },
     "execution_count": 111,
     "metadata": {},
     "output_type": "execute_result"
    }
   ],
   "source": [
    "s2 = {3, 4}\n",
    "s3 = s1.union(s2)\n",
    "s3"
   ]
  },
  {
   "cell_type": "code",
   "execution_count": 112,
   "id": "80cb70fb-2359-4679-abdd-3e8fcdf6a9a9",
   "metadata": {},
   "outputs": [
    {
     "data": {
      "text/plain": [
       "{3}"
      ]
     },
     "execution_count": 112,
     "metadata": {},
     "output_type": "execute_result"
    }
   ],
   "source": [
    "s4 = s1.intersection(s2)\n",
    "s4"
   ]
  },
  {
   "cell_type": "markdown",
   "id": "37ea96af-d43c-4d6b-b695-ac3e86d98b10",
   "metadata": {},
   "source": [
    "# Program Flow\n",
    "### Goal\n",
    "- To learn about if-statements\n",
    "- Use if-statements to make a program perform based on variables"
   ]
  },
  {
   "cell_type": "markdown",
   "id": "9e7fe1bf-c40d-4440-86b1-c5a90482d335",
   "metadata": {},
   "source": [
    "### Boolean expression\n",
    "- Equals: a == b\n",
    "- Not Equals: a != b\n",
    "- Less than: a < b\n",
    "- Less than or equal to: a <= b\n",
    "- Greater than: a > b\n",
    "- Greater than or equal to: a >= b"
   ]
  },
  {
   "cell_type": "code",
   "execution_count": 1,
   "id": "3539dd0d",
   "metadata": {},
   "outputs": [
    {
     "name": "stdout",
     "output_type": "stream",
     "text": [
      "a equals b\n"
     ]
    }
   ],
   "source": [
    "a = 10\n",
    "b = 10\n",
    "if a == b:\n",
    "    print(\"a equals b\")"
   ]
  },
  {
   "cell_type": "code",
   "execution_count": 2,
   "id": "f1fa401b",
   "metadata": {},
   "outputs": [],
   "source": [
    "a = 10\n",
    "b = 8\n",
    "if a < b:\n",
    "    print(\"a is less than b\")"
   ]
  },
  {
   "cell_type": "code",
   "execution_count": 3,
   "id": "e12cb99c",
   "metadata": {},
   "outputs": [
    {
     "name": "stdout",
     "output_type": "stream",
     "text": [
      "a is not greater than b\n"
     ]
    }
   ],
   "source": [
    "a = 12\n",
    "b = 12\n",
    "if a > b:\n",
    "    print(\"a is greater than b\")\n",
    "else:\n",
    "    print(\"a is not greater than b\")"
   ]
  },
  {
   "cell_type": "code",
   "execution_count": 4,
   "id": "dc3902ee",
   "metadata": {},
   "outputs": [
    {
     "name": "stdout",
     "output_type": "stream",
     "text": [
      "a is greater than b\n"
     ]
    }
   ],
   "source": [
    "a = 13\n",
    "b = 12\n",
    "if a > b:\n",
    "    print(\"a is greater than b\")\n",
    "elif a == b:\n",
    "    print(\"a is equal to b\")\n",
    "else:\n",
    "    print(\"a is less than b\")"
   ]
  },
  {
   "cell_type": "code",
   "execution_count": 5,
   "id": "7a47e63f",
   "metadata": {},
   "outputs": [],
   "source": [
    "a = 10\n",
    "b = 10\n",
    "if a != b:\n",
    "    print(\"a does not equal b\")"
   ]
  },
  {
   "cell_type": "markdown",
   "id": "c8de6cd7-3902-4df0-8455-c47002369e43",
   "metadata": {},
   "source": [
    "# Loops\n",
    "### Goal\n",
    "- Learn how to iterate over lists\n",
    "- Iterate over the chars in a string\n",
    "- Create a for-loop over a range\n",
    "- Create a while-loop"
   ]
  },
  {
   "cell_type": "code",
   "execution_count": 1,
   "id": "cb26e5f3",
   "metadata": {},
   "outputs": [],
   "source": [
    "my_list = ['First', 'Second', 'Third']"
   ]
  },
  {
   "cell_type": "code",
   "execution_count": 2,
   "id": "d4dd47e4",
   "metadata": {},
   "outputs": [
    {
     "data": {
      "text/plain": [
       "['First', 'Second', 'Third']"
      ]
     },
     "execution_count": 2,
     "metadata": {},
     "output_type": "execute_result"
    }
   ],
   "source": [
    "my_list"
   ]
  },
  {
   "cell_type": "code",
   "execution_count": 3,
   "id": "978ad143",
   "metadata": {},
   "outputs": [
    {
     "name": "stdout",
     "output_type": "stream",
     "text": [
      "First\n",
      "Second\n",
      "Third\n"
     ]
    }
   ],
   "source": [
    "for i in my_list:\n",
    "    print(i)"
   ]
  },
  {
   "cell_type": "code",
   "execution_count": 4,
   "id": "2b98dca9",
   "metadata": {},
   "outputs": [
    {
     "name": "stdout",
     "output_type": "stream",
     "text": [
      "R\n",
      "Inside loop\n",
      "u\n",
      "Inside loop\n",
      "n\n",
      "Inside loop\n",
      "e\n",
      "Inside loop\n",
      "Outside the loop\n"
     ]
    }
   ],
   "source": [
    "s = \"Rune\"\n",
    "\n",
    "for c in s:\n",
    "    print(c)\n",
    "    print(\"Inside loop\")\n",
    "print(\"Outside the loop\")"
   ]
  },
  {
   "cell_type": "code",
   "execution_count": 5,
   "id": "30869395",
   "metadata": {},
   "outputs": [
    {
     "name": "stdout",
     "output_type": "stream",
     "text": [
      "2\n",
      "3\n"
     ]
    }
   ],
   "source": [
    "for i in range(2, 4):\n",
    "    print(i)"
   ]
  },
  {
   "cell_type": "code",
   "execution_count": 6,
   "id": "ce788b3d",
   "metadata": {},
   "outputs": [
    {
     "data": {
      "text/plain": [
       "['First', 'Second', 'Third']"
      ]
     },
     "execution_count": 6,
     "metadata": {},
     "output_type": "execute_result"
    }
   ],
   "source": [
    "my_list"
   ]
  },
  {
   "cell_type": "code",
   "execution_count": 7,
   "id": "32c8ac5b",
   "metadata": {},
   "outputs": [
    {
     "name": "stdout",
     "output_type": "stream",
     "text": [
      "0 First\n",
      "1 Second\n",
      "2 Third\n"
     ]
    }
   ],
   "source": [
    "for i in range(len(my_list)):\n",
    "    print(i, my_list[i])"
   ]
  },
  {
   "cell_type": "code",
   "execution_count": 8,
   "id": "0b9e182f",
   "metadata": {},
   "outputs": [],
   "source": [
    "value = 10\n",
    "\n",
    "while value > 0:\n",
    "    value = int(input(\"Value? \"))"
   ]
  },
  {
   "cell_type": "markdown",
   "id": "7aa0aef4-3dae-4029-af1e-1843db9e3f99",
   "metadata": {},
   "source": [
    "### A few new things"
   ]
  },
  {
   "cell_type": "code",
   "execution_count": 9,
   "id": "34d939d3",
   "metadata": {},
   "outputs": [],
   "source": [
    "s = \"abc\"\n",
    "c = 'd'\n",
    "\n",
    "if c in s:\n",
    "    print(\"c is in s\")"
   ]
  },
  {
   "cell_type": "code",
   "execution_count": 10,
   "id": "f8ad9f0f",
   "metadata": {},
   "outputs": [
    {
     "name": "stdout",
     "output_type": "stream",
     "text": [
      "c is not in s\n"
     ]
    }
   ],
   "source": [
    "if c not in s:\n",
    "    print(\"c is not in s\")"
   ]
  },
  {
   "cell_type": "code",
   "execution_count": 11,
   "id": "21d79fe1",
   "metadata": {},
   "outputs": [],
   "source": [
    "a = 13\n",
    "b = 12\n",
    "c = 10\n",
    "\n",
    "if a < b or b < c:\n",
    "    print(\"awesome\")"
   ]
  },
  {
   "cell_type": "markdown",
   "id": "62f642b5-7c8f-4978-a1b6-d7f104c3158b",
   "metadata": {},
   "source": [
    "### For Loop"
   ]
  },
  {
   "cell_type": "code",
   "execution_count": 95,
   "id": "81216352-a507-451c-999c-2b5237002465",
   "metadata": {},
   "outputs": [
    {
     "name": "stdout",
     "output_type": "stream",
     "text": [
      "0\n",
      "1\n",
      "2\n",
      "3\n",
      "4\n",
      "5\n",
      "6\n",
      "7\n",
      "8\n",
      "9\n"
     ]
    }
   ],
   "source": [
    "l = [ i for i in range(10) ]\n",
    "for x in l:\n",
    "    print(x)"
   ]
  },
  {
   "cell_type": "code",
   "execution_count": 102,
   "id": "5407f46d-02f4-44a9-ab98-22fffb3006ad",
   "metadata": {},
   "outputs": [
    {
     "name": "stdout",
     "output_type": "stream",
     "text": [
      "0 item 1\n",
      "1 item 2\n",
      "2 item 3\n",
      "3 item 4\n",
      "4 item 5\n",
      "5 item 6\n",
      "6 item 7\n",
      "7 item 8\n",
      "8 item 9\n",
      "9 item 10\n"
     ]
    }
   ],
   "source": [
    "d = {i: f\"item {i+1}\" for i in range(10)}\n",
    "for key, value in d.items():\n",
    "    print(key, value)"
   ]
  },
  {
   "cell_type": "code",
   "execution_count": 103,
   "id": "d8c57c41-12a5-4033-add6-ecbde3c9bcf7",
   "metadata": {},
   "outputs": [
    {
     "name": "stdout",
     "output_type": "stream",
     "text": [
      "key= 0 value= item 1\n",
      "key= 1 value= item 2\n",
      "key= 2 value= item 3\n",
      "key= 3 value= item 4\n",
      "key= 4 value= item 5\n",
      "key= 5 value= item 6\n",
      "key= 6 value= item 7\n",
      "key= 7 value= item 8\n",
      "key= 8 value= item 9\n",
      "key= 9 value= item 10\n"
     ]
    }
   ],
   "source": [
    "for key in d.keys():\n",
    "    print(\"key=\", key, \"value=\", d[key])"
   ]
  },
  {
   "cell_type": "code",
   "execution_count": 104,
   "id": "473a4718-a095-49e7-9599-0c82dd1c3098",
   "metadata": {},
   "outputs": [
    {
     "name": "stdout",
     "output_type": "stream",
     "text": [
      "item 1\n",
      "item 2\n",
      "item 3\n",
      "item 4\n",
      "item 5\n",
      "item 6\n",
      "item 7\n",
      "item 8\n",
      "item 9\n",
      "item 10\n"
     ]
    }
   ],
   "source": [
    "for value in d.values():\n",
    "    print(value)"
   ]
  },
  {
   "cell_type": "code",
   "execution_count": 105,
   "id": "3dde2041-3c23-48f1-abaa-5f6ab9d9ceba",
   "metadata": {},
   "outputs": [
    {
     "data": {
      "text/plain": [
       "dict_items"
      ]
     },
     "execution_count": 105,
     "metadata": {},
     "output_type": "execute_result"
    }
   ],
   "source": [
    "x = d.items()\n",
    "type(x)"
   ]
  },
  {
   "cell_type": "code",
   "execution_count": 53,
   "id": "55f5082f-50d7-4156-8db7-4cff7acfa26b",
   "metadata": {},
   "outputs": [
    {
     "data": {
      "text/plain": [
       "list"
      ]
     },
     "execution_count": 53,
     "metadata": {},
     "output_type": "execute_result"
    }
   ],
   "source": [
    "x = list(d.keys())\n",
    "type(x)"
   ]
  },
  {
   "cell_type": "code",
   "execution_count": 52,
   "id": "c57dafe6-81b2-4c6d-9dd6-f71bb38ce31b",
   "metadata": {},
   "outputs": [
    {
     "data": {
      "text/plain": [
       "list"
      ]
     },
     "execution_count": 52,
     "metadata": {},
     "output_type": "execute_result"
    }
   ],
   "source": [
    "x = list(d.values())\n",
    "type(x)"
   ]
  },
  {
   "cell_type": "code",
   "execution_count": 54,
   "id": "d590996e-aaad-4fe7-a73a-1285e6274b73",
   "metadata": {},
   "outputs": [
    {
     "name": "stdout",
     "output_type": "stream",
     "text": [
      "0\n",
      "1\n",
      "2\n",
      "3\n",
      "4\n",
      "5\n",
      "6\n",
      "7\n",
      "8\n",
      "9\n"
     ]
    }
   ],
   "source": [
    "for i in range(10):\n",
    "    print(i)"
   ]
  },
  {
   "cell_type": "code",
   "execution_count": 55,
   "id": "7501126f-98d0-4c83-a7b1-c460d421ba50",
   "metadata": {},
   "outputs": [
    {
     "name": "stdout",
     "output_type": "stream",
     "text": [
      "1\n",
      "2\n",
      "3\n"
     ]
    }
   ],
   "source": [
    "l = [1, 2, 3]\n",
    "for x in l:\n",
    "    print(x)"
   ]
  },
  {
   "cell_type": "markdown",
   "id": "e4a0870e-ef7d-4ca2-8ec6-c37f2b462e7e",
   "metadata": {},
   "source": [
    "### While Loop"
   ]
  },
  {
   "cell_type": "code",
   "execution_count": 56,
   "id": "2dd75aa3-4f7f-46ea-ac7a-3e5079ab4353",
   "metadata": {},
   "outputs": [
    {
     "name": "stdout",
     "output_type": "stream",
     "text": [
      "0\n",
      "1\n",
      "2\n",
      "3\n",
      "4\n",
      "5\n",
      "6\n",
      "7\n",
      "8\n",
      "9\n"
     ]
    }
   ],
   "source": [
    "i = 0\n",
    "while i < 10:\n",
    "    print(i)\n",
    "    i +=1"
   ]
  },
  {
   "cell_type": "markdown",
   "id": "08a182ec-4a2e-429e-8967-886ec302198e",
   "metadata": {},
   "source": [
    "## Nested Loops"
   ]
  },
  {
   "cell_type": "code",
   "execution_count": 63,
   "id": "4480c81d-10e9-4579-8e3a-8a7fba922217",
   "metadata": {},
   "outputs": [
    {
     "data": {
      "text/plain": [
       "[[1, 2, 3, 4, 5, 6, 7, 8, 9, 10],\n",
       " [2, 4, 6, 8, 10, 12, 14, 16, 18, 20],\n",
       " [3, 6, 9, 12, 15, 18, 21, 24, 27, 30]]"
      ]
     },
     "execution_count": 63,
     "metadata": {},
     "output_type": "execute_result"
    }
   ],
   "source": [
    "matrix = [[i*j for i in range(1,11)] for j in range(1,4)]\n",
    "matrix"
   ]
  },
  {
   "cell_type": "code",
   "execution_count": 58,
   "id": "47641cb5-2c0d-4683-b765-d6a7fa3fbd6f",
   "metadata": {},
   "outputs": [
    {
     "data": {
      "text/plain": [
       "3"
      ]
     },
     "execution_count": 58,
     "metadata": {},
     "output_type": "execute_result"
    }
   ],
   "source": [
    "l = len(matrix)\n",
    "l"
   ]
  },
  {
   "cell_type": "code",
   "execution_count": 60,
   "id": "8553c2d2-aef6-4467-b405-403136c7e1e9",
   "metadata": {},
   "outputs": [
    {
     "data": {
      "text/plain": [
       "10"
      ]
     },
     "execution_count": 60,
     "metadata": {},
     "output_type": "execute_result"
    }
   ],
   "source": [
    "m = len(matrix[0])\n",
    "m"
   ]
  },
  {
   "cell_type": "code",
   "execution_count": 65,
   "id": "6ed15631-74eb-40a8-88dd-8fde08976a48",
   "metadata": {},
   "outputs": [
    {
     "name": "stdout",
     "output_type": "stream",
     "text": [
      "1\n",
      "2\n",
      "3\n",
      "2\n",
      "4\n",
      "6\n",
      "3\n",
      "6\n",
      "9\n",
      "4\n",
      "8\n",
      "12\n",
      "5\n",
      "10\n",
      "15\n",
      "6\n",
      "12\n",
      "18\n",
      "7\n",
      "14\n",
      "21\n",
      "8\n",
      "16\n",
      "24\n",
      "9\n",
      "18\n",
      "27\n",
      "10\n",
      "20\n",
      "30\n"
     ]
    }
   ],
   "source": [
    "l = len(matrix)\n",
    "m = len(matrix[0])\n",
    "for j in range(m):\n",
    "    for i in range(l):\n",
    "        print(matrix[i][j])"
   ]
  },
  {
   "cell_type": "code",
   "execution_count": 66,
   "id": "af6c293d-6f9a-4c77-96e9-dbb7b5d277c0",
   "metadata": {},
   "outputs": [
    {
     "data": {
      "text/plain": [
       "[1, 2]"
      ]
     },
     "execution_count": 66,
     "metadata": {},
     "output_type": "execute_result"
    }
   ],
   "source": [
    "l = [1, 2, 3]\n",
    "l[0:2]"
   ]
  },
  {
   "cell_type": "code",
   "execution_count": 67,
   "id": "bdedbdbe-16e0-43e9-a78b-7f77b4f3e7c0",
   "metadata": {},
   "outputs": [
    {
     "data": {
      "text/plain": [
       "[2, 3]"
      ]
     },
     "execution_count": 67,
     "metadata": {},
     "output_type": "execute_result"
    }
   ],
   "source": [
    "l[1:3]"
   ]
  },
  {
   "cell_type": "markdown",
   "id": "748e8876-0e1b-4294-9b3e-adacfc11c9d6",
   "metadata": {},
   "source": [
    "# Functions\n",
    "### Goal\n",
    "- Learn about functions\n",
    "- Use functions to structure code\n",
    "- Functions makes the code more readable"
   ]
  },
  {
   "cell_type": "code",
   "execution_count": 1,
   "id": "c86f0352",
   "metadata": {},
   "outputs": [],
   "source": [
    "def my_func():\n",
    "    print(\"Hello, World!\")"
   ]
  },
  {
   "cell_type": "code",
   "execution_count": 2,
   "id": "8d35e5e5",
   "metadata": {},
   "outputs": [
    {
     "name": "stdout",
     "output_type": "stream",
     "text": [
      "Hello, World!\n"
     ]
    }
   ],
   "source": [
    "my_func()"
   ]
  },
  {
   "cell_type": "code",
   "execution_count": 3,
   "id": "5536b1b4",
   "metadata": {},
   "outputs": [],
   "source": [
    "def print_name(name):\n",
    "    print(f\"Hello {name}\")"
   ]
  },
  {
   "cell_type": "code",
   "execution_count": 4,
   "id": "6570bfd2",
   "metadata": {},
   "outputs": [
    {
     "name": "stdout",
     "output_type": "stream",
     "text": [
      "Hello Rune\n"
     ]
    }
   ],
   "source": [
    "print_name(\"Rune\")"
   ]
  },
  {
   "cell_type": "code",
   "execution_count": 5,
   "id": "cd37f2ce",
   "metadata": {},
   "outputs": [
    {
     "name": "stdout",
     "output_type": "stream",
     "text": [
      "Hello Jens\n"
     ]
    }
   ],
   "source": [
    "print_name(\"Jens\")"
   ]
  },
  {
   "cell_type": "code",
   "execution_count": 6,
   "id": "14a30d89",
   "metadata": {},
   "outputs": [],
   "source": [
    "def print_age(name, age):\n",
    "    print(f\"Hello {name}\")\n",
    "    print(f\"You are {age} years old\")"
   ]
  },
  {
   "cell_type": "code",
   "execution_count": 7,
   "id": "bdc30b06",
   "metadata": {},
   "outputs": [
    {
     "name": "stdout",
     "output_type": "stream",
     "text": [
      "Hello Rune\n",
      "You are 30 years old\n"
     ]
    }
   ],
   "source": [
    "print_age(\"Rune\", 30)"
   ]
  },
  {
   "cell_type": "code",
   "execution_count": 8,
   "id": "e0732587",
   "metadata": {},
   "outputs": [],
   "source": [
    "def calculate_age(birth_year):\n",
    "    return 2022 - birth_year\n",
    "    print(\"HELLO\")"
   ]
  },
  {
   "cell_type": "code",
   "execution_count": 9,
   "id": "794ff8e2",
   "metadata": {},
   "outputs": [
    {
     "data": {
      "text/plain": [
       "31"
      ]
     },
     "execution_count": 9,
     "metadata": {},
     "output_type": "execute_result"
    }
   ],
   "source": [
    "calculate_age(1991)"
   ]
  },
  {
   "cell_type": "markdown",
   "id": "dc19cad6-c1f3-482c-ba5c-ae45fb173864",
   "metadata": {},
   "source": [
    "### Map Alphabet to ACSI Code"
   ]
  },
  {
   "cell_type": "code",
   "execution_count": 10,
   "id": "b8946999",
   "metadata": {},
   "outputs": [
    {
     "data": {
      "text/plain": [
       "65"
      ]
     },
     "execution_count": 10,
     "metadata": {},
     "output_type": "execute_result"
    }
   ],
   "source": [
    "ord('A')"
   ]
  },
  {
   "cell_type": "code",
   "execution_count": 11,
   "id": "344909a9",
   "metadata": {},
   "outputs": [
    {
     "data": {
      "text/plain": [
       "66"
      ]
     },
     "execution_count": 11,
     "metadata": {},
     "output_type": "execute_result"
    }
   ],
   "source": [
    "ord('B')"
   ]
  },
  {
   "cell_type": "code",
   "execution_count": 12,
   "id": "7b294bed",
   "metadata": {},
   "outputs": [
    {
     "data": {
      "text/plain": [
       "'A'"
      ]
     },
     "execution_count": 12,
     "metadata": {},
     "output_type": "execute_result"
    }
   ],
   "source": [
    "chr(65)"
   ]
  },
  {
   "cell_type": "code",
   "execution_count": 13,
   "id": "a205b454",
   "metadata": {},
   "outputs": [
    {
     "data": {
      "text/plain": [
       "'B'"
      ]
     },
     "execution_count": 13,
     "metadata": {},
     "output_type": "execute_result"
    }
   ],
   "source": [
    "chr(66)"
   ]
  },
  {
   "cell_type": "code",
   "execution_count": 14,
   "id": "47d8d558",
   "metadata": {},
   "outputs": [
    {
     "name": "stdout",
     "output_type": "stream",
     "text": [
      "65 is A\n",
      "66 is B\n",
      "67 is C\n",
      "68 is D\n",
      "69 is E\n",
      "70 is F\n",
      "71 is G\n",
      "72 is H\n",
      "73 is I\n",
      "74 is J\n",
      "75 is K\n",
      "76 is L\n",
      "77 is M\n",
      "78 is N\n",
      "79 is O\n",
      "80 is P\n",
      "81 is Q\n",
      "82 is R\n",
      "83 is S\n",
      "84 is T\n",
      "85 is U\n",
      "86 is V\n",
      "87 is W\n",
      "88 is X\n",
      "89 is Y\n",
      "90 is Z\n"
     ]
    }
   ],
   "source": [
    "for c in range(65, 65 + 26):\n",
    "    print(f\"{c} is {chr(c)}\")"
   ]
  },
  {
   "cell_type": "markdown",
   "id": "58c4c3cf-0d51-4caf-8ae1-657fdfc026a1",
   "metadata": {},
   "source": [
    "## Create a mapping between a number and a base number symbol - all the way up to Base 36"
   ]
  },
  {
   "cell_type": "code",
   "execution_count": 114,
   "id": "5695fed8-b8ca-4adf-9427-17fb014d1797",
   "metadata": {},
   "outputs": [],
   "source": [
    "# Create mapping between a number and a string symbol\n",
    "def base_map():\n",
    "    basemap={i: str(i) for i in range(10)}\n",
    "    alphabet_start = ord('a')\n",
    "    for i in range(26):\n",
    "        basemap[i+10]=chr(alphabet_start+i)\n",
    "    return basemap"
   ]
  },
  {
   "cell_type": "code",
   "execution_count": 115,
   "id": "f19efd8f-058e-40a4-8abd-b48b23a49023",
   "metadata": {},
   "outputs": [
    {
     "data": {
      "text/plain": [
       "{0: '0',\n",
       " 1: '1',\n",
       " 2: '2',\n",
       " 3: '3',\n",
       " 4: '4',\n",
       " 5: '5',\n",
       " 6: '6',\n",
       " 7: '7',\n",
       " 8: '8',\n",
       " 9: '9',\n",
       " 10: 'a',\n",
       " 11: 'b',\n",
       " 12: 'c',\n",
       " 13: 'd',\n",
       " 14: 'e',\n",
       " 15: 'f',\n",
       " 16: 'g',\n",
       " 17: 'h',\n",
       " 18: 'i',\n",
       " 19: 'j',\n",
       " 20: 'k',\n",
       " 21: 'l',\n",
       " 22: 'm',\n",
       " 23: 'n',\n",
       " 24: 'o',\n",
       " 25: 'p',\n",
       " 26: 'q',\n",
       " 27: 'r',\n",
       " 28: 's',\n",
       " 29: 't',\n",
       " 30: 'u',\n",
       " 31: 'v',\n",
       " 32: 'w',\n",
       " 33: 'x',\n",
       " 34: 'y',\n",
       " 35: 'z'}"
      ]
     },
     "execution_count": 115,
     "metadata": {},
     "output_type": "execute_result"
    }
   ],
   "source": [
    "basemap=base_map()\n",
    "basemap"
   ]
  },
  {
   "cell_type": "code",
   "execution_count": 15,
   "id": "ef66283b",
   "metadata": {},
   "outputs": [
    {
     "data": {
      "text/plain": [
       "5"
      ]
     },
     "execution_count": 15,
     "metadata": {},
     "output_type": "execute_result"
    }
   ],
   "source": [
    "hours = 50\n",
    "(hours + 3) % 24"
   ]
  },
  {
   "cell_type": "code",
   "execution_count": 16,
   "id": "71eaf808",
   "metadata": {},
   "outputs": [],
   "source": [
    "def is_even(n):\n",
    "    if n % 2 == 0:\n",
    "        print(\"even\")\n",
    "    else:\n",
    "        print(\"odd\")"
   ]
  },
  {
   "cell_type": "code",
   "execution_count": 17,
   "id": "71237fb5",
   "metadata": {},
   "outputs": [
    {
     "name": "stdout",
     "output_type": "stream",
     "text": [
      "odd\n"
     ]
    }
   ],
   "source": [
    "is_even(1)"
   ]
  },
  {
   "cell_type": "code",
   "execution_count": 18,
   "id": "1354b34f",
   "metadata": {},
   "outputs": [
    {
     "name": "stdout",
     "output_type": "stream",
     "text": [
      "0 even\n",
      "1 odd\n",
      "2 even\n",
      "3 odd\n",
      "4 even\n",
      "5 odd\n",
      "6 even\n",
      "7 odd\n",
      "8 even\n",
      "9 odd\n"
     ]
    }
   ],
   "source": [
    "for i in range(10):\n",
    "    print(i, end=' ')\n",
    "    is_even(i)"
   ]
  },
  {
   "cell_type": "code",
   "execution_count": null,
   "id": "a303f6a8-2bf7-4d02-b679-57776ca9af53",
   "metadata": {},
   "outputs": [],
   "source": []
  }
 ],
 "metadata": {
  "kernelspec": {
   "display_name": "Python 3 (ipykernel)",
   "language": "python",
   "name": "python3"
  },
  "language_info": {
   "codemirror_mode": {
    "name": "ipython",
    "version": 3
   },
   "file_extension": ".py",
   "mimetype": "text/x-python",
   "name": "python",
   "nbconvert_exporter": "python",
   "pygments_lexer": "ipython3",
   "version": "3.9.13"
  }
 },
 "nbformat": 4,
 "nbformat_minor": 5
}

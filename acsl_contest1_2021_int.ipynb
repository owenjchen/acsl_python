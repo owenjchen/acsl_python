{
 "cells": [
  {
   "cell_type": "markdown",
   "id": "16e8c064-2046-4345-9d3c-d472b35bf9c5",
   "metadata": {},
   "source": [
    "# ACSL 2020-2021 Contest #1 Programming Problem\n",
    "\n",
    "## Intermediate Division"
   ]
  },
  {
   "cell_type": "markdown",
   "id": "f4a0eb58-3e3f-4ded-8e3c-61e4211ded00",
   "metadata": {},
   "source": [
    "## PROBLEM: \n",
    "Construct a ***Numeral Octal Triangle*** according to the following rules. You will be given\n",
    "three positive integers: s , a starting number; d, a delta (the amount by which to increase each number in\n",
    "the triangle); and r the number of rows. The numbers s and d will be in octal.\n",
    "1. The first row contains the number s .\n",
    "2. Each of the next rows has one more number than the previous row.\n",
    "3. Each number in the triangle is d more than the previous number in the triangle.\n",
    "Here are two examples of Numeral Octal Triangles:\n",
    "\n",
    "![alt text](acsl_2020_2021_numeral_octal_triangle.png \"Numeral Triangles Examples\")"
   ]
  },
  {
   "cell_type": "markdown",
   "id": "252e95b1-a27d-4fa1-96fc-1164a9a83ae1",
   "metadata": {},
   "source": [
    "## Hint:\n",
    "Break down the problem into multiple sub-problems.  Create a function for each sub-problems.\n",
    "\n",
    "- How to create a Numberal Octal Triangle?\n",
    "- How to get the last row of a Numberal Octal Triangle?\n",
    "- How to sum all numbers on the rth line of Numeral Octal Triangle"
   ]
  },
  {
   "cell_type": "code",
   "execution_count": 45,
   "id": "cc7f03ac-e289-4617-a982-7ad635656f27",
   "metadata": {},
   "outputs": [],
   "source": [
    "# Numeral Triangles\n",
    "def numeral_octal_triangle(start, delta, rows):\n",
    "    if rows <=0:\n",
    "        return None\n",
    "    else: \n",
    "        triangle = [[str(start)]]\n",
    "        delta = int(str(delta), 8)\n",
    "        number = int(str(start), 8)\n",
    "        for r in range(1, rows):\n",
    "            row = []\n",
    "            for i in range(r+1):\n",
    "                number += delta\n",
    "                row.append(oct(number)[2:])\n",
    "            triangle.append(row)\n",
    "        return triangle\n"
   ]
  },
  {
   "cell_type": "code",
   "execution_count": 46,
   "id": "adb532be-006e-4d64-beaa-30db21d3efa3",
   "metadata": {},
   "outputs": [
    {
     "data": {
      "text/plain": [
       "[['2'],\n",
       " ['5', '10'],\n",
       " ['13', '16', '21'],\n",
       " ['24', '27', '32', '35'],\n",
       " ['40', '43', '46', '51', '54']]"
      ]
     },
     "execution_count": 46,
     "metadata": {},
     "output_type": "execute_result"
    }
   ],
   "source": [
    "triangle=numeral_octal_triangle(2, 3, 5)\n",
    "triangle"
   ]
  },
  {
   "cell_type": "code",
   "execution_count": 47,
   "id": "8bb5bc41-d642-424e-8f53-1ca59d1240c7",
   "metadata": {},
   "outputs": [
    {
     "data": {
      "text/plain": [
       "[['221'], ['223', '225'], ['227', '231', '233'], ['235', '237', '241', '243']]"
      ]
     },
     "execution_count": 47,
     "metadata": {},
     "output_type": "execute_result"
    }
   ],
   "source": [
    "triangle=numeral_octal_triangle(221, 2, 4)\n",
    "triangle"
   ]
  },
  {
   "cell_type": "code",
   "execution_count": 48,
   "id": "2e0426aa-ce5a-45b5-a254-64d0b3b1f0f4",
   "metadata": {},
   "outputs": [
    {
     "data": {
      "text/plain": [
       "[['10'],\n",
       " ['20', '30'],\n",
       " ['40', '50', '60'],\n",
       " ['70', '100', '110', '120'],\n",
       " ['130', '140', '150', '160', '170'],\n",
       " ['200', '210', '220', '230', '240', '250'],\n",
       " ['260', '270', '300', '310', '320', '330', '340'],\n",
       " ['350', '360', '370', '400', '410', '420', '430', '440'],\n",
       " ['450', '460', '470', '500', '510', '520', '530', '540', '550'],\n",
       " ['560', '570', '600', '610', '620', '630', '640', '650', '660', '670']]"
      ]
     },
     "execution_count": 48,
     "metadata": {},
     "output_type": "execute_result"
    }
   ],
   "source": [
    "triangle=numeral_octal_triangle(10, 10, 10)\n",
    "triangle"
   ]
  },
  {
   "cell_type": "code",
   "execution_count": 49,
   "id": "d1b281c4-8a4f-465f-8180-d8a182ae4f7e",
   "metadata": {},
   "outputs": [],
   "source": [
    "# Sum of numbers in a row\n",
    "def sum_row(row):\n",
    "    sum = 0\n",
    "    for element in row:\n",
    "        for digit in element:\n",
    "            sum +=int(digit)\n",
    "    return sum"
   ]
  },
  {
   "cell_type": "code",
   "execution_count": 50,
   "id": "7bf04108-550a-426c-ae14-ce542443de97",
   "metadata": {},
   "outputs": [
    {
     "name": "stdout",
     "output_type": "stream",
     "text": [
      "38\n"
     ]
    }
   ],
   "source": [
    "print(sum_row(triangles[-1]))"
   ]
  },
  {
   "cell_type": "code",
   "execution_count": 51,
   "id": "84096725-d384-405d-b703-d22f8ddbb5f7",
   "metadata": {},
   "outputs": [],
   "source": [
    "# Main Program\n",
    "def sum_last_numeral_octal_triangle_row(start, delta, rows):\n",
    "    triangles=numeral_octal_triangle(start, delta, rows)\n",
    "    print(sum_row(triangles[-1]))      "
   ]
  },
  {
   "cell_type": "code",
   "execution_count": 52,
   "id": "ce015199-af2c-41bd-aebe-de14f470750b",
   "metadata": {},
   "outputs": [
    {
     "name": "stdout",
     "output_type": "stream",
     "text": [
      "36\n",
      "38\n",
      "230\n",
      "99\n",
      "178\n"
     ]
    }
   ],
   "source": [
    "sum_last_numeral_octal_triangle_row(2,3,5)\n",
    "sum_last_numeral_octal_triangle_row(221,2,4)\n",
    "sum_last_numeral_octal_triangle_row(1,4,20)\n",
    "sum_last_numeral_octal_triangle_row(10,10,10)\n",
    "sum_last_numeral_octal_triangle_row(3245,5,11)"
   ]
  },
  {
   "cell_type": "code",
   "execution_count": null,
   "id": "b9be60b4-adc7-4736-8d7a-1ee4576fa694",
   "metadata": {},
   "outputs": [],
   "source": []
  }
 ],
 "metadata": {
  "kernelspec": {
   "display_name": "Python 3 (ipykernel)",
   "language": "python",
   "name": "python3"
  },
  "language_info": {
   "codemirror_mode": {
    "name": "ipython",
    "version": 3
   },
   "file_extension": ".py",
   "mimetype": "text/x-python",
   "name": "python",
   "nbconvert_exporter": "python",
   "pygments_lexer": "ipython3",
   "version": "3.9.12"
  }
 },
 "nbformat": 4,
 "nbformat_minor": 5
}

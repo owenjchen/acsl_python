{
 "cells": [
  {
   "cell_type": "markdown",
   "id": "6747b3e9-f38e-4062-8393-7c1597cf05ab",
   "metadata": {},
   "source": [
    "# Fibonacci Function"
   ]
  },
  {
   "cell_type": "code",
   "execution_count": 1,
   "id": "089c0b65-8a8b-48f4-a821-65851c10aebb",
   "metadata": {},
   "outputs": [],
   "source": [
    "# First version - recursive\n",
    "def fibonacci(n):\n",
    "    if n < 0:\n",
    "        print(\"Incorrect input\")\n",
    "        return\n",
    "    elif n in (0,1):\n",
    "        return n    \n",
    "    else:\n",
    "        return fibonacci(n-1) + fibonacci(n-2)"
   ]
  },
  {
   "cell_type": "code",
   "execution_count": 2,
   "id": "d99db404-f1f3-43e8-9c77-e055e1b304a2",
   "metadata": {},
   "outputs": [],
   "source": [
    "# 2nd version - start with 0\n",
    "def fibonacci2(n):\n",
    "    if n < 0:\n",
    "        print(\"Incorrect input\")\n",
    "        return\n",
    "    elif n in (0,1):\n",
    "        return n    \n",
    "    a, b = 1, 1    \n",
    "    for i in range(2, n):\n",
    "        a, b = b, a+b\n",
    "    return b"
   ]
  },
  {
   "cell_type": "code",
   "execution_count": 9,
   "id": "7b063038-4b54-4e38-9383-69e0b5238128",
   "metadata": {},
   "outputs": [],
   "source": [
    "# 3rd version - start with 1\n",
    "def fibonacci3(n):\n",
    "    if n < 0:\n",
    "        print(\"Incorrect input\")\n",
    "        return\n",
    "    if n in (0, 1):\n",
    "        return 1  \n",
    "    a, b = 1, 2    \n",
    "    for i in range(2, n):\n",
    "        a, b = b, a+b\n",
    "    return b"
   ]
  },
  {
   "cell_type": "code",
   "execution_count": 4,
   "id": "9ebf5343-4f11-4ba5-9fb6-77b7068acfb8",
   "metadata": {},
   "outputs": [
    {
     "name": "stdout",
     "output_type": "stream",
     "text": [
      "0: 0\n",
      "1: 1\n",
      "2: 1\n",
      "3: 2\n",
      "4: 3\n",
      "5: 5\n",
      "6: 8\n",
      "7: 13\n",
      "8: 21\n",
      "9: 34\n",
      "10: 55\n",
      "11: 89\n",
      "12: 144\n",
      "13: 233\n",
      "14: 377\n",
      "15: 610\n",
      "16: 987\n",
      "17: 1597\n",
      "18: 2584\n",
      "19: 4181\n",
      "20: 6765\n",
      "21: 10946\n",
      "22: 17711\n",
      "23: 28657\n",
      "24: 46368\n",
      "25: 75025\n",
      "26: 121393\n",
      "27: 196418\n",
      "28: 317811\n",
      "29: 514229\n"
     ]
    }
   ],
   "source": [
    "# Use first version\n",
    "n = 30\n",
    "for i in range(n):\n",
    "    print(f\"{i}: {fibonacci(i)}\")"
   ]
  },
  {
   "cell_type": "code",
   "execution_count": 5,
   "id": "bbfafdc4-4431-4c29-b79e-cd0fd585d3f9",
   "metadata": {},
   "outputs": [
    {
     "name": "stdout",
     "output_type": "stream",
     "text": [
      "0: 0\n",
      "1: 1\n",
      "2: 1\n",
      "3: 2\n",
      "4: 3\n",
      "5: 5\n",
      "6: 8\n",
      "7: 13\n",
      "8: 21\n",
      "9: 34\n",
      "10: 55\n",
      "11: 89\n",
      "12: 144\n",
      "13: 233\n",
      "14: 377\n",
      "15: 610\n",
      "16: 987\n",
      "17: 1597\n",
      "18: 2584\n",
      "19: 4181\n",
      "20: 6765\n",
      "21: 10946\n",
      "22: 17711\n",
      "23: 28657\n",
      "24: 46368\n",
      "25: 75025\n",
      "26: 121393\n",
      "27: 196418\n",
      "28: 317811\n",
      "29: 514229\n"
     ]
    }
   ],
   "source": [
    "# Use 2nd version\n",
    "n = 30\n",
    "for i in range(n):\n",
    "    print(f\"{i}: {fibonacci2(i)}\")"
   ]
  },
  {
   "cell_type": "code",
   "execution_count": 10,
   "id": "36b58b56-879d-409b-a0c8-26a3301b0b06",
   "metadata": {},
   "outputs": [
    {
     "name": "stdout",
     "output_type": "stream",
     "text": [
      "0: 1\n",
      "1: 1\n",
      "2: 2\n",
      "3: 3\n",
      "4: 5\n",
      "5: 8\n",
      "6: 13\n",
      "7: 21\n",
      "8: 34\n",
      "9: 55\n",
      "10: 89\n",
      "11: 144\n",
      "12: 233\n",
      "13: 377\n",
      "14: 610\n",
      "15: 987\n",
      "16: 1597\n",
      "17: 2584\n",
      "18: 4181\n",
      "19: 6765\n",
      "20: 10946\n",
      "21: 17711\n",
      "22: 28657\n",
      "23: 46368\n",
      "24: 75025\n",
      "25: 121393\n",
      "26: 196418\n",
      "27: 317811\n",
      "28: 514229\n",
      "29: 832040\n"
     ]
    }
   ],
   "source": [
    "# Use 3rd version\n",
    "n = 30\n",
    "for i in range(n):\n",
    "    print(f\"{i}: {fibonacci3(i)}\")"
   ]
  },
  {
   "cell_type": "code",
   "execution_count": null,
   "id": "62efd296-b1e8-47cd-8209-a2a30fc7f2b6",
   "metadata": {},
   "outputs": [],
   "source": []
  }
 ],
 "metadata": {
  "kernelspec": {
   "display_name": "Python 3 (ipykernel)",
   "language": "python",
   "name": "python3"
  },
  "language_info": {
   "codemirror_mode": {
    "name": "ipython",
    "version": 3
   },
   "file_extension": ".py",
   "mimetype": "text/x-python",
   "name": "python",
   "nbconvert_exporter": "python",
   "pygments_lexer": "ipython3",
   "version": "3.9.12"
  }
 },
 "nbformat": 4,
 "nbformat_minor": 5
}

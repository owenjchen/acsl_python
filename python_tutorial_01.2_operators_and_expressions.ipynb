{
 "cells": [
  {
   "cell_type": "markdown",
   "id": "f4095883-771e-4b27-8041-a5d082235154",
   "metadata": {},
   "source": [
    "# Python Tutorials \n",
    "## 1.2 - Basics - Operators and Expressions\n",
    "\n",
    "\n",
    "### Author: Dr. Owen Chen\n",
    "### Date: 2023 Fall\n",
    "\n",
    "## Topics:\n",
    "\n",
    "**1. List of Operators**\n",
    "- Arithmetic operators\n",
    "- Assignment operators\n",
    "- Comparison operators\n",
    "- Logical operators\n",
    "- Identity operators\n",
    "- Membership operators\n",
    "- Bitwise operators\n",
    "\n",
    "**2. Operator Precedence**\n",
    "\n"
   ]
  },
  {
   "cell_type": "markdown",
   "id": "ca849c71-ee3e-488a-a5e8-54b1cd13acaa",
   "metadata": {},
   "source": [
    "## Python Operators\n",
    "Operators are used to perform operations on variables and values.\n",
    "\n",
    "In the example below, we use the + operator to add together two values"
   ]
  },
  {
   "cell_type": "code",
   "execution_count": 1,
   "id": "89b2d1be-466e-40d9-aa55-d2b1a388550d",
   "metadata": {},
   "outputs": [
    {
     "data": {
      "text/plain": [
       "5"
      ]
     },
     "execution_count": 1,
     "metadata": {},
     "output_type": "execute_result"
    }
   ],
   "source": [
    "2+3"
   ]
  },
  {
   "cell_type": "code",
   "execution_count": 2,
   "id": "edb023e7-8ef2-438d-9367-b6b9b25c5a6a",
   "metadata": {},
   "outputs": [
    {
     "data": {
      "text/plain": [
       "5.0"
      ]
     },
     "execution_count": 2,
     "metadata": {},
     "output_type": "execute_result"
    }
   ],
   "source": [
    "10/2"
   ]
  },
  {
   "cell_type": "markdown",
   "id": "c5ba0fca-7499-418e-aed7-a1b6cf9fed29",
   "metadata": {},
   "source": [
    "## List of Operators\n",
    "\n",
    "Python divides the operators in the following groups:\n",
    "\n",
    "- Arithmetic operators\n",
    "- Assignment operators\n",
    "- Comparison operators\n",
    "- Logical operators\n",
    "- Identity operators\n",
    "- Membership operators\n",
    "- Bitwise operators"
   ]
  },
  {
   "cell_type": "markdown",
   "id": "d7d9b369-ff1c-4e87-b1c3-db198ae2e8c8",
   "metadata": {
    "tags": []
   },
   "source": [
    "#  Arithmetic operators\n",
    "\n",
    "| Operator | Name           | Example  |\n",
    "| -------- | -------------- | -------- | \n",
    "| +        | Addition       | x + y    | \n",
    "| \\-       | Subtraction    | x - y    |\n",
    "| \\*       | Multiplication | x \\* y   | \n",
    "| /        | Division       | x / y    |\n",
    "| %        | Modulus        | x % y    | \n",
    "| \\*\\*     | Exponentiation | x \\*\\* y |\n",
    "| //       | Floor division | x // y   |"
   ]
  },
  {
   "cell_type": "markdown",
   "id": "c40c0158-0064-4f82-8640-28637eeed2a7",
   "metadata": {},
   "source": [
    "### Basic Arithmetic"
   ]
  },
  {
   "cell_type": "code",
   "execution_count": 1,
   "id": "97a211bf-883a-4ff6-a0ba-a3564b7ac59f",
   "metadata": {},
   "outputs": [
    {
     "data": {
      "text/plain": [
       "3"
      ]
     },
     "execution_count": 1,
     "metadata": {},
     "output_type": "execute_result"
    }
   ],
   "source": [
    "# Addition\n",
    "2+1"
   ]
  },
  {
   "cell_type": "code",
   "execution_count": 2,
   "id": "0f8ff250-9d35-434d-a91a-2065829a0168",
   "metadata": {},
   "outputs": [
    {
     "data": {
      "text/plain": [
       "1"
      ]
     },
     "execution_count": 2,
     "metadata": {},
     "output_type": "execute_result"
    }
   ],
   "source": [
    "# Subtraction\n",
    "2-1"
   ]
  },
  {
   "cell_type": "code",
   "execution_count": 3,
   "id": "66eaeeba-0436-403e-a719-971252b961ab",
   "metadata": {},
   "outputs": [
    {
     "data": {
      "text/plain": [
       "4"
      ]
     },
     "execution_count": 3,
     "metadata": {},
     "output_type": "execute_result"
    }
   ],
   "source": [
    "# Multiplication\n",
    "2*2"
   ]
  },
  {
   "cell_type": "code",
   "execution_count": 4,
   "id": "7793f5d8-13da-4597-8037-1c8fdc3c4e8c",
   "metadata": {},
   "outputs": [
    {
     "data": {
      "text/plain": [
       "1.5"
      ]
     },
     "execution_count": 4,
     "metadata": {},
     "output_type": "execute_result"
    }
   ],
   "source": [
    "# Division\n",
    "3/2"
   ]
  },
  {
   "cell_type": "code",
   "execution_count": 5,
   "id": "8c837fcd-59ac-478c-b5d8-51d97c42c9f7",
   "metadata": {},
   "outputs": [
    {
     "data": {
      "text/plain": [
       "1"
      ]
     },
     "execution_count": 5,
     "metadata": {},
     "output_type": "execute_result"
    }
   ],
   "source": [
    "# Floor Division\n",
    "7//4"
   ]
  },
  {
   "cell_type": "code",
   "execution_count": 7,
   "id": "5a144e1d-72c0-4731-b222-6d96420fb908",
   "metadata": {},
   "outputs": [
    {
     "data": {
      "text/plain": [
       "2"
      ]
     },
     "execution_count": 7,
     "metadata": {},
     "output_type": "execute_result"
    }
   ],
   "source": [
    "# Modulus - remainder\n",
    "98 % 3"
   ]
  },
  {
   "cell_type": "code",
   "execution_count": 6,
   "id": "aa9f5d42-2d30-4c1b-abc8-3bfdceb089c9",
   "metadata": {},
   "outputs": [
    {
     "data": {
      "text/plain": [
       "1024"
      ]
     },
     "execution_count": 6,
     "metadata": {},
     "output_type": "execute_result"
    }
   ],
   "source": [
    "# Exponentiation\n",
    "2**10"
   ]
  },
  {
   "cell_type": "markdown",
   "id": "6300d7c9-77f6-4b92-8341-b03636a3ca31",
   "metadata": {},
   "source": [
    "## operators on variables"
   ]
  },
  {
   "cell_type": "code",
   "execution_count": 30,
   "id": "3af49802-26f9-44ca-9953-a5b09fe7d142",
   "metadata": {},
   "outputs": [
    {
     "data": {
      "text/plain": [
       "30"
      ]
     },
     "execution_count": 30,
     "metadata": {},
     "output_type": "execute_result"
    }
   ],
   "source": [
    "a = 10\n",
    "b = 20\n",
    "a + b"
   ]
  },
  {
   "cell_type": "code",
   "execution_count": 31,
   "id": "7b63ee70-9427-4b91-ac5d-abf8b96d2f6f",
   "metadata": {},
   "outputs": [
    {
     "data": {
      "text/plain": [
       "10"
      ]
     },
     "execution_count": 31,
     "metadata": {},
     "output_type": "execute_result"
    }
   ],
   "source": [
    "b - a"
   ]
  },
  {
   "cell_type": "code",
   "execution_count": 33,
   "id": "2ca60489-411c-4e66-81d6-65568efeaa97",
   "metadata": {},
   "outputs": [
    {
     "data": {
      "text/plain": [
       "200"
      ]
     },
     "execution_count": 33,
     "metadata": {},
     "output_type": "execute_result"
    }
   ],
   "source": [
    "a * b"
   ]
  },
  {
   "cell_type": "code",
   "execution_count": 32,
   "id": "f9c3459e-80e8-4522-8158-a5a38e434106",
   "metadata": {},
   "outputs": [
    {
     "data": {
      "text/plain": [
       "2.0"
      ]
     },
     "execution_count": 32,
     "metadata": {},
     "output_type": "execute_result"
    }
   ],
   "source": [
    "b / a"
   ]
  },
  {
   "cell_type": "code",
   "execution_count": 34,
   "id": "2b808016-54a5-4288-bada-ef8460d5b309",
   "metadata": {},
   "outputs": [
    {
     "data": {
      "text/plain": [
       "2"
      ]
     },
     "execution_count": 34,
     "metadata": {},
     "output_type": "execute_result"
    }
   ],
   "source": [
    "b // a"
   ]
  },
  {
   "cell_type": "code",
   "execution_count": 35,
   "id": "bce0d487-8086-455c-923f-442527da8f3a",
   "metadata": {},
   "outputs": [
    {
     "data": {
      "text/plain": [
       "0"
      ]
     },
     "execution_count": 35,
     "metadata": {},
     "output_type": "execute_result"
    }
   ],
   "source": [
    "b % a"
   ]
  },
  {
   "cell_type": "code",
   "execution_count": 36,
   "id": "bd9a2822-d5e5-4f20-8a8a-e9daa6157794",
   "metadata": {},
   "outputs": [
    {
     "data": {
      "text/plain": [
       "10240000000000"
      ]
     },
     "execution_count": 36,
     "metadata": {},
     "output_type": "execute_result"
    }
   ],
   "source": [
    "b ** a"
   ]
  },
  {
   "cell_type": "markdown",
   "id": "f0b0cb29-3859-4e4f-bbfe-690fb5a278ba",
   "metadata": {},
   "source": [
    "# Arithmetic Operations on String\n",
    "Could we apply arithmetic operators on String?"
   ]
  },
  {
   "cell_type": "markdown",
   "id": "aa270268-f2f2-421c-93c6-ec1da5b4ae4b",
   "metadata": {},
   "source": [
    "## Concatenating Strings with +\n"
   ]
  },
  {
   "cell_type": "code",
   "execution_count": 10,
   "id": "4b9e9b41-e705-432e-8646-5780da063dfa",
   "metadata": {},
   "outputs": [
    {
     "data": {
      "text/plain": [
       "'Hello, World!'"
      ]
     },
     "execution_count": 10,
     "metadata": {},
     "output_type": "execute_result"
    }
   ],
   "source": [
    "a = \"Hello\"\n",
    "b = \", \"\n",
    "c = \"World!\"\n",
    "a+b+c"
   ]
  },
  {
   "cell_type": "code",
   "execution_count": 11,
   "id": "1f7b54cf-ca7b-4fa2-adda-bc0f134fe133",
   "metadata": {},
   "outputs": [
    {
     "data": {
      "text/plain": [
       "'Hello, World!'"
      ]
     },
     "execution_count": 11,
     "metadata": {},
     "output_type": "execute_result"
    }
   ],
   "source": [
    "\"Hello\" + \", \" + \"World!\""
   ]
  },
  {
   "cell_type": "markdown",
   "id": "e3c60962-5e63-46bb-a33a-bfde52616a0a",
   "metadata": {},
   "source": [
    "## Multiplying Strings with *\n",
    "\n",
    "In this example, we multiply a string by an integer using the * operator.   "
   ]
  },
  {
   "cell_type": "code",
   "execution_count": 14,
   "id": "c34e8951-f243-4192-b251-448f491726d9",
   "metadata": {},
   "outputs": [
    {
     "data": {
      "text/plain": [
       "'HelloHelloHello'"
      ]
     },
     "execution_count": 14,
     "metadata": {},
     "output_type": "execute_result"
    }
   ],
   "source": [
    "s1 = \"Hello\"\n",
    "result = s1 * 3\n",
    "result"
   ]
  },
  {
   "cell_type": "code",
   "execution_count": null,
   "id": "36ffe0eb-8d15-40ec-850a-5ac0ec694233",
   "metadata": {},
   "outputs": [],
   "source": [
    "This works because, like the + operator, the * operator is overloaded     \n",
    "in Python to work with strings as well as numbers.   \n",
    "When we use the * operator with a string and an integer,   \n",
    "it repeats the string a specified number of times."
   ]
  },
  {
   "cell_type": "code",
   "execution_count": 27,
   "id": "b2c64d04-9da9-4107-abc8-8acd1bc224cc",
   "metadata": {},
   "outputs": [
    {
     "name": "stdout",
     "output_type": "stream",
     "text": [
      "Hellow, World!\n",
      "Hellow, World!\n",
      "\n"
     ]
    }
   ],
   "source": [
    "print(\"Hellow, World!\\n\"*2)"
   ]
  },
  {
   "cell_type": "code",
   "execution_count": 25,
   "id": "a6484111-cfa5-4a50-acb4-c4e684b43558",
   "metadata": {},
   "outputs": [
    {
     "name": "stdout",
     "output_type": "stream",
     "text": [
      "--------------------------------------------------------------------------------\n"
     ]
    }
   ],
   "source": [
    "print(\"-\"*80)"
   ]
  },
  {
   "cell_type": "code",
   "execution_count": 26,
   "id": "819c0737-9490-4b07-b8bf-894a04f39d2b",
   "metadata": {},
   "outputs": [
    {
     "name": "stdout",
     "output_type": "stream",
     "text": [
      "********************************************************************************\n",
      "********************************************************************************\n",
      "********************************************************************************\n",
      "********************************************************************************\n",
      "\n"
     ]
    }
   ],
   "source": [
    "print((\"*\"*80 + \"\\n\")*4)"
   ]
  },
  {
   "cell_type": "markdown",
   "id": "71714f1b-5aa2-4710-a9c6-66336966eeae",
   "metadata": {},
   "source": [
    "## Performing Arithmetic Operations inside Strings (Doesn't Work)\n",
    "\n",
    "Try to add two strings together that represent numbers. "
   ]
  },
  {
   "cell_type": "code",
   "execution_count": 16,
   "id": "afccc1bf-d9ab-461a-8533-831414b1a52f",
   "metadata": {},
   "outputs": [
    {
     "name": "stdout",
     "output_type": "stream",
     "text": [
      "52\n"
     ]
    }
   ],
   "source": [
    "a = \"5\"\n",
    "b = \"2\"\n",
    "c = a + b\n",
    "print(c)"
   ]
  },
  {
   "cell_type": "markdown",
   "id": "dc562301-fdfc-4d2d-abaa-cbe08737e5c0",
   "metadata": {},
   "source": [
    "Instead of performing addition, Python concatenates the two strings together, resulting in the string \"52\".   \n",
    "\n",
    "This is because Python treats strings as text, not numbers, so it doesn't perform arithmetic operations on them."
   ]
  },
  {
   "cell_type": "markdown",
   "id": "ac8879c4-c13e-4761-9a79-2d0ffc2916e6",
   "metadata": {},
   "source": [
    "## Solution 1 - Convert strings to numbers before arithmetic operations"
   ]
  },
  {
   "cell_type": "code",
   "execution_count": 17,
   "id": "d5baed7c-50ac-4c93-8367-30cd6b2484ac",
   "metadata": {},
   "outputs": [
    {
     "data": {
      "text/plain": [
       "7"
      ]
     },
     "execution_count": 17,
     "metadata": {},
     "output_type": "execute_result"
    }
   ],
   "source": [
    "# perform arithmetic on numbers in strings\n",
    "c = int(a) + int(b)\n",
    "c"
   ]
  },
  {
   "cell_type": "markdown",
   "id": "1c62bf6f-b560-48fd-a123-8ec9361f596b",
   "metadata": {},
   "source": [
    "## Solution 2 - Use eval() function\n",
    "\n",
    "The eval() function can be used to evaluate mathematical expressions written as strings in Python. \n"
   ]
  },
  {
   "cell_type": "code",
   "execution_count": 21,
   "id": "a38392e4-ce28-4301-8ae2-17f8a70ab221",
   "metadata": {},
   "outputs": [
    {
     "name": "stdout",
     "output_type": "stream",
     "text": [
      "5 + 2\n",
      "7\n"
     ]
    }
   ],
   "source": [
    "expr = \"5 + 2\"\n",
    "print(expr)\n",
    "value = eval(expr)\n",
    "print(value)"
   ]
  },
  {
   "cell_type": "markdown",
   "id": "f1956534-e146-4986-ba03-6bbb52098435",
   "metadata": {},
   "source": [
    "# Assignment Operators\n",
    "\n",
    " | Operator | Example | Same As | \n",
    " | -------- | -------------- | -------- | \n",
    " | = | x = 5 | x = 5 | \n",
    " | += | x += 3 | x = x + 3 | \n",
    " | -= | x -= 3 | x = x - 3 | \n",
    " | *= | x *= 3 | x = x * 3 | \n",
    " | /= | x /= 3 | x = x / 3 | \n",
    " | %= | x %= 3 | x = x % 3 | \n",
    " | //= | x //= 3 | x = x // 3 | \n",
    " | **= | x **= 3 | x = x ** 3 | \n",
    " | &= | x &= 3 | x = x & 3 | \n",
    " |  \\|= | x  \\| = 3 | x = x \\| 3 | \n",
    " | ^= | x ^= 3 | x = x^3 | \n",
    " | >>= | x >>= 3 | x = x >> 3 | \n",
    " | <<= | x <<= 3 | x = x << 3 | "
   ]
  },
  {
   "cell_type": "code",
   "execution_count": 37,
   "id": "1246f4c6-0771-4424-ae58-edba3be2240d",
   "metadata": {},
   "outputs": [],
   "source": [
    "a = 10\n",
    "b = 20"
   ]
  },
  {
   "cell_type": "code",
   "execution_count": 38,
   "id": "76eccb84-e3a4-4fed-ab43-05945933e47a",
   "metadata": {
    "tags": []
   },
   "outputs": [],
   "source": [
    "c = a + b"
   ]
  },
  {
   "cell_type": "code",
   "execution_count": 41,
   "id": "115aff3e-3cfa-4296-803c-b6a8697b2ab7",
   "metadata": {},
   "outputs": [
    {
     "data": {
      "text/plain": [
       "int"
      ]
     },
     "execution_count": 41,
     "metadata": {},
     "output_type": "execute_result"
    }
   ],
   "source": [
    "type(c)"
   ]
  },
  {
   "cell_type": "code",
   "execution_count": 39,
   "id": "72fffd95-8333-4727-b82d-1227b2e897b5",
   "metadata": {
    "tags": []
   },
   "outputs": [],
   "source": [
    "i = 1"
   ]
  },
  {
   "cell_type": "code",
   "execution_count": 40,
   "id": "fd4de12c-8213-44bf-a6c4-56010efc7c7b",
   "metadata": {
    "tags": []
   },
   "outputs": [
    {
     "data": {
      "text/plain": [
       "int"
      ]
     },
     "execution_count": 40,
     "metadata": {},
     "output_type": "execute_result"
    }
   ],
   "source": [
    "type(i)"
   ]
  },
  {
   "cell_type": "code",
   "execution_count": 43,
   "id": "c393aa41-6443-4f7d-a467-4e8ec81856ac",
   "metadata": {
    "tags": []
   },
   "outputs": [
    {
     "data": {
      "text/plain": [
       "11"
      ]
     },
     "execution_count": 43,
     "metadata": {},
     "output_type": "execute_result"
    }
   ],
   "source": [
    "i + a"
   ]
  },
  {
   "cell_type": "code",
   "execution_count": 42,
   "id": "70653a12-8316-4195-83d1-b093a6381f46",
   "metadata": {
    "tags": []
   },
   "outputs": [
    {
     "data": {
      "text/plain": [
       "int"
      ]
     },
     "execution_count": 42,
     "metadata": {},
     "output_type": "execute_result"
    }
   ],
   "source": [
    "type(i + a)"
   ]
  },
  {
   "cell_type": "code",
   "execution_count": 48,
   "id": "9d61c207-bd4d-4adc-af3f-5e4c4fda94e9",
   "metadata": {},
   "outputs": [
    {
     "data": {
      "text/plain": [
       "15"
      ]
     },
     "execution_count": 48,
     "metadata": {},
     "output_type": "execute_result"
    }
   ],
   "source": [
    "a = 10\n",
    "a += 5\n",
    "a"
   ]
  },
  {
   "cell_type": "code",
   "execution_count": 49,
   "id": "bebcb2ca-1bd2-45b1-8610-6b375243f246",
   "metadata": {},
   "outputs": [
    {
     "data": {
      "text/plain": [
       "10"
      ]
     },
     "execution_count": 49,
     "metadata": {},
     "output_type": "execute_result"
    }
   ],
   "source": [
    "a -= 5\n",
    "a"
   ]
  },
  {
   "cell_type": "code",
   "execution_count": 50,
   "id": "6b61913a-7361-4bb9-bec8-9a54b2ae6aab",
   "metadata": {},
   "outputs": [
    {
     "data": {
      "text/plain": [
       "20"
      ]
     },
     "execution_count": 50,
     "metadata": {},
     "output_type": "execute_result"
    }
   ],
   "source": [
    "a *= 2\n",
    "a"
   ]
  },
  {
   "cell_type": "code",
   "execution_count": 51,
   "id": "08780224-2c88-4b8d-9cf6-239ed295345d",
   "metadata": {},
   "outputs": [
    {
     "data": {
      "text/plain": [
       "5.0"
      ]
     },
     "execution_count": 51,
     "metadata": {},
     "output_type": "execute_result"
    }
   ],
   "source": [
    "a /=4\n",
    "a"
   ]
  },
  {
   "cell_type": "code",
   "execution_count": 52,
   "id": "1c5b1c3a-fbce-411d-963f-ed4e48138b4a",
   "metadata": {},
   "outputs": [
    {
     "data": {
      "text/plain": [
       "2.0"
      ]
     },
     "execution_count": 52,
     "metadata": {},
     "output_type": "execute_result"
    }
   ],
   "source": [
    "a %= 3\n",
    "a"
   ]
  },
  {
   "cell_type": "code",
   "execution_count": 54,
   "id": "6d266493-5c2d-4a34-ac6e-2b5edafe8fe3",
   "metadata": {},
   "outputs": [
    {
     "data": {
      "text/plain": [
       "8.0"
      ]
     },
     "execution_count": 54,
     "metadata": {},
     "output_type": "execute_result"
    }
   ],
   "source": [
    "a **= 3\n",
    "a"
   ]
  },
  {
   "cell_type": "code",
   "execution_count": 55,
   "id": "acb62968-2a78-4c5f-a4f8-b36006ada041",
   "metadata": {},
   "outputs": [
    {
     "data": {
      "text/plain": [
       "10"
      ]
     },
     "execution_count": 55,
     "metadata": {},
     "output_type": "execute_result"
    }
   ],
   "source": [
    "a = int(a)\n",
    "a ^= 2\n",
    "a"
   ]
  },
  {
   "cell_type": "markdown",
   "id": "0e114959-de55-40a0-9ea2-fd35dda758cb",
   "metadata": {},
   "source": [
    "What is this ^ opeator in Python?\n",
    "^ = XOR operator "
   ]
  },
  {
   "cell_type": "code",
   "execution_count": 57,
   "id": "fb6cdfa2-5d99-49e3-a4c6-04dc958a2b69",
   "metadata": {},
   "outputs": [
    {
     "data": {
      "text/plain": [
       "10"
      ]
     },
     "execution_count": 57,
     "metadata": {},
     "output_type": "execute_result"
    }
   ],
   "source": [
    "# XO in binary:\n",
    "#   100 XOR 10 = 110  \n",
    "#   110 in binary = 10 in decimal\n",
    "\n",
    "8^2"
   ]
  },
  {
   "cell_type": "code",
   "execution_count": 58,
   "id": "620c4e42-7080-4efd-9ad4-d7859e5d4fc3",
   "metadata": {},
   "outputs": [
    {
     "data": {
      "text/plain": [
       "1"
      ]
     },
     "execution_count": 58,
     "metadata": {},
     "output_type": "execute_result"
    }
   ],
   "source": [
    "3 ^ 2"
   ]
  },
  {
   "cell_type": "markdown",
   "id": "0966bfc9-10fd-42ba-a412-bd6823ee721d",
   "metadata": {},
   "source": [
    "### Math functions\n",
    "- **abs()** Returns absolute value of a number\n",
    "- **pow()** Raises a number to a power\n",
    "- **round()** Rounds a floating-point value"
   ]
  },
  {
   "cell_type": "code",
   "execution_count": 15,
   "id": "499874a5-f71d-4a66-b64c-e370b054f6cc",
   "metadata": {
    "collapsed": true,
    "jupyter": {
     "outputs_hidden": true
    }
   },
   "outputs": [
    {
     "data": {
      "text/plain": [
       "2"
      ]
     },
     "execution_count": 15,
     "metadata": {},
     "output_type": "execute_result"
    }
   ],
   "source": [
    "abs(-2)"
   ]
  },
  {
   "cell_type": "code",
   "execution_count": 16,
   "id": "0464bdb4-599e-4595-af79-41d6ec3b3110",
   "metadata": {
    "collapsed": true,
    "jupyter": {
     "outputs_hidden": true
    }
   },
   "outputs": [
    {
     "data": {
      "text/plain": [
       "8"
      ]
     },
     "execution_count": 16,
     "metadata": {},
     "output_type": "execute_result"
    }
   ],
   "source": [
    "pow(2, 3)"
   ]
  },
  {
   "cell_type": "code",
   "execution_count": 17,
   "id": "907c4250-bf3c-400e-8c6e-d72e0abb7175",
   "metadata": {
    "collapsed": true,
    "jupyter": {
     "outputs_hidden": true
    }
   },
   "outputs": [
    {
     "data": {
      "text/plain": [
       "8"
      ]
     },
     "execution_count": 17,
     "metadata": {},
     "output_type": "execute_result"
    }
   ],
   "source": [
    "2**3"
   ]
  },
  {
   "cell_type": "code",
   "execution_count": 18,
   "id": "3c2937a6-d06d-452a-afd2-371a58a9d35e",
   "metadata": {
    "collapsed": true,
    "jupyter": {
     "outputs_hidden": true
    }
   },
   "outputs": [
    {
     "data": {
      "text/plain": [
       "3.1"
      ]
     },
     "execution_count": 18,
     "metadata": {},
     "output_type": "execute_result"
    }
   ],
   "source": [
    "round(3.14, 1)"
   ]
  },
  {
   "cell_type": "code",
   "execution_count": 19,
   "id": "e2765ee9-4d84-4f92-b822-9e221557ddf9",
   "metadata": {
    "collapsed": true,
    "jupyter": {
     "outputs_hidden": true
    }
   },
   "outputs": [
    {
     "data": {
      "text/plain": [
       "1.2345"
      ]
     },
     "execution_count": 19,
     "metadata": {},
     "output_type": "execute_result"
    }
   ],
   "source": [
    "f = 1.234456778\n",
    "round(f, 4)"
   ]
  },
  {
   "cell_type": "markdown",
   "id": "c4d85249-63ec-4d70-b891-58b0ad6461fd",
   "metadata": {},
   "source": [
    "# Comparison Operators\n",
    "\n",
    "Comparison operators are used to compare two values:"
   ]
  },
  {
   "cell_type": "markdown",
   "id": "3ff1526e-3fac-4a41-99e4-73a0e83bba39",
   "metadata": {},
   "source": [
    "| Operator | Name                     | Example |\n",
    "|----------|--------------------------|---------|\n",
    "| ==       | Equal                    | x == y  |\n",
    "| !=       | Not equal                | x != y  |\n",
    "| >        | Greater than             | x > y   |\n",
    "| <        | Less than                | x < y   |\n",
    "| >=       | Greater than or equal to | x >= y  |\n",
    "| <=       | Less than or equal to    | x <= y  |\n"
   ]
  },
  {
   "cell_type": "markdown",
   "id": "2c6ab655-308e-4234-8781-793ec636db27",
   "metadata": {},
   "source": [
    "Let's now work through quick examples of each of these.\n",
    "\n",
    "#### Equal"
   ]
  },
  {
   "cell_type": "code",
   "execution_count": 1,
   "id": "778cc7a5-01bf-4f71-99d8-ef7c7489357c",
   "metadata": {},
   "outputs": [
    {
     "data": {
      "text/plain": [
       "True"
      ]
     },
     "execution_count": 1,
     "metadata": {},
     "output_type": "execute_result"
    }
   ],
   "source": [
    "2 == 2"
   ]
  },
  {
   "cell_type": "code",
   "execution_count": 2,
   "id": "c5849718-6c99-44c5-9e8d-09b7f1dbd694",
   "metadata": {},
   "outputs": [
    {
     "data": {
      "text/plain": [
       "False"
      ]
     },
     "execution_count": 2,
     "metadata": {},
     "output_type": "execute_result"
    }
   ],
   "source": [
    "1 == 0"
   ]
  },
  {
   "cell_type": "markdown",
   "id": "f05455cd-a347-40ea-8daf-67302e14dbda",
   "metadata": {},
   "source": [
    "Note that <code>==</code> is a <em>comparison</em> operator, while <code>=</code> is an <em>assignment</em> operator."
   ]
  },
  {
   "cell_type": "markdown",
   "id": "f8a8c9d0-b7c0-42ce-a0f2-38b94eb2e210",
   "metadata": {},
   "source": [
    "#### Not Equal"
   ]
  },
  {
   "cell_type": "code",
   "execution_count": 3,
   "id": "82981f7e-759a-4c79-8895-9759e9220cf4",
   "metadata": {},
   "outputs": [
    {
     "data": {
      "text/plain": [
       "True"
      ]
     },
     "execution_count": 3,
     "metadata": {},
     "output_type": "execute_result"
    }
   ],
   "source": [
    "2 != 1"
   ]
  },
  {
   "cell_type": "code",
   "execution_count": 4,
   "id": "7b45e768-c1b3-4a58-b4b5-51592b386e4b",
   "metadata": {},
   "outputs": [
    {
     "data": {
      "text/plain": [
       "False"
      ]
     },
     "execution_count": 4,
     "metadata": {},
     "output_type": "execute_result"
    }
   ],
   "source": [
    "2 != 2"
   ]
  },
  {
   "cell_type": "markdown",
   "id": "74b2e148-cf61-46d3-99dd-5ddab3fd61b4",
   "metadata": {},
   "source": [
    "#### Greater Than"
   ]
  },
  {
   "cell_type": "code",
   "execution_count": 5,
   "id": "96ba93e4-2a20-4a20-95f9-441125d4a811",
   "metadata": {},
   "outputs": [
    {
     "data": {
      "text/plain": [
       "True"
      ]
     },
     "execution_count": 5,
     "metadata": {},
     "output_type": "execute_result"
    }
   ],
   "source": [
    "2 > 1"
   ]
  },
  {
   "cell_type": "code",
   "execution_count": 6,
   "id": "10aec8bb-3e10-425c-81bb-2464473a4c64",
   "metadata": {},
   "outputs": [
    {
     "data": {
      "text/plain": [
       "False"
      ]
     },
     "execution_count": 6,
     "metadata": {},
     "output_type": "execute_result"
    }
   ],
   "source": [
    "2 > 4"
   ]
  },
  {
   "cell_type": "markdown",
   "id": "74adf194-b74b-4d85-8441-8b57643174b9",
   "metadata": {},
   "source": [
    "#### Less Than"
   ]
  },
  {
   "cell_type": "code",
   "execution_count": 7,
   "id": "ecbaab45-d146-4e1f-9c24-8ef9f1376458",
   "metadata": {},
   "outputs": [
    {
     "data": {
      "text/plain": [
       "True"
      ]
     },
     "execution_count": 7,
     "metadata": {},
     "output_type": "execute_result"
    }
   ],
   "source": [
    "2 < 4"
   ]
  },
  {
   "cell_type": "code",
   "execution_count": 8,
   "id": "246a682a-fc7f-4a35-88d0-85fe39303db0",
   "metadata": {},
   "outputs": [
    {
     "data": {
      "text/plain": [
       "False"
      ]
     },
     "execution_count": 8,
     "metadata": {},
     "output_type": "execute_result"
    }
   ],
   "source": [
    "2 < 1"
   ]
  },
  {
   "cell_type": "markdown",
   "id": "fb1236d8-37a5-4e12-a70a-225e02abc45b",
   "metadata": {},
   "source": [
    "#### Greater Than or Equal to"
   ]
  },
  {
   "cell_type": "code",
   "execution_count": 9,
   "id": "3d245a63-86cb-4860-85fe-28282f41cf07",
   "metadata": {},
   "outputs": [
    {
     "data": {
      "text/plain": [
       "True"
      ]
     },
     "execution_count": 9,
     "metadata": {},
     "output_type": "execute_result"
    }
   ],
   "source": [
    "2 >= 2"
   ]
  },
  {
   "cell_type": "code",
   "execution_count": 10,
   "id": "f459810a-051b-41cc-a397-8b20356f5085",
   "metadata": {},
   "outputs": [
    {
     "data": {
      "text/plain": [
       "True"
      ]
     },
     "execution_count": 10,
     "metadata": {},
     "output_type": "execute_result"
    }
   ],
   "source": [
    "2 >= 1"
   ]
  },
  {
   "cell_type": "markdown",
   "id": "5c6f7f8a-3d81-4c78-a304-4128487785a1",
   "metadata": {},
   "source": [
    "#### Less than or Equal to"
   ]
  },
  {
   "cell_type": "code",
   "execution_count": 11,
   "id": "409d8e4b-9b80-4114-b456-c07cba88c591",
   "metadata": {},
   "outputs": [
    {
     "data": {
      "text/plain": [
       "True"
      ]
     },
     "execution_count": 11,
     "metadata": {},
     "output_type": "execute_result"
    }
   ],
   "source": [
    "2 <= 2"
   ]
  },
  {
   "cell_type": "code",
   "execution_count": 12,
   "id": "39128fca-b074-4fb1-bd4a-167ebb1eb740",
   "metadata": {},
   "outputs": [
    {
     "data": {
      "text/plain": [
       "True"
      ]
     },
     "execution_count": 12,
     "metadata": {},
     "output_type": "execute_result"
    }
   ],
   "source": [
    "2 <= 4"
   ]
  },
  {
   "cell_type": "markdown",
   "id": "823656c4-f0a5-47f7-a17c-a938bd7e58d1",
   "metadata": {},
   "source": [
    "# Logical Operators"
   ]
  },
  {
   "cell_type": "markdown",
   "id": "4d130637-ba9d-4741-9443-ac83a29718ed",
   "metadata": {},
   "source": [
    "| Operator | Description                                             | Example               |\n",
    "|----------|---------------------------------------------------------|-----------------------|\n",
    "| and      | Returns True if both statements are true                | x < 5 and  x < 10     |\n",
    "| or       | Returns True if one of the statements is true           | x < 5 or x < 4        |\n",
    "| not      | Reverse the result, returns False if the result is true | not(x < 5 and x < 10) |\n"
   ]
  },
  {
   "cell_type": "code",
   "execution_count": 61,
   "id": "8d13dd07-468d-4f4c-ab79-2d20be3f32a2",
   "metadata": {},
   "outputs": [],
   "source": [
    "P = (10 == 9)\n",
    "Q = (7 > 5)"
   ]
  },
  {
   "cell_type": "code",
   "execution_count": 62,
   "id": "17ef0251-c892-4f52-afbd-286759abf3de",
   "metadata": {},
   "outputs": [
    {
     "name": "stdout",
     "output_type": "stream",
     "text": [
      "False\n"
     ]
    }
   ],
   "source": [
    "# Logical Expressions\n",
    "R = P and Q\n",
    "print(R)"
   ]
  },
  {
   "cell_type": "code",
   "execution_count": null,
   "id": "552a2c64-1074-4cfa-b093-707221a64ba7",
   "metadata": {},
   "outputs": [],
   "source": [
    "S = P or Q\n",
    "print(S)"
   ]
  },
  {
   "cell_type": "code",
   "execution_count": 63,
   "id": "21b93726-6dcc-45a1-8ab2-1f2651ae5d4b",
   "metadata": {},
   "outputs": [
    {
     "name": "stdout",
     "output_type": "stream",
     "text": [
      "True\n"
     ]
    }
   ],
   "source": [
    "T = not P\n",
    "print(T)"
   ]
  },
  {
   "cell_type": "code",
   "execution_count": 70,
   "id": "71b14659-03bf-48fa-aa42-ba41adb42ca4",
   "metadata": {},
   "outputs": [
    {
     "name": "stdout",
     "output_type": "stream",
     "text": [
      "False\n"
     ]
    }
   ],
   "source": [
    "a = \"Hello\"\n",
    "b = \"hello\"\n",
    "c = a == b\n",
    "print(c)"
   ]
  },
  {
   "cell_type": "code",
   "execution_count": 71,
   "id": "64c0a8b6-1c8e-4163-b585-74f2d8e44c81",
   "metadata": {},
   "outputs": [
    {
     "name": "stdout",
     "output_type": "stream",
     "text": [
      "True\n"
     ]
    }
   ],
   "source": [
    "a = \"Hello\"\n",
    "b = \"hello\"\n",
    "c = a.lower() ==  b\n",
    "print(c)"
   ]
  },
  {
   "cell_type": "markdown",
   "id": "b15d371c-cb6b-47a0-8cb8-7145f17bd351",
   "metadata": {},
   "source": [
    "# Identity Operators"
   ]
  },
  {
   "cell_type": "markdown",
   "id": "39416717-aec7-4ed9-8e4a-296732fa2031",
   "metadata": {},
   "source": [
    "| Operator | Description                                            | Example    |\n",
    "|----------|--------------------------------------------------------|------------|\n",
    "| is       | Returns True if both variables are the same object     | x is y     |\n",
    "| is not   | Returns True if both variables are not the same object | x is not y |"
   ]
  },
  {
   "cell_type": "markdown",
   "id": "cd0061e6-fb2e-4796-9ab8-bb8e802f1400",
   "metadata": {},
   "source": [
    "# Operator Precedence\n",
    "\n",
    "Multiple operators in expression (Operator Precedence)\n",
    "\n",
    "if there is more than one operator in an expression, it may give different results on basis of the order of operators executed. To sort out these confusions, the operator precedence is defined. Operator Precedence simply defines the priority of operators that which operator is to be executed first. Here we see the operator precedence in Python, where the operator higher in the list has more precedence or priority:\n"
   ]
  },
  {
   "cell_type": "markdown",
   "id": "d20613fd-0874-4314-bc5c-7cae3581526a",
   "metadata": {},
   "source": [
    "| Precedence | Name                              | Operator               |\n",
    "|------------|-----------------------------------|------------------------|\n",
    "| 1          | Parenthesis                       | ( ) [ ] { }            |\n",
    "| 2          | Exponentiation                    | **                     |\n",
    "| 3          | Unary plus or minus, complement   | -a , +a , ~a           |\n",
    "| 4          | Multiply, Divide, Modulo          | /  *  //  %            |\n",
    "| 5          | Addition & Subtraction            | +  –                   |\n",
    "| 6          | Shift Operators                   | >>  <<                 |\n",
    "| 7          | Bitwise AND                       | &                      |\n",
    "| 8          | Bitwise XOR                       | ^                      |\n",
    "| 9          | Bitwise OR                        | |                      |\n",
    "| 10         | Comparison Operators              | >=  <=  >  <           |\n",
    "| 11         | Equality Operators                | ==  !=                 |\n",
    "| 12         | Assignment Operators              | =  +=  -=  /=  *=      |\n",
    "| 13         | Identity and membership operators | is, is not, in, not in |\n",
    "| 14         | Logical Operators                 | and, or, not           |\n"
   ]
  },
  {
   "cell_type": "code",
   "execution_count": 64,
   "id": "5d056419-e6a4-4186-9cba-1ea0748c59c1",
   "metadata": {},
   "outputs": [
    {
     "name": "stdout",
     "output_type": "stream",
     "text": [
      "22\n"
     ]
    }
   ],
   "source": [
    "# Multi-operator expression\n",
    "a = 10 + 3 * 4\n",
    "print(a)"
   ]
  },
  {
   "cell_type": "code",
   "execution_count": 65,
   "id": "1fefa244-20eb-42ad-9f2b-1c83c8acba43",
   "metadata": {},
   "outputs": [
    {
     "name": "stdout",
     "output_type": "stream",
     "text": [
      "52\n"
     ]
    }
   ],
   "source": [
    "b = (10 + 3) * 4\n",
    "print(b)"
   ]
  },
  {
   "cell_type": "code",
   "execution_count": 66,
   "id": "0fcb95db-0b21-4d8a-b373-c5e7f0be5057",
   "metadata": {},
   "outputs": [
    {
     "name": "stdout",
     "output_type": "stream",
     "text": [
      "22\n"
     ]
    }
   ],
   "source": [
    "c = 10 + (3 * 4)\n",
    "print(c)"
   ]
  },
  {
   "cell_type": "code",
   "execution_count": null,
   "id": "c7a49b51-fbd5-42c8-bfeb-3a8f1b389b3e",
   "metadata": {},
   "outputs": [],
   "source": []
  }
 ],
 "metadata": {
  "kernelspec": {
   "display_name": "Python 3 (ipykernel)",
   "language": "python",
   "name": "python3"
  },
  "language_info": {
   "codemirror_mode": {
    "name": "ipython",
    "version": 3
   },
   "file_extension": ".py",
   "mimetype": "text/x-python",
   "name": "python",
   "nbconvert_exporter": "python",
   "pygments_lexer": "ipython3",
   "version": "3.9.12"
  }
 },
 "nbformat": 4,
 "nbformat_minor": 5
}

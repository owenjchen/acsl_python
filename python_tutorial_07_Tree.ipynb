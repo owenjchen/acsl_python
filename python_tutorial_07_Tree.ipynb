{
 "cells": [
  {
   "cell_type": "markdown",
   "metadata": {
    "id": "s39SnnxrZxsx"
   },
   "source": [
    "# Python Tutorials: Binary Tree and Tree Algorithms \n",
    "\n",
    "### Author: Dr. Owen Chen\n",
    "\n",
    "### Date: 2023/3/26\n"
   ]
  },
  {
   "cell_type": "markdown",
   "metadata": {},
   "source": [
    "<a id = \"tree\"></a>\n",
    "# Binary Tree\n",
    "\n",
    "A tree is a hierarchical data structure with a root node, left child, right child, and leave nodes.\n",
    "\n",
    "The topmost node of the tree is called the root whereas the bottommost nodes or the nodes with no children are called the leaf nodes. The nodes that are directly under a node are called its children and the nodes that are directly above something are called its parent.\n",
    "\n",
    "A binary tree is a tree whose elements can have almost two children. Since each element in a binary tree can have only 2 children, we typically name them the left and right children. A Binary Tree node contains the following parts.\n",
    "\n",
    "- Data\n",
    "- Pointer to left child\n",
    "- Pointer to the right child"
   ]
  },
  {
   "cell_type": "markdown",
   "metadata": {},
   "source": [
    "## Node Class"
   ]
  },
  {
   "cell_type": "code",
   "execution_count": 165,
   "metadata": {},
   "outputs": [],
   "source": [
    "class Node():\n",
    "    def __init__(self, data):\n",
    "        self.data = data\n",
    "        self.left = None\n",
    "        self.right = None  "
   ]
  },
  {
   "cell_type": "code",
   "execution_count": 166,
   "metadata": {},
   "outputs": [
    {
     "data": {
      "text/plain": [
       "<__main__.Node at 0x7fca18428910>"
      ]
     },
     "execution_count": 166,
     "metadata": {},
     "output_type": "execute_result"
    }
   ],
   "source": [
    "first = Node(2)\n",
    "first"
   ]
  },
  {
   "cell_type": "code",
   "execution_count": 167,
   "metadata": {},
   "outputs": [
    {
     "data": {
      "text/plain": [
       "2"
      ]
     },
     "execution_count": 167,
     "metadata": {},
     "output_type": "execute_result"
    }
   ],
   "source": [
    "first.data"
   ]
  },
  {
   "cell_type": "code",
   "execution_count": 168,
   "metadata": {},
   "outputs": [],
   "source": [
    "first.left"
   ]
  },
  {
   "cell_type": "code",
   "execution_count": 169,
   "metadata": {},
   "outputs": [],
   "source": [
    "first.right"
   ]
  },
  {
   "cell_type": "markdown",
   "metadata": {},
   "source": [
    "## Tree Class\n",
    "\n",
    "Each node is a Node class with data, left and right\n",
    "Insert() will create a node and addd it to the tree."
   ]
  },
  {
   "cell_type": "code",
   "execution_count": 219,
   "metadata": {},
   "outputs": [],
   "source": [
    "class Tree:\n",
    "    def __init__(self, root=None):\n",
    "        self.root = root   \n",
    "    \n",
    "    # Insert a node with data into the BST\n",
    "    def insert(self, data):\n",
    "        node = Node(data)\n",
    "        if self.root is None:\n",
    "            self.root = node\n",
    "        else:\n",
    "            current = self.root\n",
    "            while True:\n",
    "                if data < current.data:\n",
    "                    if current.left is None:\n",
    "                        current.left = node\n",
    "                        break \n",
    "                    current = current.left\n",
    "                else:\n",
    "                    if current.right is None:\n",
    "                        current.right = node\n",
    "                        break \n",
    "                    current = current.right\n",
    "\n",
    "    # Search for the node with data\n",
    "    def search(self, data):\n",
    "        current = self.root\n",
    "        while current is not None:\n",
    "            if current.data == data:\n",
    "                return current\n",
    "            current = current.left if data < current.data else current.right\n",
    "        return current\n",
    "    \n",
    "    # Find the node with the minimum value    \n",
    "    def find_min(self):\n",
    "        if self.root is None:\n",
    "            return None\n",
    "        current = self.root\n",
    "        while current.left is not None:\n",
    "            current = current.left\n",
    "        return current\n",
    "    \n",
    "    # Find the node with the maximum value\n",
    "    def find_max(self):\n",
    "        if self.root is None:\n",
    "            return None\n",
    "        current = self.root\n",
    "        while current.right is not None:\n",
    "            current = current.right\n",
    "        return current    "
   ]
  },
  {
   "cell_type": "code",
   "execution_count": 220,
   "metadata": {},
   "outputs": [],
   "source": [
    "mytree = Tree()\n",
    "for num in (7, 5, 9, 8, 15, 16, 18, 17):\n",
    "    mytree.insert(num)"
   ]
  },
  {
   "cell_type": "code",
   "execution_count": 221,
   "metadata": {},
   "outputs": [
    {
     "data": {
      "text/plain": [
       "7"
      ]
     },
     "execution_count": 221,
     "metadata": {},
     "output_type": "execute_result"
    }
   ],
   "source": [
    "mytree.root.data"
   ]
  },
  {
   "cell_type": "code",
   "execution_count": 222,
   "metadata": {},
   "outputs": [
    {
     "data": {
      "text/plain": [
       "5"
      ]
     },
     "execution_count": 222,
     "metadata": {},
     "output_type": "execute_result"
    }
   ],
   "source": [
    "root = mytree.root\n",
    "left = root.left\n",
    "left.data"
   ]
  },
  {
   "cell_type": "code",
   "execution_count": 223,
   "metadata": {},
   "outputs": [
    {
     "data": {
      "text/plain": [
       "9"
      ]
     },
     "execution_count": 223,
     "metadata": {},
     "output_type": "execute_result"
    }
   ],
   "source": [
    "root.right.data"
   ]
  },
  {
   "cell_type": "code",
   "execution_count": 224,
   "metadata": {},
   "outputs": [
    {
     "data": {
      "text/plain": [
       "8"
      ]
     },
     "execution_count": 224,
     "metadata": {},
     "output_type": "execute_result"
    }
   ],
   "source": [
    "root.right.left.data"
   ]
  },
  {
   "cell_type": "code",
   "execution_count": 225,
   "metadata": {},
   "outputs": [
    {
     "name": "stdout",
     "output_type": "stream",
     "text": [
      "Max node: 18\n",
      "Min node: 5\n",
      "17 found in the binary search tree! :D\n",
      "3 not found in the tree! :(\n",
      "-2 not found in the tree! :(\n",
      "8 found in the binary search tree! :D\n",
      "5 found in the binary search tree! :D\n"
     ]
    }
   ],
   "source": [
    "bst = Tree()\n",
    "for num in (7, 5, 9, 8, 15, 16, 18, 17):\n",
    "    bst.insert(num)\n",
    "max_node = bst.find_max()\n",
    "min_node = bst.find_min()\n",
    "print(f\"Max node: {max_node.data}\")\n",
    "print(f\"Min node: {min_node.data}\")\n",
    "for n in (17, 3, -2, 8, 5):\n",
    "    if bst.search(n) is not None:\n",
    "        print(f\"{n} found in the binary search tree! :D\")\n",
    "    else:\n",
    "        print(f\"{n} not found in the tree! :(\")"
   ]
  },
  {
   "cell_type": "markdown",
   "metadata": {},
   "source": [
    "## Tree Traversal Algorithms"
   ]
  },
  {
   "cell_type": "code",
   "execution_count": 226,
   "metadata": {},
   "outputs": [],
   "source": [
    "# Three forms of DFT\n",
    "def preorder_traversal(root):\n",
    "    if root is None:\n",
    "        return\n",
    "    print(root.data, end=\" \")\n",
    "    preorder_traversal(root.left)\n",
    "    preorder_traversal(root.right)\n",
    "    \n",
    "def inorder_traversal(root):\n",
    "    if root is None:\n",
    "        return\n",
    "    inorder_traversal(root.left)\n",
    "    print(root.data, end=\" \")\n",
    "    inorder_traversal(root.right)\n",
    "    \n",
    "def postorder_traversal(root):\n",
    "    if root is None:\n",
    "        return \n",
    "    postorder_traversal(root.left)\n",
    "    postorder_traversal(root.right)\n",
    "    print(root.data, end=\" \")"
   ]
  },
  {
   "cell_type": "code",
   "execution_count": 227,
   "metadata": {},
   "outputs": [],
   "source": [
    "from collections import deque\n",
    "# BFT\n",
    "def breadth_first_traversal(root):\n",
    "    if root is None:\n",
    "        return \n",
    "    q = deque()\n",
    "    q.append(root)\n",
    "    while len(q) != 0:\n",
    "        current = q.popleft()\n",
    "        print(current.data, end=\" \")\n",
    "        if current.left is not None:\n",
    "            q.append(current.left)\n",
    "        if current.right is not None:\n",
    "            q.append(current.right)"
   ]
  },
  {
   "cell_type": "code",
   "execution_count": 228,
   "metadata": {},
   "outputs": [
    {
     "name": "stdout",
     "output_type": "stream",
     "text": [
      "6 9 5 10 8 4 \n",
      "5 10 9 6 4 8 \n",
      "10 5 9 4 8 6 \n",
      "6 9 8 5 4 10 "
     ]
    }
   ],
   "source": [
    "#      6\n",
    "#     / \\\n",
    "#    9   8\n",
    "#   /   /\n",
    "#  5   4\n",
    "#   \\\n",
    "#   10\n",
    "n1 = Node(6)\n",
    "n2 = Node(9)\n",
    "n3 = Node(8)\n",
    "n4 = Node(5)\n",
    "n5 = Node(10)\n",
    "n6 = Node(4)\n",
    "tree = Tree(n1)\n",
    "n1.left = n2\n",
    "n1.right = n3\n",
    "n2.left = n4\n",
    "n4.right = n5\n",
    "n3.left = n6\n",
    "\n",
    "preorder_traversal(tree.root)\n",
    "print()\n",
    "inorder_traversal(tree.root)\n",
    "print()\n",
    "postorder_traversal(tree.root)\n",
    "print()\n",
    "breadth_first_traversal(tree.root)"
   ]
  },
  {
   "cell_type": "markdown",
   "metadata": {},
   "source": [
    "## Find Binary Tree Depth\n"
   ]
  },
  {
   "cell_type": "code",
   "execution_count": 229,
   "metadata": {},
   "outputs": [],
   "source": [
    "# Find the maximum depth of a binary tree\n",
    "# Use recursive function\n",
    "def treeDepth(root, depth=0):\n",
    "  if root == None:\n",
    "     return depth\n",
    "  return max(treeDepth(root.left,depth+1),treeDepth(root.right,depth+1))"
   ]
  },
  {
   "cell_type": "code",
   "execution_count": 230,
   "metadata": {},
   "outputs": [
    {
     "data": {
      "text/plain": [
       "<__main__.Tree at 0x7fca184505e0>"
      ]
     },
     "execution_count": 230,
     "metadata": {},
     "output_type": "execute_result"
    }
   ],
   "source": [
    "n1 = Node(6)\n",
    "tree = Tree(n1)\n",
    "for i in [3,9,4,10,8,5,2,11]:\n",
    "    tree.insert(i)\n",
    "tree"
   ]
  },
  {
   "cell_type": "code",
   "execution_count": 231,
   "metadata": {},
   "outputs": [],
   "source": [
    "### Print a Binary Tree"
   ]
  },
  {
   "cell_type": "code",
   "execution_count": 232,
   "metadata": {},
   "outputs": [],
   "source": [
    "def height(root):\n",
    "    if root is None:\n",
    "        return 0\n",
    "    return max(height(root.left), height(root.right))+1\n",
    " \n",
    " \n",
    "def getcol(h):\n",
    "    if h == 1:\n",
    "        return 1\n",
    "    return getcol(h-1) + getcol(h-1) + 1\n",
    " \n",
    " \n",
    "def printTree(M, root, col, row, height):\n",
    "    if root is None:\n",
    "        return\n",
    "    M[row][col] = root.data\n",
    "    printTree(M, root.left, col-pow(2, height-2), row+1, height-1)\n",
    "    printTree(M, root.right, col+pow(2, height-2), row+1, height-1)\n",
    " \n",
    " \n",
    "def TreePrinter(myTree):\n",
    "    h = height(myTree.root)\n",
    "    col = getcol(h)\n",
    "    M = [[0 for _ in range(col)] for __ in range(h)]\n",
    "    printTree(M, myTree.root, col//2, 0, h)\n",
    "    for i in M:\n",
    "        for j in i:\n",
    "            if j == 0:\n",
    "                print(\" \", end=\" \")\n",
    "            else:\n",
    "                print(j, end=\" \")\n",
    "        print(\"\")\n",
    " "
   ]
  },
  {
   "cell_type": "code",
   "execution_count": 233,
   "metadata": {},
   "outputs": [
    {
     "name": "stdout",
     "output_type": "stream",
     "text": [
      "              6               \n",
      "      3               9       \n",
      "  2       4       8       10   \n",
      "            5               11 \n"
     ]
    }
   ],
   "source": [
    "TreePrinter(tree)"
   ]
  },
  {
   "cell_type": "code",
   "execution_count": 235,
   "metadata": {},
   "outputs": [
    {
     "data": {
      "text/plain": [
       "4"
      ]
     },
     "execution_count": 235,
     "metadata": {},
     "output_type": "execute_result"
    }
   ],
   "source": [
    "treeDepth(tree.root)"
   ]
  },
  {
   "cell_type": "code",
   "execution_count": 236,
   "metadata": {},
   "outputs": [
    {
     "name": "stdout",
     "output_type": "stream",
     "text": [
      "6 3 2 4 5 9 8 10 11 "
     ]
    }
   ],
   "source": [
    "preorder_traversal(tree.root)"
   ]
  },
  {
   "cell_type": "code",
   "execution_count": 239,
   "metadata": {},
   "outputs": [
    {
     "name": "stdout",
     "output_type": "stream",
     "text": [
      "2 3 4 5 6 8 9 10 11 "
     ]
    }
   ],
   "source": [
    "inorder_traversal(tree.root)"
   ]
  },
  {
   "cell_type": "code",
   "execution_count": 237,
   "metadata": {},
   "outputs": [
    {
     "name": "stdout",
     "output_type": "stream",
     "text": [
      "2 5 4 3 8 11 10 9 6 "
     ]
    }
   ],
   "source": [
    "postorder_traversal(tree.root)"
   ]
  },
  {
   "cell_type": "code",
   "execution_count": 238,
   "metadata": {},
   "outputs": [
    {
     "name": "stdout",
     "output_type": "stream",
     "text": [
      "6 3 9 2 4 8 10 5 11 "
     ]
    }
   ],
   "source": [
    "breadth_first_traversal(tree.root)"
   ]
  },
  {
   "cell_type": "code",
   "execution_count": null,
   "metadata": {},
   "outputs": [],
   "source": []
  }
 ],
 "metadata": {
  "colab": {
   "collapsed_sections": [
    "_rehYX145nEk",
    "g4-XjayC8KO7"
   ],
   "name": "Lesson5-Python For Data Science-Python-Data-structure.ipynb",
   "provenance": [
    {
     "file_id": "https://github.com/paiml/python_for_datascience/blob/master/Lesson5_Python_For_Data_Science_Python_Data_structure.ipynb",
     "timestamp": 1679247223272
    }
   ]
  },
  "kernelspec": {
   "display_name": "Python 3 (ipykernel)",
   "language": "python",
   "name": "python3"
  },
  "language_info": {
   "codemirror_mode": {
    "name": "ipython",
    "version": 3
   },
   "file_extension": ".py",
   "mimetype": "text/x-python",
   "name": "python",
   "nbconvert_exporter": "python",
   "pygments_lexer": "ipython3",
   "version": "3.9.12"
  }
 },
 "nbformat": 4,
 "nbformat_minor": 4
}

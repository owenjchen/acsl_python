{
 "cells": [
  {
   "cell_type": "markdown",
   "id": "1905143e-c1b4-48bc-b7a3-f32bae9cd3ce",
   "metadata": {},
   "source": [
    "# Python Tutorials: Matrix Operations with Numpy\n",
    "\n",
    "### Author: Dr. Owen Chen\n",
    "\n",
    "### Date: 2023 Fall\n",
    "\n",
    "The easy way to conduct matrix operations in Python is to use Numpy!\n",
    "\n",
    "**NumPy** is an open-source Python library that we can use to perform high-level mathematical operations with arrays, matrices and linear algebra.\n",
    "\n",
    "The numpy array is a data structure representing multidimension arrays which is optimized for both memory and performance.\n"
   ]
  },
  {
   "cell_type": "code",
   "execution_count": 1,
   "id": "a8f88352-0d8b-47b9-875f-1737cdd35906",
   "metadata": {},
   "outputs": [
    {
     "name": "stdout",
     "output_type": "stream",
     "text": [
      "Requirement already satisfied: numpy in c:\\programdata\\anaconda3\\lib\\site-packages (1.23.4)\n"
     ]
    }
   ],
   "source": [
    "#Install Numpy:\n",
    "!pip install numpy"
   ]
  },
  {
   "cell_type": "code",
   "execution_count": 2,
   "id": "34df32f1-fb79-4640-8b5e-3429715ea807",
   "metadata": {},
   "outputs": [],
   "source": [
    "import numpy as np"
   ]
  },
  {
   "cell_type": "markdown",
   "id": "c413d19c-44f0-4ecc-ab9f-558629c5db48",
   "metadata": {},
   "source": [
    "## One dimention array in Numpy"
   ]
  },
  {
   "cell_type": "code",
   "execution_count": 104,
   "id": "14957809-342f-42c0-a977-8b4f85446cfd",
   "metadata": {},
   "outputs": [
    {
     "data": {
      "text/plain": [
       "array([1, 2, 3, 4, 5])"
      ]
     },
     "execution_count": 104,
     "metadata": {},
     "output_type": "execute_result"
    }
   ],
   "source": [
    "arr = np.array([1, 2, 3, 4, 5])\n",
    "arr"
   ]
  },
  {
   "cell_type": "markdown",
   "id": "9a2bb282-965c-44f5-819d-2b0cba7fd84a",
   "metadata": {},
   "source": [
    "## Two dimension array - Matrix"
   ]
  },
  {
   "cell_type": "code",
   "execution_count": 105,
   "id": "b87d79e7-9cc7-4f88-a555-fc90841f8000",
   "metadata": {},
   "outputs": [
    {
     "data": {
      "text/plain": [
       "array([[1, 2, 3],\n",
       "       [4, 5, 6],\n",
       "       [7, 8, 9]])"
      ]
     },
     "execution_count": 105,
     "metadata": {},
     "output_type": "execute_result"
    }
   ],
   "source": [
    "mat = np.array([[1, 2, 3], [4, 5, 6],[7, 8, 9]])\n",
    "mat"
   ]
  },
  {
   "cell_type": "markdown",
   "id": "d36263ec-9d2a-4c77-aed8-1e60924fcf7a",
   "metadata": {
    "id": "W7mqP9swyh5d"
   },
   "source": [
    "### Create a numpy array from a list of lists"
   ]
  },
  {
   "cell_type": "code",
   "execution_count": null,
   "id": "a8ee3441-f87a-4a21-82bd-ecaaa8fecd06",
   "metadata": {
    "colab": {
     "base_uri": "https://localhost:8080/",
     "height": 85
    },
    "id": "NOAicBI_ynGz",
    "outputId": "188d1747-f144-47ea-b9d6-887b3b1e88d8"
   },
   "outputs": [
    {
     "data": {
      "text/plain": [
       "array([[ 1,  2,  3,  4],\n",
       "       [ 5,  6,  7,  8],\n",
       "       [ 9, 10, 11, 12],\n",
       "       [13, 14, 15, 16]])"
      ]
     },
     "execution_count": 82,
     "metadata": {
      "tags": []
     },
     "output_type": "execute_result"
    }
   ],
   "source": [
    "import numpy as np\n",
    "list_of_lists = [[1, 2, 3, 4], [5, 6, 7, 8], [9, 10, 11, 12], [13, 14, 15, 16]]\n",
    "\n",
    "np_array = np.array(list_of_lists)\n",
    "\n",
    "np_array"
   ]
  },
  {
   "cell_type": "markdown",
   "id": "0950e4b7-8c48-4fcd-8675-6f03d806812a",
   "metadata": {
    "id": "0eHeRfdAyzTY"
   },
   "source": [
    "### Initialize an array of zeros"
   ]
  },
  {
   "cell_type": "code",
   "execution_count": null,
   "id": "2101e0f2-5015-4546-a002-b3c900a751d1",
   "metadata": {
    "colab": {
     "base_uri": "https://localhost:8080/",
     "height": 85
    },
    "id": "1BoLJ2XYy2op",
    "outputId": "9945a4a2-28ed-4775-860d-999f4a1c4d54"
   },
   "outputs": [
    {
     "data": {
      "text/plain": [
       "array([[0., 0., 0., 0., 0.],\n",
       "       [0., 0., 0., 0., 0.],\n",
       "       [0., 0., 0., 0., 0.],\n",
       "       [0., 0., 0., 0., 0.]])"
      ]
     },
     "execution_count": 83,
     "metadata": {
      "tags": []
     },
     "output_type": "execute_result"
    }
   ],
   "source": [
    "zeros_array = np.zeros( (4, 5) )\n",
    "zeros_array"
   ]
  },
  {
   "cell_type": "markdown",
   "id": "71ebe7b2-bdbf-40cb-ade2-0a8c95845f64",
   "metadata": {
    "id": "92DsgsVSzC2T"
   },
   "source": [
    "### Initialize and array of ones"
   ]
  },
  {
   "cell_type": "code",
   "execution_count": null,
   "id": "658f5e78-6e00-4d04-a8e1-248aa29314ea",
   "metadata": {
    "colab": {
     "base_uri": "https://localhost:8080/",
     "height": 119
    },
    "id": "F_TWC3z6zYA2",
    "outputId": "2d7317b1-5b89-44b5-844d-ceec8b50ff86"
   },
   "outputs": [
    {
     "data": {
      "text/plain": [
       "array([[1., 1., 1., 1., 1., 1.],\n",
       "       [1., 1., 1., 1., 1., 1.],\n",
       "       [1., 1., 1., 1., 1., 1.],\n",
       "       [1., 1., 1., 1., 1., 1.],\n",
       "       [1., 1., 1., 1., 1., 1.],\n",
       "       [1., 1., 1., 1., 1., 1.]])"
      ]
     },
     "execution_count": 84,
     "metadata": {
      "tags": []
     },
     "output_type": "execute_result"
    }
   ],
   "source": [
    "ones_array = np.ones( (6, 6) )\n",
    "ones_array"
   ]
  },
  {
   "cell_type": "markdown",
   "id": "0d2b70d7-3993-4051-94a2-b5218366f777",
   "metadata": {
    "id": "aHaTMcOIzk1_"
   },
   "source": [
    "### Using arrange"
   ]
  },
  {
   "cell_type": "code",
   "execution_count": null,
   "id": "df90fbad-61b1-4236-b434-54c9c8904cf7",
   "metadata": {
    "colab": {
     "base_uri": "https://localhost:8080/",
     "height": 34
    },
    "id": "s2W1mGqkzt7O",
    "outputId": "ee90b952-d931-453c-9f60-d44c8801feed"
   },
   "outputs": [
    {
     "data": {
      "text/plain": [
       "array([0, 1, 2, 3, 4, 5, 6, 7, 8])"
      ]
     },
     "execution_count": 85,
     "metadata": {
      "tags": []
     },
     "output_type": "execute_result"
    }
   ],
   "source": [
    "nine = np.arange( 9 )\n",
    "nine"
   ]
  },
  {
   "cell_type": "markdown",
   "id": "0371da54-4915-4cb4-8d39-f6c64abf2042",
   "metadata": {
    "id": "Ejoa6qiszx-O"
   },
   "source": [
    "### Using reshape"
   ]
  },
  {
   "cell_type": "code",
   "execution_count": null,
   "id": "b77a5a81-842b-42a8-8d34-b1640ca173de",
   "metadata": {
    "colab": {
     "base_uri": "https://localhost:8080/",
     "height": 68
    },
    "id": "RgJ6ZfVfOm6R",
    "outputId": "67f363e4-a9cd-477f-9ed1-6165d9fd3ac5"
   },
   "outputs": [
    {
     "data": {
      "text/plain": [
       "array([[0, 1, 2],\n",
       "       [3, 4, 5],\n",
       "       [6, 7, 8]])"
      ]
     },
     "execution_count": 86,
     "metadata": {
      "tags": []
     },
     "output_type": "execute_result"
    }
   ],
   "source": [
    "nine.reshape(3,3)"
   ]
  },
  {
   "cell_type": "markdown",
   "id": "58e56f5e-177d-4f6c-a70c-32d4f40fed83",
   "metadata": {
    "id": "lB_e_dbx03bL"
   },
   "source": [
    "### Introspection"
   ]
  },
  {
   "cell_type": "markdown",
   "id": "404078f0-7b13-4c13-84e5-bb210d6b4ee2",
   "metadata": {
    "id": "___j8Jrc06k8"
   },
   "source": [
    "#### Get the data type"
   ]
  },
  {
   "cell_type": "code",
   "execution_count": null,
   "id": "fb53cf60-51cf-465c-a03a-26ef7b153543",
   "metadata": {
    "colab": {
     "base_uri": "https://localhost:8080/",
     "height": 34
    },
    "id": "IEDq1Hcu0-z_",
    "outputId": "45152487-40ba-4f23-d1c0-11bb969e21a4"
   },
   "outputs": [
    {
     "data": {
      "text/plain": [
       "dtype('int64')"
      ]
     },
     "execution_count": 87,
     "metadata": {
      "tags": []
     },
     "output_type": "execute_result"
    }
   ],
   "source": [
    "np_array.dtype"
   ]
  },
  {
   "cell_type": "markdown",
   "id": "5c1259be-cad6-4f97-bc57-aff6a99f13b9",
   "metadata": {
    "id": "OTREEzKu1CU1"
   },
   "source": [
    "#### Get the array's shape"
   ]
  },
  {
   "cell_type": "code",
   "execution_count": null,
   "id": "19c1fd03-6f28-46b0-ac23-4adb57ae59ce",
   "metadata": {
    "colab": {
     "base_uri": "https://localhost:8080/",
     "height": 34
    },
    "id": "JZ-1Vxj41GKC",
    "outputId": "54b58943-55aa-4b94-ee19-81cc036512ef"
   },
   "outputs": [
    {
     "data": {
      "text/plain": [
       "(4, 4)"
      ]
     },
     "execution_count": 88,
     "metadata": {
      "tags": []
     },
     "output_type": "execute_result"
    }
   ],
   "source": [
    "np_array.shape"
   ]
  },
  {
   "cell_type": "markdown",
   "id": "b29c23df-d33a-4a14-ad45-1df81b5e740f",
   "metadata": {
    "id": "OeY1bxyJ1Idv"
   },
   "source": [
    "#### Get the number of items in the array"
   ]
  },
  {
   "cell_type": "code",
   "execution_count": null,
   "id": "e83b4374-decb-4a08-90fc-e4884fb136e1",
   "metadata": {
    "colab": {
     "base_uri": "https://localhost:8080/",
     "height": 34
    },
    "id": "9-MK_t881LVg",
    "outputId": "557d0f24-8814-4378-8926-144d8aacbe6e"
   },
   "outputs": [
    {
     "data": {
      "text/plain": [
       "16"
      ]
     },
     "execution_count": 89,
     "metadata": {
      "tags": []
     },
     "output_type": "execute_result"
    }
   ],
   "source": [
    "np_array.size"
   ]
  },
  {
   "cell_type": "markdown",
   "id": "4f939dd3-83b6-41a9-bf06-ddad48433429",
   "metadata": {
    "id": "SifJ6bra1TQ0"
   },
   "source": [
    "#### Get the size of the array in bytes"
   ]
  },
  {
   "cell_type": "code",
   "execution_count": null,
   "id": "d0ef102e-6e3a-4404-b3b9-89d7ab6ad93e",
   "metadata": {
    "colab": {
     "base_uri": "https://localhost:8080/",
     "height": 34
    },
    "id": "5YzTBEid1YsX",
    "outputId": "9b09f32c-a717-40c3-d048-8c7559f95a17"
   },
   "outputs": [
    {
     "data": {
      "text/plain": [
       "128"
      ]
     },
     "execution_count": 90,
     "metadata": {
      "tags": []
     },
     "output_type": "execute_result"
    }
   ],
   "source": [
    "np_array.nbytes"
   ]
  },
  {
   "cell_type": "markdown",
   "id": "b432e03c-aeae-4ee2-b386-7c29613aacc9",
   "metadata": {
    "id": "toHDZHec1f9F"
   },
   "source": [
    "### Setting the data type"
   ]
  },
  {
   "cell_type": "markdown",
   "id": "2ca1c3e3-9650-4197-bf65-d6cb03665a64",
   "metadata": {
    "id": "7bdGC31e1pxo"
   },
   "source": [
    "#### dtype parameter"
   ]
  },
  {
   "cell_type": "code",
   "execution_count": null,
   "id": "ee8c37ad-8be4-4b71-bec8-0645daf4c613",
   "metadata": {
    "colab": {
     "base_uri": "https://localhost:8080/",
     "height": 85
    },
    "id": "3quViOL01sy4",
    "outputId": "ea7f0ea3-7b16-4b23-fb7b-ea457ee8ea4b"
   },
   "outputs": [
    {
     "data": {
      "text/plain": [
       "array([[ 1,  2,  3,  4],\n",
       "       [ 5,  6,  7,  8],\n",
       "       [ 9, 10, 11, 12],\n",
       "       [13, 14, 15, 16]], dtype=int8)"
      ]
     },
     "execution_count": 91,
     "metadata": {
      "tags": []
     },
     "output_type": "execute_result"
    }
   ],
   "source": [
    "np_array = np.array(list_of_lists, dtype=np.int8)\n",
    "np_array"
   ]
  },
  {
   "cell_type": "markdown",
   "id": "c68e0c46-68f5-4172-b98c-550fced78915",
   "metadata": {
    "id": "xd-_Qgqo1yyu"
   },
   "source": [
    "#### Size reduction"
   ]
  },
  {
   "cell_type": "code",
   "execution_count": null,
   "id": "2eb64f15-436f-4d96-96d0-8ebebc97c698",
   "metadata": {
    "colab": {
     "base_uri": "https://localhost:8080/",
     "height": 34
    },
    "id": "pFk4n7d312LH",
    "outputId": "7c84121e-c3b4-4145-8fd7-7cd065ee7240"
   },
   "outputs": [
    {
     "data": {
      "text/plain": [
       "16"
      ]
     },
     "execution_count": 92,
     "metadata": {
      "tags": []
     },
     "output_type": "execute_result"
    }
   ],
   "source": [
    "np_array.nbytes"
   ]
  },
  {
   "cell_type": "markdown",
   "id": "25143614-ab47-4634-9c30-1f772ac22507",
   "metadata": {
    "id": "YOzWWnLF1-m2"
   },
   "source": [
    "#### The data type setting is immutible \n",
    "Data may be truncated if the data type is restrictive."
   ]
  },
  {
   "cell_type": "code",
   "execution_count": null,
   "id": "30bd716f-fe9e-4ab1-a4dc-c2c0b85d672c",
   "metadata": {
    "colab": {
     "base_uri": "https://localhost:8080/",
     "height": 34
    },
    "id": "2MPe95vlLpwb",
    "outputId": "7c158bcc-71b5-45c3-a678-132b2c0c19bd"
   },
   "outputs": [
    {
     "data": {
      "text/plain": [
       "1"
      ]
     },
     "execution_count": 93,
     "metadata": {
      "tags": []
     },
     "output_type": "execute_result"
    }
   ],
   "source": [
    "np_array[0][0] = 1.7344567\n",
    "np_array[0][0]"
   ]
  },
  {
   "cell_type": "markdown",
   "id": "d05ea54c-9e5b-46b0-b9a1-4118cdb57877",
   "metadata": {
    "id": "vvPhjEXoWYnT"
   },
   "source": [
    "### Array Slicing\n",
    "\n",
    "\n",
    "*   Slicing can be used to get a view reprsenting a sub-array. \n",
    "*   The slice is a view to the original array, the data is not copied to a new data structure\n",
    "*   The slice is taken in the form: array[ rows, columns ]\n",
    "\n",
    "\n",
    "\n",
    "\n"
   ]
  },
  {
   "cell_type": "code",
   "execution_count": null,
   "id": "59a68786-55c1-447e-b9fb-88819ef875c9",
   "metadata": {
    "colab": {
     "base_uri": "https://localhost:8080/",
     "height": 85
    },
    "id": "tDjuERnX2hUp",
    "outputId": "74052c3f-0c04-45e3-dc68-633903d0e939"
   },
   "outputs": [
    {
     "data": {
      "text/plain": [
       "array([[ 1,  2,  3,  4],\n",
       "       [ 5,  6,  7,  8],\n",
       "       [ 9, 10, 11, 12],\n",
       "       [13, 14, 15, 16]], dtype=int8)"
      ]
     },
     "execution_count": 94,
     "metadata": {
      "tags": []
     },
     "output_type": "execute_result"
    }
   ],
   "source": [
    "np_array"
   ]
  },
  {
   "cell_type": "code",
   "execution_count": null,
   "id": "081dc641-800f-42f7-9f6c-6e8b13989944",
   "metadata": {
    "colab": {
     "base_uri": "https://localhost:8080/",
     "height": 51
    },
    "id": "JBEp4F7uWMmY",
    "outputId": "eb720ba3-9a3d-41c4-8089-7f62ca88d854"
   },
   "outputs": [
    {
     "data": {
      "text/plain": [
       "array([[ 9, 10, 11],\n",
       "       [13, 14, 15]], dtype=int8)"
      ]
     },
     "execution_count": 95,
     "metadata": {
      "tags": []
     },
     "output_type": "execute_result"
    }
   ],
   "source": [
    "np_array[2:, :3]"
   ]
  },
  {
   "cell_type": "markdown",
   "id": "4d9cd7d5-542d-4a35-a83e-c448cf6330d3",
   "metadata": {
    "id": "DZw_vVRta7q8"
   },
   "source": [
    "### Math operations\n",
    "\n",
    "\n",
    "*   Unlike a unlike nested lists, matrix operations perform mathimatical operations on data\n",
    "\n"
   ]
  },
  {
   "cell_type": "markdown",
   "id": "b2804d47-1397-449f-9b64-64eb9888e3f7",
   "metadata": {
    "id": "DcuhDzog3k7b"
   },
   "source": [
    "#### Create two 3 x 3 arrays"
   ]
  },
  {
   "cell_type": "code",
   "execution_count": null,
   "id": "22365ed6-26ce-47fc-a223-185fe8dd880a",
   "metadata": {
    "colab": {
     "base_uri": "https://localhost:8080/",
     "height": 68
    },
    "id": "Hk4TSZMp3ueg",
    "outputId": "f9c0a3be-9eaa-4d19-df19-53de928ffde4"
   },
   "outputs": [
    {
     "data": {
      "text/plain": [
       "array([[0, 1, 2],\n",
       "       [3, 4, 5],\n",
       "       [6, 7, 8]])"
      ]
     },
     "execution_count": 96,
     "metadata": {
      "tags": []
     },
     "output_type": "execute_result"
    }
   ],
   "source": [
    "np_array_1 = np.arange(9).reshape(3,3)\n",
    "np_array_1\n"
   ]
  },
  {
   "cell_type": "code",
   "execution_count": null,
   "id": "c9b8b88f-5f2a-44c5-b4ef-37c07309bac7",
   "metadata": {
    "colab": {
     "base_uri": "https://localhost:8080/",
     "height": 68
    },
    "id": "BGUAuzGW32MZ",
    "outputId": "f84c69d5-cf39-40f3-8716-1b2950a8200a"
   },
   "outputs": [
    {
     "data": {
      "text/plain": [
       "array([[10, 11, 12],\n",
       "       [13, 14, 15],\n",
       "       [16, 17, 18]])"
      ]
     },
     "execution_count": 97,
     "metadata": {
      "tags": []
     },
     "output_type": "execute_result"
    }
   ],
   "source": [
    "np_array_2 = np.arange(10, 19).reshape(3,3)\n",
    "np_array_2"
   ]
  },
  {
   "cell_type": "markdown",
   "id": "b900a139-5715-4fa5-909d-b4cb896dd8b1",
   "metadata": {
    "id": "JtgSgziO3-zG"
   },
   "source": [
    "#### Multiply the arrays"
   ]
  },
  {
   "cell_type": "code",
   "execution_count": null,
   "id": "e5701897-9435-4e5f-819e-2775701434f9",
   "metadata": {
    "colab": {
     "base_uri": "https://localhost:8080/",
     "height": 68
    },
    "id": "DnsoTaV64B6s",
    "outputId": "1ff2e5fe-8c02-4a14-e447-489a91ae7dab"
   },
   "outputs": [
    {
     "data": {
      "text/plain": [
       "array([[  0,  11,  24],\n",
       "       [ 39,  56,  75],\n",
       "       [ 96, 119, 144]])"
      ]
     },
     "execution_count": 98,
     "metadata": {
      "tags": []
     },
     "output_type": "execute_result"
    }
   ],
   "source": [
    "np_array_1 * np_array_2"
   ]
  },
  {
   "cell_type": "markdown",
   "id": "4d66ec18-ba05-44e1-bd06-c418a269d6de",
   "metadata": {
    "id": "bLZEFu6F4RZ9"
   },
   "source": [
    "#### Add the arrays"
   ]
  },
  {
   "cell_type": "code",
   "execution_count": null,
   "id": "004eb7d6-db76-48ea-a137-f098b5a612cd",
   "metadata": {
    "colab": {
     "base_uri": "https://localhost:8080/",
     "height": 68
    },
    "id": "gtImxWZW4TIK",
    "outputId": "0549bcbe-a4ec-4563-d8e3-a9b5faa12f1c"
   },
   "outputs": [
    {
     "data": {
      "text/plain": [
       "array([[10, 12, 14],\n",
       "       [16, 18, 20],\n",
       "       [22, 24, 26]])"
      ]
     },
     "execution_count": 99,
     "metadata": {
      "tags": []
     },
     "output_type": "execute_result"
    }
   ],
   "source": [
    "np_array_1 + np_array_2"
   ]
  },
  {
   "cell_type": "markdown",
   "id": "a97aa65b-0bfb-4bfa-9a4f-514adc421aa6",
   "metadata": {
    "id": "7R8mt4RU4yMz"
   },
   "source": [
    "### Matrix operations"
   ]
  },
  {
   "cell_type": "markdown",
   "id": "7792cac1-5c52-4c96-b385-b0199bf926ef",
   "metadata": {
    "id": "1OU4oaWt40Jp"
   },
   "source": [
    "#### Transpose"
   ]
  },
  {
   "cell_type": "code",
   "execution_count": null,
   "id": "4b77a256-35ed-44cd-8aec-b670bf266d2a",
   "metadata": {
    "colab": {
     "base_uri": "https://localhost:8080/",
     "height": 85
    },
    "id": "EXIwtxD942UO",
    "outputId": "ee5697f7-97bd-4b89-d053-771afa6fa69b"
   },
   "outputs": [
    {
     "data": {
      "text/plain": [
       "array([[ 1,  5,  9, 13],\n",
       "       [ 2,  6, 10, 14],\n",
       "       [ 3,  7, 11, 15],\n",
       "       [ 4,  8, 12, 16]], dtype=int8)"
      ]
     },
     "execution_count": 100,
     "metadata": {
      "tags": []
     },
     "output_type": "execute_result"
    }
   ],
   "source": [
    "np_array.T"
   ]
  },
  {
   "cell_type": "markdown",
   "id": "fd2e444b-1568-41b7-9dc4-c9697057c078",
   "metadata": {
    "id": "oi0b6o6o46E9"
   },
   "source": [
    "#### Dot product"
   ]
  },
  {
   "cell_type": "code",
   "execution_count": null,
   "id": "2ef64732-4a91-445b-9796-96ec3098f0cf",
   "metadata": {
    "colab": {
     "base_uri": "https://localhost:8080/",
     "height": 68
    },
    "id": "aQgYwiPpbxIG",
    "outputId": "7fd1509e-d41a-40f0-f543-eebe891d7157"
   },
   "outputs": [
    {
     "data": {
      "text/plain": [
       "array([[ 45,  48,  51],\n",
       "       [162, 174, 186],\n",
       "       [279, 300, 321]])"
      ]
     },
     "execution_count": 101,
     "metadata": {
      "tags": []
     },
     "output_type": "execute_result"
    }
   ],
   "source": [
    "np_array_1.dot(np_array_2)\n"
   ]
  },
  {
   "cell_type": "markdown",
   "id": "809fd8d7-e727-43ad-a3a1-513659a773a2",
   "metadata": {},
   "source": [
    "## Use np.matrix to define a matrix"
   ]
  },
  {
   "cell_type": "code",
   "execution_count": 57,
   "id": "b2d9e05c-2a97-4ec5-afa9-307a9db02437",
   "metadata": {},
   "outputs": [
    {
     "data": {
      "text/plain": [
       "matrix([[1, 2, 3],\n",
       "        [4, 5, 6],\n",
       "        [7, 8, 9]])"
      ]
     },
     "execution_count": 57,
     "metadata": {},
     "output_type": "execute_result"
    }
   ],
   "source": [
    "mat1 = np.matrix([[1, 2, 3], [4, 5, 6],[7, 8, 9]])\n",
    "mat1"
   ]
  },
  {
   "cell_type": "markdown",
   "id": "7cc5badd-c74c-4271-94a0-0eb8cbf19a0f",
   "metadata": {},
   "source": [
    "## 3-dimension array"
   ]
  },
  {
   "cell_type": "code",
   "execution_count": 18,
   "id": "868abb37-adf8-44b8-a014-fc1c82f2839d",
   "metadata": {},
   "outputs": [
    {
     "data": {
      "text/plain": [
       "array([[[111, 112, 113],\n",
       "        [124, 125, 126]],\n",
       "\n",
       "       [[211, 212, 213],\n",
       "        [224, 225, 226]],\n",
       "\n",
       "       [[311, 312, 313],\n",
       "        [324, 325, 326]]])"
      ]
     },
     "execution_count": 18,
     "metadata": {},
     "output_type": "execute_result"
    }
   ],
   "source": [
    "d = np.array([[[111, 112, 113], [124, 125, 126]], [[211, 212, 213], [224, 225, 226]], [[311, 312, 313], [324, 325, 326]]])\n",
    "d"
   ]
  },
  {
   "cell_type": "markdown",
   "id": "1b651c1d-c351-4ac2-9fd9-482d7eb13c67",
   "metadata": {},
   "source": [
    "## Check dimenion - ndim"
   ]
  },
  {
   "cell_type": "code",
   "execution_count": 27,
   "id": "dc784df0-4913-4c6c-8b70-5488e465f70e",
   "metadata": {},
   "outputs": [
    {
     "name": "stdout",
     "output_type": "stream",
     "text": [
      "1\n",
      "2\n",
      "3\n"
     ]
    }
   ],
   "source": [
    "print(arr.ndim)\n",
    "print(mat.ndim)\n",
    "print(d.ndim)"
   ]
  },
  {
   "cell_type": "markdown",
   "id": "7920ed51-d50e-471f-b95d-96023c073d48",
   "metadata": {},
   "source": [
    "## NumPy Array Indexing\n",
    "\n",
    "Access Array Elements\n",
    "Array indexing is the same as accessing an array element.\n",
    "\n",
    "You can access an array element by referring to its index number.\n",
    "\n",
    "The indexes in NumPy arrays start with 0, meaning that the first element has index 0, and the second has index 1 etc."
   ]
  },
  {
   "cell_type": "code",
   "execution_count": 10,
   "id": "779516ac-9ade-482f-aa3f-34057b780a40",
   "metadata": {},
   "outputs": [
    {
     "name": "stdout",
     "output_type": "stream",
     "text": [
      "First element of arr: 1\n",
      "Last element of arr: 5\n"
     ]
    }
   ],
   "source": [
    "print(f\"First element of arr: {arr[0]}\")\n",
    "print(f\"Last element of arr: {arr[-1]}\")"
   ]
  },
  {
   "cell_type": "code",
   "execution_count": 106,
   "id": "f9d22fa2-639f-4aa2-93db-2df8a90641fb",
   "metadata": {},
   "outputs": [
    {
     "name": "stdout",
     "output_type": "stream",
     "text": [
      "First row of mat: [1 2 3]\n",
      "Last row of mat: [7 8 9]\n"
     ]
    }
   ],
   "source": [
    "print(f\"First row of mat: {mat[0]}\")\n",
    "print(f\"Last row of mat: {mat[-1]}\")"
   ]
  },
  {
   "cell_type": "code",
   "execution_count": 107,
   "id": "110d0989-b544-4fff-a40d-fbb0ece30994",
   "metadata": {},
   "outputs": [
    {
     "name": "stdout",
     "output_type": "stream",
     "text": [
      "First col of mat: [1 4 7]\n",
      "Last colof mat: [3 6 9]\n"
     ]
    }
   ],
   "source": [
    "print(f\"First col of mat: {mat[:,0]}\")\n",
    "print(f\"Last colof mat: {mat[:,-1]}\")"
   ]
  },
  {
   "cell_type": "code",
   "execution_count": 30,
   "id": "cbffbbfc-3687-4df9-8b6a-add0d9b3b4b5",
   "metadata": {},
   "outputs": [
    {
     "data": {
      "text/plain": [
       "1"
      ]
     },
     "execution_count": 30,
     "metadata": {},
     "output_type": "execute_result"
    }
   ],
   "source": [
    "# First element - 0,0\n",
    "mat[0,0]"
   ]
  },
  {
   "cell_type": "code",
   "execution_count": 31,
   "id": "86ee21b8-47d0-4ae0-92c2-1418286dc7d0",
   "metadata": {},
   "outputs": [
    {
     "data": {
      "text/plain": [
       "6"
      ]
     },
     "execution_count": 31,
     "metadata": {},
     "output_type": "execute_result"
    }
   ],
   "source": [
    "# Element on row i, col j\n",
    "i, j = 1, 2\n",
    "mat[i,j]"
   ]
  },
  {
   "cell_type": "markdown",
   "id": "13d687c6-e7cc-47de-a6d3-3b87dde289ce",
   "metadata": {},
   "source": [
    "## NumPy Matrix Indexing"
   ]
  },
  {
   "cell_type": "code",
   "execution_count": 59,
   "id": "132bd437-72d1-424d-ba71-63aaed933b19",
   "metadata": {},
   "outputs": [],
   "source": [
    "mat1 = np.matrix([[1, 2, 3], [4, 5, 6],[7, 8, 9]])"
   ]
  },
  {
   "cell_type": "code",
   "execution_count": 65,
   "id": "65d00888-c10f-4753-971c-e36b2894046f",
   "metadata": {},
   "outputs": [
    {
     "data": {
      "text/plain": [
       "1"
      ]
     },
     "execution_count": 65,
     "metadata": {},
     "output_type": "execute_result"
    }
   ],
   "source": [
    "# First element - 0,0\n",
    "mat1[0,0]"
   ]
  },
  {
   "cell_type": "code",
   "execution_count": 60,
   "id": "9686ac22-5c90-4e1a-bbf6-0c61df46d8f7",
   "metadata": {},
   "outputs": [
    {
     "name": "stdout",
     "output_type": "stream",
     "text": [
      "First row of mat1: [[1 2 3]]\n",
      "Last row of mat1: [[7 8 9]]\n"
     ]
    }
   ],
   "source": [
    "print(f\"First row of mat1: {mat1[0]}\")\n",
    "print(f\"Last row of mat1: {mat1[-1]}\")"
   ]
  },
  {
   "cell_type": "code",
   "execution_count": 64,
   "id": "326fb55f-e048-49ec-89e3-ca7121d4334b",
   "metadata": {},
   "outputs": [
    {
     "name": "stdout",
     "output_type": "stream",
     "text": [
      "First col of mat1: [[1]\n",
      " [4]\n",
      " [7]]\n",
      "Last col of mat1: [[3]\n",
      " [6]\n",
      " [9]]\n"
     ]
    }
   ],
   "source": [
    "print(f\"First col of mat1: {mat1[:,0]}\")\n",
    "print(f\"Last col of mat1: {mat1[:,-1]}\")"
   ]
  },
  {
   "cell_type": "code",
   "execution_count": 62,
   "id": "0dd739d9-a178-4d97-9cc7-6f30a3bdff07",
   "metadata": {},
   "outputs": [
    {
     "data": {
      "text/plain": [
       "(3, 3)"
      ]
     },
     "execution_count": 62,
     "metadata": {},
     "output_type": "execute_result"
    }
   ],
   "source": [
    "mat1.shape"
   ]
  },
  {
   "cell_type": "markdown",
   "id": "5b1f750c-eecc-48b0-a304-5aab1b04f4e2",
   "metadata": {},
   "source": [
    "## 3 dimensions - use 3 indices"
   ]
  },
  {
   "cell_type": "code",
   "execution_count": 21,
   "id": "51645235-7229-483b-ae13-f4814a398fcc",
   "metadata": {},
   "outputs": [
    {
     "name": "stdout",
     "output_type": "stream",
     "text": [
      "First element of first dimenion of d: [[111 112 113]\n",
      " [124 125 126]]\n",
      "Last element of first dimenion of d: [[311 312 313]\n",
      " [324 325 326]]\n"
     ]
    }
   ],
   "source": [
    "print(f\"First element of first dimenion of d: {d[0]}\")\n",
    "print(f\"Last element of first dimenion of d: {d[-1]}\")"
   ]
  },
  {
   "cell_type": "code",
   "execution_count": 20,
   "id": "0958ee1f-2815-43f7-9eef-682e8fc9dc11",
   "metadata": {},
   "outputs": [
    {
     "name": "stdout",
     "output_type": "stream",
     "text": [
      "First element of first dimenion of d: [[111 112 113]\n",
      " [124 125 126]]\n",
      "Last element of first dimenion of d: [[311 312 313]\n",
      " [324 325 326]]\n"
     ]
    }
   ],
   "source": [
    "print(f\"First element of first dimenion of d: {d[0,:,:]}\")\n",
    "print(f\"Last element of first dimenion of d: {d[-1,:,:]}\")"
   ]
  },
  {
   "cell_type": "code",
   "execution_count": 22,
   "id": "6ed7423d-4261-4a25-8e2b-f2c944a1acb1",
   "metadata": {},
   "outputs": [
    {
     "name": "stdout",
     "output_type": "stream",
     "text": [
      "First element of 2nd dimenion of d: [[111 112 113]\n",
      " [211 212 213]\n",
      " [311 312 313]]\n",
      "Last element of 2nd dimenion of d: [[124 125 126]\n",
      " [224 225 226]\n",
      " [324 325 326]]\n"
     ]
    }
   ],
   "source": [
    "print(f\"First element of 2nd dimenion of d: {d[:,0,:]}\")\n",
    "print(f\"Last element of 2nd dimenion of d: {d[:, -1, :]}\")"
   ]
  },
  {
   "cell_type": "code",
   "execution_count": 23,
   "id": "250336bc-a8d5-45ad-94c7-3d312f6be861",
   "metadata": {},
   "outputs": [
    {
     "name": "stdout",
     "output_type": "stream",
     "text": [
      "First element of 3rd dimenion of d: [[111 124]\n",
      " [211 224]\n",
      " [311 324]]\n",
      "Last element of 3rd dimenion of d: [[113 126]\n",
      " [213 226]\n",
      " [313 326]]\n"
     ]
    }
   ],
   "source": [
    "print(f\"First element of 3rd dimenion of d: {d[:,:,0]}\")\n",
    "print(f\"Last element of 3rd dimenion of d: {d[:, :, -1]}\")"
   ]
  },
  {
   "cell_type": "markdown",
   "id": "085530a4-a664-41fe-919a-44086dcde279",
   "metadata": {},
   "source": [
    "## Matrix addition - two matrices must have the same shapes"
   ]
  },
  {
   "cell_type": "code",
   "execution_count": 66,
   "id": "99df2e3e-5331-4209-b0be-9b3ff3b89ede",
   "metadata": {},
   "outputs": [],
   "source": [
    "mat1 = np.matrix([[1, 2, 3], [4, 5, 6],[7, 8, 9]])\n",
    "mat2 = np.matrix([[1, 2, 3], [4, 5, 6]])"
   ]
  },
  {
   "cell_type": "code",
   "execution_count": 67,
   "id": "a64626f4-87a1-451a-a464-25c82abcddbb",
   "metadata": {},
   "outputs": [
    {
     "ename": "ValueError",
     "evalue": "operands could not be broadcast together with shapes (3,3) (2,3) ",
     "output_type": "error",
     "traceback": [
      "\u001b[1;31m---------------------------------------------------------------------------\u001b[0m",
      "\u001b[1;31mValueError\u001b[0m                                Traceback (most recent call last)",
      "Cell \u001b[1;32mIn [67], line 3\u001b[0m\n\u001b[0;32m      1\u001b[0m \u001b[38;5;66;03m# can not add two matrices with different dimensions\u001b[39;00m\n\u001b[0;32m      2\u001b[0m \u001b[38;5;66;03m# This will give an error below\u001b[39;00m\n\u001b[1;32m----> 3\u001b[0m mat3 \u001b[38;5;241m=\u001b[39m \u001b[43mmat1\u001b[49m\u001b[43m \u001b[49m\u001b[38;5;241;43m+\u001b[39;49m\u001b[43m \u001b[49m\u001b[43mmat2\u001b[49m\n",
      "\u001b[1;31mValueError\u001b[0m: operands could not be broadcast together with shapes (3,3) (2,3) "
     ]
    }
   ],
   "source": [
    "# can not add two matrices with different dimensions\n",
    "# This will give an error below\n",
    "mat3 = mat1 + mat2"
   ]
  },
  {
   "cell_type": "code",
   "execution_count": 74,
   "id": "94d1433e-e290-4d20-9f7e-53c97a61e393",
   "metadata": {},
   "outputs": [
    {
     "data": {
      "text/plain": [
       "matrix([[ 3,  4,  5],\n",
       "        [ 6,  7,  8],\n",
       "        [ 9, 10, 11]])"
      ]
     },
     "execution_count": 74,
     "metadata": {},
     "output_type": "execute_result"
    }
   ],
   "source": [
    "mat2 = np.matrix([[2, 2, 2], [2, 2, 2],[2, 2, 2]])\n",
    "mat3 = mat1 + mat2\n",
    "mat3"
   ]
  },
  {
   "cell_type": "markdown",
   "id": "9894bb04-9304-4c95-a46d-cef2c063c466",
   "metadata": {},
   "source": [
    "## Matrix subtractin - two matrices must have the same shapes"
   ]
  },
  {
   "cell_type": "code",
   "execution_count": 75,
   "id": "9db314fd-5d1c-4353-bdb2-f2af4fb9c2c1",
   "metadata": {},
   "outputs": [
    {
     "data": {
      "text/plain": [
       "matrix([[-1,  0,  1],\n",
       "        [ 2,  3,  4],\n",
       "        [ 5,  6,  7]])"
      ]
     },
     "execution_count": 75,
     "metadata": {},
     "output_type": "execute_result"
    }
   ],
   "source": [
    "mat3 = mat1 - mat2\n",
    "mat3"
   ]
  },
  {
   "cell_type": "markdown",
   "id": "54cf1fdc-997e-4cce-9495-8c57df972013",
   "metadata": {},
   "source": [
    "## Matrix multiplications\n",
    "\n",
    "- \\* or np.matmul or np.dot() for matrix product or dot product\n",
    "\n",
    "- np.multiply() for element-wise product of two matrices\n"
   ]
  },
  {
   "cell_type": "markdown",
   "id": "14c4927d-7d65-4483-83b6-d1acdc9879c5",
   "metadata": {},
   "source": [
    "### Matrix Product - Method 1  operator \\*"
   ]
  },
  {
   "cell_type": "code",
   "execution_count": 77,
   "id": "80eb51b2-6765-4f7e-8f6b-b9831c42c0ee",
   "metadata": {},
   "outputs": [
    {
     "data": {
      "text/plain": [
       "matrix([[12, 12, 12],\n",
       "        [30, 30, 30],\n",
       "        [48, 48, 48]])"
      ]
     },
     "execution_count": 77,
     "metadata": {},
     "output_type": "execute_result"
    }
   ],
   "source": [
    "mat3 = mat1 * mat2\n",
    "mat3"
   ]
  },
  {
   "cell_type": "markdown",
   "id": "c1b9a9c4-3446-4113-90b1-6258c4c5ab6c",
   "metadata": {},
   "source": [
    "### Matrix Product - Method 2  np.matmul()"
   ]
  },
  {
   "cell_type": "code",
   "execution_count": 81,
   "id": "325fd4f3-f40f-4659-bf9e-a2d4f1c37cb7",
   "metadata": {},
   "outputs": [
    {
     "data": {
      "text/plain": [
       "matrix([[12, 12, 12],\n",
       "        [30, 30, 30],\n",
       "        [48, 48, 48]])"
      ]
     },
     "execution_count": 81,
     "metadata": {},
     "output_type": "execute_result"
    }
   ],
   "source": [
    "mat3 = np.matmul(mat1, mat2)\n",
    "mat3"
   ]
  },
  {
   "cell_type": "markdown",
   "id": "8c74e6a7-fd59-4a65-9d12-448b52422168",
   "metadata": {},
   "source": [
    "### Matrix Product - Method 3  np.dot()"
   ]
  },
  {
   "cell_type": "code",
   "execution_count": 82,
   "id": "bc603326-3c8a-4e66-ac24-4ed063d4b46b",
   "metadata": {},
   "outputs": [
    {
     "data": {
      "text/plain": [
       "matrix([[12, 12, 12],\n",
       "        [30, 30, 30],\n",
       "        [48, 48, 48]])"
      ]
     },
     "execution_count": 82,
     "metadata": {},
     "output_type": "execute_result"
    }
   ],
   "source": [
    "mat3 = np.dot(mat1, mat2)\n",
    "mat3"
   ]
  },
  {
   "cell_type": "markdown",
   "id": "62c503da-73db-40fa-a716-958dff05e324",
   "metadata": {},
   "source": [
    "### Element-wide multiplication"
   ]
  },
  {
   "cell_type": "code",
   "execution_count": 78,
   "id": "c27d0874-7ebc-4520-962f-56a82528e5ec",
   "metadata": {},
   "outputs": [
    {
     "data": {
      "text/plain": [
       "matrix([[ 2,  4,  6],\n",
       "        [ 8, 10, 12],\n",
       "        [14, 16, 18]])"
      ]
     },
     "execution_count": 78,
     "metadata": {},
     "output_type": "execute_result"
    }
   ],
   "source": [
    "mat3 = np.multiply(mat1, mat2)\n",
    "mat3"
   ]
  },
  {
   "cell_type": "code",
   "execution_count": 41,
   "id": "503f0c18-f324-4a11-9e78-10c432c52fe0",
   "metadata": {},
   "outputs": [
    {
     "data": {
      "text/plain": [
       "array([[1, 0, 0],\n",
       "       [0, 5, 0],\n",
       "       [0, 0, 9]])"
      ]
     },
     "execution_count": 41,
     "metadata": {},
     "output_type": "execute_result"
    }
   ],
   "source": [
    "mat4 = np.array([[1, 0, 0], [0, 1, 0],[0, 0, 1]])\n",
    "mat5 = mat1 * mat4\n",
    "mat5"
   ]
  },
  {
   "cell_type": "markdown",
   "id": "4ed990a3-13ae-4959-aa45-3271e091952c",
   "metadata": {},
   "source": [
    "## Matrix Square"
   ]
  },
  {
   "cell_type": "code",
   "execution_count": 94,
   "id": "d7062970-0028-4ce8-a834-7e6aa51ede17",
   "metadata": {},
   "outputs": [
    {
     "data": {
      "text/plain": [
       "matrix([[ 30,  36,  42],\n",
       "        [ 66,  81,  96],\n",
       "        [102, 126, 150]])"
      ]
     },
     "execution_count": 94,
     "metadata": {},
     "output_type": "execute_result"
    }
   ],
   "source": [
    "matsq = mat1 * mat1\n",
    "matsq"
   ]
  },
  {
   "cell_type": "code",
   "execution_count": 95,
   "id": "958f37a0-ac3c-4059-915a-f963a8c11acc",
   "metadata": {},
   "outputs": [
    {
     "data": {
      "text/plain": [
       "matrix([[ 30,  36,  42],\n",
       "        [ 66,  81,  96],\n",
       "        [102, 126, 150]])"
      ]
     },
     "execution_count": 95,
     "metadata": {},
     "output_type": "execute_result"
    }
   ],
   "source": [
    "mat3 = np.matmul(mat1, mat1)\n",
    "mat3"
   ]
  },
  {
   "cell_type": "markdown",
   "id": "e89cc54e-1d89-40d7-a98b-bde7ac383dd3",
   "metadata": {},
   "source": [
    "## Element-wise square"
   ]
  },
  {
   "cell_type": "code",
   "execution_count": 88,
   "id": "de8cd81f-deee-4cc7-852c-d01214eba23e",
   "metadata": {},
   "outputs": [
    {
     "data": {
      "text/plain": [
       "matrix([[ 1,  4,  9],\n",
       "        [16, 25, 36],\n",
       "        [49, 64, 81]])"
      ]
     },
     "execution_count": 88,
     "metadata": {},
     "output_type": "execute_result"
    }
   ],
   "source": [
    "mat3 = np.square(mat1)\n",
    "mat3"
   ]
  },
  {
   "cell_type": "markdown",
   "id": "1b7161c3-1e5a-4645-9830-ef943ef898ff",
   "metadata": {},
   "source": [
    "## Grah Theory - Adjacency Matrix"
   ]
  },
  {
   "cell_type": "markdown",
   "id": "e847909b-bec0-4deb-b07b-4beb130798a4",
   "metadata": {},
   "source": [
    "### Calculate number of different paths"
   ]
  },
  {
   "cell_type": "markdown",
   "id": "5858920e-9591-44ba-8ad4-11bed80de067",
   "metadata": {},
   "source": [
    "### Problem 2: Find the total number of different paths from A to C of lenght 2 or 4"
   ]
  },
  {
   "cell_type": "code",
   "execution_count": 91,
   "id": "78fb284b-1579-43c8-b8cb-9e7f47568d73",
   "metadata": {},
   "outputs": [
    {
     "data": {
      "text/plain": [
       "matrix([[1, 0, 1],\n",
       "        [0, 1, 1],\n",
       "        [1, 0, 0]])"
      ]
     },
     "execution_count": 91,
     "metadata": {},
     "output_type": "execute_result"
    }
   ],
   "source": [
    "m1 = np.matrix([[1,0,1],[0,1,1],[1,0,0]])\n",
    "m1"
   ]
  },
  {
   "cell_type": "code",
   "execution_count": 96,
   "id": "1bb42536-3f0a-4669-8e32-b5eeb4a71620",
   "metadata": {},
   "outputs": [
    {
     "data": {
      "text/plain": [
       "matrix([[2, 0, 1],\n",
       "        [1, 1, 1],\n",
       "        [1, 0, 1]])"
      ]
     },
     "execution_count": 96,
     "metadata": {},
     "output_type": "execute_result"
    }
   ],
   "source": [
    "m2 = m1*m1\n",
    "m2"
   ]
  },
  {
   "cell_type": "code",
   "execution_count": 97,
   "id": "3e1156b5-6988-49aa-9404-5d66dc4704d1",
   "metadata": {},
   "outputs": [
    {
     "data": {
      "text/plain": [
       "matrix([[5, 0, 3],\n",
       "        [4, 1, 3],\n",
       "        [3, 0, 2]])"
      ]
     },
     "execution_count": 97,
     "metadata": {},
     "output_type": "execute_result"
    }
   ],
   "source": [
    "m4 = m2*m2\n",
    "m4"
   ]
  },
  {
   "cell_type": "markdown",
   "id": "59d3f267-a0a8-4ca3-a69e-f8646d79e384",
   "metadata": {},
   "source": [
    "### 2018-2019 ACSL Contest #4 - Problem 2\n",
    "How many paths of length 2 "
   ]
  },
  {
   "cell_type": "code",
   "execution_count": 102,
   "id": "00d6595c-6a26-46e5-98a4-4fc5abb38f87",
   "metadata": {},
   "outputs": [
    {
     "data": {
      "text/plain": [
       "matrix([[0, 1, 0, 1, 1],\n",
       "        [0, 0, 1, 0, 1],\n",
       "        [1, 1, 0, 1, 0],\n",
       "        [0, 0, 0, 0, 1],\n",
       "        [0, 0, 0, 1, 0]])"
      ]
     },
     "execution_count": 102,
     "metadata": {},
     "output_type": "execute_result"
    }
   ],
   "source": [
    "m = np.matrix([[0, 1, 0, 1, 1],\n",
    "               [0, 0, 1, 0, 1],\n",
    "               [1, 1, 0, 1, 0],\n",
    "               [0, 0, 0, 0, 1],\n",
    "               [0, 0, 0, 1, 0]])\n",
    "m"
   ]
  },
  {
   "cell_type": "code",
   "execution_count": 103,
   "id": "855ee8b4-9edf-4787-866c-02f8aba7fa8a",
   "metadata": {},
   "outputs": [
    {
     "data": {
      "text/plain": [
       "matrix([[0, 0, 1, 1, 2],\n",
       "        [1, 1, 0, 2, 0],\n",
       "        [0, 1, 1, 1, 3],\n",
       "        [0, 0, 0, 1, 0],\n",
       "        [0, 0, 0, 0, 1]])"
      ]
     },
     "execution_count": 103,
     "metadata": {},
     "output_type": "execute_result"
    }
   ],
   "source": [
    "m2 = m*m\n",
    "m2"
   ]
  },
  {
   "cell_type": "code",
   "execution_count": null,
   "id": "fa448ac8-7fe4-4643-a865-adda5917fb03",
   "metadata": {},
   "outputs": [],
   "source": []
  }
 ],
 "metadata": {
  "kernelspec": {
   "display_name": "Python 3 (ipykernel)",
   "language": "python",
   "name": "python3"
  },
  "language_info": {
   "codemirror_mode": {
    "name": "ipython",
    "version": 3
   },
   "file_extension": ".py",
   "mimetype": "text/x-python",
   "name": "python",
   "nbconvert_exporter": "python",
   "pygments_lexer": "ipython3",
   "version": "3.9.12"
  }
 },
 "nbformat": 4,
 "nbformat_minor": 5
}

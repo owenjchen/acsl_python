{
 "cells": [
  {
   "cell_type": "markdown",
   "id": "979ee358-c0a0-472b-891d-9fcd1be27f67",
   "metadata": {},
   "source": [
    "# ACSL Finals\n",
    "## 2021-2022 ● Finals Program #1: Waves ● Junior Division"
   ]
  },
  {
   "cell_type": "code",
   "execution_count": 23,
   "id": "4aa1e0b1-6ec4-400b-a46c-01388b7140ba",
   "metadata": {},
   "outputs": [],
   "source": [
    "import math\n",
    "def wave_sort(numbers):\n",
    "    arr = numbers.split()\n",
    "    n = int(arr[0])\n",
    "    arr = arr[1:]\n",
    "    l = len(arr)\n",
    "    # Check if the original list is long enough for a complete wave\n",
    "    wavesum = n*(n+1)/2\n",
    "    if wavesum > l:\n",
    "        # number of times that we need to append the original list:\n",
    "        arr = arr * (math.ceil(wavesum/l))\n",
    "\n",
    "    # Convert string to numbers\n",
    "    arr = [int(i) for i in arr]\n",
    "    # Create an empty list to store the result\n",
    "    result = []\n",
    "    \n",
    "    #Loop through the array and create waves\n",
    "    sort_order = 1\n",
    "    k = n\n",
    "    while k > 0:\n",
    "        # Create a wave of size k\n",
    "\n",
    "        wave = arr[:k]\n",
    "        # Remove the wave from the array\n",
    "        arr = arr[k:]\n",
    "        # Sort the wave in ascending order\n",
    "        if sort_order:\n",
    "            wave = sorted(wave)\n",
    "            sort_order = 0\n",
    "        else:\n",
    "            wave = sorted(wave, reverse=True)\n",
    "            sort_order = 1\n",
    "        # Add the wave to the result list\n",
    "        result += wave\n",
    "        k -= 1\n",
    "        \n",
    "    # check remaining elements in the array\n",
    "    if len(arr) > 0:\n",
    "        if sort_order:\n",
    "            result += sorted(arr)\n",
    "        else:\n",
    "            result += sorted(arr, reverse=True)\n",
    "    return ' '.join([str(i) for i in result])\n"
   ]
  },
  {
   "cell_type": "code",
   "execution_count": 24,
   "id": "31066f22-2292-48d9-8927-69e613c1f73d",
   "metadata": {},
   "outputs": [
    {
     "name": "stdout",
     "output_type": "stream",
     "text": [
      "1 3 14 26 59 535 932 462 97 38 8 3 3 64 83 288 279 50 4 19 716 9 939 37510\n"
     ]
    }
   ],
   "source": [
    "# Example usage:\n",
    "numbers = \"6 3 14 1 59 26 535 8 97 932 38 462 64 3 3 83 279 50 288 4 19 716 939 9 37510\"\n",
    "print(wave_sort(numbers))"
   ]
  },
  {
   "cell_type": "code",
   "execution_count": 25,
   "id": "a2b4ff20-c7af-4656-96b7-f3293f826794",
   "metadata": {},
   "outputs": [
    {
     "name": "stdout",
     "output_type": "stream",
     "text": [
      "1 3 14 26 59 535 932 462 97 38 8 3 3 64 83 288 279 50 4 19 716 9 939 37510\n",
      "Passed\n",
      "1 3 14 26 59 932 535 97 8 38 64 462 3 3 83 37510 939 716 288 279 50 19 9 4\n",
      "Passed\n",
      "1 3 8 14 26 59 97 535 932 462 83 64 38 3 3 4 19 50 279 288 716 37510 939 14 9 3 1 26 59 535 932 97 8 38 462 64 3 3 4 9 19 50 83 279 288 716 939 37510\n",
      "Passed\n",
      "1 1 3 4 5 9 6 4 3 2 1 1 2 5 9 6 3 1 1 4 5 2 6 9\n",
      "Passed\n",
      "3 3 26 72 89 141 535 846 5926 5926 535 383 141 89 43 27 3 3 26 27 43 72 383 846 5926 535 141 89 72 3 3 26 43 383 846 5926 141 27 3 72 89 535 846 3 26 383 43 27\n",
      "Passed\n"
     ]
    }
   ],
   "source": [
    "inputs = [\"6 3 14 1 59 26 535 8 97 932 38 462 64 3 3 83 279 50 288 4 19 716 939 9 37510\",\n",
    "      \"5 3 14 1 59 26 535 8 97 932 38 462 64 3 3 83 279 50 288 4 19 716 939 9 37510\",\n",
    "      \"8 3 14 1 59 26 535 8 97 932 38 462 64 3 3 83 279 50 288 4 19 716 939 9 37510\",\n",
    "      \"6 3 1 4 1 5 9 2 6\",\n",
    "      \"9 3 141 5926 535 89 72 3 846 26 43 383 27\"]\n",
    "outputs = [\"1 3 14 26 59 535 932 462 97 38 8 3 3 64 83 288 279 50 4 19 716 9 939 37510\",\n",
    "           \"1 3 14 26 59 932 535 97 8 38 64 462 3 3 83 37510 939 716 288 279 50 19 9 4\",\n",
    "           \"1 3 8 14 26 59 97 535 932 462 83 64 38 3 3 4 19 50 279 288 716 37510 939 14 9 3 1 26 59 535 932 97 8 38 462 64 3 3 4 9 19 50 83 279 288 716 939 37510\",\n",
    "           \"1 1 3 4 5 9 6 4 3 2 1 1 2 5 9 6 3 1 1 4 5 2 6 9\",\n",
    "           \"3 3 26 72 89 141 535 846 5926 5926 535 383 141 89 43 27 3 3 26 27 43 72 383 846 5926 535 141 89 72 3 3 26 43 383 846 5926 141 27 3 72 89 535 846 3 26 383 43 27\"]\n",
    "for x, y in zip(inputs, outputs):\n",
    "    res = wave_sort(x)\n",
    "    print(res)\n",
    "    if res == y:\n",
    "        print(\"Passed\")\n",
    "    else:\n",
    "        print(\"Failed\")"
   ]
  },
  {
   "cell_type": "code",
   "execution_count": 26,
   "id": "adcda074-19e0-49cb-b92b-8c399dae62d5",
   "metadata": {},
   "outputs": [
    {
     "name": "stdout",
     "output_type": "stream",
     "text": [
      "2 2 718 18 8 28 6028 452 135 90 74 45 27 7 5 3 3\n",
      "Passed\n",
      "2 2 8 18 718 452 90 45 28 3 3 5 6028 74 7 135 27\n",
      "Passed\n",
      "2 2 8 18 28 45 718 6028 452 90 5 3 3 2 7 27 74 135 718 18 8 2 28 45 90 452 3 5 6028 135 74 27 7 3\n",
      "Passed\n",
      "2 2 8 18 28 45 90 452 718 6028 135 74 27 7 5 3 3 2 2 8 18 28 45 718 6028 452 90 5 3 3 2 7 27 74 135 718 18 8 2 28 45 90 452 3 5 6028 135 74 27 7 3\n",
      "Passed\n",
      "1 2 3 4 3 2 1 1 4 2 3 4\n",
      "Passed\n",
      "1 1 1 2 2 2 2 1 1 1 2 2 2 1 1 2\n",
      "Passed\n",
      "1 1 1 1 1 1 1 1 1 1 1 1 1 1 1\n",
      "Passed\n",
      "1 2 3 5 4 6\n",
      "Passed\n",
      "1 5 4 3 2\n",
      "Passed\n",
      "1\n",
      "Passed\n"
     ]
    }
   ],
   "source": [
    "inputs = [\"3 2 718 2 8 18 28 45 90 452 3 5 3 6028 74 7 135 27\",\n",
    "    \"5 2 718 2 8 18 28 45 90 452 3 5 3 6028 74 7 135 27\",\n",
    "    \"7 2 718 2 8 18 28 45 90 452 3 5 3 6028 74 7 135 27\",\n",
    "    \"9 2 718 2 8 18 28 45 90 452 3 5 3 6028 74 7 135 27\",\n",
    "    \"4 1 2 3 4\",\n",
    "    \"5 1 2\",\n",
    "    \"5 1\",\n",
    "    \"3 1 2 3 4 5 6\",\n",
    "    \"1 1 2 3 4 5\",\n",
    "    \"1 1\"]\n",
    "outputs = [\"2 2 718 18 8 28 6028 452 135 90 74 45 27 7 5 3 3\",\n",
    "    \"2 2 8 18 718 452 90 45 28 3 3 5 6028 74 7 135 27\",\n",
    "    \"2 2 8 18 28 45 718 6028 452 90 5 3 3 2 7 27 74 135 718 18 8 2 28 45 90 452 3 5 6028 135 74 27 7 3\",\n",
    "    \"2 2 8 18 28 45 90 452 718 6028 135 74 27 7 5 3 3 2 2 8 18 28 45 718 6028 452 90 5 3 3 2 7 27 74 135 718 18 8 2 28 45 90 452 3 5 6028 135 74 27 7 3\",\n",
    "    \"1 2 3 4 3 2 1 1 4 2 3 4\",\n",
    "    \"1 1 1 2 2 2 2 1 1 1 2 2 2 1 1 2\",\n",
    "    \"1 1 1 1 1 1 1 1 1 1 1 1 1 1 1\",\n",
    "    \"1 2 3 5 4 6\",\n",
    "    \"1 5 4 3 2\",\n",
    "    \"1\"]\n",
    "for x, y in zip(inputs, outputs):\n",
    "    res = wave_sort(x)\n",
    "    print(res)\n",
    "    if res == y:\n",
    "        print(\"Passed\")\n",
    "    else:\n",
    "        print(\"Failed\")"
   ]
  },
  {
   "cell_type": "code",
   "execution_count": null,
   "id": "ad6493f0-f777-4082-bbc7-1890d84c9004",
   "metadata": {},
   "outputs": [],
   "source": []
  }
 ],
 "metadata": {
  "kernelspec": {
   "display_name": "Python 3 (ipykernel)",
   "language": "python",
   "name": "python3"
  },
  "language_info": {
   "codemirror_mode": {
    "name": "ipython",
    "version": 3
   },
   "file_extension": ".py",
   "mimetype": "text/x-python",
   "name": "python",
   "nbconvert_exporter": "python",
   "pygments_lexer": "ipython3",
   "version": "3.9.12"
  }
 },
 "nbformat": 4,
 "nbformat_minor": 5
}

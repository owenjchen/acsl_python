{
 "cells": [
  {
   "cell_type": "markdown",
   "id": "9372963f-e848-4b77-903f-01fb86e27e5f",
   "metadata": {},
   "source": [
    "## Prefix to Postfix"
   ]
  },
  {
   "cell_type": "code",
   "execution_count": 4,
   "id": "58321dc2-4027-4432-ae62-f1ca27f1ed34",
   "metadata": {},
   "outputs": [],
   "source": [
    "def prefix_to_postfix(s):\n",
    "    # Stack for storing operands\n",
    "    stack = []\n",
    "\n",
    "    operators = set(['+', '-', '*', '/', '^'])\n",
    "\n",
    "    # Reversing the order\n",
    "    s = s[::-1]\n",
    "\n",
    "    # iterating through individual tokens\n",
    "    for i in s:\n",
    "\n",
    "        # if token is operator\n",
    "        if i in operators:\n",
    "\n",
    "            # pop 2 elements from stack\n",
    "            a = stack.pop()\n",
    "            b = stack.pop()\n",
    "\n",
    "            # concatenate them as operand1 +\n",
    "            # operand2 + operator\n",
    "            temp = a+b+i\n",
    "            stack.append(temp)\n",
    "\n",
    "        # else if operand\n",
    "        else:\n",
    "            stack.append(i)\n",
    "    return ''.join(stack)"
   ]
  },
  {
   "cell_type": "code",
   "execution_count": 5,
   "id": "c9577d1e-6e05-40f7-80ae-43631eeb9a18",
   "metadata": {},
   "outputs": [
    {
     "name": "stdout",
     "output_type": "stream",
     "text": [
      "Prefix notation:  *-A/BC-/AKL\n",
      "Postfix notation:  ABC/-AK/L-*\n"
     ]
    }
   ],
   "source": [
    "expression = \"*-A/BC-/AKL\"\n",
    "print('Prefix notation: ',expression)\n",
    "print('Postfix notation: ',prefix_to_postfix(expression))"
   ]
  },
  {
   "cell_type": "code",
   "execution_count": null,
   "id": "4a33531e-e36b-4770-b0b0-9e116a11db66",
   "metadata": {},
   "outputs": [],
   "source": []
  }
 ],
 "metadata": {
  "kernelspec": {
   "display_name": "Python 3 (ipykernel)",
   "language": "python",
   "name": "python3"
  },
  "language_info": {
   "codemirror_mode": {
    "name": "ipython",
    "version": 3
   },
   "file_extension": ".py",
   "mimetype": "text/x-python",
   "name": "python",
   "nbconvert_exporter": "python",
   "pygments_lexer": "ipython3",
   "version": "3.9.12"
  }
 },
 "nbformat": 4,
 "nbformat_minor": 5
}

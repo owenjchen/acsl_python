{
 "cells": [
  {
   "cell_type": "markdown",
   "id": "16e8c064-2046-4345-9d3c-d472b35bf9c5",
   "metadata": {},
   "source": [
    "# ACSL 2022-2023 Contest #1 Programming Problem\n",
    "\n",
    "## Junior Division"
   ]
  },
  {
   "cell_type": "markdown",
   "id": "f4a0eb58-3e3f-4ded-8e3c-61e4211ded00",
   "metadata": {},
   "source": [
    "## PROBLEM: \n",
    "Given 3 positive integers, n, b, and s, generate the next n numbers in base b\n",
    "starting with s in the given base. We guarantee that the b will be between 2 and 9 inclusive. We\n",
    "guarantee that s is a valid number in base b. Find the base 10 sum of all of the digits in the\n",
    "numbers generated.\n",
    "\n",
    "## EXAMPLE: \n",
    "If n=15, b=8, and s=2, the base 8 numbers generated are 2, 3, 4, 5, 6, 7, 10, 11, 12,\n",
    "13, 14, 15, 16, 17, 20. The base 10 sum of all of their digits is 65.\n",
    "\n",
    "## INPUT: \n",
    "There will be three integers representing the number of values to be found, the base to\n",
    "be used between 2 and 9 inclusive, and the starting value in the base given which will be no\n",
    "longer than 16 digits. We guarantee that the b will be between 2 and 9 inclusive.\n",
    "\n",
    "## OUTPUT: \n",
    "For each set of 3 input values, output a base 10 number representing the sum of all of\n",
    "the digits generated."
   ]
  },
  {
   "cell_type": "markdown",
   "id": "252e95b1-a27d-4fa1-96fc-1164a9a83ae1",
   "metadata": {},
   "source": [
    "## Hint:\n",
    "Break down the problem into multiple sub-problems.  Create a function for each sub-problems.\n",
    "\n",
    "- How to convert a decimal to any base number?\n",
    "- How to sum a series of consecutive numbers?"
   ]
  },
  {
   "cell_type": "code",
   "execution_count": 27,
   "id": "a0e2666d-c973-47d8-a6ae-bbc09ab1aa08",
   "metadata": {},
   "outputs": [],
   "source": [
    "def convert_base(n, b):\n",
    "    if b <2:\n",
    "        return f\"Error: input base b={b} must be 2 or greater\"\n",
    "    else:\n",
    "        # Divide input n by b repeatly with quotient and remainder\n",
    "        # use divmode() function\n",
    "        res = \"\"\n",
    "        while n > 0:\n",
    "            #n, remainder = divmod(n, b)\n",
    "            remainder = n % b\n",
    "            n //= b\n",
    "            #n, remainder = n // b, n % b\n",
    "            res += str(remainder)\n",
    "        # reversed order of remainders is the final answer\n",
    "        return res[::-1]"
   ]
  },
  {
   "cell_type": "code",
   "execution_count": 28,
   "id": "cc7f03ac-e289-4617-a982-7ad635656f27",
   "metadata": {},
   "outputs": [],
   "source": [
    "def findDigitSum(num, base, start):\n",
    "    ret = 0\n",
    "    numsList = [str(start)]    \n",
    "    start = int(str(start), base)\n",
    "    for i in range(1, num):\n",
    "        numsList.append(convert_base(start + i, base))\n",
    "    for i in numsList:\n",
    "        for digit in i:\n",
    "            ret += int(digit)\n",
    "    return ret"
   ]
  },
  {
   "cell_type": "code",
   "execution_count": 29,
   "id": "adb532be-006e-4d64-beaa-30db21d3efa3",
   "metadata": {},
   "outputs": [],
   "source": [
    "inputs = [\"15 8 2\",\n",
    "          \"20 3 12\",\n",
    "          \"25 5 324\",\n",
    "          \"13 9 1652\",\n",
    "          \"45 2 1111011\"]"
   ]
  },
  {
   "cell_type": "code",
   "execution_count": 30,
   "id": "8bb5bc41-d642-424e-8f53-1ca59d1240c7",
   "metadata": {},
   "outputs": [
    {
     "name": "stdout",
     "output_type": "stream",
     "text": [
      "65\n",
      "64\n",
      "189\n",
      "212\n",
      "170\n"
     ]
    }
   ],
   "source": [
    "for inp in inputs:\n",
    "    inps = inp.split()\n",
    "    n, b, s = int(inps[0]), int(inps[1]), inps[2]\n",
    "    print(findDigitSum(n,b,s))"
   ]
  },
  {
   "cell_type": "code",
   "execution_count": null,
   "id": "b9be60b4-adc7-4736-8d7a-1ee4576fa694",
   "metadata": {},
   "outputs": [],
   "source": []
  }
 ],
 "metadata": {
  "kernelspec": {
   "display_name": "Python 3 (ipykernel)",
   "language": "python",
   "name": "python3"
  },
  "language_info": {
   "codemirror_mode": {
    "name": "ipython",
    "version": 3
   },
   "file_extension": ".py",
   "mimetype": "text/x-python",
   "name": "python",
   "nbconvert_exporter": "python",
   "pygments_lexer": "ipython3",
   "version": "3.9.12"
  }
 },
 "nbformat": 4,
 "nbformat_minor": 5
}

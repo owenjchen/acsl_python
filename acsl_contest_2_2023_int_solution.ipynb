{
 "cells": [
  {
   "cell_type": "markdown",
   "id": "e8d7a2bf-c29b-4c77-bc2e-9cc231960632",
   "metadata": {},
   "source": [
    "# ACSL Contest #2 - 2023  Binary Counting - Intermediate Division\n",
    "\n",
    "Solution by  Dr. Owen Chen"
   ]
  },
  {
   "cell_type": "code",
   "execution_count": 25,
   "id": "adcc26bc-9403-4776-9e38-81666650e6fe",
   "metadata": {},
   "outputs": [],
   "source": [
    "def bin_encoder(text):\n",
    "    result = \"\"\n",
    "    for char in text:\n",
    "        result += bin(ord(char))[2:].zfill(8)\n",
    "    return result"
   ]
  },
  {
   "cell_type": "code",
   "execution_count": 28,
   "id": "bdc210a2-9d83-4fe9-aa6c-325b5c2ccdd8",
   "metadata": {},
   "outputs": [],
   "source": [
    "def findLastBinary(s): \n",
    "    binaryCode = bin_encoder(s)\n",
    "    count = 0\n",
    "    countBin = bin(count)[2:]\n",
    "    while(countBin in binaryCode):\n",
    "        index = binaryCode.index(countBin)\n",
    "        binaryCode = binaryCode[:index] + binaryCode[(index + len(countBin)):]\n",
    "        if binaryCode.rfind(countBin) >= 0:\n",
    "            rindex = binaryCode.rindex(countBin)\n",
    "            binaryCode = binaryCode[:rindex] + binaryCode[(rindex + len(countBin)):]\n",
    "        count += 1 \n",
    "        countBin = bin(count)[2:] \n",
    "    return count - 1 "
   ]
  },
  {
   "cell_type": "code",
   "execution_count": 29,
   "id": "3d3c5616-5242-4a26-bb7f-84be1b2d5918",
   "metadata": {},
   "outputs": [
    {
     "name": "stdout",
     "output_type": "stream",
     "text": [
      "1. 12\n",
      "2. 20\n",
      "3. 14\n",
      "4. 22\n",
      "5. 27\n"
     ]
    }
   ],
   "source": [
    "inputs = [\"Roses are red.\", \n",
    "          \"A is Alpha; B is Bravo; C is Charlie.\",\n",
    "          \"A stitch in time saves nine.\",\n",
    "          \"1, 2: Buckle my shoe! 3, 4: Shut the door!\",\n",
    "          \"Is HackerRank the platform used by ACSL?\"]\n",
    "\n",
    "for i, input in enumerate(inputs):\n",
    "    output = findLastBinary(input)\n",
    "    print(f\"{i+1}. {output}\")"
   ]
  },
  {
   "cell_type": "code",
   "execution_count": null,
   "id": "acad7027-60f8-402f-be65-c19fe28000ef",
   "metadata": {},
   "outputs": [],
   "source": []
  }
 ],
 "metadata": {
  "kernelspec": {
   "display_name": "Python 3 (ipykernel)",
   "language": "python",
   "name": "python3"
  },
  "language_info": {
   "codemirror_mode": {
    "name": "ipython",
    "version": 3
   },
   "file_extension": ".py",
   "mimetype": "text/x-python",
   "name": "python",
   "nbconvert_exporter": "python",
   "pygments_lexer": "ipython3",
   "version": "3.9.12"
  }
 },
 "nbformat": 4,
 "nbformat_minor": 5
}

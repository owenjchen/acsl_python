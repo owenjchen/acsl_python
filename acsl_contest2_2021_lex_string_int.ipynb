{
 "cells": [
  {
   "cell_type": "markdown",
   "id": "8d4d7e75-8ab8-4607-abe4-12f375614a06",
   "metadata": {},
   "source": [
    "# ACSL 2020-2021 Contest #2 - Lex String\n",
    "\n",
    "## Intermediate Division"
   ]
  },
  {
   "cell_type": "markdown",
   "id": "a116a123-606a-406c-9fcd-6b805957b4a7",
   "metadata": {
    "tags": []
   },
   "source": [
    "### PROBLEM :\n",
    "Transform a given string of all capital letters so that:\n",
    "- repeated blocks of letters are at the front, \n",
    "- arranged such that longer blocks come first and blocks of the same length are in alphabetical order.\n",
    "- Each string has an associated number, m . \n",
    "- In the final output, all groupings of the same character must be no longer than m.\n",
    "\n",
    "Other than sorting the groups of letters that have the same frequency in the original\n",
    "string, no other rearranging is done.\n",
    "\n",
    "For example, in the input line “MBAMMDXXMMMGGMMZ 3”, the string contains:\n",
    "- one block of 3 letters (the M’s); \n",
    "- four blocks of 2 letters (M, X, G, and M), and \n",
    "- 5 single letters (M, B, A, D, and Z). \n",
    "\n",
    "The 3-letter block comes first, then the 2-letter blocks (in alphabetical order), and finally, the single letters (in\n",
    "alphabetical order): MMMGGMMMMXXABDMZ. \n",
    "\n",
    "- The number 3 requires that there is no substring of a single letter that is longer than 3 characters. \n",
    "\n",
    "In this example, MMMGGMMMXXABDMZ is output.\n",
    "\n",
    "INPUT: There will be 5 lines of data. Each line will contain a string of no more than 100 characters, all\n",
    "uppercase letters followed by a space and a positive integer that will be less than the length of the string.\n"
   ]
  },
  {
   "cell_type": "code",
   "execution_count": 114,
   "id": "9f597fa2-edbf-4ea0-ad32-0d92c9fef84c",
   "metadata": {},
   "outputs": [],
   "source": [
    "def upperletters_v0(text):\n",
    "    \"\"\" convert an input text string to lower case letters and eliminiate all non-letters\n",
    "    \"\"\"\n",
    "    res = \"\"\n",
    "    for c in text:\n",
    "        if c.isalpha():\n",
    "            res += c.upper()\n",
    "            \n",
    "    return res"
   ]
  },
  {
   "cell_type": "code",
   "execution_count": 115,
   "id": "7cf27cac-f68f-4378-903d-c11fa72a8a71",
   "metadata": {},
   "outputs": [],
   "source": [
    "def upperletters_v1(text):\n",
    "    \"\"\" convert an input text string to lower case letters and eliminiate all non-letters\n",
    "    \"\"\"\n",
    "    return ''.join([c.upper() for c in text if c.isalpha()])\n"
   ]
  },
  {
   "cell_type": "code",
   "execution_count": 116,
   "id": "972d7cc5-fe5d-4dbd-bcad-d3e11f0a5233",
   "metadata": {},
   "outputs": [
    {
     "name": "stdout",
     "output_type": "stream",
     "text": [
      "THISISATESTWITHCHARACTERS\n"
     ]
    }
   ],
   "source": [
    "input = \"This is a test with 100 Characters!\"\n",
    "output = upperletters_v0(input)\n",
    "print(output)"
   ]
  },
  {
   "cell_type": "code",
   "execution_count": 117,
   "id": "c5154770-d62c-477f-8afb-67eb4f9edd64",
   "metadata": {},
   "outputs": [
    {
     "name": "stdout",
     "output_type": "stream",
     "text": [
      "THISISATESTWITHCHARACTERS\n"
     ]
    }
   ],
   "source": [
    "input = \"This is a test with 100 Characters!\"\n",
    "output = upperletters_v1(input)\n",
    "print(output)"
   ]
  },
  {
   "cell_type": "code",
   "execution_count": 118,
   "id": "885df0e1-cb6d-4eda-b404-a89bccc7ffd3",
   "metadata": {},
   "outputs": [],
   "source": [
    "import re\n",
    "def upperletters(text):\n",
    "    \"\"\" convert an input text string to lower case letters and eliminiate all non-letters\n",
    "    \"\"\"\n",
    "    return re.sub('[^a-zA-Z]', '', text).upper()"
   ]
  },
  {
   "cell_type": "code",
   "execution_count": 120,
   "id": "a39a0aae-4bdc-46c1-adad-e7b585b9447a",
   "metadata": {},
   "outputs": [
    {
     "name": "stdout",
     "output_type": "stream",
     "text": [
      "THISISATESTWITHCHARACTERS\n"
     ]
    }
   ],
   "source": [
    "input = \"This is a test with 100 Characters!\"\n",
    "output = upperletters(input)\n",
    "print(output)"
   ]
  },
  {
   "cell_type": "code",
   "execution_count": 121,
   "id": "f12bb9a2-ea66-4ecd-af8f-f84e99136766",
   "metadata": {},
   "outputs": [
    {
     "name": "stdout",
     "output_type": "stream",
     "text": [
      "MBAMMDXXMMMGGMMZ 3\n"
     ]
    }
   ],
   "source": [
    "input = \"MBAMMDXXMMMGGMMZ 3\"\n",
    "text, m = input.split()\n",
    "print(text, m)"
   ]
  },
  {
   "cell_type": "code",
   "execution_count": 99,
   "id": "c8ffaab1-19c9-41bc-8581-82d5fb257b32",
   "metadata": {},
   "outputs": [
    {
     "data": {
      "text/plain": [
       "[{'M': 1},\n",
       " {'B': 1},\n",
       " {'A': 1},\n",
       " {'M': 2},\n",
       " {'D': 1},\n",
       " {'X': 2},\n",
       " {'M': 3},\n",
       " {'G': 2},\n",
       " {'M': 2},\n",
       " {'Z': 1}]"
      ]
     },
     "execution_count": 99,
     "metadata": {},
     "output_type": "execute_result"
    }
   ],
   "source": [
    "from itertools import groupby\n",
    "\n",
    "groups = groupby(text)\n",
    "result = [{label:sum(1 for g in group)} for label, group in groups]\n",
    "result"
   ]
  },
  {
   "cell_type": "code",
   "execution_count": 100,
   "id": "42ef6317-5c41-48b4-9429-f85d26114efa",
   "metadata": {},
   "outputs": [],
   "source": [
    "from itertools import groupby\n",
    "def map_blocks(text):\n",
    "    groups = groupby(text)\n",
    "    return  [(label*sum(1 for g in group)) for label, group in groups]"
   ]
  },
  {
   "cell_type": "code",
   "execution_count": 101,
   "id": "0d23e6a9-1f88-4faa-bb4b-31ecad08d305",
   "metadata": {},
   "outputs": [
    {
     "name": "stdout",
     "output_type": "stream",
     "text": [
      "MBAMMDXXMMMGGMMZ\n",
      "['M', 'B', 'A', 'MM', 'D', 'XX', 'MMM', 'GG', 'MM', 'Z']\n"
     ]
    }
   ],
   "source": [
    "print(text)\n",
    "print(map_blocks(text))"
   ]
  },
  {
   "cell_type": "code",
   "execution_count": 102,
   "id": "f59aa3be-7147-4a8a-99f0-fb72f5c8115d",
   "metadata": {},
   "outputs": [],
   "source": [
    "def map_blocks(text):\n",
    "    res = []\n",
    "    key = ''\n",
    "    count = 0\n",
    "    for a, b in zip(text, text[1:]):\n",
    "        if a == b:\n",
    "            count +=1\n",
    "        else:\n",
    "            if key:\n",
    "                count += 1\n",
    "                res.append(key*count)\n",
    "            else:\n",
    "                res.append(a)\n",
    "            count = 0\n",
    "        key = b\n",
    "    # last element\n",
    "    if text[-1] == key:\n",
    "         res.append(key*(count+1))\n",
    "    else:\n",
    "         res.append(text[-1])\n",
    "    return res"
   ]
  },
  {
   "cell_type": "code",
   "execution_count": 103,
   "id": "f6e2a1d4-8a4c-4505-9e10-0a45da7ac294",
   "metadata": {},
   "outputs": [
    {
     "name": "stdout",
     "output_type": "stream",
     "text": [
      "MBAMMDXXMMMGGMMZ\n",
      "['M', 'B', 'A', 'MM', 'D', 'XX', 'MMM', 'GG', 'MM', 'Z']\n"
     ]
    }
   ],
   "source": [
    "print(text)\n",
    "blocks = map_blocks(text)\n",
    "print(blocks)"
   ]
  },
  {
   "cell_type": "code",
   "execution_count": 104,
   "id": "39563c60-a23c-49a7-916b-4eeab2deb5c8",
   "metadata": {},
   "outputs": [],
   "source": [
    "def sort_blocks(blocks):\n",
    "    res = \"\"\n",
    "    values = [len(item) for item in blocks]\n",
    "    sorted_values = sorted(set(values), reverse=True)\n",
    "    for v in sorted_values:\n",
    "        sorted_count_blocks = sorted([item for item in blocks if len(item) == v])\n",
    "        res +=''.join(sorted_count_blocks)\n",
    "    return res"
   ]
  },
  {
   "cell_type": "code",
   "execution_count": 105,
   "id": "1a671088-7021-46d4-8530-7a3a1a3585d7",
   "metadata": {},
   "outputs": [
    {
     "name": "stdout",
     "output_type": "stream",
     "text": [
      "MMMGGMMMMXXABDMZ\n"
     ]
    }
   ],
   "source": [
    "sorted_blocks = sort_blocks(blocks)\n",
    "print(sorted_blocks)"
   ]
  },
  {
   "cell_type": "code",
   "execution_count": 106,
   "id": "b18a150c-e265-4b37-a3a6-a248fee397d5",
   "metadata": {},
   "outputs": [],
   "source": [
    "def truncate_string(text, m):\n",
    "    count = 1\n",
    "    res = text[0]\n",
    "    prev =  text[0]\n",
    "    for i in range(1, len(text)):\n",
    "        if text[i-1] == text[i]:\n",
    "            count +=1\n",
    "        else:\n",
    "            count = 1        \n",
    "        prev = text[i]\n",
    "        if count <= m:\n",
    "            res +=text[i]\n",
    "    return res"
   ]
  },
  {
   "cell_type": "code",
   "execution_count": 107,
   "id": "2616d5bf-098f-485e-8455-83c51116e9e0",
   "metadata": {},
   "outputs": [
    {
     "name": "stdout",
     "output_type": "stream",
     "text": [
      "MMMGGMMMXXABDMZ\n"
     ]
    }
   ],
   "source": [
    "output = truncate_string(sorted_blocks, 3)\n",
    "print(output)"
   ]
  },
  {
   "cell_type": "code",
   "execution_count": 122,
   "id": "4929f8b0-dde8-463a-b68e-8179bf50d66c",
   "metadata": {},
   "outputs": [],
   "source": [
    "def lexstring(input):\n",
    "    \"\"\"\n",
    "    A Lex String Substitution function for ACSL 2021 Contest #2 Programming Problem    \n",
    "    \"\"\"\n",
    "    \n",
    "    text, m = input.split()\n",
    "    \n",
    "    # Step 1  map blocks\n",
    "    blocks = map_repeatedblocks(text)\n",
    "\n",
    "    # Step 2 - sort blocks\n",
    "    \n",
    "    res = sort_blocks (blocks)\n",
    "    \n",
    "    # Step 3 -  truncate a substring longer than m \n",
    "    return truncate_string(res, int(m))"
   ]
  },
  {
   "cell_type": "code",
   "execution_count": 123,
   "id": "f4c5aa36-14f3-43a8-ae02-10b2963e1532",
   "metadata": {},
   "outputs": [
    {
     "name": "stdout",
     "output_type": "stream",
     "text": [
      "MMMGGMMMXXABDMZ\n"
     ]
    }
   ],
   "source": [
    "input = \"MBAMMDXXMMMGGMMZ 3\"\n",
    "output = lexstring(input)\n",
    "print(output)"
   ]
  },
  {
   "cell_type": "code",
   "execution_count": 125,
   "id": "efe9bb14-1e55-4d81-a9a6-19986f32c1c5",
   "metadata": {},
   "outputs": [
    {
     "name": "stdout",
     "output_type": "stream",
     "text": [
      "HHHDDDHHJLM\n"
     ]
    }
   ],
   "source": [
    "input = \"MHHHHJLDDHHDDD 3\"\n",
    "output = lexstring(input)\n",
    "print(output)"
   ]
  },
  {
   "cell_type": "code",
   "execution_count": 126,
   "id": "e2361edd-b684-464f-843f-2271fb4a4797",
   "metadata": {},
   "outputs": [
    {
     "name": "stdout",
     "output_type": "stream",
     "text": [
      "1. MMMGGMMMXXABDMZ\n",
      "2. HHHDDDHHJLM\n",
      "3. EENNSSEEHLNORSTTUV\n",
      "4. PPSSSIIIM\n",
      "5. EEEEOOORRBKP\n"
     ]
    }
   ],
   "source": [
    "inputs =[\"MBAMMDXXMMMGGMMZ 3\", \n",
    "         \"MHHHHJLDDHHDDD 3\", \n",
    "         \"THETENNESSEEVOLUNTEERS 2\",\n",
    "         \"MISSISSIPPI 3\",\n",
    "         \"BOOOKEEEPEEERR 4\"]\n",
    "answers = [\"MMMGGMMMXXABDMZ\",\n",
    "           \"HHHDDDHHJLM\",\n",
    "           \"EENNSSEEHLNORSTTUV\",\n",
    "           \"PPSSSIIIM\",\n",
    "           \"EEEEOOORRBKP\"]\n",
    "for index, input in enumerate(inputs):\n",
    "         output = lexstring(input)\n",
    "         if output != answers[index]:\n",
    "             print(\"Error: wrong answer on input {index+1}\")\n",
    "         else:\n",
    "             print(f\"{index+1}. {output}\")\n",
    "         "
   ]
  },
  {
   "cell_type": "code",
   "execution_count": null,
   "id": "a8982044-c3b4-4ac0-8e64-3dfaabb6297f",
   "metadata": {},
   "outputs": [],
   "source": []
  }
 ],
 "metadata": {
  "kernelspec": {
   "display_name": "Python 3 (ipykernel)",
   "language": "python",
   "name": "python3"
  },
  "language_info": {
   "codemirror_mode": {
    "name": "ipython",
    "version": 3
   },
   "file_extension": ".py",
   "mimetype": "text/x-python",
   "name": "python",
   "nbconvert_exporter": "python",
   "pygments_lexer": "ipython3",
   "version": "3.9.12"
  }
 },
 "nbformat": 4,
 "nbformat_minor": 5
}
